{
 "cells": [
  {
   "metadata": {
    "ExecuteTime": {
     "end_time": "2025-07-14T04:59:21.119603Z",
     "start_time": "2025-07-14T04:59:21.115293Z"
    }
   },
   "cell_type": "code",
   "source": [
    "import numpy as np\n",
    "import pandas as pd\n",
    "\n",
    "# Load data visualization package\n",
    "import matplotlib.pyplot as plt\n",
    "import seaborn as sns\n",
    "from rich.jupyter import display"
   ],
   "id": "c8c41757cf835862",
   "outputs": [],
   "execution_count": 44
  },
  {
   "metadata": {},
   "cell_type": "markdown",
   "source": [
    "# **1. Data Preparation**\n",
    "---\n",
    "## **1.1 Load Data**\n",
    "---"
   ],
   "id": "d676f00f95c085b0"
  },
  {
   "metadata": {
    "ExecuteTime": {
     "end_time": "2025-07-14T04:59:24.343904Z",
     "start_time": "2025-07-14T04:59:21.196399Z"
    }
   },
   "cell_type": "code",
   "source": [
    "# Import dataset from csv file\n",
    "data = pd.read_csv('D:/Code Skripsi - RL and Ensemble/data/processed/no outliers.csv')\n",
    "# Table check\n",
    "data.head().T"
   ],
   "id": "1f7279b5b4b7620c",
   "outputs": [
    {
     "data": {
      "text/plain": [
       "                                                        0                  1  \\\n",
       "SK_ID_CURR                                         100002             100003   \n",
       "TARGET                                                  1                  0   \n",
       "NAME_CONTRACT_TYPE                             Cash loans         Cash loans   \n",
       "FLAG_OWN_CAR                                            N                  N   \n",
       "FLAG_OWN_REALTY                                         Y                  N   \n",
       "CNT_CHILDREN                                            0                  0   \n",
       "AMT_INCOME_TOTAL                               41947875.0         55930500.0   \n",
       "AMT_CREDIT                                    84226672.13        267949042.9   \n",
       "AMT_ANNUITY                                   5116708.575        7394944.275   \n",
       "AMT_GOODS_PRICE                                72709650.0        233975925.0   \n",
       "NAME_TYPE_SUITE                             Unaccompanied             Family   \n",
       "NAME_INCOME_TYPE                                  Working      State servant   \n",
       "NAME_EDUCATION_TYPE         Secondary / secondary special   Higher education   \n",
       "NAME_FAMILY_STATUS                   Single / not married            Married   \n",
       "NAME_HOUSING_TYPE                       House / apartment  House / apartment   \n",
       "DAYS_EMPLOYED                                    6.458338           7.080868   \n",
       "FLAG_MOBIL                                              1                  1   \n",
       "FLAG_EMP_PHONE                                          1                  1   \n",
       "FLAG_WORK_PHONE                                         0                  0   \n",
       "FLAG_CONT_MOBILE                                        1                  1   \n",
       "FLAG_PHONE                                              1                  1   \n",
       "FLAG_EMAIL                                              0                  0   \n",
       "OCCUPATION_TYPE                                  Laborers         Core staff   \n",
       "CNT_FAM_MEMBERS                                         1                  2   \n",
       "WEEKDAY_APPR_PROCESS_START                      WEDNESDAY             MONDAY   \n",
       "ORGANIZATION_TYPE                         Business Entity             School   \n",
       "NUM_BUREAU_LOANS                                      8.0                4.0   \n",
       "SUM_CREDIT                                    179196260.3        210754513.6   \n",
       "AVG_CREDIT                                    22399532.54        52688628.39   \n",
       "ACTIVE_LOANS                                          2.0                1.0   \n",
       "OVERDUE_MONTHS                                       65.0                0.0   \n",
       "NUM_PREV_LOANS                                        1.0                3.0   \n",
       "SUM_PREV_CREDIT                               37091243.25        300900497.0   \n",
       "AVG_PREV_CREDIT                               37091243.25        100300165.7   \n",
       "AMT_PAYMENT                                   2394498.038        16273388.98   \n",
       "CREDIT_INCOME_RATIO                              2.007889            4.79075   \n",
       "ANNUITY_INCOME_RATIO                             0.121978           0.132217   \n",
       "CREDIT_ANNUITY_RATIO                            16.461104          36.234085   \n",
       "CREDIT_GOODS_RATIO                               1.158397           1.145199   \n",
       "ANNUITY_GOODS_RATIO                              0.070372           0.031606   \n",
       "PAYMENT_CREDIT_RATIO                             0.028429           0.060733   \n",
       "YEARS_BIRTH                                     25.920548          45.931507   \n",
       "EMPLOYMENT_TO_AGE_RATIO                         -0.000683          -0.000422   \n",
       "CREDIT_TO_EMPLOYMENT_RATIO                     85743830.1        273249993.9   \n",
       "CREDIT_TO_AGE_RATIO                           3249417.115        5833665.414   \n",
       "INCOME_PER_FAMILY_MEMBER                       20973937.5         18643500.0   \n",
       "CHILD_DEPENDENT_RATIO                                 0.0                0.0   \n",
       "HAS_CHILDREN                                            0                  0   \n",
       "LOAN_TENURE                                     16.461104          36.234085   \n",
       "\n",
       "                                                        2  \\\n",
       "SK_ID_CURR                                         100004   \n",
       "TARGET                                                  0   \n",
       "NAME_CONTRACT_TYPE                        Revolving loans   \n",
       "FLAG_OWN_CAR                                            Y   \n",
       "FLAG_OWN_REALTY                                         Y   \n",
       "CNT_CHILDREN                                            0   \n",
       "AMT_INCOME_TOTAL                               13982625.0   \n",
       "AMT_CREDIT                                     27965250.0   \n",
       "AMT_ANNUITY                                     1398262.5   \n",
       "AMT_GOODS_PRICE                                27965250.0   \n",
       "NAME_TYPE_SUITE                             Unaccompanied   \n",
       "NAME_INCOME_TYPE                                  Working   \n",
       "NAME_EDUCATION_TYPE         Secondary / secondary special   \n",
       "NAME_FAMILY_STATUS                   Single / not married   \n",
       "NAME_HOUSING_TYPE                       House / apartment   \n",
       "DAYS_EMPLOYED                                    5.420535   \n",
       "FLAG_MOBIL                                              1   \n",
       "FLAG_EMP_PHONE                                          1   \n",
       "FLAG_WORK_PHONE                                         1   \n",
       "FLAG_CONT_MOBILE                                        1   \n",
       "FLAG_PHONE                                              1   \n",
       "FLAG_EMAIL                                              0   \n",
       "OCCUPATION_TYPE                                  Laborers   \n",
       "CNT_FAM_MEMBERS                                         1   \n",
       "WEEKDAY_APPR_PROCESS_START                         MONDAY   \n",
       "ORGANIZATION_TYPE                              Government   \n",
       "NUM_BUREAU_LOANS                                      2.0   \n",
       "SUM_CREDIT                                    39159180.27   \n",
       "AVG_CREDIT                                    19579590.14   \n",
       "ACTIVE_LOANS                                          0.0   \n",
       "OVERDUE_MONTHS                                        0.0   \n",
       "NUM_PREV_LOANS                                        1.0   \n",
       "SUM_PREV_CREDIT                                4487490.45   \n",
       "AVG_PREV_CREDIT                                 4164957.9   \n",
       "AMT_PAYMENT                                   1469968.508   \n",
       "CREDIT_INCOME_RATIO                                   2.0   \n",
       "ANNUITY_INCOME_RATIO                                  0.1   \n",
       "CREDIT_ANNUITY_RATIO                                 20.0   \n",
       "CREDIT_GOODS_RATIO                                    1.0   \n",
       "ANNUITY_GOODS_RATIO                                  0.05   \n",
       "PAYMENT_CREDIT_RATIO                             0.052564   \n",
       "YEARS_BIRTH                                     52.180822   \n",
       "EMPLOYMENT_TO_AGE_RATIO                         -0.000285   \n",
       "CREDIT_TO_EMPLOYMENT_RATIO                    28386816.39   \n",
       "CREDIT_TO_AGE_RATIO                           535929.6571   \n",
       "INCOME_PER_FAMILY_MEMBER                        6991312.5   \n",
       "CHILD_DEPENDENT_RATIO                                 0.0   \n",
       "HAS_CHILDREN                                            0   \n",
       "LOAN_TENURE                                          20.0   \n",
       "\n",
       "                                                        3  \\\n",
       "SK_ID_CURR                                         100006   \n",
       "TARGET                                                  0   \n",
       "NAME_CONTRACT_TYPE                             Cash loans   \n",
       "FLAG_OWN_CAR                                            N   \n",
       "FLAG_OWN_REALTY                                         Y   \n",
       "CNT_CHILDREN                                            0   \n",
       "AMT_INCOME_TOTAL                               27965250.0   \n",
       "AMT_CREDIT                                    64772179.88   \n",
       "AMT_ANNUITY                                   6149558.475   \n",
       "AMT_GOODS_PRICE                                61523550.0   \n",
       "NAME_TYPE_SUITE                             Unaccompanied   \n",
       "NAME_INCOME_TYPE                                  Working   \n",
       "NAME_EDUCATION_TYPE         Secondary / secondary special   \n",
       "NAME_FAMILY_STATUS                         Civil marriage   \n",
       "NAME_HOUSING_TYPE                       House / apartment   \n",
       "DAYS_EMPLOYED                                    8.019613   \n",
       "FLAG_MOBIL                                              1   \n",
       "FLAG_EMP_PHONE                                          1   \n",
       "FLAG_WORK_PHONE                                         0   \n",
       "FLAG_CONT_MOBILE                                        1   \n",
       "FLAG_PHONE                                              0   \n",
       "FLAG_EMAIL                                              0   \n",
       "OCCUPATION_TYPE                                  Laborers   \n",
       "CNT_FAM_MEMBERS                                         2   \n",
       "WEEKDAY_APPR_PROCESS_START                      WEDNESDAY   \n",
       "ORGANIZATION_TYPE                         Business Entity   \n",
       "NUM_BUREAU_LOANS                                 1.096474   \n",
       "SUM_CREDIT                                     31885567.5   \n",
       "AVG_CREDIT                                    28409513.84   \n",
       "ACTIVE_LOANS                                     0.713354   \n",
       "OVERDUE_MONTHS                                    0.28985   \n",
       "NUM_PREV_LOANS                                        9.0   \n",
       "SUM_PREV_CREDIT                               543822505.4   \n",
       "AVG_PREV_CREDIT                               60424722.83   \n",
       "AMT_PAYMENT                                   36806044.39   \n",
       "CREDIT_INCOME_RATIO                              2.316167   \n",
       "ANNUITY_INCOME_RATIO                               0.2199   \n",
       "CREDIT_ANNUITY_RATIO                            10.532818   \n",
       "CREDIT_GOODS_RATIO                               1.052803   \n",
       "ANNUITY_GOODS_RATIO                              0.099955   \n",
       "PAYMENT_CREDIT_RATIO                             0.381692   \n",
       "YEARS_BIRTH                                     52.068493   \n",
       "EMPLOYMENT_TO_AGE_RATIO                         -0.000422   \n",
       "CREDIT_TO_EMPLOYMENT_RATIO                    66227295.68   \n",
       "CREDIT_TO_AGE_RATIO                           1243980.303   \n",
       "INCOME_PER_FAMILY_MEMBER                        9321750.0   \n",
       "CHILD_DEPENDENT_RATIO                                 0.0   \n",
       "HAS_CHILDREN                                            0   \n",
       "LOAN_TENURE                                     10.532818   \n",
       "\n",
       "                                                        4  \n",
       "SK_ID_CURR                                         100007  \n",
       "TARGET                                                  0  \n",
       "NAME_CONTRACT_TYPE                             Cash loans  \n",
       "FLAG_OWN_CAR                                            N  \n",
       "FLAG_OWN_REALTY                                         Y  \n",
       "CNT_CHILDREN                                            0  \n",
       "AMT_INCOME_TOTAL                               25168725.0  \n",
       "AMT_CREDIT                                    106267950.0  \n",
       "AMT_ANNUITY                                   4529438.325  \n",
       "AMT_GOODS_PRICE                               106267950.0  \n",
       "NAME_TYPE_SUITE                             Unaccompanied  \n",
       "NAME_INCOME_TYPE                                  Working  \n",
       "NAME_EDUCATION_TYPE         Secondary / secondary special  \n",
       "NAME_FAMILY_STATUS                   Single / not married  \n",
       "NAME_HOUSING_TYPE                       House / apartment  \n",
       "DAYS_EMPLOYED                                    8.019284  \n",
       "FLAG_MOBIL                                              1  \n",
       "FLAG_EMP_PHONE                                          1  \n",
       "FLAG_WORK_PHONE                                         0  \n",
       "FLAG_CONT_MOBILE                                        1  \n",
       "FLAG_PHONE                                              0  \n",
       "FLAG_EMAIL                                              0  \n",
       "OCCUPATION_TYPE                                Core staff  \n",
       "CNT_FAM_MEMBERS                                         1  \n",
       "WEEKDAY_APPR_PROCESS_START                       THURSDAY  \n",
       "ORGANIZATION_TYPE                                Religion  \n",
       "NUM_BUREAU_LOANS                                      1.0  \n",
       "SUM_CREDIT                                     30295687.5  \n",
       "AVG_CREDIT                                     30295687.5  \n",
       "ACTIVE_LOANS                                          0.0  \n",
       "OVERDUE_MONTHS                                        0.0  \n",
       "NUM_PREV_LOANS                                        6.0  \n",
       "SUM_PREV_CREDIT                               207115302.4  \n",
       "AVG_PREV_CREDIT                               34519217.06  \n",
       "AMT_PAYMENT                                   2417759.555  \n",
       "CREDIT_INCOME_RATIO                              4.222222  \n",
       "ANNUITY_INCOME_RATIO                             0.179963  \n",
       "CREDIT_ANNUITY_RATIO                            23.461618  \n",
       "CREDIT_GOODS_RATIO                                    1.0  \n",
       "ANNUITY_GOODS_RATIO                              0.042623  \n",
       "PAYMENT_CREDIT_RATIO                             0.022752  \n",
       "YEARS_BIRTH                                     54.608219  \n",
       "EMPLOYMENT_TO_AGE_RATIO                         -0.000402  \n",
       "CREDIT_TO_EMPLOYMENT_RATIO                    108655173.8  \n",
       "CREDIT_TO_AGE_RATIO                            1946006.51  \n",
       "INCOME_PER_FAMILY_MEMBER                       12584362.5  \n",
       "CHILD_DEPENDENT_RATIO                                 0.0  \n",
       "HAS_CHILDREN                                            0  \n",
       "LOAN_TENURE                                     23.461618  "
      ],
      "text/html": [
       "<div>\n",
       "<style scoped>\n",
       "    .dataframe tbody tr th:only-of-type {\n",
       "        vertical-align: middle;\n",
       "    }\n",
       "\n",
       "    .dataframe tbody tr th {\n",
       "        vertical-align: top;\n",
       "    }\n",
       "\n",
       "    .dataframe thead th {\n",
       "        text-align: right;\n",
       "    }\n",
       "</style>\n",
       "<table border=\"1\" class=\"dataframe\">\n",
       "  <thead>\n",
       "    <tr style=\"text-align: right;\">\n",
       "      <th></th>\n",
       "      <th>0</th>\n",
       "      <th>1</th>\n",
       "      <th>2</th>\n",
       "      <th>3</th>\n",
       "      <th>4</th>\n",
       "    </tr>\n",
       "  </thead>\n",
       "  <tbody>\n",
       "    <tr>\n",
       "      <th>SK_ID_CURR</th>\n",
       "      <td>100002</td>\n",
       "      <td>100003</td>\n",
       "      <td>100004</td>\n",
       "      <td>100006</td>\n",
       "      <td>100007</td>\n",
       "    </tr>\n",
       "    <tr>\n",
       "      <th>TARGET</th>\n",
       "      <td>1</td>\n",
       "      <td>0</td>\n",
       "      <td>0</td>\n",
       "      <td>0</td>\n",
       "      <td>0</td>\n",
       "    </tr>\n",
       "    <tr>\n",
       "      <th>NAME_CONTRACT_TYPE</th>\n",
       "      <td>Cash loans</td>\n",
       "      <td>Cash loans</td>\n",
       "      <td>Revolving loans</td>\n",
       "      <td>Cash loans</td>\n",
       "      <td>Cash loans</td>\n",
       "    </tr>\n",
       "    <tr>\n",
       "      <th>FLAG_OWN_CAR</th>\n",
       "      <td>N</td>\n",
       "      <td>N</td>\n",
       "      <td>Y</td>\n",
       "      <td>N</td>\n",
       "      <td>N</td>\n",
       "    </tr>\n",
       "    <tr>\n",
       "      <th>FLAG_OWN_REALTY</th>\n",
       "      <td>Y</td>\n",
       "      <td>N</td>\n",
       "      <td>Y</td>\n",
       "      <td>Y</td>\n",
       "      <td>Y</td>\n",
       "    </tr>\n",
       "    <tr>\n",
       "      <th>CNT_CHILDREN</th>\n",
       "      <td>0</td>\n",
       "      <td>0</td>\n",
       "      <td>0</td>\n",
       "      <td>0</td>\n",
       "      <td>0</td>\n",
       "    </tr>\n",
       "    <tr>\n",
       "      <th>AMT_INCOME_TOTAL</th>\n",
       "      <td>41947875.0</td>\n",
       "      <td>55930500.0</td>\n",
       "      <td>13982625.0</td>\n",
       "      <td>27965250.0</td>\n",
       "      <td>25168725.0</td>\n",
       "    </tr>\n",
       "    <tr>\n",
       "      <th>AMT_CREDIT</th>\n",
       "      <td>84226672.13</td>\n",
       "      <td>267949042.9</td>\n",
       "      <td>27965250.0</td>\n",
       "      <td>64772179.88</td>\n",
       "      <td>106267950.0</td>\n",
       "    </tr>\n",
       "    <tr>\n",
       "      <th>AMT_ANNUITY</th>\n",
       "      <td>5116708.575</td>\n",
       "      <td>7394944.275</td>\n",
       "      <td>1398262.5</td>\n",
       "      <td>6149558.475</td>\n",
       "      <td>4529438.325</td>\n",
       "    </tr>\n",
       "    <tr>\n",
       "      <th>AMT_GOODS_PRICE</th>\n",
       "      <td>72709650.0</td>\n",
       "      <td>233975925.0</td>\n",
       "      <td>27965250.0</td>\n",
       "      <td>61523550.0</td>\n",
       "      <td>106267950.0</td>\n",
       "    </tr>\n",
       "    <tr>\n",
       "      <th>NAME_TYPE_SUITE</th>\n",
       "      <td>Unaccompanied</td>\n",
       "      <td>Family</td>\n",
       "      <td>Unaccompanied</td>\n",
       "      <td>Unaccompanied</td>\n",
       "      <td>Unaccompanied</td>\n",
       "    </tr>\n",
       "    <tr>\n",
       "      <th>NAME_INCOME_TYPE</th>\n",
       "      <td>Working</td>\n",
       "      <td>State servant</td>\n",
       "      <td>Working</td>\n",
       "      <td>Working</td>\n",
       "      <td>Working</td>\n",
       "    </tr>\n",
       "    <tr>\n",
       "      <th>NAME_EDUCATION_TYPE</th>\n",
       "      <td>Secondary / secondary special</td>\n",
       "      <td>Higher education</td>\n",
       "      <td>Secondary / secondary special</td>\n",
       "      <td>Secondary / secondary special</td>\n",
       "      <td>Secondary / secondary special</td>\n",
       "    </tr>\n",
       "    <tr>\n",
       "      <th>NAME_FAMILY_STATUS</th>\n",
       "      <td>Single / not married</td>\n",
       "      <td>Married</td>\n",
       "      <td>Single / not married</td>\n",
       "      <td>Civil marriage</td>\n",
       "      <td>Single / not married</td>\n",
       "    </tr>\n",
       "    <tr>\n",
       "      <th>NAME_HOUSING_TYPE</th>\n",
       "      <td>House / apartment</td>\n",
       "      <td>House / apartment</td>\n",
       "      <td>House / apartment</td>\n",
       "      <td>House / apartment</td>\n",
       "      <td>House / apartment</td>\n",
       "    </tr>\n",
       "    <tr>\n",
       "      <th>DAYS_EMPLOYED</th>\n",
       "      <td>6.458338</td>\n",
       "      <td>7.080868</td>\n",
       "      <td>5.420535</td>\n",
       "      <td>8.019613</td>\n",
       "      <td>8.019284</td>\n",
       "    </tr>\n",
       "    <tr>\n",
       "      <th>FLAG_MOBIL</th>\n",
       "      <td>1</td>\n",
       "      <td>1</td>\n",
       "      <td>1</td>\n",
       "      <td>1</td>\n",
       "      <td>1</td>\n",
       "    </tr>\n",
       "    <tr>\n",
       "      <th>FLAG_EMP_PHONE</th>\n",
       "      <td>1</td>\n",
       "      <td>1</td>\n",
       "      <td>1</td>\n",
       "      <td>1</td>\n",
       "      <td>1</td>\n",
       "    </tr>\n",
       "    <tr>\n",
       "      <th>FLAG_WORK_PHONE</th>\n",
       "      <td>0</td>\n",
       "      <td>0</td>\n",
       "      <td>1</td>\n",
       "      <td>0</td>\n",
       "      <td>0</td>\n",
       "    </tr>\n",
       "    <tr>\n",
       "      <th>FLAG_CONT_MOBILE</th>\n",
       "      <td>1</td>\n",
       "      <td>1</td>\n",
       "      <td>1</td>\n",
       "      <td>1</td>\n",
       "      <td>1</td>\n",
       "    </tr>\n",
       "    <tr>\n",
       "      <th>FLAG_PHONE</th>\n",
       "      <td>1</td>\n",
       "      <td>1</td>\n",
       "      <td>1</td>\n",
       "      <td>0</td>\n",
       "      <td>0</td>\n",
       "    </tr>\n",
       "    <tr>\n",
       "      <th>FLAG_EMAIL</th>\n",
       "      <td>0</td>\n",
       "      <td>0</td>\n",
       "      <td>0</td>\n",
       "      <td>0</td>\n",
       "      <td>0</td>\n",
       "    </tr>\n",
       "    <tr>\n",
       "      <th>OCCUPATION_TYPE</th>\n",
       "      <td>Laborers</td>\n",
       "      <td>Core staff</td>\n",
       "      <td>Laborers</td>\n",
       "      <td>Laborers</td>\n",
       "      <td>Core staff</td>\n",
       "    </tr>\n",
       "    <tr>\n",
       "      <th>CNT_FAM_MEMBERS</th>\n",
       "      <td>1</td>\n",
       "      <td>2</td>\n",
       "      <td>1</td>\n",
       "      <td>2</td>\n",
       "      <td>1</td>\n",
       "    </tr>\n",
       "    <tr>\n",
       "      <th>WEEKDAY_APPR_PROCESS_START</th>\n",
       "      <td>WEDNESDAY</td>\n",
       "      <td>MONDAY</td>\n",
       "      <td>MONDAY</td>\n",
       "      <td>WEDNESDAY</td>\n",
       "      <td>THURSDAY</td>\n",
       "    </tr>\n",
       "    <tr>\n",
       "      <th>ORGANIZATION_TYPE</th>\n",
       "      <td>Business Entity</td>\n",
       "      <td>School</td>\n",
       "      <td>Government</td>\n",
       "      <td>Business Entity</td>\n",
       "      <td>Religion</td>\n",
       "    </tr>\n",
       "    <tr>\n",
       "      <th>NUM_BUREAU_LOANS</th>\n",
       "      <td>8.0</td>\n",
       "      <td>4.0</td>\n",
       "      <td>2.0</td>\n",
       "      <td>1.096474</td>\n",
       "      <td>1.0</td>\n",
       "    </tr>\n",
       "    <tr>\n",
       "      <th>SUM_CREDIT</th>\n",
       "      <td>179196260.3</td>\n",
       "      <td>210754513.6</td>\n",
       "      <td>39159180.27</td>\n",
       "      <td>31885567.5</td>\n",
       "      <td>30295687.5</td>\n",
       "    </tr>\n",
       "    <tr>\n",
       "      <th>AVG_CREDIT</th>\n",
       "      <td>22399532.54</td>\n",
       "      <td>52688628.39</td>\n",
       "      <td>19579590.14</td>\n",
       "      <td>28409513.84</td>\n",
       "      <td>30295687.5</td>\n",
       "    </tr>\n",
       "    <tr>\n",
       "      <th>ACTIVE_LOANS</th>\n",
       "      <td>2.0</td>\n",
       "      <td>1.0</td>\n",
       "      <td>0.0</td>\n",
       "      <td>0.713354</td>\n",
       "      <td>0.0</td>\n",
       "    </tr>\n",
       "    <tr>\n",
       "      <th>OVERDUE_MONTHS</th>\n",
       "      <td>65.0</td>\n",
       "      <td>0.0</td>\n",
       "      <td>0.0</td>\n",
       "      <td>0.28985</td>\n",
       "      <td>0.0</td>\n",
       "    </tr>\n",
       "    <tr>\n",
       "      <th>NUM_PREV_LOANS</th>\n",
       "      <td>1.0</td>\n",
       "      <td>3.0</td>\n",
       "      <td>1.0</td>\n",
       "      <td>9.0</td>\n",
       "      <td>6.0</td>\n",
       "    </tr>\n",
       "    <tr>\n",
       "      <th>SUM_PREV_CREDIT</th>\n",
       "      <td>37091243.25</td>\n",
       "      <td>300900497.0</td>\n",
       "      <td>4487490.45</td>\n",
       "      <td>543822505.4</td>\n",
       "      <td>207115302.4</td>\n",
       "    </tr>\n",
       "    <tr>\n",
       "      <th>AVG_PREV_CREDIT</th>\n",
       "      <td>37091243.25</td>\n",
       "      <td>100300165.7</td>\n",
       "      <td>4164957.9</td>\n",
       "      <td>60424722.83</td>\n",
       "      <td>34519217.06</td>\n",
       "    </tr>\n",
       "    <tr>\n",
       "      <th>AMT_PAYMENT</th>\n",
       "      <td>2394498.038</td>\n",
       "      <td>16273388.98</td>\n",
       "      <td>1469968.508</td>\n",
       "      <td>36806044.39</td>\n",
       "      <td>2417759.555</td>\n",
       "    </tr>\n",
       "    <tr>\n",
       "      <th>CREDIT_INCOME_RATIO</th>\n",
       "      <td>2.007889</td>\n",
       "      <td>4.79075</td>\n",
       "      <td>2.0</td>\n",
       "      <td>2.316167</td>\n",
       "      <td>4.222222</td>\n",
       "    </tr>\n",
       "    <tr>\n",
       "      <th>ANNUITY_INCOME_RATIO</th>\n",
       "      <td>0.121978</td>\n",
       "      <td>0.132217</td>\n",
       "      <td>0.1</td>\n",
       "      <td>0.2199</td>\n",
       "      <td>0.179963</td>\n",
       "    </tr>\n",
       "    <tr>\n",
       "      <th>CREDIT_ANNUITY_RATIO</th>\n",
       "      <td>16.461104</td>\n",
       "      <td>36.234085</td>\n",
       "      <td>20.0</td>\n",
       "      <td>10.532818</td>\n",
       "      <td>23.461618</td>\n",
       "    </tr>\n",
       "    <tr>\n",
       "      <th>CREDIT_GOODS_RATIO</th>\n",
       "      <td>1.158397</td>\n",
       "      <td>1.145199</td>\n",
       "      <td>1.0</td>\n",
       "      <td>1.052803</td>\n",
       "      <td>1.0</td>\n",
       "    </tr>\n",
       "    <tr>\n",
       "      <th>ANNUITY_GOODS_RATIO</th>\n",
       "      <td>0.070372</td>\n",
       "      <td>0.031606</td>\n",
       "      <td>0.05</td>\n",
       "      <td>0.099955</td>\n",
       "      <td>0.042623</td>\n",
       "    </tr>\n",
       "    <tr>\n",
       "      <th>PAYMENT_CREDIT_RATIO</th>\n",
       "      <td>0.028429</td>\n",
       "      <td>0.060733</td>\n",
       "      <td>0.052564</td>\n",
       "      <td>0.381692</td>\n",
       "      <td>0.022752</td>\n",
       "    </tr>\n",
       "    <tr>\n",
       "      <th>YEARS_BIRTH</th>\n",
       "      <td>25.920548</td>\n",
       "      <td>45.931507</td>\n",
       "      <td>52.180822</td>\n",
       "      <td>52.068493</td>\n",
       "      <td>54.608219</td>\n",
       "    </tr>\n",
       "    <tr>\n",
       "      <th>EMPLOYMENT_TO_AGE_RATIO</th>\n",
       "      <td>-0.000683</td>\n",
       "      <td>-0.000422</td>\n",
       "      <td>-0.000285</td>\n",
       "      <td>-0.000422</td>\n",
       "      <td>-0.000402</td>\n",
       "    </tr>\n",
       "    <tr>\n",
       "      <th>CREDIT_TO_EMPLOYMENT_RATIO</th>\n",
       "      <td>85743830.1</td>\n",
       "      <td>273249993.9</td>\n",
       "      <td>28386816.39</td>\n",
       "      <td>66227295.68</td>\n",
       "      <td>108655173.8</td>\n",
       "    </tr>\n",
       "    <tr>\n",
       "      <th>CREDIT_TO_AGE_RATIO</th>\n",
       "      <td>3249417.115</td>\n",
       "      <td>5833665.414</td>\n",
       "      <td>535929.6571</td>\n",
       "      <td>1243980.303</td>\n",
       "      <td>1946006.51</td>\n",
       "    </tr>\n",
       "    <tr>\n",
       "      <th>INCOME_PER_FAMILY_MEMBER</th>\n",
       "      <td>20973937.5</td>\n",
       "      <td>18643500.0</td>\n",
       "      <td>6991312.5</td>\n",
       "      <td>9321750.0</td>\n",
       "      <td>12584362.5</td>\n",
       "    </tr>\n",
       "    <tr>\n",
       "      <th>CHILD_DEPENDENT_RATIO</th>\n",
       "      <td>0.0</td>\n",
       "      <td>0.0</td>\n",
       "      <td>0.0</td>\n",
       "      <td>0.0</td>\n",
       "      <td>0.0</td>\n",
       "    </tr>\n",
       "    <tr>\n",
       "      <th>HAS_CHILDREN</th>\n",
       "      <td>0</td>\n",
       "      <td>0</td>\n",
       "      <td>0</td>\n",
       "      <td>0</td>\n",
       "      <td>0</td>\n",
       "    </tr>\n",
       "    <tr>\n",
       "      <th>LOAN_TENURE</th>\n",
       "      <td>16.461104</td>\n",
       "      <td>36.234085</td>\n",
       "      <td>20.0</td>\n",
       "      <td>10.532818</td>\n",
       "      <td>23.461618</td>\n",
       "    </tr>\n",
       "  </tbody>\n",
       "</table>\n",
       "</div>"
      ]
     },
     "execution_count": 45,
     "metadata": {},
     "output_type": "execute_result"
    }
   ],
   "execution_count": 45
  },
  {
   "metadata": {
    "ExecuteTime": {
     "end_time": "2025-07-14T04:59:24.577639Z",
     "start_time": "2025-07-14T04:59:24.397205Z"
    }
   },
   "cell_type": "code",
   "source": "data.isnull().sum()",
   "id": "d2bba1f5cb22218f",
   "outputs": [
    {
     "data": {
      "text/plain": [
       "SK_ID_CURR                    0\n",
       "TARGET                        0\n",
       "NAME_CONTRACT_TYPE            0\n",
       "FLAG_OWN_CAR                  0\n",
       "FLAG_OWN_REALTY               0\n",
       "CNT_CHILDREN                  0\n",
       "AMT_INCOME_TOTAL              0\n",
       "AMT_CREDIT                    0\n",
       "AMT_ANNUITY                   0\n",
       "AMT_GOODS_PRICE               0\n",
       "NAME_TYPE_SUITE               0\n",
       "NAME_INCOME_TYPE              0\n",
       "NAME_EDUCATION_TYPE           0\n",
       "NAME_FAMILY_STATUS            0\n",
       "NAME_HOUSING_TYPE             0\n",
       "DAYS_EMPLOYED                 0\n",
       "FLAG_MOBIL                    0\n",
       "FLAG_EMP_PHONE                0\n",
       "FLAG_WORK_PHONE               0\n",
       "FLAG_CONT_MOBILE              0\n",
       "FLAG_PHONE                    0\n",
       "FLAG_EMAIL                    0\n",
       "OCCUPATION_TYPE               0\n",
       "CNT_FAM_MEMBERS               0\n",
       "WEEKDAY_APPR_PROCESS_START    0\n",
       "ORGANIZATION_TYPE             0\n",
       "NUM_BUREAU_LOANS              0\n",
       "SUM_CREDIT                    0\n",
       "AVG_CREDIT                    0\n",
       "ACTIVE_LOANS                  0\n",
       "OVERDUE_MONTHS                0\n",
       "NUM_PREV_LOANS                0\n",
       "SUM_PREV_CREDIT               0\n",
       "AVG_PREV_CREDIT               0\n",
       "AMT_PAYMENT                   0\n",
       "CREDIT_INCOME_RATIO           0\n",
       "ANNUITY_INCOME_RATIO          0\n",
       "CREDIT_ANNUITY_RATIO          0\n",
       "CREDIT_GOODS_RATIO            0\n",
       "ANNUITY_GOODS_RATIO           0\n",
       "PAYMENT_CREDIT_RATIO          0\n",
       "YEARS_BIRTH                   0\n",
       "EMPLOYMENT_TO_AGE_RATIO       0\n",
       "CREDIT_TO_EMPLOYMENT_RATIO    0\n",
       "CREDIT_TO_AGE_RATIO           0\n",
       "INCOME_PER_FAMILY_MEMBER      0\n",
       "CHILD_DEPENDENT_RATIO         0\n",
       "HAS_CHILDREN                  0\n",
       "LOAN_TENURE                   0\n",
       "dtype: int64"
      ]
     },
     "execution_count": 46,
     "metadata": {},
     "output_type": "execute_result"
    }
   ],
   "execution_count": 46
  },
  {
   "metadata": {
    "ExecuteTime": {
     "end_time": "2025-07-14T04:59:24.669151Z",
     "start_time": "2025-07-14T04:59:24.662856Z"
    }
   },
   "cell_type": "code",
   "source": [
    "# Check the data shape\n",
    "data.shape"
   ],
   "id": "de506993f782674b",
   "outputs": [
    {
     "data": {
      "text/plain": [
       "(307511, 49)"
      ]
     },
     "execution_count": 47,
     "metadata": {},
     "output_type": "execute_result"
    }
   ],
   "execution_count": 47
  },
  {
   "metadata": {
    "ExecuteTime": {
     "end_time": "2025-07-14T04:59:24.828466Z",
     "start_time": "2025-07-14T04:59:24.811985Z"
    }
   },
   "cell_type": "code",
   "source": [
    "# Define response variable\n",
    "response_variable = 'TARGET'\n",
    "\n",
    "# Check the proportion of response variable\n",
    "data[response_variable].value_counts(normalize = True)"
   ],
   "id": "56c25898d5bd08e0",
   "outputs": [
    {
     "data": {
      "text/plain": [
       "TARGET\n",
       "0    0.919271\n",
       "1    0.080729\n",
       "Name: proportion, dtype: float64"
      ]
     },
     "execution_count": 48,
     "metadata": {},
     "output_type": "execute_result"
    }
   ],
   "execution_count": 48
  },
  {
   "metadata": {
    "ExecuteTime": {
     "end_time": "2025-07-14T04:59:25.119551Z",
     "start_time": "2025-07-14T04:59:24.996078Z"
    }
   },
   "cell_type": "code",
   "source": [
    "# Drop kolom SK_ID_CURR jika ada\n",
    "if 'SK_ID_CURR' in data.columns:\n",
    "    (data.drop(columns='SK_ID_CURR', inplace=True))"
   ],
   "id": "1da4d0a7e1e5df16",
   "outputs": [],
   "execution_count": 49
  },
  {
   "metadata": {},
   "cell_type": "markdown",
   "source": [
    "# **1.2 Data Exploration**\n",
    "---\n",
    "## **1.2.1 Exploratory Data Analysis (EDA)**,"
   ],
   "id": "947628c4a5481178"
  },
  {
   "metadata": {
    "ExecuteTime": {
     "end_time": "2025-07-14T04:59:25.249430Z",
     "start_time": "2025-07-14T04:59:25.243111Z"
    }
   },
   "cell_type": "code",
   "source": "data.columns",
   "id": "5602e2888b8a6fd4",
   "outputs": [
    {
     "data": {
      "text/plain": [
       "Index(['TARGET', 'NAME_CONTRACT_TYPE', 'FLAG_OWN_CAR', 'FLAG_OWN_REALTY',\n",
       "       'CNT_CHILDREN', 'AMT_INCOME_TOTAL', 'AMT_CREDIT', 'AMT_ANNUITY',\n",
       "       'AMT_GOODS_PRICE', 'NAME_TYPE_SUITE', 'NAME_INCOME_TYPE',\n",
       "       'NAME_EDUCATION_TYPE', 'NAME_FAMILY_STATUS', 'NAME_HOUSING_TYPE',\n",
       "       'DAYS_EMPLOYED', 'FLAG_MOBIL', 'FLAG_EMP_PHONE', 'FLAG_WORK_PHONE',\n",
       "       'FLAG_CONT_MOBILE', 'FLAG_PHONE', 'FLAG_EMAIL', 'OCCUPATION_TYPE',\n",
       "       'CNT_FAM_MEMBERS', 'WEEKDAY_APPR_PROCESS_START', 'ORGANIZATION_TYPE',\n",
       "       'NUM_BUREAU_LOANS', 'SUM_CREDIT', 'AVG_CREDIT', 'ACTIVE_LOANS',\n",
       "       'OVERDUE_MONTHS', 'NUM_PREV_LOANS', 'SUM_PREV_CREDIT',\n",
       "       'AVG_PREV_CREDIT', 'AMT_PAYMENT', 'CREDIT_INCOME_RATIO',\n",
       "       'ANNUITY_INCOME_RATIO', 'CREDIT_ANNUITY_RATIO', 'CREDIT_GOODS_RATIO',\n",
       "       'ANNUITY_GOODS_RATIO', 'PAYMENT_CREDIT_RATIO', 'YEARS_BIRTH',\n",
       "       'EMPLOYMENT_TO_AGE_RATIO', 'CREDIT_TO_EMPLOYMENT_RATIO',\n",
       "       'CREDIT_TO_AGE_RATIO', 'INCOME_PER_FAMILY_MEMBER',\n",
       "       'CHILD_DEPENDENT_RATIO', 'HAS_CHILDREN', 'LOAN_TENURE'],\n",
       "      dtype='object')"
      ]
     },
     "execution_count": 50,
     "metadata": {},
     "output_type": "execute_result"
    }
   ],
   "execution_count": 50
  },
  {
   "metadata": {
    "ExecuteTime": {
     "end_time": "2025-07-14T04:59:25.457634Z",
     "start_time": "2025-07-14T04:59:25.362286Z"
    }
   },
   "cell_type": "code",
   "source": [
    "# Categorical features (tipe objek atau kategori)\n",
    "categorical_features = data.select_dtypes(include=['object', 'category']).columns.tolist()\n",
    "\n",
    "# Numerical features (tipe numerik: int, float)\n",
    "numerical_features = data.select_dtypes(include=['int64', 'float64']).columns.tolist()\n",
    "\n",
    "# Cetak hasilnya\n",
    "print(\"Fitur Kategorikal:\")\n",
    "print(categorical_features)\n",
    "print(\"\\nFitur Numerikal:\")\n",
    "print(numerical_features)"
   ],
   "id": "605e2981c55a0283",
   "outputs": [
    {
     "name": "stdout",
     "output_type": "stream",
     "text": [
      "Fitur Kategorikal:\n",
      "['NAME_CONTRACT_TYPE', 'FLAG_OWN_CAR', 'FLAG_OWN_REALTY', 'NAME_TYPE_SUITE', 'NAME_INCOME_TYPE', 'NAME_EDUCATION_TYPE', 'NAME_FAMILY_STATUS', 'NAME_HOUSING_TYPE', 'OCCUPATION_TYPE', 'WEEKDAY_APPR_PROCESS_START', 'ORGANIZATION_TYPE']\n",
      "\n",
      "Fitur Numerikal:\n",
      "['TARGET', 'CNT_CHILDREN', 'AMT_INCOME_TOTAL', 'AMT_CREDIT', 'AMT_ANNUITY', 'AMT_GOODS_PRICE', 'DAYS_EMPLOYED', 'FLAG_MOBIL', 'FLAG_EMP_PHONE', 'FLAG_WORK_PHONE', 'FLAG_CONT_MOBILE', 'FLAG_PHONE', 'FLAG_EMAIL', 'CNT_FAM_MEMBERS', 'NUM_BUREAU_LOANS', 'SUM_CREDIT', 'AVG_CREDIT', 'ACTIVE_LOANS', 'OVERDUE_MONTHS', 'NUM_PREV_LOANS', 'SUM_PREV_CREDIT', 'AVG_PREV_CREDIT', 'AMT_PAYMENT', 'CREDIT_INCOME_RATIO', 'ANNUITY_INCOME_RATIO', 'CREDIT_ANNUITY_RATIO', 'CREDIT_GOODS_RATIO', 'ANNUITY_GOODS_RATIO', 'PAYMENT_CREDIT_RATIO', 'YEARS_BIRTH', 'EMPLOYMENT_TO_AGE_RATIO', 'CREDIT_TO_EMPLOYMENT_RATIO', 'CREDIT_TO_AGE_RATIO', 'INCOME_PER_FAMILY_MEMBER', 'CHILD_DEPENDENT_RATIO', 'HAS_CHILDREN', 'LOAN_TENURE']\n"
     ]
    }
   ],
   "execution_count": 51
  },
  {
   "metadata": {
    "ExecuteTime": {
     "end_time": "2025-07-14T04:59:25.523740Z",
     "start_time": "2025-07-14T04:59:25.516131Z"
    }
   },
   "cell_type": "code",
   "source": [
    "cat_columns = ['NAME_CONTRACT_TYPE', 'FLAG_OWN_CAR', 'FLAG_OWN_REALTY', 'NAME_TYPE_SUITE', 'NAME_INCOME_TYPE', 'NAME_EDUCATION_TYPE', 'NAME_FAMILY_STATUS', 'NAME_HOUSING_TYPE', 'OCCUPATION_TYPE', 'WEEKDAY_APPR_PROCESS_START', 'ORGANIZATION_TYPE']\n",
    "\n",
    "num_columns = ['CNT_CHILDREN', 'AMT_INCOME_TOTAL', 'AMT_CREDIT', 'AMT_ANNUITY', 'AMT_GOODS_PRICE', 'DAYS_EMPLOYED', 'FLAG_MOBIL', 'FLAG_EMP_PHONE', 'FLAG_WORK_PHONE', 'FLAG_CONT_MOBILE', 'FLAG_PHONE', 'FLAG_EMAIL', 'CNT_FAM_MEMBERS', 'NUM_BUREAU_LOANS', 'SUM_CREDIT', 'AVG_CREDIT', 'ACTIVE_LOANS', 'OVERDUE_MONTHS', 'NUM_PREV_LOANS', 'SUM_PREV_CREDIT', 'AVG_PREV_CREDIT', 'AMT_PAYMENT', 'CREDIT_INCOME_RATIO', 'ANNUITY_INCOME_RATIO', 'CREDIT_ANNUITY_RATIO', 'CREDIT_GOODS_RATIO', 'ANNUITY_GOODS_RATIO', 'PAYMENT_CREDIT_RATIO', 'YEARS_BIRTH', 'EMPLOYMENT_TO_AGE_RATIO', 'CREDIT_TO_EMPLOYMENT_RATIO', 'CREDIT_TO_AGE_RATIO', 'INCOME_PER_FAMILY_MEMBER', 'CHILD_DEPENDENT_RATIO', 'HAS_CHILDREN', 'LOAN_TENURE']"
   ],
   "id": "859b042508fb2d32",
   "outputs": [],
   "execution_count": 52
  },
  {
   "metadata": {},
   "cell_type": "markdown",
   "source": [
    "## **1.2 Sample Splitting**\n",
    "---"
   ],
   "id": "4ff539e0e5359b4e"
  },
  {
   "metadata": {
    "ExecuteTime": {
     "end_time": "2025-07-14T04:59:25.732661Z",
     "start_time": "2025-07-14T04:59:25.627555Z"
    }
   },
   "cell_type": "code",
   "source": [
    "# Split response and predictors\n",
    "y = data[response_variable]\n",
    "X = data.drop(columns = [response_variable],\n",
    "              axis = 1)\n",
    "\n",
    "# Validate the splixtting\n",
    "print('y shape :', y.shape)\n",
    "print('X shape :', X.shape)"
   ],
   "id": "9f3ab3282bfc8aa5",
   "outputs": [
    {
     "name": "stdout",
     "output_type": "stream",
     "text": [
      "y shape : (307511,)\n",
      "X shape : (307511, 47)\n"
     ]
    }
   ],
   "execution_count": 53
  },
  {
   "metadata": {
    "ExecuteTime": {
     "end_time": "2025-07-14T04:59:26.006529Z",
     "start_time": "2025-07-14T04:59:25.740999Z"
    }
   },
   "cell_type": "code",
   "source": [
    "from sklearn.model_selection import train_test_split\n",
    "\n",
    "# Split the data\n",
    "X_train, X_test, y_train, y_test = train_test_split(X,\n",
    "                                                    y,\n",
    "                                                    stratify = y,\n",
    "                                                    test_size = 0.3,\n",
    "                                                    random_state = 42)\n",
    "\n",
    "# Validate splitting\n",
    "print('X train shape :', X_train.shape)\n",
    "print('y train shape :', y_train.shape)\n",
    "print('X test shape  :', X_test.shape)\n",
    "print('y test shape  :', y_test.shape)"
   ],
   "id": "cc253b0daf619244",
   "outputs": [
    {
     "name": "stdout",
     "output_type": "stream",
     "text": [
      "X train shape : (215257, 47)\n",
      "y train shape : (215257,)\n",
      "X test shape  : (92254, 47)\n",
      "y test shape  : (92254,)\n"
     ]
    }
   ],
   "execution_count": 54
  },
  {
   "metadata": {
    "ExecuteTime": {
     "end_time": "2025-07-14T04:59:26.054960Z",
     "start_time": "2025-07-14T04:59:26.046350Z"
    }
   },
   "cell_type": "code",
   "source": "y_train.value_counts(normalize = True)",
   "id": "6f2fb9e09fa4150c",
   "outputs": [
    {
     "data": {
      "text/plain": [
       "TARGET\n",
       "0    0.919273\n",
       "1    0.080727\n",
       "Name: proportion, dtype: float64"
      ]
     },
     "execution_count": 55,
     "metadata": {},
     "output_type": "execute_result"
    }
   ],
   "execution_count": 55
  },
  {
   "metadata": {
    "ExecuteTime": {
     "end_time": "2025-07-14T04:59:26.147638Z",
     "start_time": "2025-07-14T04:59:26.138175Z"
    }
   },
   "cell_type": "code",
   "source": "y_test.value_counts(normalize = True)",
   "id": "117a6d871f6cbebf",
   "outputs": [
    {
     "data": {
      "text/plain": [
       "TARGET\n",
       "0    0.919266\n",
       "1    0.080734\n",
       "Name: proportion, dtype: float64"
      ]
     },
     "execution_count": 56,
     "metadata": {},
     "output_type": "execute_result"
    }
   ],
   "execution_count": 56
  },
  {
   "metadata": {
    "ExecuteTime": {
     "end_time": "2025-07-14T04:59:26.297596Z",
     "start_time": "2025-07-14T04:59:26.244636Z"
    }
   },
   "cell_type": "code",
   "source": [
    "# Concatenate X_train and y_train as data_train\n",
    "data_train = pd.concat((X_train, y_train),\n",
    "                       axis = 1)\n",
    "\n",
    "# Validate data_train\n",
    "print('Train data shape:', data_train.shape)\n",
    "data_train.head()"
   ],
   "id": "d9b5275d1b169e38",
   "outputs": [
    {
     "name": "stdout",
     "output_type": "stream",
     "text": [
      "Train data shape: (215257, 48)\n"
     ]
    },
    {
     "data": {
      "text/plain": [
       "       NAME_CONTRACT_TYPE FLAG_OWN_CAR FLAG_OWN_REALTY  CNT_CHILDREN  \\\n",
       "159703         Cash loans            Y               Y             2   \n",
       "79269          Cash loans            N               Y             0   \n",
       "232615         Cash loans            N               Y             1   \n",
       "33420          Cash loans            N               Y             2   \n",
       "88191          Cash loans            Y               N             0   \n",
       "\n",
       "        AMT_INCOME_TOTAL    AMT_CREDIT   AMT_ANNUITY  AMT_GOODS_PRICE  \\\n",
       "159703        83895750.0  3.840561e+08  1.421940e+07      372870000.0   \n",
       "79269         69913125.0  1.053348e+08  7.902047e+06       94149675.0   \n",
       "232615        23304375.0  2.281685e+07  2.707036e+06       18643500.0   \n",
       "33420          9321750.0  1.582833e+07  1.280808e+06       13982625.0   \n",
       "88191         46608750.0  6.183676e+07  6.587681e+06       55930500.0   \n",
       "\n",
       "       NAME_TYPE_SUITE      NAME_INCOME_TYPE  ... PAYMENT_CREDIT_RATIO  \\\n",
       "159703   Unaccompanied  Commercial associate  ...             0.003943   \n",
       "79269           Family         State servant  ...             0.091567   \n",
       "232615   Unaccompanied  Commercial associate  ...             0.381692   \n",
       "33420    Unaccompanied  Commercial associate  ...             0.122714   \n",
       "88191    Unaccompanied  Commercial associate  ...             0.117458   \n",
       "\n",
       "       YEARS_BIRTH EMPLOYMENT_TO_AGE_RATIO  CREDIT_TO_EMPLOYMENT_RATIO  \\\n",
       "159703   37.224658               -0.000511                3.894648e+08   \n",
       "79269    48.063014               -0.000405                1.074237e+08   \n",
       "232615   31.663014               -0.000553                2.322321e+07   \n",
       "33420    43.150685               -0.000545                1.640397e+07   \n",
       "88191    54.553425               -0.000356                6.306114e+07   \n",
       "\n",
       "        CREDIT_TO_AGE_RATIO  INCOME_PER_FAMILY_MEMBER  CHILD_DEPENDENT_RATIO  \\\n",
       "159703         9.852181e+06               16779150.00                   0.40   \n",
       "79269          2.191599e+06               23304375.00                   0.00   \n",
       "232615         7.206152e+05                5826093.75                   0.25   \n",
       "33420          3.668153e+05                2982960.00                   0.40   \n",
       "88191          1.133508e+06               15536250.00                   0.00   \n",
       "\n",
       "        HAS_CHILDREN  LOAN_TENURE  TARGET  \n",
       "159703             1    27.009309       0  \n",
       "79269              0    13.330070       0  \n",
       "232615             1     8.792961       0  \n",
       "33420              1    12.358079       0  \n",
       "88191              0     9.386727       0  \n",
       "\n",
       "[5 rows x 48 columns]"
      ],
      "text/html": [
       "<div>\n",
       "<style scoped>\n",
       "    .dataframe tbody tr th:only-of-type {\n",
       "        vertical-align: middle;\n",
       "    }\n",
       "\n",
       "    .dataframe tbody tr th {\n",
       "        vertical-align: top;\n",
       "    }\n",
       "\n",
       "    .dataframe thead th {\n",
       "        text-align: right;\n",
       "    }\n",
       "</style>\n",
       "<table border=\"1\" class=\"dataframe\">\n",
       "  <thead>\n",
       "    <tr style=\"text-align: right;\">\n",
       "      <th></th>\n",
       "      <th>NAME_CONTRACT_TYPE</th>\n",
       "      <th>FLAG_OWN_CAR</th>\n",
       "      <th>FLAG_OWN_REALTY</th>\n",
       "      <th>CNT_CHILDREN</th>\n",
       "      <th>AMT_INCOME_TOTAL</th>\n",
       "      <th>AMT_CREDIT</th>\n",
       "      <th>AMT_ANNUITY</th>\n",
       "      <th>AMT_GOODS_PRICE</th>\n",
       "      <th>NAME_TYPE_SUITE</th>\n",
       "      <th>NAME_INCOME_TYPE</th>\n",
       "      <th>...</th>\n",
       "      <th>PAYMENT_CREDIT_RATIO</th>\n",
       "      <th>YEARS_BIRTH</th>\n",
       "      <th>EMPLOYMENT_TO_AGE_RATIO</th>\n",
       "      <th>CREDIT_TO_EMPLOYMENT_RATIO</th>\n",
       "      <th>CREDIT_TO_AGE_RATIO</th>\n",
       "      <th>INCOME_PER_FAMILY_MEMBER</th>\n",
       "      <th>CHILD_DEPENDENT_RATIO</th>\n",
       "      <th>HAS_CHILDREN</th>\n",
       "      <th>LOAN_TENURE</th>\n",
       "      <th>TARGET</th>\n",
       "    </tr>\n",
       "  </thead>\n",
       "  <tbody>\n",
       "    <tr>\n",
       "      <th>159703</th>\n",
       "      <td>Cash loans</td>\n",
       "      <td>Y</td>\n",
       "      <td>Y</td>\n",
       "      <td>2</td>\n",
       "      <td>83895750.0</td>\n",
       "      <td>3.840561e+08</td>\n",
       "      <td>1.421940e+07</td>\n",
       "      <td>372870000.0</td>\n",
       "      <td>Unaccompanied</td>\n",
       "      <td>Commercial associate</td>\n",
       "      <td>...</td>\n",
       "      <td>0.003943</td>\n",
       "      <td>37.224658</td>\n",
       "      <td>-0.000511</td>\n",
       "      <td>3.894648e+08</td>\n",
       "      <td>9.852181e+06</td>\n",
       "      <td>16779150.00</td>\n",
       "      <td>0.40</td>\n",
       "      <td>1</td>\n",
       "      <td>27.009309</td>\n",
       "      <td>0</td>\n",
       "    </tr>\n",
       "    <tr>\n",
       "      <th>79269</th>\n",
       "      <td>Cash loans</td>\n",
       "      <td>N</td>\n",
       "      <td>Y</td>\n",
       "      <td>0</td>\n",
       "      <td>69913125.0</td>\n",
       "      <td>1.053348e+08</td>\n",
       "      <td>7.902047e+06</td>\n",
       "      <td>94149675.0</td>\n",
       "      <td>Family</td>\n",
       "      <td>State servant</td>\n",
       "      <td>...</td>\n",
       "      <td>0.091567</td>\n",
       "      <td>48.063014</td>\n",
       "      <td>-0.000405</td>\n",
       "      <td>1.074237e+08</td>\n",
       "      <td>2.191599e+06</td>\n",
       "      <td>23304375.00</td>\n",
       "      <td>0.00</td>\n",
       "      <td>0</td>\n",
       "      <td>13.330070</td>\n",
       "      <td>0</td>\n",
       "    </tr>\n",
       "    <tr>\n",
       "      <th>232615</th>\n",
       "      <td>Cash loans</td>\n",
       "      <td>N</td>\n",
       "      <td>Y</td>\n",
       "      <td>1</td>\n",
       "      <td>23304375.0</td>\n",
       "      <td>2.281685e+07</td>\n",
       "      <td>2.707036e+06</td>\n",
       "      <td>18643500.0</td>\n",
       "      <td>Unaccompanied</td>\n",
       "      <td>Commercial associate</td>\n",
       "      <td>...</td>\n",
       "      <td>0.381692</td>\n",
       "      <td>31.663014</td>\n",
       "      <td>-0.000553</td>\n",
       "      <td>2.322321e+07</td>\n",
       "      <td>7.206152e+05</td>\n",
       "      <td>5826093.75</td>\n",
       "      <td>0.25</td>\n",
       "      <td>1</td>\n",
       "      <td>8.792961</td>\n",
       "      <td>0</td>\n",
       "    </tr>\n",
       "    <tr>\n",
       "      <th>33420</th>\n",
       "      <td>Cash loans</td>\n",
       "      <td>N</td>\n",
       "      <td>Y</td>\n",
       "      <td>2</td>\n",
       "      <td>9321750.0</td>\n",
       "      <td>1.582833e+07</td>\n",
       "      <td>1.280808e+06</td>\n",
       "      <td>13982625.0</td>\n",
       "      <td>Unaccompanied</td>\n",
       "      <td>Commercial associate</td>\n",
       "      <td>...</td>\n",
       "      <td>0.122714</td>\n",
       "      <td>43.150685</td>\n",
       "      <td>-0.000545</td>\n",
       "      <td>1.640397e+07</td>\n",
       "      <td>3.668153e+05</td>\n",
       "      <td>2982960.00</td>\n",
       "      <td>0.40</td>\n",
       "      <td>1</td>\n",
       "      <td>12.358079</td>\n",
       "      <td>0</td>\n",
       "    </tr>\n",
       "    <tr>\n",
       "      <th>88191</th>\n",
       "      <td>Cash loans</td>\n",
       "      <td>Y</td>\n",
       "      <td>N</td>\n",
       "      <td>0</td>\n",
       "      <td>46608750.0</td>\n",
       "      <td>6.183676e+07</td>\n",
       "      <td>6.587681e+06</td>\n",
       "      <td>55930500.0</td>\n",
       "      <td>Unaccompanied</td>\n",
       "      <td>Commercial associate</td>\n",
       "      <td>...</td>\n",
       "      <td>0.117458</td>\n",
       "      <td>54.553425</td>\n",
       "      <td>-0.000356</td>\n",
       "      <td>6.306114e+07</td>\n",
       "      <td>1.133508e+06</td>\n",
       "      <td>15536250.00</td>\n",
       "      <td>0.00</td>\n",
       "      <td>0</td>\n",
       "      <td>9.386727</td>\n",
       "      <td>0</td>\n",
       "    </tr>\n",
       "  </tbody>\n",
       "</table>\n",
       "<p>5 rows × 48 columns</p>\n",
       "</div>"
      ]
     },
     "execution_count": 57,
     "metadata": {},
     "output_type": "execute_result"
    }
   ],
   "execution_count": 57
  },
  {
   "metadata": {
    "ExecuteTime": {
     "end_time": "2025-07-14T04:59:26.559051Z",
     "start_time": "2025-07-14T04:59:26.478366Z"
    }
   },
   "cell_type": "code",
   "source": [
    "from imblearn.under_sampling import RandomUnderSampler\n",
    "\n",
    "# Buat objek RandomUnderSampler\n",
    "rus = RandomUnderSampler(\n",
    "        sampling_strategy=\"majority\",\n",
    "        random_state=42\n",
    "      )\n",
    "\n",
    "# Fit objek\n",
    "X_train, y_train = rus.fit_resample(X_train, y_train)"
   ],
   "id": "ae5762374a6afb96",
   "outputs": [],
   "execution_count": 58
  },
  {
   "metadata": {
    "ExecuteTime": {
     "end_time": "2025-07-14T04:59:26.683785Z",
     "start_time": "2025-07-14T04:59:26.680217Z"
    }
   },
   "cell_type": "code",
   "source": [
    "from catboost import CatBoostClassifier\n",
    "from sklearn.metrics import classification_report, confusion_matrix, roc_auc_score, f1_score, accuracy_score"
   ],
   "id": "d14c846052d9d0ba",
   "outputs": [],
   "execution_count": 59
  },
  {
   "metadata": {
    "ExecuteTime": {
     "end_time": "2025-07-14T04:59:26.947875Z",
     "start_time": "2025-07-14T04:59:26.940196Z"
    }
   },
   "cell_type": "code",
   "source": [
    "# Inisialisasi model CatBoost\n",
    "cat_model = CatBoostClassifier(\n",
    "    iterations=100,\n",
    "    learning_rate=0.1,\n",
    "    depth=4,\n",
    "    # scale_pos_weight=11.4,  # disesuaikan dengan rasio imbalance\n",
    "    eval_metric='AUC',\n",
    "    verbose=0,              # suppress output\n",
    "    random_state=42\n",
    ")\n"
   ],
   "id": "4107d9074a82b0b7",
   "outputs": [],
   "execution_count": 60
  },
  {
   "metadata": {
    "ExecuteTime": {
     "end_time": "2025-07-14T05:38:18.600514Z",
     "start_time": "2025-07-14T05:38:18.595351Z"
    }
   },
   "cell_type": "code",
   "source": [
    "# # Inisialisasi model CatBoost\n",
    "# cat_model = CatBoostClassifier(\n",
    "#     iterations=181.07861122588622,\n",
    "#     learning_rate=0.29032719466815887,\n",
    "#     depth=5.386618513482091,\n",
    "#     # scale_pos_weight=1.4959739395617855,  # disesuaikan dengan rasio imbalance\n",
    "#     eval_metric='AUC',\n",
    "#     verbose=0,              # suppress output\n",
    "#     random_state=42,\n",
    "# )\n",
    "#\n",
    "#\n",
    "# # {'depth': np.float64(5.386618513482091),\n",
    "# #  'iterations': np.float64(181.07861122588622),\n",
    "# #  'learning_rate': np.float64(0.29032719466815887),\n",
    "# #  'scale_pos_weight': np.float64(1.4959739395617855)}"
   ],
   "id": "1385a6c7e848f60f",
   "outputs": [],
   "execution_count": 101
  },
  {
   "metadata": {
    "ExecuteTime": {
     "end_time": "2025-07-14T05:38:19.278442Z",
     "start_time": "2025-07-14T05:38:18.855040Z"
    }
   },
   "cell_type": "code",
   "source": [
    "# Training\n",
    "cat_model.fit(X_train, y_train, cat_features=cat_columns)"
   ],
   "id": "b197e0ba98c05a81",
   "outputs": [
    {
     "ename": "CatBoostError",
     "evalue": "catboost/private/libs/options/json_helper.h:41: Can't parse parameter \"iterations\" with value: 181.0786112",
     "output_type": "error",
     "traceback": [
      "\u001B[1;31m---------------------------------------------------------------------------\u001B[0m",
      "\u001B[1;31mCatBoostError\u001B[0m                             Traceback (most recent call last)",
      "Cell \u001B[1;32mIn[102], line 2\u001B[0m\n\u001B[0;32m      1\u001B[0m \u001B[38;5;66;03m# Training\u001B[39;00m\n\u001B[1;32m----> 2\u001B[0m \u001B[43mcat_model\u001B[49m\u001B[38;5;241;43m.\u001B[39;49m\u001B[43mfit\u001B[49m\u001B[43m(\u001B[49m\u001B[43mX_train\u001B[49m\u001B[43m,\u001B[49m\u001B[43m \u001B[49m\u001B[43my_train\u001B[49m\u001B[43m,\u001B[49m\u001B[43m \u001B[49m\u001B[43mcat_features\u001B[49m\u001B[38;5;241;43m=\u001B[39;49m\u001B[43mcat_columns\u001B[49m\u001B[43m)\u001B[49m\n",
      "File \u001B[1;32m~\\AppData\\Local\\Programs\\Python\\Python313\\Lib\\site-packages\\catboost\\core.py:5245\u001B[0m, in \u001B[0;36mCatBoostClassifier.fit\u001B[1;34m(self, X, y, cat_features, text_features, embedding_features, graph, sample_weight, baseline, use_best_model, eval_set, verbose, logging_level, plot, plot_file, column_description, verbose_eval, metric_period, silent, early_stopping_rounds, save_snapshot, snapshot_file, snapshot_interval, init_model, callbacks, log_cout, log_cerr)\u001B[0m\n\u001B[0;32m   5242\u001B[0m \u001B[38;5;28;01mif\u001B[39;00m \u001B[38;5;124m'\u001B[39m\u001B[38;5;124mloss_function\u001B[39m\u001B[38;5;124m'\u001B[39m \u001B[38;5;129;01min\u001B[39;00m params:\n\u001B[0;32m   5243\u001B[0m     CatBoostClassifier\u001B[38;5;241m.\u001B[39m_check_is_compatible_loss(params[\u001B[38;5;124m'\u001B[39m\u001B[38;5;124mloss_function\u001B[39m\u001B[38;5;124m'\u001B[39m])\n\u001B[1;32m-> 5245\u001B[0m \u001B[38;5;28;43mself\u001B[39;49m\u001B[38;5;241;43m.\u001B[39;49m\u001B[43m_fit\u001B[49m\u001B[43m(\u001B[49m\u001B[43mX\u001B[49m\u001B[43m,\u001B[49m\u001B[43m \u001B[49m\u001B[43my\u001B[49m\u001B[43m,\u001B[49m\u001B[43m \u001B[49m\u001B[43mcat_features\u001B[49m\u001B[43m,\u001B[49m\u001B[43m \u001B[49m\u001B[43mtext_features\u001B[49m\u001B[43m,\u001B[49m\u001B[43m \u001B[49m\u001B[43membedding_features\u001B[49m\u001B[43m,\u001B[49m\u001B[43m \u001B[49m\u001B[38;5;28;43;01mNone\u001B[39;49;00m\u001B[43m,\u001B[49m\u001B[43m \u001B[49m\u001B[43mgraph\u001B[49m\u001B[43m,\u001B[49m\u001B[43m \u001B[49m\u001B[43msample_weight\u001B[49m\u001B[43m,\u001B[49m\u001B[43m \u001B[49m\u001B[38;5;28;43;01mNone\u001B[39;49;00m\u001B[43m,\u001B[49m\u001B[43m \u001B[49m\u001B[38;5;28;43;01mNone\u001B[39;49;00m\u001B[43m,\u001B[49m\u001B[43m \u001B[49m\u001B[38;5;28;43;01mNone\u001B[39;49;00m\u001B[43m,\u001B[49m\u001B[43m \u001B[49m\u001B[38;5;28;43;01mNone\u001B[39;49;00m\u001B[43m,\u001B[49m\u001B[43m \u001B[49m\u001B[43mbaseline\u001B[49m\u001B[43m,\u001B[49m\u001B[43m \u001B[49m\u001B[43muse_best_model\u001B[49m\u001B[43m,\u001B[49m\n\u001B[0;32m   5246\u001B[0m \u001B[43m          \u001B[49m\u001B[43meval_set\u001B[49m\u001B[43m,\u001B[49m\u001B[43m \u001B[49m\u001B[43mverbose\u001B[49m\u001B[43m,\u001B[49m\u001B[43m \u001B[49m\u001B[43mlogging_level\u001B[49m\u001B[43m,\u001B[49m\u001B[43m \u001B[49m\u001B[43mplot\u001B[49m\u001B[43m,\u001B[49m\u001B[43m \u001B[49m\u001B[43mplot_file\u001B[49m\u001B[43m,\u001B[49m\u001B[43m \u001B[49m\u001B[43mcolumn_description\u001B[49m\u001B[43m,\u001B[49m\u001B[43m \u001B[49m\u001B[43mverbose_eval\u001B[49m\u001B[43m,\u001B[49m\u001B[43m \u001B[49m\u001B[43mmetric_period\u001B[49m\u001B[43m,\u001B[49m\n\u001B[0;32m   5247\u001B[0m \u001B[43m          \u001B[49m\u001B[43msilent\u001B[49m\u001B[43m,\u001B[49m\u001B[43m \u001B[49m\u001B[43mearly_stopping_rounds\u001B[49m\u001B[43m,\u001B[49m\u001B[43m \u001B[49m\u001B[43msave_snapshot\u001B[49m\u001B[43m,\u001B[49m\u001B[43m \u001B[49m\u001B[43msnapshot_file\u001B[49m\u001B[43m,\u001B[49m\u001B[43m \u001B[49m\u001B[43msnapshot_interval\u001B[49m\u001B[43m,\u001B[49m\u001B[43m \u001B[49m\u001B[43minit_model\u001B[49m\u001B[43m,\u001B[49m\u001B[43m \u001B[49m\u001B[43mcallbacks\u001B[49m\u001B[43m,\u001B[49m\u001B[43m \u001B[49m\u001B[43mlog_cout\u001B[49m\u001B[43m,\u001B[49m\u001B[43m \u001B[49m\u001B[43mlog_cerr\u001B[49m\u001B[43m)\u001B[49m\n\u001B[0;32m   5248\u001B[0m \u001B[38;5;28;01mreturn\u001B[39;00m \u001B[38;5;28mself\u001B[39m\n",
      "File \u001B[1;32m~\\AppData\\Local\\Programs\\Python\\Python313\\Lib\\site-packages\\catboost\\core.py:2395\u001B[0m, in \u001B[0;36mCatBoost._fit\u001B[1;34m(self, X, y, cat_features, text_features, embedding_features, pairs, graph, sample_weight, group_id, group_weight, subgroup_id, pairs_weight, baseline, use_best_model, eval_set, verbose, logging_level, plot, plot_file, column_description, verbose_eval, metric_period, silent, early_stopping_rounds, save_snapshot, snapshot_file, snapshot_interval, init_model, callbacks, log_cout, log_cerr)\u001B[0m\n\u001B[0;32m   2392\u001B[0m \u001B[38;5;28;01mif\u001B[39;00m y \u001B[38;5;129;01mis\u001B[39;00m \u001B[38;5;28;01mNone\u001B[39;00m \u001B[38;5;129;01mand\u001B[39;00m \u001B[38;5;129;01mnot\u001B[39;00m \u001B[38;5;28misinstance\u001B[39m(X, PATH_TYPES \u001B[38;5;241m+\u001B[39m (Pool,)):\n\u001B[0;32m   2393\u001B[0m     \u001B[38;5;28;01mraise\u001B[39;00m CatBoostError(\u001B[38;5;124m\"\u001B[39m\u001B[38;5;124my may be None only when X is an instance of catboost.Pool or string\u001B[39m\u001B[38;5;124m\"\u001B[39m)\n\u001B[1;32m-> 2395\u001B[0m train_params \u001B[38;5;241m=\u001B[39m \u001B[38;5;28;43mself\u001B[39;49m\u001B[38;5;241;43m.\u001B[39;49m\u001B[43m_prepare_train_params\u001B[49m\u001B[43m(\u001B[49m\n\u001B[0;32m   2396\u001B[0m \u001B[43m    \u001B[49m\u001B[43mX\u001B[49m\u001B[38;5;241;43m=\u001B[39;49m\u001B[43mX\u001B[49m\u001B[43m,\u001B[49m\u001B[43m \u001B[49m\u001B[43my\u001B[49m\u001B[38;5;241;43m=\u001B[39;49m\u001B[43my\u001B[49m\u001B[43m,\u001B[49m\u001B[43m \u001B[49m\u001B[43mcat_features\u001B[49m\u001B[38;5;241;43m=\u001B[39;49m\u001B[43mcat_features\u001B[49m\u001B[43m,\u001B[49m\u001B[43m \u001B[49m\u001B[43mtext_features\u001B[49m\u001B[38;5;241;43m=\u001B[39;49m\u001B[43mtext_features\u001B[49m\u001B[43m,\u001B[49m\u001B[43m \u001B[49m\u001B[43membedding_features\u001B[49m\u001B[38;5;241;43m=\u001B[39;49m\u001B[43membedding_features\u001B[49m\u001B[43m,\u001B[49m\n\u001B[0;32m   2397\u001B[0m \u001B[43m    \u001B[49m\u001B[43mpairs\u001B[49m\u001B[38;5;241;43m=\u001B[39;49m\u001B[43mpairs\u001B[49m\u001B[43m,\u001B[49m\u001B[43m \u001B[49m\u001B[43mgraph\u001B[49m\u001B[38;5;241;43m=\u001B[39;49m\u001B[43mgraph\u001B[49m\u001B[43m,\u001B[49m\u001B[43m \u001B[49m\u001B[43msample_weight\u001B[49m\u001B[38;5;241;43m=\u001B[39;49m\u001B[43msample_weight\u001B[49m\u001B[43m,\u001B[49m\u001B[43m \u001B[49m\u001B[43mgroup_id\u001B[49m\u001B[38;5;241;43m=\u001B[39;49m\u001B[43mgroup_id\u001B[49m\u001B[43m,\u001B[49m\u001B[43m \u001B[49m\u001B[43mgroup_weight\u001B[49m\u001B[38;5;241;43m=\u001B[39;49m\u001B[43mgroup_weight\u001B[49m\u001B[43m,\u001B[49m\n\u001B[0;32m   2398\u001B[0m \u001B[43m    \u001B[49m\u001B[43msubgroup_id\u001B[49m\u001B[38;5;241;43m=\u001B[39;49m\u001B[43msubgroup_id\u001B[49m\u001B[43m,\u001B[49m\u001B[43m \u001B[49m\u001B[43mpairs_weight\u001B[49m\u001B[38;5;241;43m=\u001B[39;49m\u001B[43mpairs_weight\u001B[49m\u001B[43m,\u001B[49m\u001B[43m \u001B[49m\u001B[43mbaseline\u001B[49m\u001B[38;5;241;43m=\u001B[39;49m\u001B[43mbaseline\u001B[49m\u001B[43m,\u001B[49m\u001B[43m \u001B[49m\u001B[43muse_best_model\u001B[49m\u001B[38;5;241;43m=\u001B[39;49m\u001B[43muse_best_model\u001B[49m\u001B[43m,\u001B[49m\n\u001B[0;32m   2399\u001B[0m \u001B[43m    \u001B[49m\u001B[43meval_set\u001B[49m\u001B[38;5;241;43m=\u001B[39;49m\u001B[43meval_set\u001B[49m\u001B[43m,\u001B[49m\u001B[43m \u001B[49m\u001B[43mverbose\u001B[49m\u001B[38;5;241;43m=\u001B[39;49m\u001B[43mverbose\u001B[49m\u001B[43m,\u001B[49m\u001B[43m \u001B[49m\u001B[43mlogging_level\u001B[49m\u001B[38;5;241;43m=\u001B[39;49m\u001B[43mlogging_level\u001B[49m\u001B[43m,\u001B[49m\u001B[43m \u001B[49m\u001B[43mplot\u001B[49m\u001B[38;5;241;43m=\u001B[39;49m\u001B[43mplot\u001B[49m\u001B[43m,\u001B[49m\u001B[43m \u001B[49m\u001B[43mplot_file\u001B[49m\u001B[38;5;241;43m=\u001B[39;49m\u001B[43mplot_file\u001B[49m\u001B[43m,\u001B[49m\n\u001B[0;32m   2400\u001B[0m \u001B[43m    \u001B[49m\u001B[43mcolumn_description\u001B[49m\u001B[38;5;241;43m=\u001B[39;49m\u001B[43mcolumn_description\u001B[49m\u001B[43m,\u001B[49m\u001B[43m \u001B[49m\u001B[43mverbose_eval\u001B[49m\u001B[38;5;241;43m=\u001B[39;49m\u001B[43mverbose_eval\u001B[49m\u001B[43m,\u001B[49m\u001B[43m \u001B[49m\u001B[43mmetric_period\u001B[49m\u001B[38;5;241;43m=\u001B[39;49m\u001B[43mmetric_period\u001B[49m\u001B[43m,\u001B[49m\n\u001B[0;32m   2401\u001B[0m \u001B[43m    \u001B[49m\u001B[43msilent\u001B[49m\u001B[38;5;241;43m=\u001B[39;49m\u001B[43msilent\u001B[49m\u001B[43m,\u001B[49m\u001B[43m \u001B[49m\u001B[43mearly_stopping_rounds\u001B[49m\u001B[38;5;241;43m=\u001B[39;49m\u001B[43mearly_stopping_rounds\u001B[49m\u001B[43m,\u001B[49m\u001B[43m \u001B[49m\u001B[43msave_snapshot\u001B[49m\u001B[38;5;241;43m=\u001B[39;49m\u001B[43msave_snapshot\u001B[49m\u001B[43m,\u001B[49m\n\u001B[0;32m   2402\u001B[0m \u001B[43m    \u001B[49m\u001B[43msnapshot_file\u001B[49m\u001B[38;5;241;43m=\u001B[39;49m\u001B[43msnapshot_file\u001B[49m\u001B[43m,\u001B[49m\u001B[43m \u001B[49m\u001B[43msnapshot_interval\u001B[49m\u001B[38;5;241;43m=\u001B[39;49m\u001B[43msnapshot_interval\u001B[49m\u001B[43m,\u001B[49m\u001B[43m \u001B[49m\u001B[43minit_model\u001B[49m\u001B[38;5;241;43m=\u001B[39;49m\u001B[43minit_model\u001B[49m\u001B[43m,\u001B[49m\n\u001B[0;32m   2403\u001B[0m \u001B[43m    \u001B[49m\u001B[43mcallbacks\u001B[49m\u001B[38;5;241;43m=\u001B[39;49m\u001B[43mcallbacks\u001B[49m\n\u001B[0;32m   2404\u001B[0m \u001B[43m\u001B[49m\u001B[43m)\u001B[49m\n\u001B[0;32m   2405\u001B[0m params \u001B[38;5;241m=\u001B[39m train_params[\u001B[38;5;124m\"\u001B[39m\u001B[38;5;124mparams\u001B[39m\u001B[38;5;124m\"\u001B[39m]\n\u001B[0;32m   2406\u001B[0m train_pool \u001B[38;5;241m=\u001B[39m train_params[\u001B[38;5;124m\"\u001B[39m\u001B[38;5;124mtrain_pool\u001B[39m\u001B[38;5;124m\"\u001B[39m]\n",
      "File \u001B[1;32m~\\AppData\\Local\\Programs\\Python\\Python313\\Lib\\site-packages\\catboost\\core.py:2321\u001B[0m, in \u001B[0;36mCatBoost._prepare_train_params\u001B[1;34m(self, X, y, cat_features, text_features, embedding_features, pairs, graph, sample_weight, group_id, group_weight, subgroup_id, pairs_weight, baseline, use_best_model, eval_set, verbose, logging_level, plot, plot_file, column_description, verbose_eval, metric_period, silent, early_stopping_rounds, save_snapshot, snapshot_file, snapshot_interval, init_model, callbacks)\u001B[0m\n\u001B[0;32m   2319\u001B[0m _check_param_types(params)\n\u001B[0;32m   2320\u001B[0m params \u001B[38;5;241m=\u001B[39m _params_type_cast(params)\n\u001B[1;32m-> 2321\u001B[0m \u001B[43m_check_train_params\u001B[49m\u001B[43m(\u001B[49m\u001B[43mparams\u001B[49m\u001B[43m)\u001B[49m\n\u001B[0;32m   2323\u001B[0m \u001B[38;5;28;01mif\u001B[39;00m params\u001B[38;5;241m.\u001B[39mget(\u001B[38;5;124m'\u001B[39m\u001B[38;5;124meval_fraction\u001B[39m\u001B[38;5;124m'\u001B[39m, \u001B[38;5;241m0.0\u001B[39m) \u001B[38;5;241m!=\u001B[39m \u001B[38;5;241m0.0\u001B[39m:\n\u001B[0;32m   2324\u001B[0m     \u001B[38;5;28;01mif\u001B[39;00m eval_set \u001B[38;5;129;01mis\u001B[39;00m \u001B[38;5;129;01mnot\u001B[39;00m \u001B[38;5;28;01mNone\u001B[39;00m:\n",
      "File \u001B[1;32m_catboost.pyx:6601\u001B[0m, in \u001B[0;36m_catboost._check_train_params\u001B[1;34m()\u001B[0m\n",
      "File \u001B[1;32m_catboost.pyx:6623\u001B[0m, in \u001B[0;36m_catboost._check_train_params\u001B[1;34m()\u001B[0m\n",
      "\u001B[1;31mCatBoostError\u001B[0m: catboost/private/libs/options/json_helper.h:41: Can't parse parameter \"iterations\" with value: 181.0786112"
     ]
    }
   ],
   "execution_count": 102
  },
  {
   "metadata": {
    "ExecuteTime": {
     "end_time": "2025-07-14T05:38:19.294143100Z",
     "start_time": "2025-07-14T04:59:33.629575Z"
    }
   },
   "cell_type": "code",
   "source": [
    "# Prediksi dan probabilitas\n",
    "y_pred_cat = cat_model.predict(X_test)\n",
    "y_proba_cat = cat_model.predict_proba(X_test)[:, 1]\n"
   ],
   "id": "798ba2ad6531028e",
   "outputs": [],
   "execution_count": 62
  },
  {
   "metadata": {
    "ExecuteTime": {
     "end_time": "2025-07-14T05:38:19.294143100Z",
     "start_time": "2025-07-14T04:59:34.766223Z"
    }
   },
   "cell_type": "code",
   "source": [
    "# Evaluasi\n",
    "print(\"📘 Classification Report — CatBoost\")\n",
    "print(classification_report(y_test, y_pred_cat))\n",
    "\n",
    "print(\"AUC:\", roc_auc_score(y_test, y_proba_cat))"
   ],
   "id": "a75604c8305c1698",
   "outputs": [
    {
     "name": "stdout",
     "output_type": "stream",
     "text": [
      "📘 Classification Report — CatBoost\n",
      "              precision    recall  f1-score   support\n",
      "\n",
      "           0       0.96      0.67      0.79     84806\n",
      "           1       0.15      0.67      0.25      7448\n",
      "\n",
      "    accuracy                           0.67     92254\n",
      "   macro avg       0.55      0.67      0.52     92254\n",
      "weighted avg       0.89      0.67      0.74     92254\n",
      "\n",
      "AUC: 0.7312824505404931\n"
     ]
    }
   ],
   "execution_count": 63
  },
  {
   "metadata": {
    "ExecuteTime": {
     "end_time": "2025-07-14T05:38:19.789096Z",
     "start_time": "2025-07-14T05:38:19.597066Z"
    }
   },
   "cell_type": "code",
   "source": [
    "# Confusion Matrix\n",
    "cm_cat = confusion_matrix(y_test, y_pred_cat)\n",
    "plt.figure(figsize=(4, 3))\n",
    "sns.heatmap(cm_cat, annot=True, fmt='d', cmap='Oranges')\n",
    "plt.title(\"Confusion Matrix — CatBoost\")\n",
    "plt.xlabel(\"Predicted\")\n",
    "plt.ylabel(\"Actual\")\n",
    "plt.tight_layout()\n",
    "plt.show()"
   ],
   "id": "e47273adbf291173",
   "outputs": [
    {
     "data": {
      "text/plain": [
       "<Figure size 400x300 with 2 Axes>"
      ],
      "image/png": "[encoded data removed]"
     },
     "metadata": {},
     "output_type": "display_data"
    }
   ],
   "execution_count": 103
  },
  {
   "metadata": {
    "ExecuteTime": {
     "end_time": "2025-07-14T05:38:19.996856Z",
     "start_time": "2025-07-14T05:38:19.941929Z"
    }
   },
   "cell_type": "code",
   "source": [
    "# Hitung metrik performa\n",
    "tn, fp, fn, tp = confusion_matrix(y_test, y_pred_cat).ravel()\n",
    "\n",
    "auc = roc_auc_score(y_test, y_proba_cat)\n",
    "tpr = tp / (tp + fn)\n",
    "tnr = tn / (tn + fp)\n",
    "fpr = fp / (fp + tn)\n",
    "gmean = np.sqrt(tpr * tnr)\n",
    "f1 = f1_score(y_test, y_pred_cat)\n",
    "accuracy = accuracy_score(y_test, y_pred_cat)"
   ],
   "id": "23c937d9cfda8f3",
   "outputs": [],
   "execution_count": 104
  },
  {
   "metadata": {
    "ExecuteTime": {
     "end_time": "2025-07-14T05:38:20.521290Z",
     "start_time": "2025-07-14T05:38:20.506931Z"
    }
   },
   "cell_type": "code",
   "source": [
    "# Simpan ke DataFrame\n",
    "cat_metrics_df = pd.DataFrame([{\n",
    "    'Classifier': 'CatBoost',\n",
    "    'AUC': round(auc, 4),\n",
    "    'TPR': round(tpr, 4),\n",
    "    'TNR': round(tnr, 4),\n",
    "    'FP - Rate': round(fpr, 4),\n",
    "    'G - Mean': round(gmean, 4),\n",
    "    'F1 - Score': round(f1, 4),\n",
    "    'Akurasi': round(accuracy, 4)\n",
    "}])\n",
    "\n",
    "# Tampilkan\n",
    "cat_metrics_df"
   ],
   "id": "78b2661ec5d892d4",
   "outputs": [
    {
     "data": {
      "text/plain": [
       "  Classifier     AUC    TPR     TNR  FP - Rate  G - Mean  F1 - Score  Akurasi\n",
       "0   CatBoost  0.7639  0.819  0.5257     0.4743    0.6562      0.2269   0.5494"
      ],
      "text/html": [
       "<div>\n",
       "<style scoped>\n",
       "    .dataframe tbody tr th:only-of-type {\n",
       "        vertical-align: middle;\n",
       "    }\n",
       "\n",
       "    .dataframe tbody tr th {\n",
       "        vertical-align: top;\n",
       "    }\n",
       "\n",
       "    .dataframe thead th {\n",
       "        text-align: right;\n",
       "    }\n",
       "</style>\n",
       "<table border=\"1\" class=\"dataframe\">\n",
       "  <thead>\n",
       "    <tr style=\"text-align: right;\">\n",
       "      <th></th>\n",
       "      <th>Classifier</th>\n",
       "      <th>AUC</th>\n",
       "      <th>TPR</th>\n",
       "      <th>TNR</th>\n",
       "      <th>FP - Rate</th>\n",
       "      <th>G - Mean</th>\n",
       "      <th>F1 - Score</th>\n",
       "      <th>Akurasi</th>\n",
       "    </tr>\n",
       "  </thead>\n",
       "  <tbody>\n",
       "    <tr>\n",
       "      <th>0</th>\n",
       "      <td>CatBoost</td>\n",
       "      <td>0.7639</td>\n",
       "      <td>0.819</td>\n",
       "      <td>0.5257</td>\n",
       "      <td>0.4743</td>\n",
       "      <td>0.6562</td>\n",
       "      <td>0.2269</td>\n",
       "      <td>0.5494</td>\n",
       "    </tr>\n",
       "  </tbody>\n",
       "</table>\n",
       "</div>"
      ]
     },
     "execution_count": 105,
     "metadata": {},
     "output_type": "execute_result"
    }
   ],
   "execution_count": 105
  },
  {
   "metadata": {
    "ExecuteTime": {
     "end_time": "2025-07-14T05:38:12.118819Z",
     "start_time": "2025-07-14T05:38:12.114129Z"
    }
   },
   "cell_type": "code",
   "source": [
    "from bayes_opt import BayesianOptimization\n",
    "from sklearn.model_selection import cross_val_score\n",
    "from sklearn.model_selection import StratifiedKFold"
   ],
   "id": "ebf6ff5c0b9793ee",
   "outputs": [],
   "execution_count": 100
  },
  {
   "metadata": {
    "ExecuteTime": {
     "end_time": "2025-07-14T05:37:28.730003Z",
     "start_time": "2025-07-14T05:37:28.721453Z"
    }
   },
   "cell_type": "code",
   "source": [
    "# Fungsi objektif untuk optimasi\n",
    "def catboost_cv(iterations, learning_rate, depth, scale_pos_weight):\n",
    "    model = CatBoostClassifier(\n",
    "        iterations=int(iterations),\n",
    "        learning_rate=learning_rate,\n",
    "        depth=int(depth),\n",
    "        scale_pos_weight=scale_pos_weight,\n",
    "        eval_metric='AUC',\n",
    "        verbose=0,\n",
    "        random_state=42\n",
    "    )\n",
    "\n",
    "    skf = StratifiedKFold(n_splits=3, shuffle=True, random_state=42)\n",
    "    auc_scores = []\n",
    "\n",
    "    for train_idx, valid_idx in skf.split(X_train, y_train):\n",
    "        X_tr, X_val = X_train.iloc[train_idx], X_train.iloc[valid_idx]\n",
    "        y_tr, y_val = y_train.iloc[train_idx], y_train.iloc[valid_idx]\n",
    "\n",
    "        model.fit(X_tr, y_tr, cat_features=cat_columns)\n",
    "        y_proba = model.predict_proba(X_val)[:, 1]\n",
    "        auc = roc_auc_score(y_val, y_proba)\n",
    "        auc_scores.append(auc)\n",
    "\n",
    "    return np.mean(auc_scores)\n"
   ],
   "id": "9083e453c6679f2",
   "outputs": [],
   "execution_count": 88
  },
  {
   "metadata": {
    "ExecuteTime": {
     "end_time": "2025-07-14T04:59:35.698111Z",
     "start_time": "2025-07-14T04:59:35.693847Z"
    }
   },
   "cell_type": "code",
   "source": [
    "# Optimasi\n",
    "pbounds = {\n",
    "    'iterations': (50, 300),\n",
    "    'learning_rate': (0.01, 0.3),\n",
    "    'depth': (3, 10),\n",
    "    'scale_pos_weight': (1, 20)\n",
    "}"
   ],
   "id": "ce5c6811f16ddcf7",
   "outputs": [],
   "execution_count": 69
  },
  {
   "metadata": {
    "ExecuteTime": {
     "end_time": "2025-07-14T04:59:35.802974Z",
     "start_time": "2025-07-14T04:59:35.798983Z"
    }
   },
   "cell_type": "code",
   "source": [
    "optimizer = BayesianOptimization(\n",
    "    f=catboost_cv,\n",
    "    pbounds=pbounds,\n",
    "    random_state=42,\n",
    "    verbose=2\n",
    ")"
   ],
   "id": "286f116a832d2d2c",
   "outputs": [],
   "execution_count": 70
  },
  {
   "metadata": {
    "ExecuteTime": {
     "end_time": "2025-07-14T05:32:32.360055Z",
     "start_time": "2025-07-14T04:59:35.864427Z"
    }
   },
   "cell_type": "code",
   "source": "optimizer.maximize(init_points=5, n_iter=20)",
   "id": "5e97d5631cebe7ce",
   "outputs": [
    {
     "name": "stdout",
     "output_type": "stream",
     "text": [
      "|   iter    |  target   |   depth   | iterat... | learni... | scale_... |\n",
      "-------------------------------------------------------------------------\n",
      "| \u001B[39m1        \u001B[39m | \u001B[39m0.7474   \u001B[39m | \u001B[39m5.622    \u001B[39m | \u001B[39m287.7    \u001B[39m | \u001B[39m0.2223   \u001B[39m | \u001B[39m12.37    \u001B[39m |\n",
      "| \u001B[39m2        \u001B[39m | \u001B[39m0.678    \u001B[39m | \u001B[39m4.092    \u001B[39m | \u001B[39m89.0     \u001B[39m | \u001B[39m0.02684  \u001B[39m | \u001B[39m17.46    \u001B[39m |\n",
      "| \u001B[39m3        \u001B[39m | \u001B[39m0.6972   \u001B[39m | \u001B[39m7.208    \u001B[39m | \u001B[39m227.0    \u001B[39m | \u001B[39m0.01597  \u001B[39m | \u001B[39m19.43    \u001B[39m |\n",
      "| \u001B[39m4        \u001B[39m | \u001B[39m0.7274   \u001B[39m | \u001B[39m8.827    \u001B[39m | \u001B[39m103.1    \u001B[39m | \u001B[39m0.06273  \u001B[39m | \u001B[39m4.485    \u001B[39m |\n",
      "| \u001B[39m5        \u001B[39m | \u001B[39m0.7463   \u001B[39m | \u001B[39m5.13     \u001B[39m | \u001B[39m181.2    \u001B[39m | \u001B[39m0.1353   \u001B[39m | \u001B[39m6.533    \u001B[39m |\n",
      "| \u001B[39m6        \u001B[39m | \u001B[39m0.7334   \u001B[39m | \u001B[39m6.719    \u001B[39m | \u001B[39m288.2    \u001B[39m | \u001B[39m0.05486  \u001B[39m | \u001B[39m11.89    \u001B[39m |\n",
      "| \u001B[39m7        \u001B[39m | \u001B[39m0.7366   \u001B[39m | \u001B[39m3.021    \u001B[39m | \u001B[39m286.7    \u001B[39m | \u001B[39m0.2172   \u001B[39m | \u001B[39m14.44    \u001B[39m |\n",
      "| \u001B[39m8        \u001B[39m | \u001B[39m0.7267   \u001B[39m | \u001B[39m3.597    \u001B[39m | \u001B[39m285.8    \u001B[39m | \u001B[39m0.07339  \u001B[39m | \u001B[39m10.37    \u001B[39m |\n",
      "| \u001B[39m9        \u001B[39m | \u001B[39m0.747    \u001B[39m | \u001B[39m6.66     \u001B[39m | \u001B[39m285.7    \u001B[39m | \u001B[39m0.2609   \u001B[39m | \u001B[39m15.25    \u001B[39m |\n",
      "| \u001B[39m10       \u001B[39m | \u001B[39m0.7416   \u001B[39m | \u001B[39m5.587    \u001B[39m | \u001B[39m289.9    \u001B[39m | \u001B[39m0.275    \u001B[39m | \u001B[39m15.68    \u001B[39m |\n",
      "| \u001B[39m11       \u001B[39m | \u001B[39m0.7453   \u001B[39m | \u001B[39m8.754    \u001B[39m | \u001B[39m180.4    \u001B[39m | \u001B[39m0.1871   \u001B[39m | \u001B[39m9.207    \u001B[39m |\n",
      "| \u001B[35m12       \u001B[39m | \u001B[35m0.7548   \u001B[39m | \u001B[35m8.581    \u001B[39m | \u001B[35m178.4    \u001B[39m | \u001B[35m0.1173   \u001B[39m | \u001B[35m4.476    \u001B[39m |\n",
      "| \u001B[35m13       \u001B[39m | \u001B[35m0.755    \u001B[39m | \u001B[35m9.506    \u001B[39m | \u001B[35m183.1    \u001B[39m | \u001B[35m0.164    \u001B[39m | \u001B[35m4.091    \u001B[39m |\n",
      "| \u001B[39m14       \u001B[39m | \u001B[39m0.7511   \u001B[39m | \u001B[39m9.985    \u001B[39m | \u001B[39m179.8    \u001B[39m | \u001B[39m0.1557   \u001B[39m | \u001B[39m1.429    \u001B[39m |\n",
      "| \u001B[35m15       \u001B[39m | \u001B[35m0.7565   \u001B[39m | \u001B[35m5.387    \u001B[39m | \u001B[35m181.1    \u001B[39m | \u001B[35m0.2903   \u001B[39m | \u001B[35m1.496    \u001B[39m |\n",
      "| \u001B[39m16       \u001B[39m | \u001B[39m0.7325   \u001B[39m | \u001B[39m6.086    \u001B[39m | \u001B[39m187.0    \u001B[39m | \u001B[39m0.04037  \u001B[39m | \u001B[39m2.106    \u001B[39m |\n",
      "| \u001B[39m17       \u001B[39m | \u001B[39m0.756    \u001B[39m | \u001B[39m4.919    \u001B[39m | \u001B[39m176.1    \u001B[39m | \u001B[39m0.2375   \u001B[39m | \u001B[39m1.887    \u001B[39m |\n",
      "| \u001B[39m18       \u001B[39m | \u001B[39m0.746    \u001B[39m | \u001B[39m5.024    \u001B[39m | \u001B[39m173.2    \u001B[39m | \u001B[39m0.1439   \u001B[39m | \u001B[39m6.715    \u001B[39m |\n",
      "| \u001B[39m19       \u001B[39m | \u001B[39m0.7564   \u001B[39m | \u001B[39m8.826    \u001B[39m | \u001B[39m172.4    \u001B[39m | \u001B[39m0.1849   \u001B[39m | \u001B[39m2.241    \u001B[39m |\n",
      "| \u001B[39m20       \u001B[39m | \u001B[39m0.7481   \u001B[39m | \u001B[39m5.364    \u001B[39m | \u001B[39m168.9    \u001B[39m | \u001B[39m0.07694  \u001B[39m | \u001B[39m1.017    \u001B[39m |\n",
      "| \u001B[39m21       \u001B[39m | \u001B[39m0.7325   \u001B[39m | \u001B[39m9.877    \u001B[39m | \u001B[39m166.4    \u001B[39m | \u001B[39m0.05045  \u001B[39m | \u001B[39m5.309    \u001B[39m |\n",
      "| \u001B[39m22       \u001B[39m | \u001B[39m0.7456   \u001B[39m | \u001B[39m9.374    \u001B[39m | \u001B[39m188.3    \u001B[39m | \u001B[39m0.2127   \u001B[39m | \u001B[39m11.45    \u001B[39m |\n",
      "| \u001B[39m23       \u001B[39m | \u001B[39m0.7351   \u001B[39m | \u001B[39m8.412    \u001B[39m | \u001B[39m184.1    \u001B[39m | \u001B[39m0.1807   \u001B[39m | \u001B[39m17.4     \u001B[39m |\n",
      "| \u001B[39m24       \u001B[39m | \u001B[39m0.7498   \u001B[39m | \u001B[39m9.4      \u001B[39m | \u001B[39m174.4    \u001B[39m | \u001B[39m0.09663  \u001B[39m | \u001B[39m6.617    \u001B[39m |\n",
      "| \u001B[39m25       \u001B[39m | \u001B[39m0.7433   \u001B[39m | \u001B[39m8.953    \u001B[39m | \u001B[39m195.8    \u001B[39m | \u001B[39m0.2428   \u001B[39m | \u001B[39m12.92    \u001B[39m |\n",
      "=========================================================================\n"
     ]
    }
   ],
   "execution_count": 71
  },
  {
   "metadata": {
    "ExecuteTime": {
     "end_time": "2025-07-14T05:32:32.682711Z",
     "start_time": "2025-07-14T05:32:32.670384Z"
    }
   },
   "cell_type": "code",
   "source": [
    "# Parameter terbaik\n",
    "best_params = optimizer.max['params']"
   ],
   "id": "8284b9286a9dcedd",
   "outputs": [],
   "execution_count": 72
  },
  {
   "metadata": {
    "ExecuteTime": {
     "end_time": "2025-07-14T05:36:10.601309Z",
     "start_time": "2025-07-14T05:36:10.590381Z"
    }
   },
   "cell_type": "code",
   "source": "best_params",
   "id": "6baf2f247a7d121d",
   "outputs": [
    {
     "data": {
      "text/plain": [
       "{'depth': np.float64(5.386618513482091),\n",
       " 'iterations': np.float64(181.07861122588622),\n",
       " 'learning_rate': np.float64(0.29032719466815887),\n",
       " 'scale_pos_weight': np.float64(1.4959739395617855)}"
      ]
     },
     "execution_count": 81,
     "metadata": {},
     "output_type": "execute_result"
    }
   ],
   "execution_count": 81
  },
  {
   "metadata": {
    "ExecuteTime": {
     "end_time": "2025-07-14T05:32:32.771915Z",
     "start_time": "2025-07-14T05:32:32.763858Z"
    }
   },
   "cell_type": "code",
   "source": [
    "# Model dengan parameter terbaik\n",
    "cat_model_opt = CatBoostClassifier(\n",
    "    iterations=int(best_params['iterations']),\n",
    "    learning_rate=best_params['learning_rate'],\n",
    "    depth=int(best_params['depth']),\n",
    "    scale_pos_weight=best_params['scale_pos_weight'],\n",
    "    eval_metric='AUC',\n",
    "    verbose=0,\n",
    "    random_state=42\n",
    ")"
   ],
   "id": "97088d4b1854b741",
   "outputs": [],
   "execution_count": 73
  },
  {
   "metadata": {
    "ExecuteTime": {
     "end_time": "2025-07-14T05:32:59.491958Z",
     "start_time": "2025-07-14T05:32:32.906792Z"
    }
   },
   "cell_type": "code",
   "source": [
    "# Training\n",
    "cat_model_opt.fit(X_train, y_train, cat_features=cat_columns)"
   ],
   "id": "62013f2884ecd010",
   "outputs": [
    {
     "data": {
      "text/plain": [
       "<catboost.core.CatBoostClassifier at 0x27a800d2450>"
      ]
     },
     "execution_count": 74,
     "metadata": {},
     "output_type": "execute_result"
    }
   ],
   "execution_count": 74
  },
  {
   "metadata": {
    "ExecuteTime": {
     "end_time": "2025-07-14T05:33:00.917997Z",
     "start_time": "2025-07-14T05:32:59.500810Z"
    }
   },
   "cell_type": "code",
   "source": [
    "# Prediksi\n",
    "y_pred_cat = cat_model_opt.predict(X_test)\n",
    "y_proba_cat = cat_model_opt.predict_proba(X_test)[:, 1]"
   ],
   "id": "8a3bdd6b239fe93f",
   "outputs": [],
   "execution_count": 75
  },
  {
   "metadata": {
    "ExecuteTime": {
     "end_time": "2025-07-14T05:33:01.017993Z",
     "start_time": "2025-07-14T05:33:01.006104Z"
    }
   },
   "cell_type": "code",
   "source": [
    "from sklearn.metrics import (\n",
    "    classification_report, confusion_matrix,\n",
    "    f1_score, accuracy_score\n",
    ")\n",
    "import matplotlib.pyplot as plt\n",
    "import seaborn as sns\n",
    "import pandas as pd"
   ],
   "id": "953ba3a4bb47420b",
   "outputs": [],
   "execution_count": 76
  },
  {
   "metadata": {
    "ExecuteTime": {
     "end_time": "2025-07-14T05:33:01.147815Z",
     "start_time": "2025-07-14T05:33:01.087449Z"
    }
   },
   "cell_type": "code",
   "source": [
    "# Classification Report\n",
    "print(\"📘 Classification Report — CatBoost (Bayesian Optimized)\")\n",
    "print(classification_report(y_test, y_pred_cat))"
   ],
   "id": "c91dc23f1aa6e49d",
   "outputs": [
    {
     "name": "stdout",
     "output_type": "stream",
     "text": [
      "📘 Classification Report — CatBoost (Bayesian Optimized)\n",
      "              precision    recall  f1-score   support\n",
      "\n",
      "           0       0.97      0.53      0.68     84806\n",
      "           1       0.13      0.82      0.23      7448\n",
      "\n",
      "    accuracy                           0.55     92254\n",
      "   macro avg       0.55      0.67      0.45     92254\n",
      "weighted avg       0.90      0.55      0.65     92254\n",
      "\n"
     ]
    }
   ],
   "execution_count": 77
  },
  {
   "metadata": {
    "ExecuteTime": {
     "end_time": "2025-07-14T05:33:01.549461Z",
     "start_time": "2025-07-14T05:33:01.232899Z"
    }
   },
   "cell_type": "code",
   "source": [
    "# Confusion Matrix\n",
    "cm_cat = confusion_matrix(y_test, y_pred_cat)\n",
    "plt.figure(figsize=(4, 3))\n",
    "sns.heatmap(cm_cat, annot=True, fmt='d', cmap='Oranges')\n",
    "plt.title(\"Confusion Matrix — CatBoost (Bayesian Optimized)\")\n",
    "plt.xlabel(\"Predicted\")\n",
    "plt.ylabel(\"Actual\")\n",
    "plt.tight_layout()\n",
    "plt.show()\n"
   ],
   "id": "7f1781fa23748c8e",
   "outputs": [
    {
     "data": {
      "text/plain": [
       "<Figure size 400x300 with 2 Axes>"
      ],
      "image/png": "[encoded data removed]"
     },
     "metadata": {},
     "output_type": "display_data"
    }
   ],
   "execution_count": 78
  },
  {
   "metadata": {
    "ExecuteTime": {
     "end_time": "2025-07-14T05:33:01.698826Z",
     "start_time": "2025-07-14T05:33:01.638217Z"
    }
   },
   "cell_type": "code",
   "source": [
    "# Hitung metrik performa\n",
    "tn, fp, fn, tp = cm_cat.ravel()\n",
    "auc = roc_auc_score(y_test, y_proba_cat)\n",
    "tpr = tp / (tp + fn)\n",
    "tnr = tn / (tn + fp)\n",
    "fpr = fp / (fp + tn)\n",
    "gmean = np.sqrt(tpr * tnr)\n",
    "f1 = f1_score(y_test, y_pred_cat)\n",
    "accuracy = accuracy_score(y_test, y_pred_cat)\n"
   ],
   "id": "3a3c440efd416bca",
   "outputs": [],
   "execution_count": 79
  },
  {
   "metadata": {
    "ExecuteTime": {
     "end_time": "2025-07-14T05:33:01.786270Z",
     "start_time": "2025-07-14T05:33:01.763879Z"
    }
   },
   "cell_type": "code",
   "source": [
    "# Simpan ke DataFrame\n",
    "cat_metrics_df = pd.DataFrame([{\n",
    "    'Classifier': 'CatBoost (Bayesian)',\n",
    "    'AUC': round(auc, 4),\n",
    "    'TPR': round(tpr, 4),\n",
    "    'TNR': round(tnr, 4),\n",
    "    'FP - Rate': round(fpr, 4),\n",
    "    'G - Mean': round(gmean, 4),\n",
    "    'F1 - Score': round(f1, 4),\n",
    "    'Akurasi': round(accuracy, 4)\n",
    "}])\n",
    "\n",
    "# Tampilkan hasil performa\n",
    "cat_metrics_df"
   ],
   "id": "7642954ad6542959",
   "outputs": [
    {
     "data": {
      "text/plain": [
       "            Classifier     AUC    TPR     TNR  FP - Rate  G - Mean  \\\n",
       "0  CatBoost (Bayesian)  0.7639  0.819  0.5257     0.4743    0.6562   \n",
       "\n",
       "   F1 - Score  Akurasi  \n",
       "0      0.2269   0.5494  "
      ],
      "text/html": [
       "<div>\n",
       "<style scoped>\n",
       "    .dataframe tbody tr th:only-of-type {\n",
       "        vertical-align: middle;\n",
       "    }\n",
       "\n",
       "    .dataframe tbody tr th {\n",
       "        vertical-align: top;\n",
       "    }\n",
       "\n",
       "    .dataframe thead th {\n",
       "        text-align: right;\n",
       "    }\n",
       "</style>\n",
       "<table border=\"1\" class=\"dataframe\">\n",
       "  <thead>\n",
       "    <tr style=\"text-align: right;\">\n",
       "      <th></th>\n",
       "      <th>Classifier</th>\n",
       "      <th>AUC</th>\n",
       "      <th>TPR</th>\n",
       "      <th>TNR</th>\n",
       "      <th>FP - Rate</th>\n",
       "      <th>G - Mean</th>\n",
       "      <th>F1 - Score</th>\n",
       "      <th>Akurasi</th>\n",
       "    </tr>\n",
       "  </thead>\n",
       "  <tbody>\n",
       "    <tr>\n",
       "      <th>0</th>\n",
       "      <td>CatBoost (Bayesian)</td>\n",
       "      <td>0.7639</td>\n",
       "      <td>0.819</td>\n",
       "      <td>0.5257</td>\n",
       "      <td>0.4743</td>\n",
       "      <td>0.6562</td>\n",
       "      <td>0.2269</td>\n",
       "      <td>0.5494</td>\n",
       "    </tr>\n",
       "  </tbody>\n",
       "</table>\n",
       "</div>"
      ]
     },
     "execution_count": 80,
     "metadata": {},
     "output_type": "execute_result"
    }
   ],
   "execution_count": 80
  }
 ],
 "metadata": {
  "kernelspec": {
   "display_name": "Python 3",
   "language": "python",
   "name": "python3"
  },
  "language_info": {
   "codemirror_mode": {
    "name": "ipython",
    "version": 2
   },
   "file_extension": ".py",
   "mimetype": "text/x-python",
   "name": "python",
   "nbconvert_exporter": "python",
   "pygments_lexer": "ipython2",
   "version": "2.7.6"
  }
 },
 "nbformat": 4,
 "nbformat_minor": 5
}
