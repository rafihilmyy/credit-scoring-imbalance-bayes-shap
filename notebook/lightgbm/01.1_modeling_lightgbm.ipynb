{
 "cells": [
  {
   "metadata": {
    "ExecuteTime": {
     "end_time": "2025-07-08T03:52:01.654933Z",
     "start_time": "2025-07-08T03:52:01.647335Z"
    }
   },
   "cell_type": "code",
   "source": [
    "import numpy as np\n",
    "import pandas as pd\n",
    "\n",
    "# Load data visualization package\n",
    "import matplotlib.pyplot as plt\n",
    "import seaborn as sns\n",
    "from rich.jupyter import display"
   ],
   "id": "c8c41757cf835862",
   "outputs": [],
   "execution_count": 25
  },
  {
   "metadata": {},
   "cell_type": "markdown",
   "source": [
    "# **1. Data Preparation**\n",
    "---\n",
    "## **1.1 Load Data**\n",
    "---"
   ],
   "id": "d676f00f95c085b0"
  },
  {
   "metadata": {
    "ExecuteTime": {
     "end_time": "2025-07-08T03:52:06.607219Z",
     "start_time": "2025-07-08T03:52:01.818500Z"
    }
   },
   "cell_type": "code",
   "source": [
    "# Import dataset from csv file\n",
    "data = pd.read_csv('D:/Code Skripsi - RL and Ensemble/data/processed/no outliers.csv')\n",
    "\n",
    "# Table check\n",
    "data.head().T"
   ],
   "id": "1f7279b5b4b7620c",
   "outputs": [
    {
     "data": {
      "text/plain": [
       "                                                        0                  1  \\\n",
       "SK_ID_CURR                                         100002             100003   \n",
       "TARGET                                                  1                  0   \n",
       "NAME_CONTRACT_TYPE                             Cash loans         Cash loans   \n",
       "FLAG_OWN_CAR                                            N                  N   \n",
       "FLAG_OWN_REALTY                                         Y                  N   \n",
       "CNT_CHILDREN                                            0                  0   \n",
       "AMT_INCOME_TOTAL                               41947875.0         55930500.0   \n",
       "AMT_CREDIT                                    84226672.13        267949042.9   \n",
       "AMT_ANNUITY                                   5116708.575        7394944.275   \n",
       "AMT_GOODS_PRICE                                72709650.0        233975925.0   \n",
       "NAME_TYPE_SUITE                             Unaccompanied             Family   \n",
       "NAME_INCOME_TYPE                                  Working      State servant   \n",
       "NAME_EDUCATION_TYPE         Secondary / secondary special   Higher education   \n",
       "NAME_FAMILY_STATUS                   Single / not married            Married   \n",
       "NAME_HOUSING_TYPE                       House / apartment  House / apartment   \n",
       "DAYS_EMPLOYED                                    6.458338           7.080868   \n",
       "FLAG_MOBIL                                              1                  1   \n",
       "FLAG_EMP_PHONE                                          1                  1   \n",
       "FLAG_WORK_PHONE                                         0                  0   \n",
       "FLAG_CONT_MOBILE                                        1                  1   \n",
       "FLAG_PHONE                                              1                  1   \n",
       "FLAG_EMAIL                                              0                  0   \n",
       "OCCUPATION_TYPE                                  Laborers         Core staff   \n",
       "CNT_FAM_MEMBERS                                         1                  2   \n",
       "WEEKDAY_APPR_PROCESS_START                      WEDNESDAY             MONDAY   \n",
       "ORGANIZATION_TYPE                         Business Entity             School   \n",
       "NUM_BUREAU_LOANS                                      8.0                4.0   \n",
       "SUM_CREDIT                                    179196260.3        210754513.6   \n",
       "AVG_CREDIT                                    22399532.54        52688628.39   \n",
       "ACTIVE_LOANS                                          2.0                1.0   \n",
       "OVERDUE_MONTHS                                       65.0                0.0   \n",
       "NUM_PREV_LOANS                                        1.0                3.0   \n",
       "SUM_PREV_CREDIT                               37091243.25        300900497.0   \n",
       "AVG_PREV_CREDIT                               37091243.25        100300165.7   \n",
       "AMT_PAYMENT                                   2394498.038        16273388.98   \n",
       "CREDIT_INCOME_RATIO                              2.007889            4.79075   \n",
       "ANNUITY_INCOME_RATIO                             0.121978           0.132217   \n",
       "CREDIT_ANNUITY_RATIO                            16.461104          36.234085   \n",
       "CREDIT_GOODS_RATIO                               1.158397           1.145199   \n",
       "ANNUITY_GOODS_RATIO                              0.070372           0.031606   \n",
       "PAYMENT_CREDIT_RATIO                             0.028429           0.060733   \n",
       "YEARS_BIRTH                                     25.920548          45.931507   \n",
       "EMPLOYMENT_TO_AGE_RATIO                         -0.000683          -0.000422   \n",
       "CREDIT_TO_EMPLOYMENT_RATIO                     85743830.1        273249993.9   \n",
       "CREDIT_TO_AGE_RATIO                           3249417.115        5833665.414   \n",
       "INCOME_PER_FAMILY_MEMBER                       20973937.5         18643500.0   \n",
       "CHILD_DEPENDENT_RATIO                                 0.0                0.0   \n",
       "HAS_CHILDREN                                            0                  0   \n",
       "LOAN_TENURE                                     16.461104          36.234085   \n",
       "\n",
       "                                                        2  \\\n",
       "SK_ID_CURR                                         100004   \n",
       "TARGET                                                  0   \n",
       "NAME_CONTRACT_TYPE                        Revolving loans   \n",
       "FLAG_OWN_CAR                                            Y   \n",
       "FLAG_OWN_REALTY                                         Y   \n",
       "CNT_CHILDREN                                            0   \n",
       "AMT_INCOME_TOTAL                               13982625.0   \n",
       "AMT_CREDIT                                     27965250.0   \n",
       "AMT_ANNUITY                                     1398262.5   \n",
       "AMT_GOODS_PRICE                                27965250.0   \n",
       "NAME_TYPE_SUITE                             Unaccompanied   \n",
       "NAME_INCOME_TYPE                                  Working   \n",
       "NAME_EDUCATION_TYPE         Secondary / secondary special   \n",
       "NAME_FAMILY_STATUS                   Single / not married   \n",
       "NAME_HOUSING_TYPE                       House / apartment   \n",
       "DAYS_EMPLOYED                                    5.420535   \n",
       "FLAG_MOBIL                                              1   \n",
       "FLAG_EMP_PHONE                                          1   \n",
       "FLAG_WORK_PHONE                                         1   \n",
       "FLAG_CONT_MOBILE                                        1   \n",
       "FLAG_PHONE                                              1   \n",
       "FLAG_EMAIL                                              0   \n",
       "OCCUPATION_TYPE                                  Laborers   \n",
       "CNT_FAM_MEMBERS                                         1   \n",
       "WEEKDAY_APPR_PROCESS_START                         MONDAY   \n",
       "ORGANIZATION_TYPE                              Government   \n",
       "NUM_BUREAU_LOANS                                      2.0   \n",
       "SUM_CREDIT                                    39159180.27   \n",
       "AVG_CREDIT                                    19579590.14   \n",
       "ACTIVE_LOANS                                          0.0   \n",
       "OVERDUE_MONTHS                                        0.0   \n",
       "NUM_PREV_LOANS                                        1.0   \n",
       "SUM_PREV_CREDIT                                4487490.45   \n",
       "AVG_PREV_CREDIT                                 4164957.9   \n",
       "AMT_PAYMENT                                   1469968.508   \n",
       "CREDIT_INCOME_RATIO                                   2.0   \n",
       "ANNUITY_INCOME_RATIO                                  0.1   \n",
       "CREDIT_ANNUITY_RATIO                                 20.0   \n",
       "CREDIT_GOODS_RATIO                                    1.0   \n",
       "ANNUITY_GOODS_RATIO                                  0.05   \n",
       "PAYMENT_CREDIT_RATIO                             0.052564   \n",
       "YEARS_BIRTH                                     52.180822   \n",
       "EMPLOYMENT_TO_AGE_RATIO                         -0.000285   \n",
       "CREDIT_TO_EMPLOYMENT_RATIO                    28386816.39   \n",
       "CREDIT_TO_AGE_RATIO                           535929.6571   \n",
       "INCOME_PER_FAMILY_MEMBER                        6991312.5   \n",
       "CHILD_DEPENDENT_RATIO                                 0.0   \n",
       "HAS_CHILDREN                                            0   \n",
       "LOAN_TENURE                                          20.0   \n",
       "\n",
       "                                                        3  \\\n",
       "SK_ID_CURR                                         100006   \n",
       "TARGET                                                  0   \n",
       "NAME_CONTRACT_TYPE                             Cash loans   \n",
       "FLAG_OWN_CAR                                            N   \n",
       "FLAG_OWN_REALTY                                         Y   \n",
       "CNT_CHILDREN                                            0   \n",
       "AMT_INCOME_TOTAL                               27965250.0   \n",
       "AMT_CREDIT                                    64772179.88   \n",
       "AMT_ANNUITY                                   6149558.475   \n",
       "AMT_GOODS_PRICE                                61523550.0   \n",
       "NAME_TYPE_SUITE                             Unaccompanied   \n",
       "NAME_INCOME_TYPE                                  Working   \n",
       "NAME_EDUCATION_TYPE         Secondary / secondary special   \n",
       "NAME_FAMILY_STATUS                         Civil marriage   \n",
       "NAME_HOUSING_TYPE                       House / apartment   \n",
       "DAYS_EMPLOYED                                    8.019613   \n",
       "FLAG_MOBIL                                              1   \n",
       "FLAG_EMP_PHONE                                          1   \n",
       "FLAG_WORK_PHONE                                         0   \n",
       "FLAG_CONT_MOBILE                                        1   \n",
       "FLAG_PHONE                                              0   \n",
       "FLAG_EMAIL                                              0   \n",
       "OCCUPATION_TYPE                                  Laborers   \n",
       "CNT_FAM_MEMBERS                                         2   \n",
       "WEEKDAY_APPR_PROCESS_START                      WEDNESDAY   \n",
       "ORGANIZATION_TYPE                         Business Entity   \n",
       "NUM_BUREAU_LOANS                                 1.096474   \n",
       "SUM_CREDIT                                     31885567.5   \n",
       "AVG_CREDIT                                    28409513.84   \n",
       "ACTIVE_LOANS                                     0.713354   \n",
       "OVERDUE_MONTHS                                    0.28985   \n",
       "NUM_PREV_LOANS                                        9.0   \n",
       "SUM_PREV_CREDIT                               543822505.4   \n",
       "AVG_PREV_CREDIT                               60424722.83   \n",
       "AMT_PAYMENT                                   36806044.39   \n",
       "CREDIT_INCOME_RATIO                              2.316167   \n",
       "ANNUITY_INCOME_RATIO                               0.2199   \n",
       "CREDIT_ANNUITY_RATIO                            10.532818   \n",
       "CREDIT_GOODS_RATIO                               1.052803   \n",
       "ANNUITY_GOODS_RATIO                              0.099955   \n",
       "PAYMENT_CREDIT_RATIO                             0.381692   \n",
       "YEARS_BIRTH                                     52.068493   \n",
       "EMPLOYMENT_TO_AGE_RATIO                         -0.000422   \n",
       "CREDIT_TO_EMPLOYMENT_RATIO                    66227295.68   \n",
       "CREDIT_TO_AGE_RATIO                           1243980.303   \n",
       "INCOME_PER_FAMILY_MEMBER                        9321750.0   \n",
       "CHILD_DEPENDENT_RATIO                                 0.0   \n",
       "HAS_CHILDREN                                            0   \n",
       "LOAN_TENURE                                     10.532818   \n",
       "\n",
       "                                                        4  \n",
       "SK_ID_CURR                                         100007  \n",
       "TARGET                                                  0  \n",
       "NAME_CONTRACT_TYPE                             Cash loans  \n",
       "FLAG_OWN_CAR                                            N  \n",
       "FLAG_OWN_REALTY                                         Y  \n",
       "CNT_CHILDREN                                            0  \n",
       "AMT_INCOME_TOTAL                               25168725.0  \n",
       "AMT_CREDIT                                    106267950.0  \n",
       "AMT_ANNUITY                                   4529438.325  \n",
       "AMT_GOODS_PRICE                               106267950.0  \n",
       "NAME_TYPE_SUITE                             Unaccompanied  \n",
       "NAME_INCOME_TYPE                                  Working  \n",
       "NAME_EDUCATION_TYPE         Secondary / secondary special  \n",
       "NAME_FAMILY_STATUS                   Single / not married  \n",
       "NAME_HOUSING_TYPE                       House / apartment  \n",
       "DAYS_EMPLOYED                                    8.019284  \n",
       "FLAG_MOBIL                                              1  \n",
       "FLAG_EMP_PHONE                                          1  \n",
       "FLAG_WORK_PHONE                                         0  \n",
       "FLAG_CONT_MOBILE                                        1  \n",
       "FLAG_PHONE                                              0  \n",
       "FLAG_EMAIL                                              0  \n",
       "OCCUPATION_TYPE                                Core staff  \n",
       "CNT_FAM_MEMBERS                                         1  \n",
       "WEEKDAY_APPR_PROCESS_START                       THURSDAY  \n",
       "ORGANIZATION_TYPE                                Religion  \n",
       "NUM_BUREAU_LOANS                                      1.0  \n",
       "SUM_CREDIT                                     30295687.5  \n",
       "AVG_CREDIT                                     30295687.5  \n",
       "ACTIVE_LOANS                                          0.0  \n",
       "OVERDUE_MONTHS                                        0.0  \n",
       "NUM_PREV_LOANS                                        6.0  \n",
       "SUM_PREV_CREDIT                               207115302.4  \n",
       "AVG_PREV_CREDIT                               34519217.06  \n",
       "AMT_PAYMENT                                   2417759.555  \n",
       "CREDIT_INCOME_RATIO                              4.222222  \n",
       "ANNUITY_INCOME_RATIO                             0.179963  \n",
       "CREDIT_ANNUITY_RATIO                            23.461618  \n",
       "CREDIT_GOODS_RATIO                                    1.0  \n",
       "ANNUITY_GOODS_RATIO                              0.042623  \n",
       "PAYMENT_CREDIT_RATIO                             0.022752  \n",
       "YEARS_BIRTH                                     54.608219  \n",
       "EMPLOYMENT_TO_AGE_RATIO                         -0.000402  \n",
       "CREDIT_TO_EMPLOYMENT_RATIO                    108655173.8  \n",
       "CREDIT_TO_AGE_RATIO                            1946006.51  \n",
       "INCOME_PER_FAMILY_MEMBER                       12584362.5  \n",
       "CHILD_DEPENDENT_RATIO                                 0.0  \n",
       "HAS_CHILDREN                                            0  \n",
       "LOAN_TENURE                                     23.461618  "
      ],
      "text/html": [
       "<div>\n",
       "<style scoped>\n",
       "    .dataframe tbody tr th:only-of-type {\n",
       "        vertical-align: middle;\n",
       "    }\n",
       "\n",
       "    .dataframe tbody tr th {\n",
       "        vertical-align: top;\n",
       "    }\n",
       "\n",
       "    .dataframe thead th {\n",
       "        text-align: right;\n",
       "    }\n",
       "</style>\n",
       "<table border=\"1\" class=\"dataframe\">\n",
       "  <thead>\n",
       "    <tr style=\"text-align: right;\">\n",
       "      <th></th>\n",
       "      <th>0</th>\n",
       "      <th>1</th>\n",
       "      <th>2</th>\n",
       "      <th>3</th>\n",
       "      <th>4</th>\n",
       "    </tr>\n",
       "  </thead>\n",
       "  <tbody>\n",
       "    <tr>\n",
       "      <th>SK_ID_CURR</th>\n",
       "      <td>100002</td>\n",
       "      <td>100003</td>\n",
       "      <td>100004</td>\n",
       "      <td>100006</td>\n",
       "      <td>100007</td>\n",
       "    </tr>\n",
       "    <tr>\n",
       "      <th>TARGET</th>\n",
       "      <td>1</td>\n",
       "      <td>0</td>\n",
       "      <td>0</td>\n",
       "      <td>0</td>\n",
       "      <td>0</td>\n",
       "    </tr>\n",
       "    <tr>\n",
       "      <th>NAME_CONTRACT_TYPE</th>\n",
       "      <td>Cash loans</td>\n",
       "      <td>Cash loans</td>\n",
       "      <td>Revolving loans</td>\n",
       "      <td>Cash loans</td>\n",
       "      <td>Cash loans</td>\n",
       "    </tr>\n",
       "    <tr>\n",
       "      <th>FLAG_OWN_CAR</th>\n",
       "      <td>N</td>\n",
       "      <td>N</td>\n",
       "      <td>Y</td>\n",
       "      <td>N</td>\n",
       "      <td>N</td>\n",
       "    </tr>\n",
       "    <tr>\n",
       "      <th>FLAG_OWN_REALTY</th>\n",
       "      <td>Y</td>\n",
       "      <td>N</td>\n",
       "      <td>Y</td>\n",
       "      <td>Y</td>\n",
       "      <td>Y</td>\n",
       "    </tr>\n",
       "    <tr>\n",
       "      <th>CNT_CHILDREN</th>\n",
       "      <td>0</td>\n",
       "      <td>0</td>\n",
       "      <td>0</td>\n",
       "      <td>0</td>\n",
       "      <td>0</td>\n",
       "    </tr>\n",
       "    <tr>\n",
       "      <th>AMT_INCOME_TOTAL</th>\n",
       "      <td>41947875.0</td>\n",
       "      <td>55930500.0</td>\n",
       "      <td>13982625.0</td>\n",
       "      <td>27965250.0</td>\n",
       "      <td>25168725.0</td>\n",
       "    </tr>\n",
       "    <tr>\n",
       "      <th>AMT_CREDIT</th>\n",
       "      <td>84226672.13</td>\n",
       "      <td>267949042.9</td>\n",
       "      <td>27965250.0</td>\n",
       "      <td>64772179.88</td>\n",
       "      <td>106267950.0</td>\n",
       "    </tr>\n",
       "    <tr>\n",
       "      <th>AMT_ANNUITY</th>\n",
       "      <td>5116708.575</td>\n",
       "      <td>7394944.275</td>\n",
       "      <td>1398262.5</td>\n",
       "      <td>6149558.475</td>\n",
       "      <td>4529438.325</td>\n",
       "    </tr>\n",
       "    <tr>\n",
       "      <th>AMT_GOODS_PRICE</th>\n",
       "      <td>72709650.0</td>\n",
       "      <td>233975925.0</td>\n",
       "      <td>27965250.0</td>\n",
       "      <td>61523550.0</td>\n",
       "      <td>106267950.0</td>\n",
       "    </tr>\n",
       "    <tr>\n",
       "      <th>NAME_TYPE_SUITE</th>\n",
       "      <td>Unaccompanied</td>\n",
       "      <td>Family</td>\n",
       "      <td>Unaccompanied</td>\n",
       "      <td>Unaccompanied</td>\n",
       "      <td>Unaccompanied</td>\n",
       "    </tr>\n",
       "    <tr>\n",
       "      <th>NAME_INCOME_TYPE</th>\n",
       "      <td>Working</td>\n",
       "      <td>State servant</td>\n",
       "      <td>Working</td>\n",
       "      <td>Working</td>\n",
       "      <td>Working</td>\n",
       "    </tr>\n",
       "    <tr>\n",
       "      <th>NAME_EDUCATION_TYPE</th>\n",
       "      <td>Secondary / secondary special</td>\n",
       "      <td>Higher education</td>\n",
       "      <td>Secondary / secondary special</td>\n",
       "      <td>Secondary / secondary special</td>\n",
       "      <td>Secondary / secondary special</td>\n",
       "    </tr>\n",
       "    <tr>\n",
       "      <th>NAME_FAMILY_STATUS</th>\n",
       "      <td>Single / not married</td>\n",
       "      <td>Married</td>\n",
       "      <td>Single / not married</td>\n",
       "      <td>Civil marriage</td>\n",
       "      <td>Single / not married</td>\n",
       "    </tr>\n",
       "    <tr>\n",
       "      <th>NAME_HOUSING_TYPE</th>\n",
       "      <td>House / apartment</td>\n",
       "      <td>House / apartment</td>\n",
       "      <td>House / apartment</td>\n",
       "      <td>House / apartment</td>\n",
       "      <td>House / apartment</td>\n",
       "    </tr>\n",
       "    <tr>\n",
       "      <th>DAYS_EMPLOYED</th>\n",
       "      <td>6.458338</td>\n",
       "      <td>7.080868</td>\n",
       "      <td>5.420535</td>\n",
       "      <td>8.019613</td>\n",
       "      <td>8.019284</td>\n",
       "    </tr>\n",
       "    <tr>\n",
       "      <th>FLAG_MOBIL</th>\n",
       "      <td>1</td>\n",
       "      <td>1</td>\n",
       "      <td>1</td>\n",
       "      <td>1</td>\n",
       "      <td>1</td>\n",
       "    </tr>\n",
       "    <tr>\n",
       "      <th>FLAG_EMP_PHONE</th>\n",
       "      <td>1</td>\n",
       "      <td>1</td>\n",
       "      <td>1</td>\n",
       "      <td>1</td>\n",
       "      <td>1</td>\n",
       "    </tr>\n",
       "    <tr>\n",
       "      <th>FLAG_WORK_PHONE</th>\n",
       "      <td>0</td>\n",
       "      <td>0</td>\n",
       "      <td>1</td>\n",
       "      <td>0</td>\n",
       "      <td>0</td>\n",
       "    </tr>\n",
       "    <tr>\n",
       "      <th>FLAG_CONT_MOBILE</th>\n",
       "      <td>1</td>\n",
       "      <td>1</td>\n",
       "      <td>1</td>\n",
       "      <td>1</td>\n",
       "      <td>1</td>\n",
       "    </tr>\n",
       "    <tr>\n",
       "      <th>FLAG_PHONE</th>\n",
       "      <td>1</td>\n",
       "      <td>1</td>\n",
       "      <td>1</td>\n",
       "      <td>0</td>\n",
       "      <td>0</td>\n",
       "    </tr>\n",
       "    <tr>\n",
       "      <th>FLAG_EMAIL</th>\n",
       "      <td>0</td>\n",
       "      <td>0</td>\n",
       "      <td>0</td>\n",
       "      <td>0</td>\n",
       "      <td>0</td>\n",
       "    </tr>\n",
       "    <tr>\n",
       "      <th>OCCUPATION_TYPE</th>\n",
       "      <td>Laborers</td>\n",
       "      <td>Core staff</td>\n",
       "      <td>Laborers</td>\n",
       "      <td>Laborers</td>\n",
       "      <td>Core staff</td>\n",
       "    </tr>\n",
       "    <tr>\n",
       "      <th>CNT_FAM_MEMBERS</th>\n",
       "      <td>1</td>\n",
       "      <td>2</td>\n",
       "      <td>1</td>\n",
       "      <td>2</td>\n",
       "      <td>1</td>\n",
       "    </tr>\n",
       "    <tr>\n",
       "      <th>WEEKDAY_APPR_PROCESS_START</th>\n",
       "      <td>WEDNESDAY</td>\n",
       "      <td>MONDAY</td>\n",
       "      <td>MONDAY</td>\n",
       "      <td>WEDNESDAY</td>\n",
       "      <td>THURSDAY</td>\n",
       "    </tr>\n",
       "    <tr>\n",
       "      <th>ORGANIZATION_TYPE</th>\n",
       "      <td>Business Entity</td>\n",
       "      <td>School</td>\n",
       "      <td>Government</td>\n",
       "      <td>Business Entity</td>\n",
       "      <td>Religion</td>\n",
       "    </tr>\n",
       "    <tr>\n",
       "      <th>NUM_BUREAU_LOANS</th>\n",
       "      <td>8.0</td>\n",
       "      <td>4.0</td>\n",
       "      <td>2.0</td>\n",
       "      <td>1.096474</td>\n",
       "      <td>1.0</td>\n",
       "    </tr>\n",
       "    <tr>\n",
       "      <th>SUM_CREDIT</th>\n",
       "      <td>179196260.3</td>\n",
       "      <td>210754513.6</td>\n",
       "      <td>39159180.27</td>\n",
       "      <td>31885567.5</td>\n",
       "      <td>30295687.5</td>\n",
       "    </tr>\n",
       "    <tr>\n",
       "      <th>AVG_CREDIT</th>\n",
       "      <td>22399532.54</td>\n",
       "      <td>52688628.39</td>\n",
       "      <td>19579590.14</td>\n",
       "      <td>28409513.84</td>\n",
       "      <td>30295687.5</td>\n",
       "    </tr>\n",
       "    <tr>\n",
       "      <th>ACTIVE_LOANS</th>\n",
       "      <td>2.0</td>\n",
       "      <td>1.0</td>\n",
       "      <td>0.0</td>\n",
       "      <td>0.713354</td>\n",
       "      <td>0.0</td>\n",
       "    </tr>\n",
       "    <tr>\n",
       "      <th>OVERDUE_MONTHS</th>\n",
       "      <td>65.0</td>\n",
       "      <td>0.0</td>\n",
       "      <td>0.0</td>\n",
       "      <td>0.28985</td>\n",
       "      <td>0.0</td>\n",
       "    </tr>\n",
       "    <tr>\n",
       "      <th>NUM_PREV_LOANS</th>\n",
       "      <td>1.0</td>\n",
       "      <td>3.0</td>\n",
       "      <td>1.0</td>\n",
       "      <td>9.0</td>\n",
       "      <td>6.0</td>\n",
       "    </tr>\n",
       "    <tr>\n",
       "      <th>SUM_PREV_CREDIT</th>\n",
       "      <td>37091243.25</td>\n",
       "      <td>300900497.0</td>\n",
       "      <td>4487490.45</td>\n",
       "      <td>543822505.4</td>\n",
       "      <td>207115302.4</td>\n",
       "    </tr>\n",
       "    <tr>\n",
       "      <th>AVG_PREV_CREDIT</th>\n",
       "      <td>37091243.25</td>\n",
       "      <td>100300165.7</td>\n",
       "      <td>4164957.9</td>\n",
       "      <td>60424722.83</td>\n",
       "      <td>34519217.06</td>\n",
       "    </tr>\n",
       "    <tr>\n",
       "      <th>AMT_PAYMENT</th>\n",
       "      <td>2394498.038</td>\n",
       "      <td>16273388.98</td>\n",
       "      <td>1469968.508</td>\n",
       "      <td>36806044.39</td>\n",
       "      <td>2417759.555</td>\n",
       "    </tr>\n",
       "    <tr>\n",
       "      <th>CREDIT_INCOME_RATIO</th>\n",
       "      <td>2.007889</td>\n",
       "      <td>4.79075</td>\n",
       "      <td>2.0</td>\n",
       "      <td>2.316167</td>\n",
       "      <td>4.222222</td>\n",
       "    </tr>\n",
       "    <tr>\n",
       "      <th>ANNUITY_INCOME_RATIO</th>\n",
       "      <td>0.121978</td>\n",
       "      <td>0.132217</td>\n",
       "      <td>0.1</td>\n",
       "      <td>0.2199</td>\n",
       "      <td>0.179963</td>\n",
       "    </tr>\n",
       "    <tr>\n",
       "      <th>CREDIT_ANNUITY_RATIO</th>\n",
       "      <td>16.461104</td>\n",
       "      <td>36.234085</td>\n",
       "      <td>20.0</td>\n",
       "      <td>10.532818</td>\n",
       "      <td>23.461618</td>\n",
       "    </tr>\n",
       "    <tr>\n",
       "      <th>CREDIT_GOODS_RATIO</th>\n",
       "      <td>1.158397</td>\n",
       "      <td>1.145199</td>\n",
       "      <td>1.0</td>\n",
       "      <td>1.052803</td>\n",
       "      <td>1.0</td>\n",
       "    </tr>\n",
       "    <tr>\n",
       "      <th>ANNUITY_GOODS_RATIO</th>\n",
       "      <td>0.070372</td>\n",
       "      <td>0.031606</td>\n",
       "      <td>0.05</td>\n",
       "      <td>0.099955</td>\n",
       "      <td>0.042623</td>\n",
       "    </tr>\n",
       "    <tr>\n",
       "      <th>PAYMENT_CREDIT_RATIO</th>\n",
       "      <td>0.028429</td>\n",
       "      <td>0.060733</td>\n",
       "      <td>0.052564</td>\n",
       "      <td>0.381692</td>\n",
       "      <td>0.022752</td>\n",
       "    </tr>\n",
       "    <tr>\n",
       "      <th>YEARS_BIRTH</th>\n",
       "      <td>25.920548</td>\n",
       "      <td>45.931507</td>\n",
       "      <td>52.180822</td>\n",
       "      <td>52.068493</td>\n",
       "      <td>54.608219</td>\n",
       "    </tr>\n",
       "    <tr>\n",
       "      <th>EMPLOYMENT_TO_AGE_RATIO</th>\n",
       "      <td>-0.000683</td>\n",
       "      <td>-0.000422</td>\n",
       "      <td>-0.000285</td>\n",
       "      <td>-0.000422</td>\n",
       "      <td>-0.000402</td>\n",
       "    </tr>\n",
       "    <tr>\n",
       "      <th>CREDIT_TO_EMPLOYMENT_RATIO</th>\n",
       "      <td>85743830.1</td>\n",
       "      <td>273249993.9</td>\n",
       "      <td>28386816.39</td>\n",
       "      <td>66227295.68</td>\n",
       "      <td>108655173.8</td>\n",
       "    </tr>\n",
       "    <tr>\n",
       "      <th>CREDIT_TO_AGE_RATIO</th>\n",
       "      <td>3249417.115</td>\n",
       "      <td>5833665.414</td>\n",
       "      <td>535929.6571</td>\n",
       "      <td>1243980.303</td>\n",
       "      <td>1946006.51</td>\n",
       "    </tr>\n",
       "    <tr>\n",
       "      <th>INCOME_PER_FAMILY_MEMBER</th>\n",
       "      <td>20973937.5</td>\n",
       "      <td>18643500.0</td>\n",
       "      <td>6991312.5</td>\n",
       "      <td>9321750.0</td>\n",
       "      <td>12584362.5</td>\n",
       "    </tr>\n",
       "    <tr>\n",
       "      <th>CHILD_DEPENDENT_RATIO</th>\n",
       "      <td>0.0</td>\n",
       "      <td>0.0</td>\n",
       "      <td>0.0</td>\n",
       "      <td>0.0</td>\n",
       "      <td>0.0</td>\n",
       "    </tr>\n",
       "    <tr>\n",
       "      <th>HAS_CHILDREN</th>\n",
       "      <td>0</td>\n",
       "      <td>0</td>\n",
       "      <td>0</td>\n",
       "      <td>0</td>\n",
       "      <td>0</td>\n",
       "    </tr>\n",
       "    <tr>\n",
       "      <th>LOAN_TENURE</th>\n",
       "      <td>16.461104</td>\n",
       "      <td>36.234085</td>\n",
       "      <td>20.0</td>\n",
       "      <td>10.532818</td>\n",
       "      <td>23.461618</td>\n",
       "    </tr>\n",
       "  </tbody>\n",
       "</table>\n",
       "</div>"
      ]
     },
     "execution_count": 26,
     "metadata": {},
     "output_type": "execute_result"
    }
   ],
   "execution_count": 26
  },
  {
   "metadata": {
    "ExecuteTime": {
     "end_time": "2025-07-08T03:52:06.922331Z",
     "start_time": "2025-07-08T03:52:06.689135Z"
    }
   },
   "cell_type": "code",
   "source": "data.isnull().sum()",
   "id": "d2bba1f5cb22218f",
   "outputs": [
    {
     "data": {
      "text/plain": [
       "SK_ID_CURR                    0\n",
       "TARGET                        0\n",
       "NAME_CONTRACT_TYPE            0\n",
       "FLAG_OWN_CAR                  0\n",
       "FLAG_OWN_REALTY               0\n",
       "CNT_CHILDREN                  0\n",
       "AMT_INCOME_TOTAL              0\n",
       "AMT_CREDIT                    0\n",
       "AMT_ANNUITY                   0\n",
       "AMT_GOODS_PRICE               0\n",
       "NAME_TYPE_SUITE               0\n",
       "NAME_INCOME_TYPE              0\n",
       "NAME_EDUCATION_TYPE           0\n",
       "NAME_FAMILY_STATUS            0\n",
       "NAME_HOUSING_TYPE             0\n",
       "DAYS_EMPLOYED                 0\n",
       "FLAG_MOBIL                    0\n",
       "FLAG_EMP_PHONE                0\n",
       "FLAG_WORK_PHONE               0\n",
       "FLAG_CONT_MOBILE              0\n",
       "FLAG_PHONE                    0\n",
       "FLAG_EMAIL                    0\n",
       "OCCUPATION_TYPE               0\n",
       "CNT_FAM_MEMBERS               0\n",
       "WEEKDAY_APPR_PROCESS_START    0\n",
       "ORGANIZATION_TYPE             0\n",
       "NUM_BUREAU_LOANS              0\n",
       "SUM_CREDIT                    0\n",
       "AVG_CREDIT                    0\n",
       "ACTIVE_LOANS                  0\n",
       "OVERDUE_MONTHS                0\n",
       "NUM_PREV_LOANS                0\n",
       "SUM_PREV_CREDIT               0\n",
       "AVG_PREV_CREDIT               0\n",
       "AMT_PAYMENT                   0\n",
       "CREDIT_INCOME_RATIO           0\n",
       "ANNUITY_INCOME_RATIO          0\n",
       "CREDIT_ANNUITY_RATIO          0\n",
       "CREDIT_GOODS_RATIO            0\n",
       "ANNUITY_GOODS_RATIO           0\n",
       "PAYMENT_CREDIT_RATIO          0\n",
       "YEARS_BIRTH                   0\n",
       "EMPLOYMENT_TO_AGE_RATIO       0\n",
       "CREDIT_TO_EMPLOYMENT_RATIO    0\n",
       "CREDIT_TO_AGE_RATIO           0\n",
       "INCOME_PER_FAMILY_MEMBER      0\n",
       "CHILD_DEPENDENT_RATIO         0\n",
       "HAS_CHILDREN                  0\n",
       "LOAN_TENURE                   0\n",
       "dtype: int64"
      ]
     },
     "execution_count": 27,
     "metadata": {},
     "output_type": "execute_result"
    }
   ],
   "execution_count": 27
  },
  {
   "metadata": {
    "ExecuteTime": {
     "end_time": "2025-07-08T03:52:07.083204Z",
     "start_time": "2025-07-08T03:52:07.072412Z"
    }
   },
   "cell_type": "code",
   "source": [
    "# Check the data shape\n",
    "data.shape"
   ],
   "id": "de506993f782674b",
   "outputs": [
    {
     "data": {
      "text/plain": [
       "(307511, 49)"
      ]
     },
     "execution_count": 28,
     "metadata": {},
     "output_type": "execute_result"
    }
   ],
   "execution_count": 28
  },
  {
   "metadata": {
    "ExecuteTime": {
     "end_time": "2025-07-08T03:52:07.467765Z",
     "start_time": "2025-07-08T03:52:07.449682Z"
    }
   },
   "cell_type": "code",
   "source": [
    "# Define response variable\n",
    "response_variable = 'TARGET'\n",
    "\n",
    "# Check the proportion of response variable\n",
    "data[response_variable].value_counts(normalize = True)"
   ],
   "id": "56c25898d5bd08e0",
   "outputs": [
    {
     "data": {
      "text/plain": [
       "TARGET\n",
       "0    0.919271\n",
       "1    0.080729\n",
       "Name: proportion, dtype: float64"
      ]
     },
     "execution_count": 29,
     "metadata": {},
     "output_type": "execute_result"
    }
   ],
   "execution_count": 29
  },
  {
   "metadata": {
    "ExecuteTime": {
     "end_time": "2025-07-08T03:52:07.951792Z",
     "start_time": "2025-07-08T03:52:07.785053Z"
    }
   },
   "cell_type": "code",
   "source": [
    "# Drop kolom SK_ID_CURR jika ada\n",
    "if 'SK_ID_CURR' in data.columns:\n",
    "    (data.drop(columns='SK_ID_CURR', inplace=True))"
   ],
   "id": "1da4d0a7e1e5df16",
   "outputs": [],
   "execution_count": 30
  },
  {
   "metadata": {},
   "cell_type": "markdown",
   "source": [
    "# **1.2 Data Exploration**\n",
    "---\n",
    "## **1.2.1 Exploratory Data Analysis (EDA)**,"
   ],
   "id": "947628c4a5481178"
  },
  {
   "metadata": {
    "ExecuteTime": {
     "end_time": "2025-07-08T03:52:08.108984Z",
     "start_time": "2025-07-08T03:52:08.099415Z"
    }
   },
   "cell_type": "code",
   "source": "data.columns",
   "id": "5602e2888b8a6fd4",
   "outputs": [
    {
     "data": {
      "text/plain": [
       "Index(['TARGET', 'NAME_CONTRACT_TYPE', 'FLAG_OWN_CAR', 'FLAG_OWN_REALTY',\n",
       "       'CNT_CHILDREN', 'AMT_INCOME_TOTAL', 'AMT_CREDIT', 'AMT_ANNUITY',\n",
       "       'AMT_GOODS_PRICE', 'NAME_TYPE_SUITE', 'NAME_INCOME_TYPE',\n",
       "       'NAME_EDUCATION_TYPE', 'NAME_FAMILY_STATUS', 'NAME_HOUSING_TYPE',\n",
       "       'DAYS_EMPLOYED', 'FLAG_MOBIL', 'FLAG_EMP_PHONE', 'FLAG_WORK_PHONE',\n",
       "       'FLAG_CONT_MOBILE', 'FLAG_PHONE', 'FLAG_EMAIL', 'OCCUPATION_TYPE',\n",
       "       'CNT_FAM_MEMBERS', 'WEEKDAY_APPR_PROCESS_START', 'ORGANIZATION_TYPE',\n",
       "       'NUM_BUREAU_LOANS', 'SUM_CREDIT', 'AVG_CREDIT', 'ACTIVE_LOANS',\n",
       "       'OVERDUE_MONTHS', 'NUM_PREV_LOANS', 'SUM_PREV_CREDIT',\n",
       "       'AVG_PREV_CREDIT', 'AMT_PAYMENT', 'CREDIT_INCOME_RATIO',\n",
       "       'ANNUITY_INCOME_RATIO', 'CREDIT_ANNUITY_RATIO', 'CREDIT_GOODS_RATIO',\n",
       "       'ANNUITY_GOODS_RATIO', 'PAYMENT_CREDIT_RATIO', 'YEARS_BIRTH',\n",
       "       'EMPLOYMENT_TO_AGE_RATIO', 'CREDIT_TO_EMPLOYMENT_RATIO',\n",
       "       'CREDIT_TO_AGE_RATIO', 'INCOME_PER_FAMILY_MEMBER',\n",
       "       'CHILD_DEPENDENT_RATIO', 'HAS_CHILDREN', 'LOAN_TENURE'],\n",
       "      dtype='object')"
      ]
     },
     "execution_count": 31,
     "metadata": {},
     "output_type": "execute_result"
    }
   ],
   "execution_count": 31
  },
  {
   "metadata": {
    "ExecuteTime": {
     "end_time": "2025-07-08T03:52:08.524816Z",
     "start_time": "2025-07-08T03:52:08.350713Z"
    }
   },
   "cell_type": "code",
   "source": [
    "# Categorical features (tipe objek atau kategori)\n",
    "categorical_features = data.select_dtypes(include=['object', 'category']).columns.tolist()\n",
    "\n",
    "# Numerical features (tipe numerik: int, float)\n",
    "numerical_features = data.select_dtypes(include=['int64', 'float64']).columns.tolist()\n",
    "\n",
    "# Cetak hasilnya\n",
    "print(\"Fitur Kategorikal:\")\n",
    "print(categorical_features)\n",
    "print(\"\\nFitur Numerikal:\")\n",
    "print(numerical_features)"
   ],
   "id": "605e2981c55a0283",
   "outputs": [
    {
     "name": "stdout",
     "output_type": "stream",
     "text": [
      "Fitur Kategorikal:\n",
      "['NAME_CONTRACT_TYPE', 'FLAG_OWN_CAR', 'FLAG_OWN_REALTY', 'NAME_TYPE_SUITE', 'NAME_INCOME_TYPE', 'NAME_EDUCATION_TYPE', 'NAME_FAMILY_STATUS', 'NAME_HOUSING_TYPE', 'OCCUPATION_TYPE', 'WEEKDAY_APPR_PROCESS_START', 'ORGANIZATION_TYPE']\n",
      "\n",
      "Fitur Numerikal:\n",
      "['TARGET', 'CNT_CHILDREN', 'AMT_INCOME_TOTAL', 'AMT_CREDIT', 'AMT_ANNUITY', 'AMT_GOODS_PRICE', 'DAYS_EMPLOYED', 'FLAG_MOBIL', 'FLAG_EMP_PHONE', 'FLAG_WORK_PHONE', 'FLAG_CONT_MOBILE', 'FLAG_PHONE', 'FLAG_EMAIL', 'CNT_FAM_MEMBERS', 'NUM_BUREAU_LOANS', 'SUM_CREDIT', 'AVG_CREDIT', 'ACTIVE_LOANS', 'OVERDUE_MONTHS', 'NUM_PREV_LOANS', 'SUM_PREV_CREDIT', 'AVG_PREV_CREDIT', 'AMT_PAYMENT', 'CREDIT_INCOME_RATIO', 'ANNUITY_INCOME_RATIO', 'CREDIT_ANNUITY_RATIO', 'CREDIT_GOODS_RATIO', 'ANNUITY_GOODS_RATIO', 'PAYMENT_CREDIT_RATIO', 'YEARS_BIRTH', 'EMPLOYMENT_TO_AGE_RATIO', 'CREDIT_TO_EMPLOYMENT_RATIO', 'CREDIT_TO_AGE_RATIO', 'INCOME_PER_FAMILY_MEMBER', 'CHILD_DEPENDENT_RATIO', 'HAS_CHILDREN', 'LOAN_TENURE']\n"
     ]
    }
   ],
   "execution_count": 32
  },
  {
   "metadata": {
    "ExecuteTime": {
     "end_time": "2025-07-08T03:52:08.661601Z",
     "start_time": "2025-07-08T03:52:08.653697Z"
    }
   },
   "cell_type": "code",
   "source": [
    "cat_columns = ['NAME_CONTRACT_TYPE', 'FLAG_OWN_CAR', 'FLAG_OWN_REALTY', 'NAME_TYPE_SUITE', 'NAME_INCOME_TYPE', 'NAME_EDUCATION_TYPE', 'NAME_FAMILY_STATUS', 'NAME_HOUSING_TYPE', 'OCCUPATION_TYPE', 'WEEKDAY_APPR_PROCESS_START', 'ORGANIZATION_TYPE']\n",
    "\n",
    "num_columns = ['CNT_CHILDREN', 'AMT_INCOME_TOTAL', 'AMT_CREDIT', 'AMT_ANNUITY', 'AMT_GOODS_PRICE', 'DAYS_EMPLOYED', 'FLAG_MOBIL', 'FLAG_EMP_PHONE', 'FLAG_WORK_PHONE', 'FLAG_CONT_MOBILE', 'FLAG_PHONE', 'FLAG_EMAIL', 'CNT_FAM_MEMBERS', 'NUM_BUREAU_LOANS', 'SUM_CREDIT', 'AVG_CREDIT', 'ACTIVE_LOANS', 'OVERDUE_MONTHS', 'NUM_PREV_LOANS', 'SUM_PREV_CREDIT', 'AVG_PREV_CREDIT', 'AMT_PAYMENT', 'CREDIT_INCOME_RATIO', 'ANNUITY_INCOME_RATIO', 'CREDIT_ANNUITY_RATIO', 'CREDIT_GOODS_RATIO', 'ANNUITY_GOODS_RATIO', 'PAYMENT_CREDIT_RATIO', 'YEARS_BIRTH', 'EMPLOYMENT_TO_AGE_RATIO', 'CREDIT_TO_EMPLOYMENT_RATIO', 'CREDIT_TO_AGE_RATIO', 'INCOME_PER_FAMILY_MEMBER', 'CHILD_DEPENDENT_RATIO', 'HAS_CHILDREN', 'LOAN_TENURE']"
   ],
   "id": "859b042508fb2d32",
   "outputs": [],
   "execution_count": 33
  },
  {
   "metadata": {},
   "cell_type": "markdown",
   "source": [
    "## **1.2 Sample Splitting**\n",
    "---"
   ],
   "id": "4ff539e0e5359b4e"
  },
  {
   "metadata": {
    "ExecuteTime": {
     "end_time": "2025-07-08T03:52:09.052452Z",
     "start_time": "2025-07-08T03:52:08.884369Z"
    }
   },
   "cell_type": "code",
   "source": [
    "# Split response and predictors\n",
    "y = data[response_variable]\n",
    "X = data.drop(columns = [response_variable],\n",
    "              axis = 1)\n",
    "\n",
    "# Validate the splixtting\n",
    "print('y shape :', y.shape)\n",
    "print('X shape :', X.shape)"
   ],
   "id": "9f3ab3282bfc8aa5",
   "outputs": [
    {
     "name": "stdout",
     "output_type": "stream",
     "text": [
      "y shape : (307511,)\n",
      "X shape : (307511, 47)\n"
     ]
    }
   ],
   "execution_count": 34
  },
  {
   "metadata": {
    "ExecuteTime": {
     "end_time": "2025-07-08T03:52:09.920266Z",
     "start_time": "2025-07-08T03:52:09.151131Z"
    }
   },
   "cell_type": "code",
   "source": [
    "from sklearn.model_selection import train_test_split\n",
    "X_train, X_test, y_train, y_test = train_test_split(X, y, stratify = y, test_size = 0.3, random_state = 42)\n",
    "print('X train shape :', X_train.shape)\n",
    "print('y train shape :', y_train.shape)\n",
    "print('X test shape  :', X_test.shape)\n",
    "print('y test shape  :', y_test.shape)"
   ],
   "id": "cc253b0daf619244",
   "outputs": [
    {
     "name": "stdout",
     "output_type": "stream",
     "text": [
      "X train shape : (215257, 47)\n",
      "y train shape : (215257,)\n",
      "X test shape  : (92254, 47)\n",
      "y test shape  : (92254,)\n"
     ]
    }
   ],
   "execution_count": 35
  },
  {
   "metadata": {
    "ExecuteTime": {
     "end_time": "2025-07-08T03:52:10.068341Z",
     "start_time": "2025-07-08T03:52:10.049273Z"
    }
   },
   "cell_type": "code",
   "source": "y_train.value_counts(normalize = True)",
   "id": "6f2fb9e09fa4150c",
   "outputs": [
    {
     "data": {
      "text/plain": [
       "TARGET\n",
       "0    0.919273\n",
       "1    0.080727\n",
       "Name: proportion, dtype: float64"
      ]
     },
     "execution_count": 36,
     "metadata": {},
     "output_type": "execute_result"
    }
   ],
   "execution_count": 36
  },
  {
   "metadata": {
    "ExecuteTime": {
     "end_time": "2025-07-08T03:52:10.272689Z",
     "start_time": "2025-07-08T03:52:10.253895Z"
    }
   },
   "cell_type": "code",
   "source": "y_test.value_counts(normalize = True)",
   "id": "117a6d871f6cbebf",
   "outputs": [
    {
     "data": {
      "text/plain": [
       "TARGET\n",
       "0    0.919266\n",
       "1    0.080734\n",
       "Name: proportion, dtype: float64"
      ]
     },
     "execution_count": 37,
     "metadata": {},
     "output_type": "execute_result"
    }
   ],
   "execution_count": 37
  },
  {
   "metadata": {
    "ExecuteTime": {
     "end_time": "2025-07-08T03:52:10.692350Z",
     "start_time": "2025-07-08T03:52:10.572783Z"
    }
   },
   "cell_type": "code",
   "source": [
    "# Concatenate X_train and y_train as data_train\n",
    "data_train = pd.concat((X_train, y_train),\n",
    "                       axis = 1)\n",
    "\n",
    "# Validate data_train\n",
    "print('Train data shape:', data_train.shape)\n",
    "data_train.head()"
   ],
   "id": "d9b5275d1b169e38",
   "outputs": [
    {
     "name": "stdout",
     "output_type": "stream",
     "text": [
      "Train data shape: (215257, 48)\n"
     ]
    },
    {
     "data": {
      "text/plain": [
       "       NAME_CONTRACT_TYPE FLAG_OWN_CAR FLAG_OWN_REALTY  CNT_CHILDREN  \\\n",
       "159703         Cash loans            Y               Y             2   \n",
       "79269          Cash loans            N               Y             0   \n",
       "232615         Cash loans            N               Y             1   \n",
       "33420          Cash loans            N               Y             2   \n",
       "88191          Cash loans            Y               N             0   \n",
       "\n",
       "        AMT_INCOME_TOTAL    AMT_CREDIT   AMT_ANNUITY  AMT_GOODS_PRICE  \\\n",
       "159703        83895750.0  3.840561e+08  1.421940e+07      372870000.0   \n",
       "79269         69913125.0  1.053348e+08  7.902047e+06       94149675.0   \n",
       "232615        23304375.0  2.281685e+07  2.707036e+06       18643500.0   \n",
       "33420          9321750.0  1.582833e+07  1.280808e+06       13982625.0   \n",
       "88191         46608750.0  6.183676e+07  6.587681e+06       55930500.0   \n",
       "\n",
       "       NAME_TYPE_SUITE      NAME_INCOME_TYPE  ... PAYMENT_CREDIT_RATIO  \\\n",
       "159703   Unaccompanied  Commercial associate  ...             0.003943   \n",
       "79269           Family         State servant  ...             0.091567   \n",
       "232615   Unaccompanied  Commercial associate  ...             0.381692   \n",
       "33420    Unaccompanied  Commercial associate  ...             0.122714   \n",
       "88191    Unaccompanied  Commercial associate  ...             0.117458   \n",
       "\n",
       "       YEARS_BIRTH EMPLOYMENT_TO_AGE_RATIO  CREDIT_TO_EMPLOYMENT_RATIO  \\\n",
       "159703   37.224658               -0.000511                3.894648e+08   \n",
       "79269    48.063014               -0.000405                1.074237e+08   \n",
       "232615   31.663014               -0.000553                2.322321e+07   \n",
       "33420    43.150685               -0.000545                1.640397e+07   \n",
       "88191    54.553425               -0.000356                6.306114e+07   \n",
       "\n",
       "        CREDIT_TO_AGE_RATIO  INCOME_PER_FAMILY_MEMBER  CHILD_DEPENDENT_RATIO  \\\n",
       "159703         9.852181e+06               16779150.00                   0.40   \n",
       "79269          2.191599e+06               23304375.00                   0.00   \n",
       "232615         7.206152e+05                5826093.75                   0.25   \n",
       "33420          3.668153e+05                2982960.00                   0.40   \n",
       "88191          1.133508e+06               15536250.00                   0.00   \n",
       "\n",
       "        HAS_CHILDREN  LOAN_TENURE  TARGET  \n",
       "159703             1    27.009309       0  \n",
       "79269              0    13.330070       0  \n",
       "232615             1     8.792961       0  \n",
       "33420              1    12.358079       0  \n",
       "88191              0     9.386727       0  \n",
       "\n",
       "[5 rows x 48 columns]"
      ],
      "text/html": [
       "<div>\n",
       "<style scoped>\n",
       "    .dataframe tbody tr th:only-of-type {\n",
       "        vertical-align: middle;\n",
       "    }\n",
       "\n",
       "    .dataframe tbody tr th {\n",
       "        vertical-align: top;\n",
       "    }\n",
       "\n",
       "    .dataframe thead th {\n",
       "        text-align: right;\n",
       "    }\n",
       "</style>\n",
       "<table border=\"1\" class=\"dataframe\">\n",
       "  <thead>\n",
       "    <tr style=\"text-align: right;\">\n",
       "      <th></th>\n",
       "      <th>NAME_CONTRACT_TYPE</th>\n",
       "      <th>FLAG_OWN_CAR</th>\n",
       "      <th>FLAG_OWN_REALTY</th>\n",
       "      <th>CNT_CHILDREN</th>\n",
       "      <th>AMT_INCOME_TOTAL</th>\n",
       "      <th>AMT_CREDIT</th>\n",
       "      <th>AMT_ANNUITY</th>\n",
       "      <th>AMT_GOODS_PRICE</th>\n",
       "      <th>NAME_TYPE_SUITE</th>\n",
       "      <th>NAME_INCOME_TYPE</th>\n",
       "      <th>...</th>\n",
       "      <th>PAYMENT_CREDIT_RATIO</th>\n",
       "      <th>YEARS_BIRTH</th>\n",
       "      <th>EMPLOYMENT_TO_AGE_RATIO</th>\n",
       "      <th>CREDIT_TO_EMPLOYMENT_RATIO</th>\n",
       "      <th>CREDIT_TO_AGE_RATIO</th>\n",
       "      <th>INCOME_PER_FAMILY_MEMBER</th>\n",
       "      <th>CHILD_DEPENDENT_RATIO</th>\n",
       "      <th>HAS_CHILDREN</th>\n",
       "      <th>LOAN_TENURE</th>\n",
       "      <th>TARGET</th>\n",
       "    </tr>\n",
       "  </thead>\n",
       "  <tbody>\n",
       "    <tr>\n",
       "      <th>159703</th>\n",
       "      <td>Cash loans</td>\n",
       "      <td>Y</td>\n",
       "      <td>Y</td>\n",
       "      <td>2</td>\n",
       "      <td>83895750.0</td>\n",
       "      <td>3.840561e+08</td>\n",
       "      <td>1.421940e+07</td>\n",
       "      <td>372870000.0</td>\n",
       "      <td>Unaccompanied</td>\n",
       "      <td>Commercial associate</td>\n",
       "      <td>...</td>\n",
       "      <td>0.003943</td>\n",
       "      <td>37.224658</td>\n",
       "      <td>-0.000511</td>\n",
       "      <td>3.894648e+08</td>\n",
       "      <td>9.852181e+06</td>\n",
       "      <td>16779150.00</td>\n",
       "      <td>0.40</td>\n",
       "      <td>1</td>\n",
       "      <td>27.009309</td>\n",
       "      <td>0</td>\n",
       "    </tr>\n",
       "    <tr>\n",
       "      <th>79269</th>\n",
       "      <td>Cash loans</td>\n",
       "      <td>N</td>\n",
       "      <td>Y</td>\n",
       "      <td>0</td>\n",
       "      <td>69913125.0</td>\n",
       "      <td>1.053348e+08</td>\n",
       "      <td>7.902047e+06</td>\n",
       "      <td>94149675.0</td>\n",
       "      <td>Family</td>\n",
       "      <td>State servant</td>\n",
       "      <td>...</td>\n",
       "      <td>0.091567</td>\n",
       "      <td>48.063014</td>\n",
       "      <td>-0.000405</td>\n",
       "      <td>1.074237e+08</td>\n",
       "      <td>2.191599e+06</td>\n",
       "      <td>23304375.00</td>\n",
       "      <td>0.00</td>\n",
       "      <td>0</td>\n",
       "      <td>13.330070</td>\n",
       "      <td>0</td>\n",
       "    </tr>\n",
       "    <tr>\n",
       "      <th>232615</th>\n",
       "      <td>Cash loans</td>\n",
       "      <td>N</td>\n",
       "      <td>Y</td>\n",
       "      <td>1</td>\n",
       "      <td>23304375.0</td>\n",
       "      <td>2.281685e+07</td>\n",
       "      <td>2.707036e+06</td>\n",
       "      <td>18643500.0</td>\n",
       "      <td>Unaccompanied</td>\n",
       "      <td>Commercial associate</td>\n",
       "      <td>...</td>\n",
       "      <td>0.381692</td>\n",
       "      <td>31.663014</td>\n",
       "      <td>-0.000553</td>\n",
       "      <td>2.322321e+07</td>\n",
       "      <td>7.206152e+05</td>\n",
       "      <td>5826093.75</td>\n",
       "      <td>0.25</td>\n",
       "      <td>1</td>\n",
       "      <td>8.792961</td>\n",
       "      <td>0</td>\n",
       "    </tr>\n",
       "    <tr>\n",
       "      <th>33420</th>\n",
       "      <td>Cash loans</td>\n",
       "      <td>N</td>\n",
       "      <td>Y</td>\n",
       "      <td>2</td>\n",
       "      <td>9321750.0</td>\n",
       "      <td>1.582833e+07</td>\n",
       "      <td>1.280808e+06</td>\n",
       "      <td>13982625.0</td>\n",
       "      <td>Unaccompanied</td>\n",
       "      <td>Commercial associate</td>\n",
       "      <td>...</td>\n",
       "      <td>0.122714</td>\n",
       "      <td>43.150685</td>\n",
       "      <td>-0.000545</td>\n",
       "      <td>1.640397e+07</td>\n",
       "      <td>3.668153e+05</td>\n",
       "      <td>2982960.00</td>\n",
       "      <td>0.40</td>\n",
       "      <td>1</td>\n",
       "      <td>12.358079</td>\n",
       "      <td>0</td>\n",
       "    </tr>\n",
       "    <tr>\n",
       "      <th>88191</th>\n",
       "      <td>Cash loans</td>\n",
       "      <td>Y</td>\n",
       "      <td>N</td>\n",
       "      <td>0</td>\n",
       "      <td>46608750.0</td>\n",
       "      <td>6.183676e+07</td>\n",
       "      <td>6.587681e+06</td>\n",
       "      <td>55930500.0</td>\n",
       "      <td>Unaccompanied</td>\n",
       "      <td>Commercial associate</td>\n",
       "      <td>...</td>\n",
       "      <td>0.117458</td>\n",
       "      <td>54.553425</td>\n",
       "      <td>-0.000356</td>\n",
       "      <td>6.306114e+07</td>\n",
       "      <td>1.133508e+06</td>\n",
       "      <td>15536250.00</td>\n",
       "      <td>0.00</td>\n",
       "      <td>0</td>\n",
       "      <td>9.386727</td>\n",
       "      <td>0</td>\n",
       "    </tr>\n",
       "  </tbody>\n",
       "</table>\n",
       "<p>5 rows × 48 columns</p>\n",
       "</div>"
      ]
     },
     "execution_count": 38,
     "metadata": {},
     "output_type": "execute_result"
    }
   ],
   "execution_count": 38
  },
  {
   "metadata": {
    "ExecuteTime": {
     "end_time": "2025-07-08T03:52:11.099975Z",
     "start_time": "2025-07-08T03:52:11.095442Z"
    }
   },
   "cell_type": "code",
   "source": [
    "from xgboost import XGBClassifier\n",
    "from sklearn.preprocessing import LabelEncoder\n",
    "from sklearn.metrics import classification_report, confusion_matrix, roc_auc_score"
   ],
   "id": "cc428862926adcba",
   "outputs": [],
   "execution_count": 39
  },
  {
   "metadata": {
    "ExecuteTime": {
     "end_time": "2025-07-08T03:52:11.695996Z",
     "start_time": "2025-07-08T03:52:11.572800Z"
    }
   },
   "cell_type": "code",
   "source": [
    "# 1. Pisahkan kembali X_train dan y_train dari data_train\n",
    "X_train = data_train.drop(columns='TARGET')\n",
    "y_train = data_train['TARGET']"
   ],
   "id": "97f994eb3d6ce20a",
   "outputs": [],
   "execution_count": 40
  },
  {
   "metadata": {
    "ExecuteTime": {
     "end_time": "2025-07-08T03:52:12.347222Z",
     "start_time": "2025-07-08T03:52:12.243872Z"
    }
   },
   "cell_type": "code",
   "source": [
    "# 2. Gabungkan kembali dengan X_test\n",
    "X_full = pd.concat([X_train, X_test], axis=0)"
   ],
   "id": "e1d61855ee8f8f3f",
   "outputs": [],
   "execution_count": 41
  },
  {
   "metadata": {
    "ExecuteTime": {
     "end_time": "2025-07-08T03:52:13.359412Z",
     "start_time": "2025-07-08T03:52:12.515341Z"
    }
   },
   "cell_type": "code",
   "source": [
    "# 3. Encoding kategorikal\n",
    "X_encoded = pd.get_dummies(X_full, columns=cat_columns, drop_first=True)"
   ],
   "id": "6b00d9778e9777ca",
   "outputs": [],
   "execution_count": 42
  },
  {
   "metadata": {
    "ExecuteTime": {
     "end_time": "2025-07-08T03:52:13.584024Z",
     "start_time": "2025-07-08T03:52:13.472142Z"
    }
   },
   "cell_type": "code",
   "source": [
    "# 4. Bagi kembali ke train dan test (berdasarkan ukuran asli)\n",
    "X_train_encoded = X_encoded.iloc[:X_train.shape[0], :].copy()\n",
    "X_test_encoded = X_encoded.iloc[X_train.shape[0]:, :].copy()"
   ],
   "id": "d47a2ab102cf52d1",
   "outputs": [],
   "execution_count": 43
  },
  {
   "metadata": {
    "ExecuteTime": {
     "end_time": "2025-07-08T03:52:14.477007Z",
     "start_time": "2025-07-08T03:52:13.677111Z"
    }
   },
   "cell_type": "code",
   "source": [
    "# Ulangi one-hot encoding dan bersihkan nama kolom\n",
    "X_encoded = pd.get_dummies(X_full, columns=cat_columns, drop_first=True)\n",
    "\n",
    "# Bersihkan nama kolom dari karakter yang tidak valid untuk LightGBM\n",
    "X_encoded.columns = X_encoded.columns.str.replace('[^A-Za-z0-9_]+', '_', regex=True)"
   ],
   "id": "eef7c255a4f71827",
   "outputs": [],
   "execution_count": 44
  },
  {
   "metadata": {
    "ExecuteTime": {
     "end_time": "2025-07-08T03:52:14.716244Z",
     "start_time": "2025-07-08T03:52:14.588290Z"
    }
   },
   "cell_type": "code",
   "source": [
    "# Split kembali ke X_train_encoded dan X_test_encoded\n",
    "X_train_encoded = X_encoded.iloc[:X_train.shape[0], :].copy()\n",
    "X_test_encoded = X_encoded.iloc[X_train.shape[0]:, :].copy()"
   ],
   "id": "f1cad0d690ff7169",
   "outputs": [],
   "execution_count": 45
  },
  {
   "metadata": {
    "ExecuteTime": {
     "end_time": "2025-07-08T03:52:14.841911Z",
     "start_time": "2025-07-08T03:52:14.830648Z"
    }
   },
   "cell_type": "code",
   "source": [
    "# from lightgbm import LGBMClassifier\n",
    "#\n",
    "# # Inisialisasi model LightGBM\n",
    "# lgbm_model = LGBMClassifier(\n",
    "#     n_estimators=100,\n",
    "#     max_depth=4,\n",
    "#     learning_rate=0.1,\n",
    "#     subsample=0.8,\n",
    "#     colsample_bytree=0.8,\n",
    "#     scale_pos_weight=11.4,  # disesuaikan dengan rasio imbalance\n",
    "#     random_state=42\n",
    "# )\n",
    "#\n",
    "# #ASLI SEBELUM OPT"
   ],
   "id": "b5b942e6a954c335",
   "outputs": [],
   "execution_count": 46
  },
  {
   "metadata": {
    "ExecuteTime": {
     "end_time": "2025-07-08T03:53:44.170072Z",
     "start_time": "2025-07-08T03:53:44.156004Z"
    }
   },
   "cell_type": "code",
   "source": [
    "# Best Params: OrderedDict({'colsample_bytree': 0.5, 'learning_rate': 0.05766352720057693, 'max_depth': 9, 'n_estimators': 300, 'scale_pos_weight': 5.0, 'subsample': 0.5})\n",
    "\n",
    "from lightgbm import LGBMClassifier\n",
    "\n",
    "# Inisialisasi model LightGBM\n",
    "lgbm_model = LGBMClassifier(\n",
    "    n_estimators=300,\n",
    "    max_depth=9,\n",
    "    learning_rate=0.05766352720057693,\n",
    "    subsample=0.5,\n",
    "    colsample_bytree=0.5,\n",
    "    scale_pos_weight=11.4,  # disesuaikan dengan rasio imbalance\n",
    "    random_state=42\n",
    ")"
   ],
   "id": "1be92cfd847e1feb",
   "outputs": [],
   "execution_count": 62
  },
  {
   "metadata": {
    "ExecuteTime": {
     "end_time": "2025-07-08T03:53:53.747394Z",
     "start_time": "2025-07-08T03:53:44.614733Z"
    }
   },
   "cell_type": "code",
   "source": [
    "# Training model\n",
    "lgbm_model.fit(X_train_encoded, y_train)"
   ],
   "id": "5151ef9853527db9",
   "outputs": [
    {
     "name": "stdout",
     "output_type": "stream",
     "text": [
      "[LightGBM] [Info] Number of positive: 17377, number of negative: 197880\n",
      "[LightGBM] [Info] Auto-choosing row-wise multi-threading, the overhead of testing was 0.025626 seconds.\n",
      "You can set `force_row_wise=true` to remove the overhead.\n",
      "And if memory is not enough, you can set `force_col_wise=true`.\n",
      "[LightGBM] [Info] Total Bins 6213\n",
      "[LightGBM] [Info] Number of data points in the train set: 215257, number of used features: 117\n",
      "[LightGBM] [Info] [binary:BoostFromScore]: pavg=0.080727 -> initscore=-2.432513\n",
      "[LightGBM] [Info] Start training from score -2.432513\n"
     ]
    },
    {
     "data": {
      "text/plain": [
       "LGBMClassifier(colsample_bytree=0.5, learning_rate=0.05766352720057693,\n",
       "               max_depth=9, n_estimators=300, random_state=42,\n",
       "               scale_pos_weight=11.4, subsample=0.5)"
      ],
      "text/html": [
       "<style>#sk-container-id-2 {\n",
       "  /* Definition of color scheme common for light and dark mode */\n",
       "  --sklearn-color-text: #000;\n",
       "  --sklearn-color-text-muted: #666;\n",
       "  --sklearn-color-line: gray;\n",
       "  /* Definition of color scheme for unfitted estimators */\n",
       "  --sklearn-color-unfitted-level-0: #fff5e6;\n",
       "  --sklearn-color-unfitted-level-1: #f6e4d2;\n",
       "  --sklearn-color-unfitted-level-2: #ffe0b3;\n",
       "  --sklearn-color-unfitted-level-3: chocolate;\n",
       "  /* Definition of color scheme for fitted estimators */\n",
       "  --sklearn-color-fitted-level-0: #f0f8ff;\n",
       "  --sklearn-color-fitted-level-1: #d4ebff;\n",
       "  --sklearn-color-fitted-level-2: #b3dbfd;\n",
       "  --sklearn-color-fitted-level-3: cornflowerblue;\n",
       "\n",
       "  /* Specific color for light theme */\n",
       "  --sklearn-color-text-on-default-background: var(--sg-text-color, var(--theme-code-foreground, var(--jp-content-font-color1, black)));\n",
       "  --sklearn-color-background: var(--sg-background-color, var(--theme-background, var(--jp-layout-color0, white)));\n",
       "  --sklearn-color-border-box: var(--sg-text-color, var(--theme-code-foreground, var(--jp-content-font-color1, black)));\n",
       "  --sklearn-color-icon: #696969;\n",
       "\n",
       "  @media (prefers-color-scheme: dark) {\n",
       "    /* Redefinition of color scheme for dark theme */\n",
       "    --sklearn-color-text-on-default-background: var(--sg-text-color, var(--theme-code-foreground, var(--jp-content-font-color1, white)));\n",
       "    --sklearn-color-background: var(--sg-background-color, var(--theme-background, var(--jp-layout-color0, #111)));\n",
       "    --sklearn-color-border-box: var(--sg-text-color, var(--theme-code-foreground, var(--jp-content-font-color1, white)));\n",
       "    --sklearn-color-icon: #878787;\n",
       "  }\n",
       "}\n",
       "\n",
       "#sk-container-id-2 {\n",
       "  color: var(--sklearn-color-text);\n",
       "}\n",
       "\n",
       "#sk-container-id-2 pre {\n",
       "  padding: 0;\n",
       "}\n",
       "\n",
       "#sk-container-id-2 input.sk-hidden--visually {\n",
       "  border: 0;\n",
       "  clip: rect(1px 1px 1px 1px);\n",
       "  clip: rect(1px, 1px, 1px, 1px);\n",
       "  height: 1px;\n",
       "  margin: -1px;\n",
       "  overflow: hidden;\n",
       "  padding: 0;\n",
       "  position: absolute;\n",
       "  width: 1px;\n",
       "}\n",
       "\n",
       "#sk-container-id-2 div.sk-dashed-wrapped {\n",
       "  border: 1px dashed var(--sklearn-color-line);\n",
       "  margin: 0 0.4em 0.5em 0.4em;\n",
       "  box-sizing: border-box;\n",
       "  padding-bottom: 0.4em;\n",
       "  background-color: var(--sklearn-color-background);\n",
       "}\n",
       "\n",
       "#sk-container-id-2 div.sk-container {\n",
       "  /* jupyter's `normalize.less` sets `[hidden] { display: none; }`\n",
       "     but bootstrap.min.css set `[hidden] { display: none !important; }`\n",
       "     so we also need the `!important` here to be able to override the\n",
       "     default hidden behavior on the sphinx rendered scikit-learn.org.\n",
       "     See: https://github.com/scikit-learn/scikit-learn/issues/21755 */\n",
       "  display: inline-block !important;\n",
       "  position: relative;\n",
       "}\n",
       "\n",
       "#sk-container-id-2 div.sk-text-repr-fallback {\n",
       "  display: none;\n",
       "}\n",
       "\n",
       "div.sk-parallel-item,\n",
       "div.sk-serial,\n",
       "div.sk-item {\n",
       "  /* draw centered vertical line to link estimators */\n",
       "  background-image: linear-gradient(var(--sklearn-color-text-on-default-background), var(--sklearn-color-text-on-default-background));\n",
       "  background-size: 2px 100%;\n",
       "  background-repeat: no-repeat;\n",
       "  background-position: center center;\n",
       "}\n",
       "\n",
       "/* Parallel-specific style estimator block */\n",
       "\n",
       "#sk-container-id-2 div.sk-parallel-item::after {\n",
       "  content: \"\";\n",
       "  width: 100%;\n",
       "  border-bottom: 2px solid var(--sklearn-color-text-on-default-background);\n",
       "  flex-grow: 1;\n",
       "}\n",
       "\n",
       "#sk-container-id-2 div.sk-parallel {\n",
       "  display: flex;\n",
       "  align-items: stretch;\n",
       "  justify-content: center;\n",
       "  background-color: var(--sklearn-color-background);\n",
       "  position: relative;\n",
       "}\n",
       "\n",
       "#sk-container-id-2 div.sk-parallel-item {\n",
       "  display: flex;\n",
       "  flex-direction: column;\n",
       "}\n",
       "\n",
       "#sk-container-id-2 div.sk-parallel-item:first-child::after {\n",
       "  align-self: flex-end;\n",
       "  width: 50%;\n",
       "}\n",
       "\n",
       "#sk-container-id-2 div.sk-parallel-item:last-child::after {\n",
       "  align-self: flex-start;\n",
       "  width: 50%;\n",
       "}\n",
       "\n",
       "#sk-container-id-2 div.sk-parallel-item:only-child::after {\n",
       "  width: 0;\n",
       "}\n",
       "\n",
       "/* Serial-specific style estimator block */\n",
       "\n",
       "#sk-container-id-2 div.sk-serial {\n",
       "  display: flex;\n",
       "  flex-direction: column;\n",
       "  align-items: center;\n",
       "  background-color: var(--sklearn-color-background);\n",
       "  padding-right: 1em;\n",
       "  padding-left: 1em;\n",
       "}\n",
       "\n",
       "\n",
       "/* Toggleable style: style used for estimator/Pipeline/ColumnTransformer box that is\n",
       "clickable and can be expanded/collapsed.\n",
       "- Pipeline and ColumnTransformer use this feature and define the default style\n",
       "- Estimators will overwrite some part of the style using the `sk-estimator` class\n",
       "*/\n",
       "\n",
       "/* Pipeline and ColumnTransformer style (default) */\n",
       "\n",
       "#sk-container-id-2 div.sk-toggleable {\n",
       "  /* Default theme specific background. It is overwritten whether we have a\n",
       "  specific estimator or a Pipeline/ColumnTransformer */\n",
       "  background-color: var(--sklearn-color-background);\n",
       "}\n",
       "\n",
       "/* Toggleable label */\n",
       "#sk-container-id-2 label.sk-toggleable__label {\n",
       "  cursor: pointer;\n",
       "  display: flex;\n",
       "  width: 100%;\n",
       "  margin-bottom: 0;\n",
       "  padding: 0.5em;\n",
       "  box-sizing: border-box;\n",
       "  text-align: center;\n",
       "  align-items: start;\n",
       "  justify-content: space-between;\n",
       "  gap: 0.5em;\n",
       "}\n",
       "\n",
       "#sk-container-id-2 label.sk-toggleable__label .caption {\n",
       "  font-size: 0.6rem;\n",
       "  font-weight: lighter;\n",
       "  color: var(--sklearn-color-text-muted);\n",
       "}\n",
       "\n",
       "#sk-container-id-2 label.sk-toggleable__label-arrow:before {\n",
       "  /* Arrow on the left of the label */\n",
       "  content: \"▸\";\n",
       "  float: left;\n",
       "  margin-right: 0.25em;\n",
       "  color: var(--sklearn-color-icon);\n",
       "}\n",
       "\n",
       "#sk-container-id-2 label.sk-toggleable__label-arrow:hover:before {\n",
       "  color: var(--sklearn-color-text);\n",
       "}\n",
       "\n",
       "/* Toggleable content - dropdown */\n",
       "\n",
       "#sk-container-id-2 div.sk-toggleable__content {\n",
       "  max-height: 0;\n",
       "  max-width: 0;\n",
       "  overflow: hidden;\n",
       "  text-align: left;\n",
       "  /* unfitted */\n",
       "  background-color: var(--sklearn-color-unfitted-level-0);\n",
       "}\n",
       "\n",
       "#sk-container-id-2 div.sk-toggleable__content.fitted {\n",
       "  /* fitted */\n",
       "  background-color: var(--sklearn-color-fitted-level-0);\n",
       "}\n",
       "\n",
       "#sk-container-id-2 div.sk-toggleable__content pre {\n",
       "  margin: 0.2em;\n",
       "  border-radius: 0.25em;\n",
       "  color: var(--sklearn-color-text);\n",
       "  /* unfitted */\n",
       "  background-color: var(--sklearn-color-unfitted-level-0);\n",
       "}\n",
       "\n",
       "#sk-container-id-2 div.sk-toggleable__content.fitted pre {\n",
       "  /* unfitted */\n",
       "  background-color: var(--sklearn-color-fitted-level-0);\n",
       "}\n",
       "\n",
       "#sk-container-id-2 input.sk-toggleable__control:checked~div.sk-toggleable__content {\n",
       "  /* Expand drop-down */\n",
       "  max-height: 200px;\n",
       "  max-width: 100%;\n",
       "  overflow: auto;\n",
       "}\n",
       "\n",
       "#sk-container-id-2 input.sk-toggleable__control:checked~label.sk-toggleable__label-arrow:before {\n",
       "  content: \"▾\";\n",
       "}\n",
       "\n",
       "/* Pipeline/ColumnTransformer-specific style */\n",
       "\n",
       "#sk-container-id-2 div.sk-label input.sk-toggleable__control:checked~label.sk-toggleable__label {\n",
       "  color: var(--sklearn-color-text);\n",
       "  background-color: var(--sklearn-color-unfitted-level-2);\n",
       "}\n",
       "\n",
       "#sk-container-id-2 div.sk-label.fitted input.sk-toggleable__control:checked~label.sk-toggleable__label {\n",
       "  background-color: var(--sklearn-color-fitted-level-2);\n",
       "}\n",
       "\n",
       "/* Estimator-specific style */\n",
       "\n",
       "/* Colorize estimator box */\n",
       "#sk-container-id-2 div.sk-estimator input.sk-toggleable__control:checked~label.sk-toggleable__label {\n",
       "  /* unfitted */\n",
       "  background-color: var(--sklearn-color-unfitted-level-2);\n",
       "}\n",
       "\n",
       "#sk-container-id-2 div.sk-estimator.fitted input.sk-toggleable__control:checked~label.sk-toggleable__label {\n",
       "  /* fitted */\n",
       "  background-color: var(--sklearn-color-fitted-level-2);\n",
       "}\n",
       "\n",
       "#sk-container-id-2 div.sk-label label.sk-toggleable__label,\n",
       "#sk-container-id-2 div.sk-label label {\n",
       "  /* The background is the default theme color */\n",
       "  color: var(--sklearn-color-text-on-default-background);\n",
       "}\n",
       "\n",
       "/* On hover, darken the color of the background */\n",
       "#sk-container-id-2 div.sk-label:hover label.sk-toggleable__label {\n",
       "  color: var(--sklearn-color-text);\n",
       "  background-color: var(--sklearn-color-unfitted-level-2);\n",
       "}\n",
       "\n",
       "/* Label box, darken color on hover, fitted */\n",
       "#sk-container-id-2 div.sk-label.fitted:hover label.sk-toggleable__label.fitted {\n",
       "  color: var(--sklearn-color-text);\n",
       "  background-color: var(--sklearn-color-fitted-level-2);\n",
       "}\n",
       "\n",
       "/* Estimator label */\n",
       "\n",
       "#sk-container-id-2 div.sk-label label {\n",
       "  font-family: monospace;\n",
       "  font-weight: bold;\n",
       "  display: inline-block;\n",
       "  line-height: 1.2em;\n",
       "}\n",
       "\n",
       "#sk-container-id-2 div.sk-label-container {\n",
       "  text-align: center;\n",
       "}\n",
       "\n",
       "/* Estimator-specific */\n",
       "#sk-container-id-2 div.sk-estimator {\n",
       "  font-family: monospace;\n",
       "  border: 1px dotted var(--sklearn-color-border-box);\n",
       "  border-radius: 0.25em;\n",
       "  box-sizing: border-box;\n",
       "  margin-bottom: 0.5em;\n",
       "  /* unfitted */\n",
       "  background-color: var(--sklearn-color-unfitted-level-0);\n",
       "}\n",
       "\n",
       "#sk-container-id-2 div.sk-estimator.fitted {\n",
       "  /* fitted */\n",
       "  background-color: var(--sklearn-color-fitted-level-0);\n",
       "}\n",
       "\n",
       "/* on hover */\n",
       "#sk-container-id-2 div.sk-estimator:hover {\n",
       "  /* unfitted */\n",
       "  background-color: var(--sklearn-color-unfitted-level-2);\n",
       "}\n",
       "\n",
       "#sk-container-id-2 div.sk-estimator.fitted:hover {\n",
       "  /* fitted */\n",
       "  background-color: var(--sklearn-color-fitted-level-2);\n",
       "}\n",
       "\n",
       "/* Specification for estimator info (e.g. \"i\" and \"?\") */\n",
       "\n",
       "/* Common style for \"i\" and \"?\" */\n",
       "\n",
       ".sk-estimator-doc-link,\n",
       "a:link.sk-estimator-doc-link,\n",
       "a:visited.sk-estimator-doc-link {\n",
       "  float: right;\n",
       "  font-size: smaller;\n",
       "  line-height: 1em;\n",
       "  font-family: monospace;\n",
       "  background-color: var(--sklearn-color-background);\n",
       "  border-radius: 1em;\n",
       "  height: 1em;\n",
       "  width: 1em;\n",
       "  text-decoration: none !important;\n",
       "  margin-left: 0.5em;\n",
       "  text-align: center;\n",
       "  /* unfitted */\n",
       "  border: var(--sklearn-color-unfitted-level-1) 1pt solid;\n",
       "  color: var(--sklearn-color-unfitted-level-1);\n",
       "}\n",
       "\n",
       ".sk-estimator-doc-link.fitted,\n",
       "a:link.sk-estimator-doc-link.fitted,\n",
       "a:visited.sk-estimator-doc-link.fitted {\n",
       "  /* fitted */\n",
       "  border: var(--sklearn-color-fitted-level-1) 1pt solid;\n",
       "  color: var(--sklearn-color-fitted-level-1);\n",
       "}\n",
       "\n",
       "/* On hover */\n",
       "div.sk-estimator:hover .sk-estimator-doc-link:hover,\n",
       ".sk-estimator-doc-link:hover,\n",
       "div.sk-label-container:hover .sk-estimator-doc-link:hover,\n",
       ".sk-estimator-doc-link:hover {\n",
       "  /* unfitted */\n",
       "  background-color: var(--sklearn-color-unfitted-level-3);\n",
       "  color: var(--sklearn-color-background);\n",
       "  text-decoration: none;\n",
       "}\n",
       "\n",
       "div.sk-estimator.fitted:hover .sk-estimator-doc-link.fitted:hover,\n",
       ".sk-estimator-doc-link.fitted:hover,\n",
       "div.sk-label-container:hover .sk-estimator-doc-link.fitted:hover,\n",
       ".sk-estimator-doc-link.fitted:hover {\n",
       "  /* fitted */\n",
       "  background-color: var(--sklearn-color-fitted-level-3);\n",
       "  color: var(--sklearn-color-background);\n",
       "  text-decoration: none;\n",
       "}\n",
       "\n",
       "/* Span, style for the box shown on hovering the info icon */\n",
       ".sk-estimator-doc-link span {\n",
       "  display: none;\n",
       "  z-index: 9999;\n",
       "  position: relative;\n",
       "  font-weight: normal;\n",
       "  right: .2ex;\n",
       "  padding: .5ex;\n",
       "  margin: .5ex;\n",
       "  width: min-content;\n",
       "  min-width: 20ex;\n",
       "  max-width: 50ex;\n",
       "  color: var(--sklearn-color-text);\n",
       "  box-shadow: 2pt 2pt 4pt #999;\n",
       "  /* unfitted */\n",
       "  background: var(--sklearn-color-unfitted-level-0);\n",
       "  border: .5pt solid var(--sklearn-color-unfitted-level-3);\n",
       "}\n",
       "\n",
       ".sk-estimator-doc-link.fitted span {\n",
       "  /* fitted */\n",
       "  background: var(--sklearn-color-fitted-level-0);\n",
       "  border: var(--sklearn-color-fitted-level-3);\n",
       "}\n",
       "\n",
       ".sk-estimator-doc-link:hover span {\n",
       "  display: block;\n",
       "}\n",
       "\n",
       "/* \"?\"-specific style due to the `<a>` HTML tag */\n",
       "\n",
       "#sk-container-id-2 a.estimator_doc_link {\n",
       "  float: right;\n",
       "  font-size: 1rem;\n",
       "  line-height: 1em;\n",
       "  font-family: monospace;\n",
       "  background-color: var(--sklearn-color-background);\n",
       "  border-radius: 1rem;\n",
       "  height: 1rem;\n",
       "  width: 1rem;\n",
       "  text-decoration: none;\n",
       "  /* unfitted */\n",
       "  color: var(--sklearn-color-unfitted-level-1);\n",
       "  border: var(--sklearn-color-unfitted-level-1) 1pt solid;\n",
       "}\n",
       "\n",
       "#sk-container-id-2 a.estimator_doc_link.fitted {\n",
       "  /* fitted */\n",
       "  border: var(--sklearn-color-fitted-level-1) 1pt solid;\n",
       "  color: var(--sklearn-color-fitted-level-1);\n",
       "}\n",
       "\n",
       "/* On hover */\n",
       "#sk-container-id-2 a.estimator_doc_link:hover {\n",
       "  /* unfitted */\n",
       "  background-color: var(--sklearn-color-unfitted-level-3);\n",
       "  color: var(--sklearn-color-background);\n",
       "  text-decoration: none;\n",
       "}\n",
       "\n",
       "#sk-container-id-2 a.estimator_doc_link.fitted:hover {\n",
       "  /* fitted */\n",
       "  background-color: var(--sklearn-color-fitted-level-3);\n",
       "}\n",
       "</style><div id=\"sk-container-id-2\" class=\"sk-top-container\"><div class=\"sk-text-repr-fallback\"><pre>LGBMClassifier(colsample_bytree=0.5, learning_rate=0.05766352720057693,\n",
       "               max_depth=9, n_estimators=300, random_state=42,\n",
       "               scale_pos_weight=11.4, subsample=0.5)</pre><b>In a Jupyter environment, please rerun this cell to show the HTML representation or trust the notebook. <br />On GitHub, the HTML representation is unable to render, please try loading this page with nbviewer.org.</b></div><div class=\"sk-container\" hidden><div class=\"sk-item\"><div class=\"sk-estimator fitted sk-toggleable\"><input class=\"sk-toggleable__control sk-hidden--visually\" id=\"sk-estimator-id-2\" type=\"checkbox\" checked><label for=\"sk-estimator-id-2\" class=\"sk-toggleable__label fitted sk-toggleable__label-arrow\"><div><div>LGBMClassifier</div></div><div><span class=\"sk-estimator-doc-link fitted\">i<span>Fitted</span></span></div></label><div class=\"sk-toggleable__content fitted\"><pre>LGBMClassifier(colsample_bytree=0.5, learning_rate=0.05766352720057693,\n",
       "               max_depth=9, n_estimators=300, random_state=42,\n",
       "               scale_pos_weight=11.4, subsample=0.5)</pre></div> </div></div></div></div>"
      ]
     },
     "execution_count": 63,
     "metadata": {},
     "output_type": "execute_result"
    }
   ],
   "execution_count": 63
  },
  {
   "metadata": {
    "ExecuteTime": {
     "end_time": "2025-07-08T03:53:54.573626Z",
     "start_time": "2025-07-08T03:53:53.767547Z"
    }
   },
   "cell_type": "code",
   "source": [
    "# Prediksi dan probabilitas\n",
    "y_pred_lgbm = lgbm_model.predict(X_test_encoded)\n",
    "y_proba_lgbm = lgbm_model.predict_proba(X_test_encoded)[:, 1]"
   ],
   "id": "13d35856670cb66c",
   "outputs": [],
   "execution_count": 64
  },
  {
   "metadata": {
    "ExecuteTime": {
     "end_time": "2025-07-08T03:53:54.803723Z",
     "start_time": "2025-07-08T03:53:54.690865Z"
    }
   },
   "cell_type": "code",
   "source": [
    "# Classification report\n",
    "print(\"📘 Classification Report — LightGBM\")\n",
    "print(classification_report(y_test, y_pred_lgbm))\n",
    "\n",
    "# AUC Score\n",
    "print(\"AUC:\", roc_auc_score(y_test, y_proba_lgbm))"
   ],
   "id": "a6952e0cab5d8168",
   "outputs": [
    {
     "name": "stdout",
     "output_type": "stream",
     "text": [
      "📘 Classification Report — LightGBM\n",
      "              precision    recall  f1-score   support\n",
      "\n",
      "           0       0.96      0.75      0.84     84806\n",
      "           1       0.19      0.65      0.29      7448\n",
      "\n",
      "    accuracy                           0.74     92254\n",
      "   macro avg       0.57      0.70      0.57     92254\n",
      "weighted avg       0.90      0.74      0.80     92254\n",
      "\n",
      "AUC: 0.7786082887782827\n"
     ]
    }
   ],
   "execution_count": 65
  },
  {
   "metadata": {
    "ExecuteTime": {
     "end_time": "2025-07-08T03:53:55.239269Z",
     "start_time": "2025-07-08T03:53:54.925208Z"
    }
   },
   "cell_type": "code",
   "source": [
    "# Confusion Matrix\n",
    "cm_lgbm = confusion_matrix(y_test, y_pred_lgbm)\n",
    "plt.figure(figsize=(4, 3))\n",
    "sns.heatmap(cm_lgbm, annot=True, fmt='d', cmap='Greens')\n",
    "plt.title(\"Confusion Matrix — LightGBM\")\n",
    "plt.xlabel(\"Predicted\")\n",
    "plt.ylabel(\"Actual\")\n",
    "plt.tight_layout()\n",
    "plt.show()\n"
   ],
   "id": "4066e0536f963562",
   "outputs": [
    {
     "data": {
      "text/plain": [
       "<Figure size 400x300 with 2 Axes>"
      ],
      "image/png": "[encoded data removed]"
     },
     "metadata": {},
     "output_type": "display_data"
    }
   ],
   "execution_count": 66
  },
  {
   "metadata": {
    "ExecuteTime": {
     "end_time": "2025-07-08T03:53:55.409543Z",
     "start_time": "2025-07-08T03:53:55.341552Z"
    }
   },
   "cell_type": "code",
   "source": [
    "from sklearn.metrics import confusion_matrix, f1_score, accuracy_score, roc_auc_score\n",
    "\n",
    "# Hitung metrik performa\n",
    "tn, fp, fn, tp = confusion_matrix(y_test, y_pred_lgbm).ravel()\n",
    "\n",
    "auc = roc_auc_score(y_test, y_proba_lgbm)\n",
    "tpr = tp / (tp + fn)  # Sensitivity\n",
    "tnr = tn / (tn + fp)  # Specificity\n",
    "fpr = fp / (fp + tn)\n",
    "gmean = np.sqrt(tpr * tnr)\n",
    "f1 = f1_score(y_test, y_pred_lgbm)\n",
    "accuracy = accuracy_score(y_test, y_pred_lgbm)\n"
   ],
   "id": "42ac382df75654c4",
   "outputs": [],
   "execution_count": 67
  },
  {
   "metadata": {
    "ExecuteTime": {
     "end_time": "2025-07-08T03:53:55.524299Z",
     "start_time": "2025-07-08T03:53:55.503805Z"
    }
   },
   "cell_type": "code",
   "source": [
    "# Simpan ke DataFrame\n",
    "lgbm_metrics_df = pd.DataFrame([{\n",
    "    'Classifier': 'LightGBM',\n",
    "    'AUC': round(auc, 4),\n",
    "    'TPR': round(tpr, 4),\n",
    "    'TNR': round(tnr, 4),\n",
    "    'FP - Rate': round(fpr, 4),\n",
    "    'G - Mean': round(gmean, 4),\n",
    "    'F1 - Score': round(f1, 4),\n",
    "    'Akurasi': round(accuracy, 4)\n",
    "}])\n",
    "\n",
    "# Tampilkan\n",
    "lgbm_metrics_df"
   ],
   "id": "e29a7c0de2c88855",
   "outputs": [
    {
     "data": {
      "text/plain": [
       "  Classifier     AUC     TPR     TNR  FP - Rate  G - Mean  F1 - Score  Akurasi\n",
       "0   LightGBM  0.7786  0.6521  0.7483     0.2517    0.6986      0.2887   0.7406"
      ],
      "text/html": [
       "<div>\n",
       "<style scoped>\n",
       "    .dataframe tbody tr th:only-of-type {\n",
       "        vertical-align: middle;\n",
       "    }\n",
       "\n",
       "    .dataframe tbody tr th {\n",
       "        vertical-align: top;\n",
       "    }\n",
       "\n",
       "    .dataframe thead th {\n",
       "        text-align: right;\n",
       "    }\n",
       "</style>\n",
       "<table border=\"1\" class=\"dataframe\">\n",
       "  <thead>\n",
       "    <tr style=\"text-align: right;\">\n",
       "      <th></th>\n",
       "      <th>Classifier</th>\n",
       "      <th>AUC</th>\n",
       "      <th>TPR</th>\n",
       "      <th>TNR</th>\n",
       "      <th>FP - Rate</th>\n",
       "      <th>G - Mean</th>\n",
       "      <th>F1 - Score</th>\n",
       "      <th>Akurasi</th>\n",
       "    </tr>\n",
       "  </thead>\n",
       "  <tbody>\n",
       "    <tr>\n",
       "      <th>0</th>\n",
       "      <td>LightGBM</td>\n",
       "      <td>0.7786</td>\n",
       "      <td>0.6521</td>\n",
       "      <td>0.7483</td>\n",
       "      <td>0.2517</td>\n",
       "      <td>0.6986</td>\n",
       "      <td>0.2887</td>\n",
       "      <td>0.7406</td>\n",
       "    </tr>\n",
       "  </tbody>\n",
       "</table>\n",
       "</div>"
      ]
     },
     "execution_count": 68,
     "metadata": {},
     "output_type": "execute_result"
    }
   ],
   "execution_count": 68
  },
  {
   "metadata": {
    "ExecuteTime": {
     "end_time": "2025-07-08T03:52:19.924620Z",
     "start_time": "2025-07-08T03:52:19.919452Z"
    }
   },
   "cell_type": "code",
   "source": [
    "import joblib\n",
    "import os"
   ],
   "id": "8f7367b3fe8f3c6e",
   "outputs": [],
   "execution_count": 54
  },
  {
   "metadata": {
    "ExecuteTime": {
     "end_time": "2025-07-08T03:52:20.040219Z",
     "start_time": "2025-07-08T03:52:20.033197Z"
    }
   },
   "cell_type": "code",
   "source": [
    "# Buat folder penyimpanan jika belum ada\n",
    "model_dir = 'D:/Code Skripsi - RL and Ensemble/models/'\n",
    "os.makedirs(model_dir, exist_ok=True)"
   ],
   "id": "c2beb9d3bdf2f502",
   "outputs": [],
   "execution_count": 55
  },
  {
   "metadata": {
    "ExecuteTime": {
     "end_time": "2025-07-08T03:52:20.196353Z",
     "start_time": "2025-07-08T03:52:20.180109Z"
    }
   },
   "cell_type": "code",
   "source": [
    "# Simpan model\n",
    "model_path = os.path.join(model_dir, 'lgbm_model.pkl')\n",
    "joblib.dump(lgbm_model, model_path)\n",
    "\n",
    "print(f\"✅ Model berhasil disimpan di: {model_path}\")"
   ],
   "id": "9434ac81d4319248",
   "outputs": [
    {
     "name": "stdout",
     "output_type": "stream",
     "text": [
      "✅ Model berhasil disimpan di: D:/Code Skripsi - RL and Ensemble/models/lgbm_model.pkl\n"
     ]
    }
   ],
   "execution_count": 56
  },
  {
   "metadata": {
    "ExecuteTime": {
     "end_time": "2025-07-08T03:52:21.143036Z",
     "start_time": "2025-07-08T03:52:20.369632Z"
    }
   },
   "cell_type": "code",
   "source": [
    "from skopt import BayesSearchCV\n",
    "from skopt.space import Real, Integer\n",
    "from sklearn.model_selection import StratifiedKFold\n",
    "from sklearn.metrics import make_scorer, f1_score\n",
    "from lightgbm import LGBMClassifier"
   ],
   "id": "4b08593f01e3625d",
   "outputs": [],
   "execution_count": 57
  },
  {
   "metadata": {
    "ExecuteTime": {
     "end_time": "2025-07-08T03:52:21.296538Z",
     "start_time": "2025-07-08T03:52:21.284068Z"
    }
   },
   "cell_type": "code",
   "source": [
    "# Parameter space untuk LightGBM\n",
    "param_space = {\n",
    "    'n_estimators': Integer(50, 300),\n",
    "    'max_depth': Integer(3, 10),\n",
    "    'learning_rate': Real(0.01, 0.3, prior='log-uniform'),\n",
    "    'subsample': Real(0.5, 1.0),\n",
    "    'colsample_bytree': Real(0.5, 1.0),\n",
    "    'scale_pos_weight': Real(5, 20)  # berdasarkan rasio imbalance kamu ~11.4\n",
    "}\n"
   ],
   "id": "88a8feca43152464",
   "outputs": [],
   "execution_count": 58
  },
  {
   "metadata": {
    "ExecuteTime": {
     "end_time": "2025-07-08T03:52:21.385908Z",
     "start_time": "2025-07-08T03:52:21.380848Z"
    }
   },
   "cell_type": "code",
   "source": [
    "# Setup CV dan Bayesian Optimization\n",
    "cv = StratifiedKFold(n_splits=5, shuffle=True, random_state=42)"
   ],
   "id": "46285f926e85fdb6",
   "outputs": [],
   "execution_count": 59
  },
  {
   "metadata": {
    "ExecuteTime": {
     "end_time": "2025-07-08T03:52:21.477875Z",
     "start_time": "2025-07-08T03:52:21.471772Z"
    }
   },
   "cell_type": "code",
   "source": [
    "opt_lgbm = BayesSearchCV(\n",
    "    estimator=LGBMClassifier(random_state=42, n_jobs=-1),\n",
    "    search_spaces=param_space,\n",
    "    n_iter=30,\n",
    "    scoring='roc_auc',\n",
    "    cv=cv,\n",
    "    n_jobs=-1,\n",
    "    verbose=0,\n",
    "    random_state=42\n",
    ")\n"
   ],
   "id": "be7e71750525558b",
   "outputs": [],
   "execution_count": 60
  },
  {
   "metadata": {
    "ExecuteTime": {
     "end_time": "2025-07-08T03:52:49.943711Z",
     "start_time": "2025-07-08T03:52:21.611442Z"
    }
   },
   "cell_type": "code",
   "source": [
    "# Fit ke data train\n",
    "opt_lgbm.fit(X_train_encoded, y_train)"
   ],
   "id": "6791fc6179befd1b",
   "outputs": [
    {
     "ename": "KeyboardInterrupt",
     "evalue": "",
     "output_type": "error",
     "traceback": [
      "\u001B[1;31m---------------------------------------------------------------------------\u001B[0m",
      "\u001B[1;31mKeyboardInterrupt\u001B[0m                         Traceback (most recent call last)",
      "Cell \u001B[1;32mIn[61], line 2\u001B[0m\n\u001B[0;32m      1\u001B[0m \u001B[38;5;66;03m# Fit ke data train\u001B[39;00m\n\u001B[1;32m----> 2\u001B[0m \u001B[43mopt_lgbm\u001B[49m\u001B[38;5;241;43m.\u001B[39;49m\u001B[43mfit\u001B[49m\u001B[43m(\u001B[49m\u001B[43mX_train_encoded\u001B[49m\u001B[43m,\u001B[49m\u001B[43m \u001B[49m\u001B[43my_train\u001B[49m\u001B[43m)\u001B[49m\n",
      "File \u001B[1;32m~\\AppData\\Local\\Programs\\Python\\Python313\\Lib\\site-packages\\skopt\\searchcv.py:542\u001B[0m, in \u001B[0;36mBayesSearchCV.fit\u001B[1;34m(self, X, y, groups, callback, **fit_params)\u001B[0m\n\u001B[0;32m    535\u001B[0m \u001B[38;5;28;01mif\u001B[39;00m \u001B[38;5;28mcallable\u001B[39m(\u001B[38;5;28mself\u001B[39m\u001B[38;5;241m.\u001B[39mrefit):\n\u001B[0;32m    536\u001B[0m     \u001B[38;5;28;01mraise\u001B[39;00m \u001B[38;5;167;01mValueError\u001B[39;00m(\n\u001B[0;32m    537\u001B[0m         \u001B[38;5;124m\"\u001B[39m\u001B[38;5;124mBayesSearchCV doesn\u001B[39m\u001B[38;5;124m'\u001B[39m\u001B[38;5;124mt support a callable refit, \u001B[39m\u001B[38;5;124m\"\u001B[39m\n\u001B[0;32m    538\u001B[0m         \u001B[38;5;124m\"\u001B[39m\u001B[38;5;124mas it doesn\u001B[39m\u001B[38;5;124m'\u001B[39m\u001B[38;5;124mt define an implicit score to \u001B[39m\u001B[38;5;124m\"\u001B[39m\n\u001B[0;32m    539\u001B[0m         \u001B[38;5;124m\"\u001B[39m\u001B[38;5;124moptimize\u001B[39m\u001B[38;5;124m\"\u001B[39m\n\u001B[0;32m    540\u001B[0m     )\n\u001B[1;32m--> 542\u001B[0m \u001B[38;5;28;43msuper\u001B[39;49m\u001B[43m(\u001B[49m\u001B[43m)\u001B[49m\u001B[38;5;241;43m.\u001B[39;49m\u001B[43mfit\u001B[49m\u001B[43m(\u001B[49m\u001B[43mX\u001B[49m\u001B[38;5;241;43m=\u001B[39;49m\u001B[43mX\u001B[49m\u001B[43m,\u001B[49m\u001B[43m \u001B[49m\u001B[43my\u001B[49m\u001B[38;5;241;43m=\u001B[39;49m\u001B[43my\u001B[49m\u001B[43m,\u001B[49m\u001B[43m \u001B[49m\u001B[43mgroups\u001B[49m\u001B[38;5;241;43m=\u001B[39;49m\u001B[43mgroups\u001B[49m\u001B[43m,\u001B[49m\u001B[43m \u001B[49m\u001B[38;5;241;43m*\u001B[39;49m\u001B[38;5;241;43m*\u001B[39;49m\u001B[43mfit_params\u001B[49m\u001B[43m)\u001B[49m\n\u001B[0;32m    544\u001B[0m \u001B[38;5;66;03m# BaseSearchCV never ranked train scores,\u001B[39;00m\n\u001B[0;32m    545\u001B[0m \u001B[38;5;66;03m# but apparently we used to ship this (back-compat)\u001B[39;00m\n\u001B[0;32m    546\u001B[0m \u001B[38;5;28;01mif\u001B[39;00m \u001B[38;5;28mself\u001B[39m\u001B[38;5;241m.\u001B[39mreturn_train_score:\n",
      "File \u001B[1;32m~\\AppData\\Local\\Programs\\Python\\Python313\\Lib\\site-packages\\sklearn\\base.py:1389\u001B[0m, in \u001B[0;36m_fit_context.<locals>.decorator.<locals>.wrapper\u001B[1;34m(estimator, *args, **kwargs)\u001B[0m\n\u001B[0;32m   1382\u001B[0m     estimator\u001B[38;5;241m.\u001B[39m_validate_params()\n\u001B[0;32m   1384\u001B[0m \u001B[38;5;28;01mwith\u001B[39;00m config_context(\n\u001B[0;32m   1385\u001B[0m     skip_parameter_validation\u001B[38;5;241m=\u001B[39m(\n\u001B[0;32m   1386\u001B[0m         prefer_skip_nested_validation \u001B[38;5;129;01mor\u001B[39;00m global_skip_validation\n\u001B[0;32m   1387\u001B[0m     )\n\u001B[0;32m   1388\u001B[0m ):\n\u001B[1;32m-> 1389\u001B[0m     \u001B[38;5;28;01mreturn\u001B[39;00m \u001B[43mfit_method\u001B[49m\u001B[43m(\u001B[49m\u001B[43mestimator\u001B[49m\u001B[43m,\u001B[49m\u001B[43m \u001B[49m\u001B[38;5;241;43m*\u001B[39;49m\u001B[43margs\u001B[49m\u001B[43m,\u001B[49m\u001B[43m \u001B[49m\u001B[38;5;241;43m*\u001B[39;49m\u001B[38;5;241;43m*\u001B[39;49m\u001B[43mkwargs\u001B[49m\u001B[43m)\u001B[49m\n",
      "File \u001B[1;32m~\\AppData\\Local\\Programs\\Python\\Python313\\Lib\\site-packages\\sklearn\\model_selection\\_search.py:1024\u001B[0m, in \u001B[0;36mBaseSearchCV.fit\u001B[1;34m(self, X, y, **params)\u001B[0m\n\u001B[0;32m   1018\u001B[0m     results \u001B[38;5;241m=\u001B[39m \u001B[38;5;28mself\u001B[39m\u001B[38;5;241m.\u001B[39m_format_results(\n\u001B[0;32m   1019\u001B[0m         all_candidate_params, n_splits, all_out, all_more_results\n\u001B[0;32m   1020\u001B[0m     )\n\u001B[0;32m   1022\u001B[0m     \u001B[38;5;28;01mreturn\u001B[39;00m results\n\u001B[1;32m-> 1024\u001B[0m \u001B[38;5;28;43mself\u001B[39;49m\u001B[38;5;241;43m.\u001B[39;49m\u001B[43m_run_search\u001B[49m\u001B[43m(\u001B[49m\u001B[43mevaluate_candidates\u001B[49m\u001B[43m)\u001B[49m\n\u001B[0;32m   1026\u001B[0m \u001B[38;5;66;03m# multimetric is determined here because in the case of a callable\u001B[39;00m\n\u001B[0;32m   1027\u001B[0m \u001B[38;5;66;03m# self.scoring the return type is only known after calling\u001B[39;00m\n\u001B[0;32m   1028\u001B[0m first_test_score \u001B[38;5;241m=\u001B[39m all_out[\u001B[38;5;241m0\u001B[39m][\u001B[38;5;124m\"\u001B[39m\u001B[38;5;124mtest_scores\u001B[39m\u001B[38;5;124m\"\u001B[39m]\n",
      "File \u001B[1;32m~\\AppData\\Local\\Programs\\Python\\Python313\\Lib\\site-packages\\skopt\\searchcv.py:599\u001B[0m, in \u001B[0;36mBayesSearchCV._run_search\u001B[1;34m(self, evaluate_candidates)\u001B[0m\n\u001B[0;32m    595\u001B[0m \u001B[38;5;28;01mwhile\u001B[39;00m n_iter \u001B[38;5;241m>\u001B[39m \u001B[38;5;241m0\u001B[39m:\n\u001B[0;32m    596\u001B[0m     \u001B[38;5;66;03m# when n_iter < n_points points left for evaluation\u001B[39;00m\n\u001B[0;32m    597\u001B[0m     n_points_adjusted \u001B[38;5;241m=\u001B[39m \u001B[38;5;28mmin\u001B[39m(n_iter, n_points)\n\u001B[1;32m--> 599\u001B[0m     optim_result, score_name \u001B[38;5;241m=\u001B[39m \u001B[38;5;28;43mself\u001B[39;49m\u001B[38;5;241;43m.\u001B[39;49m\u001B[43m_step\u001B[49m\u001B[43m(\u001B[49m\n\u001B[0;32m    600\u001B[0m \u001B[43m        \u001B[49m\u001B[43msearch_space\u001B[49m\u001B[43m,\u001B[49m\n\u001B[0;32m    601\u001B[0m \u001B[43m        \u001B[49m\u001B[43moptimizer\u001B[49m\u001B[43m,\u001B[49m\n\u001B[0;32m    602\u001B[0m \u001B[43m        \u001B[49m\u001B[43mscore_name\u001B[49m\u001B[43m,\u001B[49m\n\u001B[0;32m    603\u001B[0m \u001B[43m        \u001B[49m\u001B[43mevaluate_candidates\u001B[49m\u001B[43m,\u001B[49m\n\u001B[0;32m    604\u001B[0m \u001B[43m        \u001B[49m\u001B[43mn_points\u001B[49m\u001B[38;5;241;43m=\u001B[39;49m\u001B[43mn_points_adjusted\u001B[49m\u001B[43m,\u001B[49m\n\u001B[0;32m    605\u001B[0m \u001B[43m    \u001B[49m\u001B[43m)\u001B[49m\n\u001B[0;32m    606\u001B[0m     n_iter \u001B[38;5;241m-\u001B[39m\u001B[38;5;241m=\u001B[39m n_points\n\u001B[0;32m    608\u001B[0m     \u001B[38;5;28;01mif\u001B[39;00m eval_callbacks(callbacks, optim_result):\n",
      "File \u001B[1;32m~\\AppData\\Local\\Programs\\Python\\Python313\\Lib\\site-packages\\skopt\\searchcv.py:453\u001B[0m, in \u001B[0;36mBayesSearchCV._step\u001B[1;34m(self, search_space, optimizer, score_name, evaluate_candidates, n_points)\u001B[0m\n\u001B[0;32m    450\u001B[0m \u001B[38;5;66;03m# make lists into dictionaries\u001B[39;00m\n\u001B[0;32m    451\u001B[0m params_dict \u001B[38;5;241m=\u001B[39m [point_asdict(search_space, p) \u001B[38;5;28;01mfor\u001B[39;00m p \u001B[38;5;129;01min\u001B[39;00m params]\n\u001B[1;32m--> 453\u001B[0m all_results \u001B[38;5;241m=\u001B[39m \u001B[43mevaluate_candidates\u001B[49m\u001B[43m(\u001B[49m\u001B[43mparams_dict\u001B[49m\u001B[43m)\u001B[49m\n\u001B[0;32m    455\u001B[0m \u001B[38;5;66;03m# if self.scoring is a callable, we have to wait until here\u001B[39;00m\n\u001B[0;32m    456\u001B[0m \u001B[38;5;66;03m# to get the score name\u001B[39;00m\n\u001B[0;32m    457\u001B[0m \u001B[38;5;28;01mif\u001B[39;00m score_name \u001B[38;5;129;01mis\u001B[39;00m \u001B[38;5;28;01mNone\u001B[39;00m:\n",
      "File \u001B[1;32m~\\AppData\\Local\\Programs\\Python\\Python313\\Lib\\site-packages\\sklearn\\model_selection\\_search.py:970\u001B[0m, in \u001B[0;36mBaseSearchCV.fit.<locals>.evaluate_candidates\u001B[1;34m(candidate_params, cv, more_results)\u001B[0m\n\u001B[0;32m    962\u001B[0m \u001B[38;5;28;01mif\u001B[39;00m \u001B[38;5;28mself\u001B[39m\u001B[38;5;241m.\u001B[39mverbose \u001B[38;5;241m>\u001B[39m \u001B[38;5;241m0\u001B[39m:\n\u001B[0;32m    963\u001B[0m     \u001B[38;5;28mprint\u001B[39m(\n\u001B[0;32m    964\u001B[0m         \u001B[38;5;124m\"\u001B[39m\u001B[38;5;124mFitting \u001B[39m\u001B[38;5;132;01m{0}\u001B[39;00m\u001B[38;5;124m folds for each of \u001B[39m\u001B[38;5;132;01m{1}\u001B[39;00m\u001B[38;5;124m candidates,\u001B[39m\u001B[38;5;124m\"\u001B[39m\n\u001B[0;32m    965\u001B[0m         \u001B[38;5;124m\"\u001B[39m\u001B[38;5;124m totalling \u001B[39m\u001B[38;5;132;01m{2}\u001B[39;00m\u001B[38;5;124m fits\u001B[39m\u001B[38;5;124m\"\u001B[39m\u001B[38;5;241m.\u001B[39mformat(\n\u001B[0;32m    966\u001B[0m             n_splits, n_candidates, n_candidates \u001B[38;5;241m*\u001B[39m n_splits\n\u001B[0;32m    967\u001B[0m         )\n\u001B[0;32m    968\u001B[0m     )\n\u001B[1;32m--> 970\u001B[0m out \u001B[38;5;241m=\u001B[39m \u001B[43mparallel\u001B[49m\u001B[43m(\u001B[49m\n\u001B[0;32m    971\u001B[0m \u001B[43m    \u001B[49m\u001B[43mdelayed\u001B[49m\u001B[43m(\u001B[49m\u001B[43m_fit_and_score\u001B[49m\u001B[43m)\u001B[49m\u001B[43m(\u001B[49m\n\u001B[0;32m    972\u001B[0m \u001B[43m        \u001B[49m\u001B[43mclone\u001B[49m\u001B[43m(\u001B[49m\u001B[43mbase_estimator\u001B[49m\u001B[43m)\u001B[49m\u001B[43m,\u001B[49m\n\u001B[0;32m    973\u001B[0m \u001B[43m        \u001B[49m\u001B[43mX\u001B[49m\u001B[43m,\u001B[49m\n\u001B[0;32m    974\u001B[0m \u001B[43m        \u001B[49m\u001B[43my\u001B[49m\u001B[43m,\u001B[49m\n\u001B[0;32m    975\u001B[0m \u001B[43m        \u001B[49m\u001B[43mtrain\u001B[49m\u001B[38;5;241;43m=\u001B[39;49m\u001B[43mtrain\u001B[49m\u001B[43m,\u001B[49m\n\u001B[0;32m    976\u001B[0m \u001B[43m        \u001B[49m\u001B[43mtest\u001B[49m\u001B[38;5;241;43m=\u001B[39;49m\u001B[43mtest\u001B[49m\u001B[43m,\u001B[49m\n\u001B[0;32m    977\u001B[0m \u001B[43m        \u001B[49m\u001B[43mparameters\u001B[49m\u001B[38;5;241;43m=\u001B[39;49m\u001B[43mparameters\u001B[49m\u001B[43m,\u001B[49m\n\u001B[0;32m    978\u001B[0m \u001B[43m        \u001B[49m\u001B[43msplit_progress\u001B[49m\u001B[38;5;241;43m=\u001B[39;49m\u001B[43m(\u001B[49m\u001B[43msplit_idx\u001B[49m\u001B[43m,\u001B[49m\u001B[43m \u001B[49m\u001B[43mn_splits\u001B[49m\u001B[43m)\u001B[49m\u001B[43m,\u001B[49m\n\u001B[0;32m    979\u001B[0m \u001B[43m        \u001B[49m\u001B[43mcandidate_progress\u001B[49m\u001B[38;5;241;43m=\u001B[39;49m\u001B[43m(\u001B[49m\u001B[43mcand_idx\u001B[49m\u001B[43m,\u001B[49m\u001B[43m \u001B[49m\u001B[43mn_candidates\u001B[49m\u001B[43m)\u001B[49m\u001B[43m,\u001B[49m\n\u001B[0;32m    980\u001B[0m \u001B[43m        \u001B[49m\u001B[38;5;241;43m*\u001B[39;49m\u001B[38;5;241;43m*\u001B[39;49m\u001B[43mfit_and_score_kwargs\u001B[49m\u001B[43m,\u001B[49m\n\u001B[0;32m    981\u001B[0m \u001B[43m    \u001B[49m\u001B[43m)\u001B[49m\n\u001B[0;32m    982\u001B[0m \u001B[43m    \u001B[49m\u001B[38;5;28;43;01mfor\u001B[39;49;00m\u001B[43m \u001B[49m\u001B[43m(\u001B[49m\u001B[43mcand_idx\u001B[49m\u001B[43m,\u001B[49m\u001B[43m \u001B[49m\u001B[43mparameters\u001B[49m\u001B[43m)\u001B[49m\u001B[43m,\u001B[49m\u001B[43m \u001B[49m\u001B[43m(\u001B[49m\u001B[43msplit_idx\u001B[49m\u001B[43m,\u001B[49m\u001B[43m \u001B[49m\u001B[43m(\u001B[49m\u001B[43mtrain\u001B[49m\u001B[43m,\u001B[49m\u001B[43m \u001B[49m\u001B[43mtest\u001B[49m\u001B[43m)\u001B[49m\u001B[43m)\u001B[49m\u001B[43m \u001B[49m\u001B[38;5;129;43;01min\u001B[39;49;00m\u001B[43m \u001B[49m\u001B[43mproduct\u001B[49m\u001B[43m(\u001B[49m\n\u001B[0;32m    983\u001B[0m \u001B[43m        \u001B[49m\u001B[38;5;28;43menumerate\u001B[39;49m\u001B[43m(\u001B[49m\u001B[43mcandidate_params\u001B[49m\u001B[43m)\u001B[49m\u001B[43m,\u001B[49m\n\u001B[0;32m    984\u001B[0m \u001B[43m        \u001B[49m\u001B[38;5;28;43menumerate\u001B[39;49m\u001B[43m(\u001B[49m\u001B[43mcv\u001B[49m\u001B[38;5;241;43m.\u001B[39;49m\u001B[43msplit\u001B[49m\u001B[43m(\u001B[49m\u001B[43mX\u001B[49m\u001B[43m,\u001B[49m\u001B[43m \u001B[49m\u001B[43my\u001B[49m\u001B[43m,\u001B[49m\u001B[43m \u001B[49m\u001B[38;5;241;43m*\u001B[39;49m\u001B[38;5;241;43m*\u001B[39;49m\u001B[43mrouted_params\u001B[49m\u001B[38;5;241;43m.\u001B[39;49m\u001B[43msplitter\u001B[49m\u001B[38;5;241;43m.\u001B[39;49m\u001B[43msplit\u001B[49m\u001B[43m)\u001B[49m\u001B[43m)\u001B[49m\u001B[43m,\u001B[49m\n\u001B[0;32m    985\u001B[0m \u001B[43m    \u001B[49m\u001B[43m)\u001B[49m\n\u001B[0;32m    986\u001B[0m \u001B[43m\u001B[49m\u001B[43m)\u001B[49m\n\u001B[0;32m    988\u001B[0m \u001B[38;5;28;01mif\u001B[39;00m \u001B[38;5;28mlen\u001B[39m(out) \u001B[38;5;241m<\u001B[39m \u001B[38;5;241m1\u001B[39m:\n\u001B[0;32m    989\u001B[0m     \u001B[38;5;28;01mraise\u001B[39;00m \u001B[38;5;167;01mValueError\u001B[39;00m(\n\u001B[0;32m    990\u001B[0m         \u001B[38;5;124m\"\u001B[39m\u001B[38;5;124mNo fits were performed. \u001B[39m\u001B[38;5;124m\"\u001B[39m\n\u001B[0;32m    991\u001B[0m         \u001B[38;5;124m\"\u001B[39m\u001B[38;5;124mWas the CV iterator empty? \u001B[39m\u001B[38;5;124m\"\u001B[39m\n\u001B[0;32m    992\u001B[0m         \u001B[38;5;124m\"\u001B[39m\u001B[38;5;124mWere there no candidates?\u001B[39m\u001B[38;5;124m\"\u001B[39m\n\u001B[0;32m    993\u001B[0m     )\n",
      "File \u001B[1;32m~\\AppData\\Local\\Programs\\Python\\Python313\\Lib\\site-packages\\sklearn\\utils\\parallel.py:77\u001B[0m, in \u001B[0;36mParallel.__call__\u001B[1;34m(self, iterable)\u001B[0m\n\u001B[0;32m     72\u001B[0m config \u001B[38;5;241m=\u001B[39m get_config()\n\u001B[0;32m     73\u001B[0m iterable_with_config \u001B[38;5;241m=\u001B[39m (\n\u001B[0;32m     74\u001B[0m     (_with_config(delayed_func, config), args, kwargs)\n\u001B[0;32m     75\u001B[0m     \u001B[38;5;28;01mfor\u001B[39;00m delayed_func, args, kwargs \u001B[38;5;129;01min\u001B[39;00m iterable\n\u001B[0;32m     76\u001B[0m )\n\u001B[1;32m---> 77\u001B[0m \u001B[38;5;28;01mreturn\u001B[39;00m \u001B[38;5;28;43msuper\u001B[39;49m\u001B[43m(\u001B[49m\u001B[43m)\u001B[49m\u001B[38;5;241;43m.\u001B[39;49m\u001B[38;5;21;43m__call__\u001B[39;49m\u001B[43m(\u001B[49m\u001B[43miterable_with_config\u001B[49m\u001B[43m)\u001B[49m\n",
      "File \u001B[1;32m~\\AppData\\Local\\Programs\\Python\\Python313\\Lib\\site-packages\\joblib\\parallel.py:2007\u001B[0m, in \u001B[0;36mParallel.__call__\u001B[1;34m(self, iterable)\u001B[0m\n\u001B[0;32m   2001\u001B[0m \u001B[38;5;66;03m# The first item from the output is blank, but it makes the interpreter\u001B[39;00m\n\u001B[0;32m   2002\u001B[0m \u001B[38;5;66;03m# progress until it enters the Try/Except block of the generator and\u001B[39;00m\n\u001B[0;32m   2003\u001B[0m \u001B[38;5;66;03m# reaches the first `yield` statement. This starts the asynchronous\u001B[39;00m\n\u001B[0;32m   2004\u001B[0m \u001B[38;5;66;03m# dispatch of the tasks to the workers.\u001B[39;00m\n\u001B[0;32m   2005\u001B[0m \u001B[38;5;28mnext\u001B[39m(output)\n\u001B[1;32m-> 2007\u001B[0m \u001B[38;5;28;01mreturn\u001B[39;00m output \u001B[38;5;28;01mif\u001B[39;00m \u001B[38;5;28mself\u001B[39m\u001B[38;5;241m.\u001B[39mreturn_generator \u001B[38;5;28;01melse\u001B[39;00m \u001B[38;5;28;43mlist\u001B[39;49m\u001B[43m(\u001B[49m\u001B[43moutput\u001B[49m\u001B[43m)\u001B[49m\n",
      "File \u001B[1;32m~\\AppData\\Local\\Programs\\Python\\Python313\\Lib\\site-packages\\joblib\\parallel.py:1650\u001B[0m, in \u001B[0;36mParallel._get_outputs\u001B[1;34m(self, iterator, pre_dispatch)\u001B[0m\n\u001B[0;32m   1647\u001B[0m     \u001B[38;5;28;01myield\u001B[39;00m\n\u001B[0;32m   1649\u001B[0m     \u001B[38;5;28;01mwith\u001B[39;00m \u001B[38;5;28mself\u001B[39m\u001B[38;5;241m.\u001B[39m_backend\u001B[38;5;241m.\u001B[39mretrieval_context():\n\u001B[1;32m-> 1650\u001B[0m         \u001B[38;5;28;01myield from\u001B[39;00m \u001B[38;5;28mself\u001B[39m\u001B[38;5;241m.\u001B[39m_retrieve()\n\u001B[0;32m   1652\u001B[0m \u001B[38;5;28;01mexcept\u001B[39;00m \u001B[38;5;167;01mGeneratorExit\u001B[39;00m:\n\u001B[0;32m   1653\u001B[0m     \u001B[38;5;66;03m# The generator has been garbage collected before being fully\u001B[39;00m\n\u001B[0;32m   1654\u001B[0m     \u001B[38;5;66;03m# consumed. This aborts the remaining tasks if possible and warn\u001B[39;00m\n\u001B[0;32m   1655\u001B[0m     \u001B[38;5;66;03m# the user if necessary.\u001B[39;00m\n\u001B[0;32m   1656\u001B[0m     \u001B[38;5;28mself\u001B[39m\u001B[38;5;241m.\u001B[39m_exception \u001B[38;5;241m=\u001B[39m \u001B[38;5;28;01mTrue\u001B[39;00m\n",
      "File \u001B[1;32m~\\AppData\\Local\\Programs\\Python\\Python313\\Lib\\site-packages\\joblib\\parallel.py:1762\u001B[0m, in \u001B[0;36mParallel._retrieve\u001B[1;34m(self)\u001B[0m\n\u001B[0;32m   1757\u001B[0m \u001B[38;5;66;03m# If the next job is not ready for retrieval yet, we just wait for\u001B[39;00m\n\u001B[0;32m   1758\u001B[0m \u001B[38;5;66;03m# async callbacks to progress.\u001B[39;00m\n\u001B[0;32m   1759\u001B[0m \u001B[38;5;28;01mif\u001B[39;00m ((\u001B[38;5;28mlen\u001B[39m(\u001B[38;5;28mself\u001B[39m\u001B[38;5;241m.\u001B[39m_jobs) \u001B[38;5;241m==\u001B[39m \u001B[38;5;241m0\u001B[39m) \u001B[38;5;129;01mor\u001B[39;00m\n\u001B[0;32m   1760\u001B[0m     (\u001B[38;5;28mself\u001B[39m\u001B[38;5;241m.\u001B[39m_jobs[\u001B[38;5;241m0\u001B[39m]\u001B[38;5;241m.\u001B[39mget_status(\n\u001B[0;32m   1761\u001B[0m         timeout\u001B[38;5;241m=\u001B[39m\u001B[38;5;28mself\u001B[39m\u001B[38;5;241m.\u001B[39mtimeout) \u001B[38;5;241m==\u001B[39m TASK_PENDING)):\n\u001B[1;32m-> 1762\u001B[0m     \u001B[43mtime\u001B[49m\u001B[38;5;241;43m.\u001B[39;49m\u001B[43msleep\u001B[49m\u001B[43m(\u001B[49m\u001B[38;5;241;43m0.01\u001B[39;49m\u001B[43m)\u001B[49m\n\u001B[0;32m   1763\u001B[0m     \u001B[38;5;28;01mcontinue\u001B[39;00m\n\u001B[0;32m   1765\u001B[0m \u001B[38;5;66;03m# We need to be careful: the job list can be filling up as\u001B[39;00m\n\u001B[0;32m   1766\u001B[0m \u001B[38;5;66;03m# we empty it and Python list are not thread-safe by\u001B[39;00m\n\u001B[0;32m   1767\u001B[0m \u001B[38;5;66;03m# default hence the use of the lock\u001B[39;00m\n",
      "\u001B[1;31mKeyboardInterrupt\u001B[0m: "
     ]
    }
   ],
   "execution_count": 61
  },
  {
   "metadata": {
    "ExecuteTime": {
     "end_time": "2025-07-08T03:52:49.959147600Z",
     "start_time": "2025-07-07T09:29:15.074103Z"
    }
   },
   "cell_type": "code",
   "source": [
    "# Hasil terbaik\n",
    "best_lgbm = opt_lgbm.best_estimator_\n",
    "print(\"Best Params:\", opt_lgbm.best_params_)"
   ],
   "id": "5ec822905b59d286",
   "outputs": [
    {
     "name": "stdout",
     "output_type": "stream",
     "text": [
      "Best Params: OrderedDict({'colsample_bytree': 0.5, 'learning_rate': 0.05766352720057693, 'max_depth': 9, 'n_estimators': 300, 'scale_pos_weight': 5.0, 'subsample': 0.5})\n"
     ]
    }
   ],
   "execution_count": 83
  },
  {
   "metadata": {
    "ExecuteTime": {
     "end_time": "2025-07-08T03:52:49.959147600Z",
     "start_time": "2025-07-07T09:29:15.082626Z"
    }
   },
   "cell_type": "code",
   "source": [
    "# Prediksi dan probabilitas\n",
    "y_pred_lgbm = best_lgbm.predict(X_test_encoded)\n",
    "y_proba_lgbm = best_lgbm.predict_proba(X_test_encoded)[:, 1]\n"
   ],
   "id": "201f8d910018b250",
   "outputs": [],
   "execution_count": 84
  },
  {
   "metadata": {
    "ExecuteTime": {
     "end_time": "2025-07-08T03:52:49.997634900Z",
     "start_time": "2025-07-07T09:29:15.710091Z"
    }
   },
   "cell_type": "code",
   "source": [
    "# Confusion matrix\n",
    "tn, fp, fn, tp = confusion_matrix(y_test, y_pred_lgbm).ravel()"
   ],
   "id": "4ad54c7ad5fc7af4",
   "outputs": [],
   "execution_count": 85
  },
  {
   "metadata": {
    "ExecuteTime": {
     "end_time": "2025-07-08T03:52:50.002392100Z",
     "start_time": "2025-07-07T09:29:15.798645Z"
    }
   },
   "cell_type": "code",
   "source": [
    "# Hitung metrik\n",
    "auc = roc_auc_score(y_test, y_proba_lgbm)\n",
    "tpr = tp / (tp + fn)\n",
    "tnr = tn / (tn + fp)\n",
    "fpr = fp / (fp + tn)\n",
    "gmean = np.sqrt(tpr * tnr)\n",
    "f1 = f1_score(y_test, y_pred_lgbm)\n",
    "accuracy = accuracy_score(y_test, y_pred_lgbm)\n"
   ],
   "id": "41d37520d967fb52",
   "outputs": [],
   "execution_count": 86
  },
  {
   "metadata": {
    "ExecuteTime": {
     "end_time": "2025-07-08T03:52:50.011314900Z",
     "start_time": "2025-07-07T09:29:15.942113Z"
    }
   },
   "cell_type": "code",
   "source": [
    "# Simpan ke DataFrame\n",
    "lgbm_bayes_metrics_df = pd.DataFrame([{\n",
    "    'Classifier': 'LightGBM (BayesOpt)',\n",
    "    'AUC': round(auc, 4),\n",
    "    'TPR': round(tpr, 4),\n",
    "    'TNR': round(tnr, 4),\n",
    "    'FP - Rate': round(fpr, 4),\n",
    "    'G - Mean': round(gmean, 4),\n",
    "    'F1 - Score': round(f1, 4),\n",
    "    'Akurasi': round(accuracy, 4)\n",
    "}])"
   ],
   "id": "ba945c72c203025c",
   "outputs": [],
   "execution_count": 87
  },
  {
   "metadata": {
    "ExecuteTime": {
     "end_time": "2025-07-08T03:52:50.015506700Z",
     "start_time": "2025-07-07T09:29:16.042256Z"
    }
   },
   "cell_type": "code",
   "source": "lgbm_bayes_metrics_df",
   "id": "34a71277dce12e86",
   "outputs": [
    {
     "data": {
      "text/plain": [
       "            Classifier    AUC     TPR    TNR  FP - Rate  G - Mean  F1 - Score  \\\n",
       "0  LightGBM (BayesOpt)  0.779  0.3302  0.948      0.052    0.5595      0.3436   \n",
       "\n",
       "   Akurasi  \n",
       "0   0.8982  "
      ],
      "text/html": [
       "<div>\n",
       "<style scoped>\n",
       "    .dataframe tbody tr th:only-of-type {\n",
       "        vertical-align: middle;\n",
       "    }\n",
       "\n",
       "    .dataframe tbody tr th {\n",
       "        vertical-align: top;\n",
       "    }\n",
       "\n",
       "    .dataframe thead th {\n",
       "        text-align: right;\n",
       "    }\n",
       "</style>\n",
       "<table border=\"1\" class=\"dataframe\">\n",
       "  <thead>\n",
       "    <tr style=\"text-align: right;\">\n",
       "      <th></th>\n",
       "      <th>Classifier</th>\n",
       "      <th>AUC</th>\n",
       "      <th>TPR</th>\n",
       "      <th>TNR</th>\n",
       "      <th>FP - Rate</th>\n",
       "      <th>G - Mean</th>\n",
       "      <th>F1 - Score</th>\n",
       "      <th>Akurasi</th>\n",
       "    </tr>\n",
       "  </thead>\n",
       "  <tbody>\n",
       "    <tr>\n",
       "      <th>0</th>\n",
       "      <td>LightGBM (BayesOpt)</td>\n",
       "      <td>0.779</td>\n",
       "      <td>0.3302</td>\n",
       "      <td>0.948</td>\n",
       "      <td>0.052</td>\n",
       "      <td>0.5595</td>\n",
       "      <td>0.3436</td>\n",
       "      <td>0.8982</td>\n",
       "    </tr>\n",
       "  </tbody>\n",
       "</table>\n",
       "</div>"
      ]
     },
     "execution_count": 88,
     "metadata": {},
     "output_type": "execute_result"
    }
   ],
   "execution_count": 88
  },
  {
   "metadata": {
    "ExecuteTime": {
     "end_time": "2025-07-08T03:52:50.019109700Z",
     "start_time": "2025-07-07T09:29:16.182440Z"
    }
   },
   "cell_type": "code",
   "source": "",
   "id": "b3b150acd7d19441",
   "outputs": [],
   "execution_count": null
  }
 ],
 "metadata": {
  "kernelspec": {
   "display_name": "Python 3",
   "language": "python",
   "name": "python3"
  },
  "language_info": {
   "codemirror_mode": {
    "name": "ipython",
    "version": 2
   },
   "file_extension": ".py",
   "mimetype": "text/x-python",
   "name": "python",
   "nbconvert_exporter": "python",
   "pygments_lexer": "ipython2",
   "version": "2.7.6"
  }
 },
 "nbformat": 4,
 "nbformat_minor": 5
}
