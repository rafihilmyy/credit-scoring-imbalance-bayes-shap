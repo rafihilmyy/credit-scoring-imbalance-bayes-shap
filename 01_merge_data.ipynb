{
 "cells": [
  {
   "cell_type": "code",
   "metadata": {
    "id": "Cu6cz7yGgZBR",
    "ExecuteTime": {
     "end_time": "2025-07-05T02:26:19.237588Z",
     "start_time": "2025-07-05T02:26:18.940272Z"
    }
   },
   "source": [
    "import pandas as pd\n",
    "import matplotlib.pyplot as plt\n",
    "import numpy as np\n",
    "import seaborn as sns\n",
    "from sklearn.decomposition import PCA\n",
    "from sklearn.preprocessing import StandardScaler\n",
    "import time"
   ],
   "outputs": [],
   "execution_count": 1
  },
  {
   "cell_type": "markdown",
   "metadata": {
    "id": "cD5IeMY3uQCf"
   },
   "source": [
    "# Train Dataset"
   ]
  },
  {
   "cell_type": "code",
   "metadata": {
    "id": "x6E38sPAuOWI",
    "ExecuteTime": {
     "end_time": "2025-07-05T02:26:19.246886Z",
     "start_time": "2025-07-05T02:26:19.240915Z"
    }
   },
   "source": [
    "pd.options.display.max_columns = None\n",
    "pd.options.display.max_rows = None"
   ],
   "outputs": [],
   "execution_count": 2
  },
  {
   "cell_type": "code",
   "metadata": {
    "id": "XVyEdf6vufwv",
    "ExecuteTime": {
     "end_time": "2025-07-05T02:26:48.189131Z",
     "start_time": "2025-07-05T02:26:19.386686Z"
    }
   },
   "source": [
    "# Load Dataset\n",
    "application_train = pd.read_csv(\"D:/Code Skripsi - RL and Ensemble/data/raw/home-credit-default-risk/application_train.csv\")\n",
    "bureau = pd.read_csv(\"D:/Code Skripsi - RL and Ensemble/data/raw/home-credit-default-risk/bureau.csv\")\n",
    "bureau_balance = pd.read_csv(\"D:/Code Skripsi - RL and Ensemble/data/raw/home-credit-default-risk/bureau_balance.csv\")\n",
    "previous_application = pd.read_csv(\"D:/Code Skripsi - RL and Ensemble/data/raw/home-credit-default-risk/previous_application.csv\")\n",
    "pos_cash = pd.read_csv(\"D:/Code Skripsi - RL and Ensemble/data/raw/home-credit-default-risk/POS_CASH_balance.csv\")\n",
    "installments = pd.read_csv(\"D:/Code Skripsi - RL and Ensemble/data/raw/home-credit-default-risk/installments_payments.csv\")\n",
    "credit_card = pd.read_csv(\"D:/Code Skripsi - RL and Ensemble/data/raw/home-credit-default-risk/credit_card_balance.csv\")"
   ],
   "outputs": [],
   "execution_count": 3
  },
  {
   "cell_type": "code",
   "metadata": {
    "colab": {
     "base_uri": "https://localhost:8080/",
     "height": 881
    },
    "id": "Y9Mx9KG5ujm8",
    "outputId": "51ca78e8-6a95-4ae5-e9cf-5e00ac471cd6",
    "ExecuteTime": {
     "end_time": "2025-07-05T02:26:48.353150Z",
     "start_time": "2025-07-05T02:26:48.283156Z"
    }
   },
   "source": [
    "# Display the head of each DataFrame\n",
    "dataframes = [application_train, bureau, bureau_balance, previous_application, pos_cash, installments, credit_card]\n",
    "dataframe_names = ['application_train', 'bureau', 'bureau_balance', 'previous_application', 'pos_cash', 'installments', 'credit_card']\n",
    "\n",
    "for df, name in zip(dataframes, dataframe_names):\n",
    "    print(f\"DataFrame: {name}\")\n",
    "    display(df.head(1))\n",
    "    print(\"\\n\")"
   ],
   "outputs": [
    {
     "name": "stdout",
     "output_type": "stream",
     "text": [
      "DataFrame: application_train\n"
     ]
    },
    {
     "data": {
      "text/plain": [
       "   SK_ID_CURR  TARGET NAME_CONTRACT_TYPE FLAG_OWN_CAR FLAG_OWN_REALTY  \\\n",
       "0      100002       1         Cash loans            N               Y   \n",
       "\n",
       "   CNT_CHILDREN  AMT_INCOME_TOTAL  AMT_CREDIT  AMT_ANNUITY  AMT_GOODS_PRICE  \\\n",
       "0             0          202500.0    406597.5      24700.5         351000.0   \n",
       "\n",
       "  NAME_TYPE_SUITE NAME_INCOME_TYPE            NAME_EDUCATION_TYPE  \\\n",
       "0   Unaccompanied          Working  Secondary / secondary special   \n",
       "\n",
       "     NAME_FAMILY_STATUS  NAME_HOUSING_TYPE  DAYS_BIRTH  DAYS_EMPLOYED  \\\n",
       "0  Single / not married  House / apartment       -9461           -637   \n",
       "\n",
       "   DAYS_REGISTRATION  DAYS_ID_PUBLISH  OWN_CAR_AGE  FLAG_MOBIL  \\\n",
       "0            -3648.0            -2120          NaN           1   \n",
       "\n",
       "   FLAG_EMP_PHONE  FLAG_WORK_PHONE  FLAG_CONT_MOBILE  FLAG_PHONE  FLAG_EMAIL  \\\n",
       "0               1                0                 1           1           0   \n",
       "\n",
       "  OCCUPATION_TYPE  CNT_FAM_MEMBERS WEEKDAY_APPR_PROCESS_START  \\\n",
       "0        Laborers              1.0                  WEDNESDAY   \n",
       "\n",
       "  ORGANIZATION_TYPE  DAYS_LAST_PHONE_CHANGE  \n",
       "0   Business Entity                 -1134.0  "
      ],
      "text/html": [
       "<div>\n",
       "<style scoped>\n",
       "    .dataframe tbody tr th:only-of-type {\n",
       "        vertical-align: middle;\n",
       "    }\n",
       "\n",
       "    .dataframe tbody tr th {\n",
       "        vertical-align: top;\n",
       "    }\n",
       "\n",
       "    .dataframe thead th {\n",
       "        text-align: right;\n",
       "    }\n",
       "</style>\n",
       "<table border=\"1\" class=\"dataframe\">\n",
       "  <thead>\n",
       "    <tr style=\"text-align: right;\">\n",
       "      <th></th>\n",
       "      <th>SK_ID_CURR</th>\n",
       "      <th>TARGET</th>\n",
       "      <th>NAME_CONTRACT_TYPE</th>\n",
       "      <th>FLAG_OWN_CAR</th>\n",
       "      <th>FLAG_OWN_REALTY</th>\n",
       "      <th>CNT_CHILDREN</th>\n",
       "      <th>AMT_INCOME_TOTAL</th>\n",
       "      <th>AMT_CREDIT</th>\n",
       "      <th>AMT_ANNUITY</th>\n",
       "      <th>AMT_GOODS_PRICE</th>\n",
       "      <th>NAME_TYPE_SUITE</th>\n",
       "      <th>NAME_INCOME_TYPE</th>\n",
       "      <th>NAME_EDUCATION_TYPE</th>\n",
       "      <th>NAME_FAMILY_STATUS</th>\n",
       "      <th>NAME_HOUSING_TYPE</th>\n",
       "      <th>DAYS_BIRTH</th>\n",
       "      <th>DAYS_EMPLOYED</th>\n",
       "      <th>DAYS_REGISTRATION</th>\n",
       "      <th>DAYS_ID_PUBLISH</th>\n",
       "      <th>OWN_CAR_AGE</th>\n",
       "      <th>FLAG_MOBIL</th>\n",
       "      <th>FLAG_EMP_PHONE</th>\n",
       "      <th>FLAG_WORK_PHONE</th>\n",
       "      <th>FLAG_CONT_MOBILE</th>\n",
       "      <th>FLAG_PHONE</th>\n",
       "      <th>FLAG_EMAIL</th>\n",
       "      <th>OCCUPATION_TYPE</th>\n",
       "      <th>CNT_FAM_MEMBERS</th>\n",
       "      <th>WEEKDAY_APPR_PROCESS_START</th>\n",
       "      <th>ORGANIZATION_TYPE</th>\n",
       "      <th>DAYS_LAST_PHONE_CHANGE</th>\n",
       "    </tr>\n",
       "  </thead>\n",
       "  <tbody>\n",
       "    <tr>\n",
       "      <th>0</th>\n",
       "      <td>100002</td>\n",
       "      <td>1</td>\n",
       "      <td>Cash loans</td>\n",
       "      <td>N</td>\n",
       "      <td>Y</td>\n",
       "      <td>0</td>\n",
       "      <td>202500.0</td>\n",
       "      <td>406597.5</td>\n",
       "      <td>24700.5</td>\n",
       "      <td>351000.0</td>\n",
       "      <td>Unaccompanied</td>\n",
       "      <td>Working</td>\n",
       "      <td>Secondary / secondary special</td>\n",
       "      <td>Single / not married</td>\n",
       "      <td>House / apartment</td>\n",
       "      <td>-9461</td>\n",
       "      <td>-637</td>\n",
       "      <td>-3648.0</td>\n",
       "      <td>-2120</td>\n",
       "      <td>NaN</td>\n",
       "      <td>1</td>\n",
       "      <td>1</td>\n",
       "      <td>0</td>\n",
       "      <td>1</td>\n",
       "      <td>1</td>\n",
       "      <td>0</td>\n",
       "      <td>Laborers</td>\n",
       "      <td>1.0</td>\n",
       "      <td>WEDNESDAY</td>\n",
       "      <td>Business Entity</td>\n",
       "      <td>-1134.0</td>\n",
       "    </tr>\n",
       "  </tbody>\n",
       "</table>\n",
       "</div>"
      ]
     },
     "metadata": {},
     "output_type": "display_data"
    },
    {
     "name": "stdout",
     "output_type": "stream",
     "text": [
      "\n",
      "\n",
      "DataFrame: bureau\n"
     ]
    },
    {
     "data": {
      "text/plain": [
       "   SK_ID_CURR  SK_ID_BUREAU CREDIT_ACTIVE CREDIT_CURRENCY  DAYS_CREDIT  \\\n",
       "0      215354       5714462        Closed      currency 1         -497   \n",
       "\n",
       "   CREDIT_DAY_OVERDUE  DAYS_CREDIT_ENDDATE  DAYS_ENDDATE_FACT  \\\n",
       "0                   0               -153.0             -153.0   \n",
       "\n",
       "   AMT_CREDIT_MAX_OVERDUE  CNT_CREDIT_PROLONG  AMT_CREDIT_SUM  \\\n",
       "0                     NaN                   0         91323.0   \n",
       "\n",
       "   AMT_CREDIT_SUM_DEBT  AMT_CREDIT_SUM_LIMIT  AMT_CREDIT_SUM_OVERDUE  \\\n",
       "0                  0.0                   NaN                     0.0   \n",
       "\n",
       "       CREDIT_TYPE  DAYS_CREDIT_UPDATE  AMT_ANNUITY  \n",
       "0  Consumer credit                -131          NaN  "
      ],
      "text/html": [
       "<div>\n",
       "<style scoped>\n",
       "    .dataframe tbody tr th:only-of-type {\n",
       "        vertical-align: middle;\n",
       "    }\n",
       "\n",
       "    .dataframe tbody tr th {\n",
       "        vertical-align: top;\n",
       "    }\n",
       "\n",
       "    .dataframe thead th {\n",
       "        text-align: right;\n",
       "    }\n",
       "</style>\n",
       "<table border=\"1\" class=\"dataframe\">\n",
       "  <thead>\n",
       "    <tr style=\"text-align: right;\">\n",
       "      <th></th>\n",
       "      <th>SK_ID_CURR</th>\n",
       "      <th>SK_ID_BUREAU</th>\n",
       "      <th>CREDIT_ACTIVE</th>\n",
       "      <th>CREDIT_CURRENCY</th>\n",
       "      <th>DAYS_CREDIT</th>\n",
       "      <th>CREDIT_DAY_OVERDUE</th>\n",
       "      <th>DAYS_CREDIT_ENDDATE</th>\n",
       "      <th>DAYS_ENDDATE_FACT</th>\n",
       "      <th>AMT_CREDIT_MAX_OVERDUE</th>\n",
       "      <th>CNT_CREDIT_PROLONG</th>\n",
       "      <th>AMT_CREDIT_SUM</th>\n",
       "      <th>AMT_CREDIT_SUM_DEBT</th>\n",
       "      <th>AMT_CREDIT_SUM_LIMIT</th>\n",
       "      <th>AMT_CREDIT_SUM_OVERDUE</th>\n",
       "      <th>CREDIT_TYPE</th>\n",
       "      <th>DAYS_CREDIT_UPDATE</th>\n",
       "      <th>AMT_ANNUITY</th>\n",
       "    </tr>\n",
       "  </thead>\n",
       "  <tbody>\n",
       "    <tr>\n",
       "      <th>0</th>\n",
       "      <td>215354</td>\n",
       "      <td>5714462</td>\n",
       "      <td>Closed</td>\n",
       "      <td>currency 1</td>\n",
       "      <td>-497</td>\n",
       "      <td>0</td>\n",
       "      <td>-153.0</td>\n",
       "      <td>-153.0</td>\n",
       "      <td>NaN</td>\n",
       "      <td>0</td>\n",
       "      <td>91323.0</td>\n",
       "      <td>0.0</td>\n",
       "      <td>NaN</td>\n",
       "      <td>0.0</td>\n",
       "      <td>Consumer credit</td>\n",
       "      <td>-131</td>\n",
       "      <td>NaN</td>\n",
       "    </tr>\n",
       "  </tbody>\n",
       "</table>\n",
       "</div>"
      ]
     },
     "metadata": {},
     "output_type": "display_data"
    },
    {
     "name": "stdout",
     "output_type": "stream",
     "text": [
      "\n",
      "\n",
      "DataFrame: bureau_balance\n"
     ]
    },
    {
     "data": {
      "text/plain": [
       "   SK_ID_BUREAU  MONTHS_BALANCE STATUS\n",
       "0       5715448               0      C"
      ],
      "text/html": [
       "<div>\n",
       "<style scoped>\n",
       "    .dataframe tbody tr th:only-of-type {\n",
       "        vertical-align: middle;\n",
       "    }\n",
       "\n",
       "    .dataframe tbody tr th {\n",
       "        vertical-align: top;\n",
       "    }\n",
       "\n",
       "    .dataframe thead th {\n",
       "        text-align: right;\n",
       "    }\n",
       "</style>\n",
       "<table border=\"1\" class=\"dataframe\">\n",
       "  <thead>\n",
       "    <tr style=\"text-align: right;\">\n",
       "      <th></th>\n",
       "      <th>SK_ID_BUREAU</th>\n",
       "      <th>MONTHS_BALANCE</th>\n",
       "      <th>STATUS</th>\n",
       "    </tr>\n",
       "  </thead>\n",
       "  <tbody>\n",
       "    <tr>\n",
       "      <th>0</th>\n",
       "      <td>5715448</td>\n",
       "      <td>0</td>\n",
       "      <td>C</td>\n",
       "    </tr>\n",
       "  </tbody>\n",
       "</table>\n",
       "</div>"
      ]
     },
     "metadata": {},
     "output_type": "display_data"
    },
    {
     "name": "stdout",
     "output_type": "stream",
     "text": [
      "\n",
      "\n",
      "DataFrame: previous_application\n"
     ]
    },
    {
     "data": {
      "text/plain": [
       "   SK_ID_PREV  SK_ID_CURR NAME_CONTRACT_TYPE  AMT_ANNUITY  AMT_APPLICATION  \\\n",
       "0     2030495      271877     Consumer loans      1730.43          17145.0   \n",
       "\n",
       "   AMT_CREDIT  AMT_DOWN_PAYMENT  AMT_GOODS_PRICE WEEKDAY_APPR_PROCESS_START  \\\n",
       "0     17145.0               0.0          17145.0                   SATURDAY   \n",
       "\n",
       "   HOUR_APPR_PROCESS_START FLAG_LAST_APPL_PER_CONTRACT  \\\n",
       "0                       15                           Y   \n",
       "\n",
       "   NFLAG_LAST_APPL_IN_DAY  RATE_DOWN_PAYMENT  RATE_INTEREST_PRIMARY  \\\n",
       "0                       1                0.0               0.182832   \n",
       "\n",
       "   RATE_INTEREST_PRIVILEGED NAME_CASH_LOAN_PURPOSE NAME_CONTRACT_STATUS  \\\n",
       "0                  0.867336                    XAP             Approved   \n",
       "\n",
       "   DAYS_DECISION      NAME_PAYMENT_TYPE CODE_REJECT_REASON NAME_TYPE_SUITE  \\\n",
       "0            -73  Cash through the bank                XAP             NaN   \n",
       "\n",
       "  NAME_CLIENT_TYPE NAME_GOODS_CATEGORY NAME_PORTFOLIO NAME_PRODUCT_TYPE  \\\n",
       "0         Repeater              Mobile            POS               XNA   \n",
       "\n",
       "   CHANNEL_TYPE  SELLERPLACE_AREA NAME_SELLER_INDUSTRY  CNT_PAYMENT  \\\n",
       "0  Country-wide                35         Connectivity         12.0   \n",
       "\n",
       "  NAME_YIELD_GROUP       PRODUCT_COMBINATION  DAYS_FIRST_DRAWING  \\\n",
       "0           middle  POS mobile with interest            365243.0   \n",
       "\n",
       "   DAYS_FIRST_DUE  DAYS_LAST_DUE_1ST_VERSION  DAYS_LAST_DUE  DAYS_TERMINATION  \\\n",
       "0           -42.0                      300.0          -42.0             -37.0   \n",
       "\n",
       "   NFLAG_INSURED_ON_APPROVAL  \n",
       "0                        0.0  "
      ],
      "text/html": [
       "<div>\n",
       "<style scoped>\n",
       "    .dataframe tbody tr th:only-of-type {\n",
       "        vertical-align: middle;\n",
       "    }\n",
       "\n",
       "    .dataframe tbody tr th {\n",
       "        vertical-align: top;\n",
       "    }\n",
       "\n",
       "    .dataframe thead th {\n",
       "        text-align: right;\n",
       "    }\n",
       "</style>\n",
       "<table border=\"1\" class=\"dataframe\">\n",
       "  <thead>\n",
       "    <tr style=\"text-align: right;\">\n",
       "      <th></th>\n",
       "      <th>SK_ID_PREV</th>\n",
       "      <th>SK_ID_CURR</th>\n",
       "      <th>NAME_CONTRACT_TYPE</th>\n",
       "      <th>AMT_ANNUITY</th>\n",
       "      <th>AMT_APPLICATION</th>\n",
       "      <th>AMT_CREDIT</th>\n",
       "      <th>AMT_DOWN_PAYMENT</th>\n",
       "      <th>AMT_GOODS_PRICE</th>\n",
       "      <th>WEEKDAY_APPR_PROCESS_START</th>\n",
       "      <th>HOUR_APPR_PROCESS_START</th>\n",
       "      <th>FLAG_LAST_APPL_PER_CONTRACT</th>\n",
       "      <th>NFLAG_LAST_APPL_IN_DAY</th>\n",
       "      <th>RATE_DOWN_PAYMENT</th>\n",
       "      <th>RATE_INTEREST_PRIMARY</th>\n",
       "      <th>RATE_INTEREST_PRIVILEGED</th>\n",
       "      <th>NAME_CASH_LOAN_PURPOSE</th>\n",
       "      <th>NAME_CONTRACT_STATUS</th>\n",
       "      <th>DAYS_DECISION</th>\n",
       "      <th>NAME_PAYMENT_TYPE</th>\n",
       "      <th>CODE_REJECT_REASON</th>\n",
       "      <th>NAME_TYPE_SUITE</th>\n",
       "      <th>NAME_CLIENT_TYPE</th>\n",
       "      <th>NAME_GOODS_CATEGORY</th>\n",
       "      <th>NAME_PORTFOLIO</th>\n",
       "      <th>NAME_PRODUCT_TYPE</th>\n",
       "      <th>CHANNEL_TYPE</th>\n",
       "      <th>SELLERPLACE_AREA</th>\n",
       "      <th>NAME_SELLER_INDUSTRY</th>\n",
       "      <th>CNT_PAYMENT</th>\n",
       "      <th>NAME_YIELD_GROUP</th>\n",
       "      <th>PRODUCT_COMBINATION</th>\n",
       "      <th>DAYS_FIRST_DRAWING</th>\n",
       "      <th>DAYS_FIRST_DUE</th>\n",
       "      <th>DAYS_LAST_DUE_1ST_VERSION</th>\n",
       "      <th>DAYS_LAST_DUE</th>\n",
       "      <th>DAYS_TERMINATION</th>\n",
       "      <th>NFLAG_INSURED_ON_APPROVAL</th>\n",
       "    </tr>\n",
       "  </thead>\n",
       "  <tbody>\n",
       "    <tr>\n",
       "      <th>0</th>\n",
       "      <td>2030495</td>\n",
       "      <td>271877</td>\n",
       "      <td>Consumer loans</td>\n",
       "      <td>1730.43</td>\n",
       "      <td>17145.0</td>\n",
       "      <td>17145.0</td>\n",
       "      <td>0.0</td>\n",
       "      <td>17145.0</td>\n",
       "      <td>SATURDAY</td>\n",
       "      <td>15</td>\n",
       "      <td>Y</td>\n",
       "      <td>1</td>\n",
       "      <td>0.0</td>\n",
       "      <td>0.182832</td>\n",
       "      <td>0.867336</td>\n",
       "      <td>XAP</td>\n",
       "      <td>Approved</td>\n",
       "      <td>-73</td>\n",
       "      <td>Cash through the bank</td>\n",
       "      <td>XAP</td>\n",
       "      <td>NaN</td>\n",
       "      <td>Repeater</td>\n",
       "      <td>Mobile</td>\n",
       "      <td>POS</td>\n",
       "      <td>XNA</td>\n",
       "      <td>Country-wide</td>\n",
       "      <td>35</td>\n",
       "      <td>Connectivity</td>\n",
       "      <td>12.0</td>\n",
       "      <td>middle</td>\n",
       "      <td>POS mobile with interest</td>\n",
       "      <td>365243.0</td>\n",
       "      <td>-42.0</td>\n",
       "      <td>300.0</td>\n",
       "      <td>-42.0</td>\n",
       "      <td>-37.0</td>\n",
       "      <td>0.0</td>\n",
       "    </tr>\n",
       "  </tbody>\n",
       "</table>\n",
       "</div>"
      ]
     },
     "metadata": {},
     "output_type": "display_data"
    },
    {
     "name": "stdout",
     "output_type": "stream",
     "text": [
      "\n",
      "\n",
      "DataFrame: pos_cash\n"
     ]
    },
    {
     "data": {
      "text/plain": [
       "   SK_ID_PREV  SK_ID_CURR  MONTHS_BALANCE  CNT_INSTALMENT  \\\n",
       "0     1803195      182943             -31            48.0   \n",
       "\n",
       "   CNT_INSTALMENT_FUTURE NAME_CONTRACT_STATUS  SK_DPD  SK_DPD_DEF  \n",
       "0                   45.0               Active       0           0  "
      ],
      "text/html": [
       "<div>\n",
       "<style scoped>\n",
       "    .dataframe tbody tr th:only-of-type {\n",
       "        vertical-align: middle;\n",
       "    }\n",
       "\n",
       "    .dataframe tbody tr th {\n",
       "        vertical-align: top;\n",
       "    }\n",
       "\n",
       "    .dataframe thead th {\n",
       "        text-align: right;\n",
       "    }\n",
       "</style>\n",
       "<table border=\"1\" class=\"dataframe\">\n",
       "  <thead>\n",
       "    <tr style=\"text-align: right;\">\n",
       "      <th></th>\n",
       "      <th>SK_ID_PREV</th>\n",
       "      <th>SK_ID_CURR</th>\n",
       "      <th>MONTHS_BALANCE</th>\n",
       "      <th>CNT_INSTALMENT</th>\n",
       "      <th>CNT_INSTALMENT_FUTURE</th>\n",
       "      <th>NAME_CONTRACT_STATUS</th>\n",
       "      <th>SK_DPD</th>\n",
       "      <th>SK_DPD_DEF</th>\n",
       "    </tr>\n",
       "  </thead>\n",
       "  <tbody>\n",
       "    <tr>\n",
       "      <th>0</th>\n",
       "      <td>1803195</td>\n",
       "      <td>182943</td>\n",
       "      <td>-31</td>\n",
       "      <td>48.0</td>\n",
       "      <td>45.0</td>\n",
       "      <td>Active</td>\n",
       "      <td>0</td>\n",
       "      <td>0</td>\n",
       "    </tr>\n",
       "  </tbody>\n",
       "</table>\n",
       "</div>"
      ]
     },
     "metadata": {},
     "output_type": "display_data"
    },
    {
     "name": "stdout",
     "output_type": "stream",
     "text": [
      "\n",
      "\n",
      "DataFrame: installments\n"
     ]
    },
    {
     "data": {
      "text/plain": [
       "   SK_ID_PREV  SK_ID_CURR  NUM_INSTALMENT_VERSION  NUM_INSTALMENT_NUMBER  \\\n",
       "0     1054186      161674                     1.0                      6   \n",
       "\n",
       "   DAYS_INSTALMENT  DAYS_ENTRY_PAYMENT  AMT_INSTALMENT  AMT_PAYMENT  \n",
       "0          -1180.0             -1187.0         6948.36      6948.36  "
      ],
      "text/html": [
       "<div>\n",
       "<style scoped>\n",
       "    .dataframe tbody tr th:only-of-type {\n",
       "        vertical-align: middle;\n",
       "    }\n",
       "\n",
       "    .dataframe tbody tr th {\n",
       "        vertical-align: top;\n",
       "    }\n",
       "\n",
       "    .dataframe thead th {\n",
       "        text-align: right;\n",
       "    }\n",
       "</style>\n",
       "<table border=\"1\" class=\"dataframe\">\n",
       "  <thead>\n",
       "    <tr style=\"text-align: right;\">\n",
       "      <th></th>\n",
       "      <th>SK_ID_PREV</th>\n",
       "      <th>SK_ID_CURR</th>\n",
       "      <th>NUM_INSTALMENT_VERSION</th>\n",
       "      <th>NUM_INSTALMENT_NUMBER</th>\n",
       "      <th>DAYS_INSTALMENT</th>\n",
       "      <th>DAYS_ENTRY_PAYMENT</th>\n",
       "      <th>AMT_INSTALMENT</th>\n",
       "      <th>AMT_PAYMENT</th>\n",
       "    </tr>\n",
       "  </thead>\n",
       "  <tbody>\n",
       "    <tr>\n",
       "      <th>0</th>\n",
       "      <td>1054186</td>\n",
       "      <td>161674</td>\n",
       "      <td>1.0</td>\n",
       "      <td>6</td>\n",
       "      <td>-1180.0</td>\n",
       "      <td>-1187.0</td>\n",
       "      <td>6948.36</td>\n",
       "      <td>6948.36</td>\n",
       "    </tr>\n",
       "  </tbody>\n",
       "</table>\n",
       "</div>"
      ]
     },
     "metadata": {},
     "output_type": "display_data"
    },
    {
     "name": "stdout",
     "output_type": "stream",
     "text": [
      "\n",
      "\n",
      "DataFrame: credit_card\n"
     ]
    },
    {
     "data": {
      "text/plain": [
       "   SK_ID_PREV  SK_ID_CURR  MONTHS_BALANCE  AMT_BALANCE  \\\n",
       "0     2562384      378907              -6        56.97   \n",
       "\n",
       "   AMT_CREDIT_LIMIT_ACTUAL  AMT_DRAWINGS_ATM_CURRENT  AMT_DRAWINGS_CURRENT  \\\n",
       "0                   135000                       0.0                 877.5   \n",
       "\n",
       "   AMT_DRAWINGS_OTHER_CURRENT  AMT_DRAWINGS_POS_CURRENT  \\\n",
       "0                         0.0                     877.5   \n",
       "\n",
       "   AMT_INST_MIN_REGULARITY  AMT_PAYMENT_CURRENT  AMT_PAYMENT_TOTAL_CURRENT  \\\n",
       "0                 1700.325               1800.0                     1800.0   \n",
       "\n",
       "   AMT_RECEIVABLE_PRINCIPAL  AMT_RECIVABLE  AMT_TOTAL_RECEIVABLE  \\\n",
       "0                       0.0            0.0                   0.0   \n",
       "\n",
       "   CNT_DRAWINGS_ATM_CURRENT  CNT_DRAWINGS_CURRENT  CNT_DRAWINGS_OTHER_CURRENT  \\\n",
       "0                       0.0                     1                         0.0   \n",
       "\n",
       "   CNT_DRAWINGS_POS_CURRENT  CNT_INSTALMENT_MATURE_CUM NAME_CONTRACT_STATUS  \\\n",
       "0                       1.0                       35.0               Active   \n",
       "\n",
       "   SK_DPD  SK_DPD_DEF  \n",
       "0       0           0  "
      ],
      "text/html": [
       "<div>\n",
       "<style scoped>\n",
       "    .dataframe tbody tr th:only-of-type {\n",
       "        vertical-align: middle;\n",
       "    }\n",
       "\n",
       "    .dataframe tbody tr th {\n",
       "        vertical-align: top;\n",
       "    }\n",
       "\n",
       "    .dataframe thead th {\n",
       "        text-align: right;\n",
       "    }\n",
       "</style>\n",
       "<table border=\"1\" class=\"dataframe\">\n",
       "  <thead>\n",
       "    <tr style=\"text-align: right;\">\n",
       "      <th></th>\n",
       "      <th>SK_ID_PREV</th>\n",
       "      <th>SK_ID_CURR</th>\n",
       "      <th>MONTHS_BALANCE</th>\n",
       "      <th>AMT_BALANCE</th>\n",
       "      <th>AMT_CREDIT_LIMIT_ACTUAL</th>\n",
       "      <th>AMT_DRAWINGS_ATM_CURRENT</th>\n",
       "      <th>AMT_DRAWINGS_CURRENT</th>\n",
       "      <th>AMT_DRAWINGS_OTHER_CURRENT</th>\n",
       "      <th>AMT_DRAWINGS_POS_CURRENT</th>\n",
       "      <th>AMT_INST_MIN_REGULARITY</th>\n",
       "      <th>AMT_PAYMENT_CURRENT</th>\n",
       "      <th>AMT_PAYMENT_TOTAL_CURRENT</th>\n",
       "      <th>AMT_RECEIVABLE_PRINCIPAL</th>\n",
       "      <th>AMT_RECIVABLE</th>\n",
       "      <th>AMT_TOTAL_RECEIVABLE</th>\n",
       "      <th>CNT_DRAWINGS_ATM_CURRENT</th>\n",
       "      <th>CNT_DRAWINGS_CURRENT</th>\n",
       "      <th>CNT_DRAWINGS_OTHER_CURRENT</th>\n",
       "      <th>CNT_DRAWINGS_POS_CURRENT</th>\n",
       "      <th>CNT_INSTALMENT_MATURE_CUM</th>\n",
       "      <th>NAME_CONTRACT_STATUS</th>\n",
       "      <th>SK_DPD</th>\n",
       "      <th>SK_DPD_DEF</th>\n",
       "    </tr>\n",
       "  </thead>\n",
       "  <tbody>\n",
       "    <tr>\n",
       "      <th>0</th>\n",
       "      <td>2562384</td>\n",
       "      <td>378907</td>\n",
       "      <td>-6</td>\n",
       "      <td>56.97</td>\n",
       "      <td>135000</td>\n",
       "      <td>0.0</td>\n",
       "      <td>877.5</td>\n",
       "      <td>0.0</td>\n",
       "      <td>877.5</td>\n",
       "      <td>1700.325</td>\n",
       "      <td>1800.0</td>\n",
       "      <td>1800.0</td>\n",
       "      <td>0.0</td>\n",
       "      <td>0.0</td>\n",
       "      <td>0.0</td>\n",
       "      <td>0.0</td>\n",
       "      <td>1</td>\n",
       "      <td>0.0</td>\n",
       "      <td>1.0</td>\n",
       "      <td>35.0</td>\n",
       "      <td>Active</td>\n",
       "      <td>0</td>\n",
       "      <td>0</td>\n",
       "    </tr>\n",
       "  </tbody>\n",
       "</table>\n",
       "</div>"
      ]
     },
     "metadata": {},
     "output_type": "display_data"
    },
    {
     "name": "stdout",
     "output_type": "stream",
     "text": [
      "\n",
      "\n"
     ]
    }
   ],
   "execution_count": 4
  },
  {
   "cell_type": "markdown",
   "metadata": {
    "id": "75zweo66u2GQ"
   },
   "source": [
    "# Merge Dataset"
   ]
  },
  {
   "metadata": {},
   "cell_type": "code",
   "outputs": [],
   "execution_count": null,
   "source": [
    "# bureau_agg = bureau.groupby('SK_ID_CURR').agg({\n",
    "#     'SK_ID_BUREAU': 'count',\n",
    "#     'AMT_CREDIT_SUM': ['sum', 'mean'],\n",
    "#     'CREDIT_ACTIVE': lambda x: (x == 'Active').sum(),\n",
    "# }).reset_index()\n",
    "#\n",
    "#\n",
    "# bureau_agg.columns = ['SK_ID_CURR', 'NUM_BUREAU_LOANS', 'SUM_CREDIT', 'AVG_CREDIT', 'ACTIVE_LOANS']"
   ]
  },
  {
   "cell_type": "code",
   "metadata": {
    "id": "EVivm2Nsu3_A",
    "ExecuteTime": {
     "end_time": "2025-07-05T02:27:04.585558Z",
     "start_time": "2025-07-05T02:26:48.593818Z"
    }
   },
   "source": [
    "# bureau dataset\n",
    "\n",
    "# Aggregation per SK_ID_CURR\n",
    "bureau_agg = bureau.groupby('SK_ID_CURR').agg({\n",
    "    'SK_ID_BUREAU': 'count',  # Number of external loans\n",
    "    'AMT_CREDIT_SUM': ['sum', 'mean'],  # Total and average credit\n",
    "    'DAYS_CREDIT': ['min', 'max'],  # First and last recorded credit\n",
    "    'CREDIT_ACTIVE': lambda x: (x == 'Active').sum(),  # Active loans count\n",
    "}).reset_index()\n",
    "\n",
    "# Rename columns\n",
    "bureau_agg.columns = ['SK_ID_CURR', 'NUM_BUREAU_LOANS', 'SUM_CREDIT', 'AVG_CREDIT', 'FIRST_CREDIT_DAYS', 'LAST_CREDIT_DAYS', 'ACTIVE_LOANS']"
   ],
   "outputs": [],
   "execution_count": 5
  },
  {
   "cell_type": "code",
   "metadata": {
    "colab": {
     "base_uri": "https://localhost:8080/",
     "height": 206
    },
    "id": "fiXNQ5Mzu9Hn",
    "outputId": "7a785753-e6e8-49b0-8d19-adb9a4be136f",
    "ExecuteTime": {
     "end_time": "2025-07-05T02:27:04.660130Z",
     "start_time": "2025-07-05T02:27:04.650049Z"
    }
   },
   "source": [
    "bureau_agg.head()"
   ],
   "outputs": [
    {
     "data": {
      "text/plain": [
       "   SK_ID_CURR  NUM_BUREAU_LOANS   SUM_CREDIT     AVG_CREDIT  \\\n",
       "0      100001                 7  1453365.000  207623.571429   \n",
       "1      100002                 8   865055.565  108131.945625   \n",
       "2      100003                 4  1017400.500  254350.125000   \n",
       "3      100004                 2   189037.800   94518.900000   \n",
       "4      100005                 3   657126.000  219042.000000   \n",
       "\n",
       "   FIRST_CREDIT_DAYS  LAST_CREDIT_DAYS  ACTIVE_LOANS  \n",
       "0              -1572               -49             3  \n",
       "1              -1437              -103             2  \n",
       "2              -2586              -606             1  \n",
       "3              -1326              -408             0  \n",
       "4               -373               -62             2  "
      ],
      "text/html": [
       "<div>\n",
       "<style scoped>\n",
       "    .dataframe tbody tr th:only-of-type {\n",
       "        vertical-align: middle;\n",
       "    }\n",
       "\n",
       "    .dataframe tbody tr th {\n",
       "        vertical-align: top;\n",
       "    }\n",
       "\n",
       "    .dataframe thead th {\n",
       "        text-align: right;\n",
       "    }\n",
       "</style>\n",
       "<table border=\"1\" class=\"dataframe\">\n",
       "  <thead>\n",
       "    <tr style=\"text-align: right;\">\n",
       "      <th></th>\n",
       "      <th>SK_ID_CURR</th>\n",
       "      <th>NUM_BUREAU_LOANS</th>\n",
       "      <th>SUM_CREDIT</th>\n",
       "      <th>AVG_CREDIT</th>\n",
       "      <th>FIRST_CREDIT_DAYS</th>\n",
       "      <th>LAST_CREDIT_DAYS</th>\n",
       "      <th>ACTIVE_LOANS</th>\n",
       "    </tr>\n",
       "  </thead>\n",
       "  <tbody>\n",
       "    <tr>\n",
       "      <th>0</th>\n",
       "      <td>100001</td>\n",
       "      <td>7</td>\n",
       "      <td>1453365.000</td>\n",
       "      <td>207623.571429</td>\n",
       "      <td>-1572</td>\n",
       "      <td>-49</td>\n",
       "      <td>3</td>\n",
       "    </tr>\n",
       "    <tr>\n",
       "      <th>1</th>\n",
       "      <td>100002</td>\n",
       "      <td>8</td>\n",
       "      <td>865055.565</td>\n",
       "      <td>108131.945625</td>\n",
       "      <td>-1437</td>\n",
       "      <td>-103</td>\n",
       "      <td>2</td>\n",
       "    </tr>\n",
       "    <tr>\n",
       "      <th>2</th>\n",
       "      <td>100003</td>\n",
       "      <td>4</td>\n",
       "      <td>1017400.500</td>\n",
       "      <td>254350.125000</td>\n",
       "      <td>-2586</td>\n",
       "      <td>-606</td>\n",
       "      <td>1</td>\n",
       "    </tr>\n",
       "    <tr>\n",
       "      <th>3</th>\n",
       "      <td>100004</td>\n",
       "      <td>2</td>\n",
       "      <td>189037.800</td>\n",
       "      <td>94518.900000</td>\n",
       "      <td>-1326</td>\n",
       "      <td>-408</td>\n",
       "      <td>0</td>\n",
       "    </tr>\n",
       "    <tr>\n",
       "      <th>4</th>\n",
       "      <td>100005</td>\n",
       "      <td>3</td>\n",
       "      <td>657126.000</td>\n",
       "      <td>219042.000000</td>\n",
       "      <td>-373</td>\n",
       "      <td>-62</td>\n",
       "      <td>2</td>\n",
       "    </tr>\n",
       "  </tbody>\n",
       "</table>\n",
       "</div>"
      ]
     },
     "execution_count": 6,
     "metadata": {},
     "output_type": "execute_result"
    }
   ],
   "execution_count": 6
  },
  {
   "cell_type": "code",
   "metadata": {
    "id": "0Ed-u4w5vCdO",
    "ExecuteTime": {
     "end_time": "2025-07-05T02:27:04.779389Z",
     "start_time": "2025-07-05T02:27:04.694404Z"
    }
   },
   "source": [
    "# Merge with main dataset\n",
    "application_train = application_train.merge(bureau_agg, on='SK_ID_CURR', how='left')"
   ],
   "outputs": [],
   "execution_count": 7
  },
  {
   "metadata": {},
   "cell_type": "code",
   "outputs": [],
   "execution_count": null,
   "source": [
    "# bureau_balance_agg = bureau_balance.groupby('SK_ID_BUREAU').agg({\n",
    "#     'STATUS': lambda x: (x.astype(str) > '0').sum()\n",
    "# }).reset_index()\n",
    "# bureau_balance_agg.columns = ['SK_ID_BUREAU', 'OVERDUE_MONTHS']\n",
    "# bureau = bureau.merge(bureau_balance_agg, on='SK_ID_BUREAU', how='left')"
   ]
  },
  {
   "cell_type": "code",
   "metadata": {
    "id": "Af0WebCjvbW4",
    "ExecuteTime": {
     "end_time": "2025-07-05T02:28:13.539998Z",
     "start_time": "2025-07-05T02:27:04.808730Z"
    }
   },
   "source": [
    "# bureau_balance dataset\n",
    "\n",
    "# Aggregate per loan (SK_ID_BUREAU)\n",
    "bureau_balance_agg = bureau_balance.groupby('SK_ID_BUREAU').agg({\n",
    "    'MONTHS_BALANCE': ['min', 'max'],  # First and last recorded month\n",
    "    'STATUS': lambda x: (x.astype(str) > '0').sum()  # Overdue months count\n",
    "}).reset_index()\n",
    "\n",
    "# Rename columns\n",
    "bureau_balance_agg.columns = ['SK_ID_BUREAU', 'FIRST_MONTH_BALANCE', 'LAST_MONTH_BALANCE', 'OVERDUE_MONTHS']\n",
    "\n",
    "# Merge with bureau dataset\n",
    "bureau = bureau.merge(bureau_balance_agg, on='SK_ID_BUREAU', how='left')"
   ],
   "outputs": [],
   "execution_count": 8
  },
  {
   "cell_type": "code",
   "metadata": {
    "colab": {
     "base_uri": "https://localhost:8080/",
     "height": 206
    },
    "id": "Qi0qJgj3vdwP",
    "outputId": "64d28a92-2ef4-41b3-dbf2-26a770a1c7f7",
    "ExecuteTime": {
     "end_time": "2025-07-05T02:28:13.641396Z",
     "start_time": "2025-07-05T02:28:13.631949Z"
    }
   },
   "source": "bureau_balance_agg.head()",
   "outputs": [
    {
     "data": {
      "text/plain": [
       "   SK_ID_BUREAU  FIRST_MONTH_BALANCE  LAST_MONTH_BALANCE  OVERDUE_MONTHS\n",
       "0       5001709                  -96                   0              97\n",
       "1       5001710                  -82                   0              78\n",
       "2       5001711                   -3                   0               1\n",
       "3       5001712                  -18                   0               9\n",
       "4       5001713                  -21                   0              22"
      ],
      "text/html": [
       "<div>\n",
       "<style scoped>\n",
       "    .dataframe tbody tr th:only-of-type {\n",
       "        vertical-align: middle;\n",
       "    }\n",
       "\n",
       "    .dataframe tbody tr th {\n",
       "        vertical-align: top;\n",
       "    }\n",
       "\n",
       "    .dataframe thead th {\n",
       "        text-align: right;\n",
       "    }\n",
       "</style>\n",
       "<table border=\"1\" class=\"dataframe\">\n",
       "  <thead>\n",
       "    <tr style=\"text-align: right;\">\n",
       "      <th></th>\n",
       "      <th>SK_ID_BUREAU</th>\n",
       "      <th>FIRST_MONTH_BALANCE</th>\n",
       "      <th>LAST_MONTH_BALANCE</th>\n",
       "      <th>OVERDUE_MONTHS</th>\n",
       "    </tr>\n",
       "  </thead>\n",
       "  <tbody>\n",
       "    <tr>\n",
       "      <th>0</th>\n",
       "      <td>5001709</td>\n",
       "      <td>-96</td>\n",
       "      <td>0</td>\n",
       "      <td>97</td>\n",
       "    </tr>\n",
       "    <tr>\n",
       "      <th>1</th>\n",
       "      <td>5001710</td>\n",
       "      <td>-82</td>\n",
       "      <td>0</td>\n",
       "      <td>78</td>\n",
       "    </tr>\n",
       "    <tr>\n",
       "      <th>2</th>\n",
       "      <td>5001711</td>\n",
       "      <td>-3</td>\n",
       "      <td>0</td>\n",
       "      <td>1</td>\n",
       "    </tr>\n",
       "    <tr>\n",
       "      <th>3</th>\n",
       "      <td>5001712</td>\n",
       "      <td>-18</td>\n",
       "      <td>0</td>\n",
       "      <td>9</td>\n",
       "    </tr>\n",
       "    <tr>\n",
       "      <th>4</th>\n",
       "      <td>5001713</td>\n",
       "      <td>-21</td>\n",
       "      <td>0</td>\n",
       "      <td>22</td>\n",
       "    </tr>\n",
       "  </tbody>\n",
       "</table>\n",
       "</div>"
      ]
     },
     "execution_count": 9,
     "metadata": {},
     "output_type": "execute_result"
    }
   ],
   "execution_count": 9
  },
  {
   "metadata": {},
   "cell_type": "code",
   "outputs": [],
   "execution_count": null,
   "source": [
    "bureau_final_agg = bureau.groupby('SK_ID_CURR').agg({\n",
    "    'OVERDUE_MONTHS': 'sum'\n",
    "}).reset_index()"
   ]
  },
  {
   "cell_type": "code",
   "metadata": {
    "id": "zEDa3brTvgUu",
    "ExecuteTime": {
     "end_time": "2025-07-05T02:28:13.895504Z",
     "start_time": "2025-07-05T02:28:13.700097Z"
    }
   },
   "source": [
    "# Aggregate per SK_ID_CURR\n",
    "bureau_final_agg = bureau.groupby('SK_ID_CURR').agg({\n",
    "    'OVERDUE_MONTHS': 'sum',  # Total overdue months\n",
    "    'FIRST_MONTH_BALANCE': 'min',  # First recorded month\n",
    "    'LAST_MONTH_BALANCE': 'max',  # Last recorded month\n",
    "}).reset_index()"
   ],
   "outputs": [],
   "execution_count": 10
  },
  {
   "cell_type": "code",
   "metadata": {
    "id": "1pT1iNVJvjqP",
    "ExecuteTime": {
     "end_time": "2025-07-05T02:28:14.019939Z",
     "start_time": "2025-07-05T02:28:13.925562Z"
    }
   },
   "source": [
    "# Merge with main dataset\n",
    "application_train = application_train.merge(bureau_final_agg, on='SK_ID_CURR', how='left')"
   ],
   "outputs": [],
   "execution_count": 11
  },
  {
   "metadata": {},
   "cell_type": "code",
   "outputs": [],
   "execution_count": null,
   "source": [
    "previous_agg = previous_application.groupby('SK_ID_CURR').agg({\n",
    "    'SK_ID_PREV': 'count',\n",
    "    'AMT_CREDIT': ['sum', 'mean']\n",
    "}).reset_index()\n",
    "previous_agg.columns = ['SK_ID_CURR', 'NUM_PREV_LOANS', 'SUM_PREV_CREDIT', 'AVG_PREV_CREDIT']"
   ]
  },
  {
   "cell_type": "code",
   "metadata": {
    "id": "PLGr7jSqwOcO",
    "ExecuteTime": {
     "end_time": "2025-07-05T02:28:14.361905Z",
     "start_time": "2025-07-05T02:28:14.077325Z"
    }
   },
   "source": [
    "# previous_application dataset\n",
    "\n",
    "# Aggregate per SK_ID_CURR\n",
    "previous_agg = previous_application.groupby('SK_ID_CURR').agg({\n",
    "    'SK_ID_PREV': 'count',  # Number of previous loans\n",
    "    'AMT_CREDIT': ['sum', 'mean'],  # Total and average credit\n",
    "    'DAYS_DECISION': 'min',  # Most recent loan decision\n",
    "}).reset_index()\n",
    "\n",
    "# Rename columns\n",
    "previous_agg.columns = ['SK_ID_CURR', 'NUM_PREV_LOANS', 'SUM_PREV_CREDIT', 'AVG_PREV_CREDIT']"
   ],
   "outputs": [],
   "execution_count": 12
  },
  {
   "metadata": {},
   "cell_type": "code",
   "outputs": [],
   "execution_count": null,
   "source": [
    "previous_agg = previous_application.groupby('SK_ID_CURR').agg({\n",
    "    'SK_ID_PREV': 'count',\n",
    "    'AMT_CREDIT': ['sum', 'mean'],\n",
    "previous_agg.columns = ['SK_ID_CURR', 'NUM_PREV_LOANS', 'SUM_PREV_CREDIT', 'AVG_PREV_CREDIT']"
   ]
  },
  {
   "cell_type": "code",
   "metadata": {
    "colab": {
     "base_uri": "https://localhost:8080/",
     "height": 206
    },
    "id": "l4M5CYO1wRMP",
    "outputId": "8baa56b4-8777-43ea-cd8c-b3233c349cd1",
    "ExecuteTime": {
     "end_time": "2025-07-05T02:28:14.386800Z",
     "start_time": "2025-07-05T02:28:14.379120Z"
    }
   },
   "source": [
    "previous_agg.head()"
   ],
   "outputs": [
    {
     "data": {
      "text/plain": [
       "   SK_ID_CURR  NUM_PREV_LOANS  SUM_PREV_CREDIT  AVG_PREV_CREDIT  \\\n",
       "0      100001               1          23787.0         23787.00   \n",
       "1      100002               1         179055.0        179055.00   \n",
       "2      100003               3        1452573.0        484191.00   \n",
       "3      100004               1          20106.0         20106.00   \n",
       "4      100005               2          40153.5         20076.75   \n",
       "\n",
       "   RECENT_LOAN_DAYS  \n",
       "0             -1740  \n",
       "1              -606  \n",
       "2             -2341  \n",
       "3              -815  \n",
       "4              -757  "
      ],
      "text/html": [
       "<div>\n",
       "<style scoped>\n",
       "    .dataframe tbody tr th:only-of-type {\n",
       "        vertical-align: middle;\n",
       "    }\n",
       "\n",
       "    .dataframe tbody tr th {\n",
       "        vertical-align: top;\n",
       "    }\n",
       "\n",
       "    .dataframe thead th {\n",
       "        text-align: right;\n",
       "    }\n",
       "</style>\n",
       "<table border=\"1\" class=\"dataframe\">\n",
       "  <thead>\n",
       "    <tr style=\"text-align: right;\">\n",
       "      <th></th>\n",
       "      <th>SK_ID_CURR</th>\n",
       "      <th>NUM_PREV_LOANS</th>\n",
       "      <th>SUM_PREV_CREDIT</th>\n",
       "      <th>AVG_PREV_CREDIT</th>\n",
       "      <th>RECENT_LOAN_DAYS</th>\n",
       "    </tr>\n",
       "  </thead>\n",
       "  <tbody>\n",
       "    <tr>\n",
       "      <th>0</th>\n",
       "      <td>100001</td>\n",
       "      <td>1</td>\n",
       "      <td>23787.0</td>\n",
       "      <td>23787.00</td>\n",
       "      <td>-1740</td>\n",
       "    </tr>\n",
       "    <tr>\n",
       "      <th>1</th>\n",
       "      <td>100002</td>\n",
       "      <td>1</td>\n",
       "      <td>179055.0</td>\n",
       "      <td>179055.00</td>\n",
       "      <td>-606</td>\n",
       "    </tr>\n",
       "    <tr>\n",
       "      <th>2</th>\n",
       "      <td>100003</td>\n",
       "      <td>3</td>\n",
       "      <td>1452573.0</td>\n",
       "      <td>484191.00</td>\n",
       "      <td>-2341</td>\n",
       "    </tr>\n",
       "    <tr>\n",
       "      <th>3</th>\n",
       "      <td>100004</td>\n",
       "      <td>1</td>\n",
       "      <td>20106.0</td>\n",
       "      <td>20106.00</td>\n",
       "      <td>-815</td>\n",
       "    </tr>\n",
       "    <tr>\n",
       "      <th>4</th>\n",
       "      <td>100005</td>\n",
       "      <td>2</td>\n",
       "      <td>40153.5</td>\n",
       "      <td>20076.75</td>\n",
       "      <td>-757</td>\n",
       "    </tr>\n",
       "  </tbody>\n",
       "</table>\n",
       "</div>"
      ]
     },
     "execution_count": 13,
     "metadata": {},
     "output_type": "execute_result"
    }
   ],
   "execution_count": 13
  },
  {
   "cell_type": "code",
   "metadata": {
    "id": "65mcGFpKwTgc",
    "ExecuteTime": {
     "end_time": "2025-07-05T02:28:14.556703Z",
     "start_time": "2025-07-05T02:28:14.456736Z"
    }
   },
   "source": [
    "# Merge with main dataset\n",
    "application_train = application_train.merge(previous_agg, on='SK_ID_CURR', how='left')"
   ],
   "outputs": [],
   "execution_count": 14
  },
  {
   "cell_type": "code",
   "metadata": {
    "id": "Z-MXWOROwV0k",
    "ExecuteTime": {
     "end_time": "2025-07-05T02:28:15.707724Z",
     "start_time": "2025-07-05T02:28:14.591767Z"
    }
   },
   "source": [
    "# POS_CASH_balance dataset\n",
    "\n",
    "# Aggregate per SK_ID_PREV\n",
    "pos_cash_agg = pos_cash.groupby('SK_ID_PREV').agg({\n",
    "    'MONTHS_BALANCE': ['min', 'max'],  # First and last recorded month\n",
    "}).reset_index()\n",
    "\n",
    "# Fix Multi-Level Column Names\n",
    "pos_cash_agg.columns = ['_'.join(col).strip() if isinstance(col, tuple) else col for col in pos_cash_agg.columns]\n",
    "\n",
    "# Rename the key column properly\n",
    "pos_cash_agg.rename(columns={'SK_ID_PREV_': 'SK_ID_PREV'}, inplace=True)"
   ],
   "outputs": [],
   "execution_count": 15
  },
  {
   "cell_type": "code",
   "metadata": {
    "colab": {
     "base_uri": "https://localhost:8080/",
     "height": 206
    },
    "id": "0nIPmI09wYmU",
    "outputId": "32bf0f93-ead5-4cc3-ec3f-23dfdba60256",
    "ExecuteTime": {
     "end_time": "2025-07-05T02:28:15.779172Z",
     "start_time": "2025-07-05T02:28:15.771368Z"
    }
   },
   "source": [
    "pos_cash_agg.head()"
   ],
   "outputs": [
    {
     "data": {
      "text/plain": [
       "   SK_ID_PREV  MONTHS_BALANCE_min  MONTHS_BALANCE_max\n",
       "0     1000001                 -10                  -8\n",
       "1     1000002                 -54                 -50\n",
       "2     1000003                  -4                  -1\n",
       "3     1000004                 -29                 -22\n",
       "4     1000005                 -56                 -46"
      ],
      "text/html": [
       "<div>\n",
       "<style scoped>\n",
       "    .dataframe tbody tr th:only-of-type {\n",
       "        vertical-align: middle;\n",
       "    }\n",
       "\n",
       "    .dataframe tbody tr th {\n",
       "        vertical-align: top;\n",
       "    }\n",
       "\n",
       "    .dataframe thead th {\n",
       "        text-align: right;\n",
       "    }\n",
       "</style>\n",
       "<table border=\"1\" class=\"dataframe\">\n",
       "  <thead>\n",
       "    <tr style=\"text-align: right;\">\n",
       "      <th></th>\n",
       "      <th>SK_ID_PREV</th>\n",
       "      <th>MONTHS_BALANCE_min</th>\n",
       "      <th>MONTHS_BALANCE_max</th>\n",
       "    </tr>\n",
       "  </thead>\n",
       "  <tbody>\n",
       "    <tr>\n",
       "      <th>0</th>\n",
       "      <td>1000001</td>\n",
       "      <td>-10</td>\n",
       "      <td>-8</td>\n",
       "    </tr>\n",
       "    <tr>\n",
       "      <th>1</th>\n",
       "      <td>1000002</td>\n",
       "      <td>-54</td>\n",
       "      <td>-50</td>\n",
       "    </tr>\n",
       "    <tr>\n",
       "      <th>2</th>\n",
       "      <td>1000003</td>\n",
       "      <td>-4</td>\n",
       "      <td>-1</td>\n",
       "    </tr>\n",
       "    <tr>\n",
       "      <th>3</th>\n",
       "      <td>1000004</td>\n",
       "      <td>-29</td>\n",
       "      <td>-22</td>\n",
       "    </tr>\n",
       "    <tr>\n",
       "      <th>4</th>\n",
       "      <td>1000005</td>\n",
       "      <td>-56</td>\n",
       "      <td>-46</td>\n",
       "    </tr>\n",
       "  </tbody>\n",
       "</table>\n",
       "</div>"
      ]
     },
     "execution_count": 16,
     "metadata": {},
     "output_type": "execute_result"
    }
   ],
   "execution_count": 16
  },
  {
   "metadata": {},
   "cell_type": "code",
   "outputs": [],
   "execution_count": null,
   "source": [
    "previous_application = previous_application.merge(pos_cash_agg, on='SK_ID_PREV', how='left')\n",
    "pos_cash_final_agg = previous_application.groupby('SK_ID_CURR').agg({\n",
    "    'MONTHS_BALANCE_min': 'min',\n",
    "    'MONTHS_BALANCE_max': 'max',\n",
    "}).reset_index()"
   ]
  },
  {
   "cell_type": "code",
   "metadata": {
    "id": "HjzTVfk_weJa",
    "ExecuteTime": {
     "end_time": "2025-07-05T02:28:16.682411Z",
     "start_time": "2025-07-05T02:28:15.905892Z"
    }
   },
   "source": [
    "# Merge with previous_application before aggregating per SK_ID_CURR\n",
    "previous_application = previous_application.merge(pos_cash_agg, on='SK_ID_PREV', how='left')\n",
    "\n",
    "# Aggregate per SK_ID_CURR\n",
    "pos_cash_final_agg = previous_application.groupby('SK_ID_CURR').agg({\n",
    "    'MONTHS_BALANCE_min': 'min',  # First recorded month\n",
    "    'MONTHS_BALANCE_max': 'max',  # Last recorded month\n",
    "}).reset_index()"
   ],
   "outputs": [],
   "execution_count": 17
  },
  {
   "cell_type": "code",
   "metadata": {
    "id": "rcoP6KAXwkI2",
    "ExecuteTime": {
     "end_time": "2025-07-05T02:28:16.830368Z",
     "start_time": "2025-07-05T02:28:16.708347Z"
    }
   },
   "source": [
    "# Merge with main dataset\n",
    "application_train = application_train.merge(pos_cash_final_agg, on='SK_ID_CURR', how='left')"
   ],
   "outputs": [],
   "execution_count": 18
  },
  {
   "metadata": {},
   "cell_type": "code",
   "outputs": [],
   "execution_count": null,
   "source": [
    "installments_agg = installments.groupby('SK_ID_PREV').agg({\n",
    "    'AMT_PAYMENT': 'mean',\n",
    "}).reset_index()"
   ]
  },
  {
   "cell_type": "code",
   "metadata": {
    "id": "OCy_Ubk7wm_X",
    "ExecuteTime": {
     "end_time": "2025-07-05T02:29:10.985984Z",
     "start_time": "2025-07-05T02:28:16.830368Z"
    }
   },
   "source": [
    "# installments_payments dataset\n",
    "\n",
    "# Aggregate per SK_ID_PREV\n",
    "installments_agg = installments.groupby('SK_ID_PREV').agg({\n",
    "    'AMT_PAYMENT': 'mean',  # Average installment payment\n",
    "    'DAYS_ENTRY_PAYMENT': lambda x: (x > 0).sum()  # Count of late payments\n",
    "}).reset_index()"
   ],
   "outputs": [],
   "execution_count": 19
  },
  {
   "cell_type": "code",
   "metadata": {
    "colab": {
     "base_uri": "https://localhost:8080/",
     "height": 206
    },
    "id": "LKGYefGswo6g",
    "outputId": "41436e85-1b21-42b0-8364-6e6fa02af911",
    "ExecuteTime": {
     "end_time": "2025-07-05T02:29:11.048234Z",
     "start_time": "2025-07-05T02:29:11.036413Z"
    }
   },
   "source": [
    "installments_agg.head()"
   ],
   "outputs": [
    {
     "data": {
      "text/plain": [
       "   SK_ID_PREV   AMT_PAYMENT  DAYS_ENTRY_PAYMENT\n",
       "0     1000001  34221.712500                   0\n",
       "1     1000002   9308.891250                   0\n",
       "2     1000003   4951.350000                   0\n",
       "3     1000004   4789.022143                   0\n",
       "4     1000005  13365.609545                   0"
      ],
      "text/html": [
       "<div>\n",
       "<style scoped>\n",
       "    .dataframe tbody tr th:only-of-type {\n",
       "        vertical-align: middle;\n",
       "    }\n",
       "\n",
       "    .dataframe tbody tr th {\n",
       "        vertical-align: top;\n",
       "    }\n",
       "\n",
       "    .dataframe thead th {\n",
       "        text-align: right;\n",
       "    }\n",
       "</style>\n",
       "<table border=\"1\" class=\"dataframe\">\n",
       "  <thead>\n",
       "    <tr style=\"text-align: right;\">\n",
       "      <th></th>\n",
       "      <th>SK_ID_PREV</th>\n",
       "      <th>AMT_PAYMENT</th>\n",
       "      <th>DAYS_ENTRY_PAYMENT</th>\n",
       "    </tr>\n",
       "  </thead>\n",
       "  <tbody>\n",
       "    <tr>\n",
       "      <th>0</th>\n",
       "      <td>1000001</td>\n",
       "      <td>34221.712500</td>\n",
       "      <td>0</td>\n",
       "    </tr>\n",
       "    <tr>\n",
       "      <th>1</th>\n",
       "      <td>1000002</td>\n",
       "      <td>9308.891250</td>\n",
       "      <td>0</td>\n",
       "    </tr>\n",
       "    <tr>\n",
       "      <th>2</th>\n",
       "      <td>1000003</td>\n",
       "      <td>4951.350000</td>\n",
       "      <td>0</td>\n",
       "    </tr>\n",
       "    <tr>\n",
       "      <th>3</th>\n",
       "      <td>1000004</td>\n",
       "      <td>4789.022143</td>\n",
       "      <td>0</td>\n",
       "    </tr>\n",
       "    <tr>\n",
       "      <th>4</th>\n",
       "      <td>1000005</td>\n",
       "      <td>13365.609545</td>\n",
       "      <td>0</td>\n",
       "    </tr>\n",
       "  </tbody>\n",
       "</table>\n",
       "</div>"
      ]
     },
     "execution_count": 20,
     "metadata": {},
     "output_type": "execute_result"
    }
   ],
   "execution_count": 20
  },
  {
   "metadata": {},
   "cell_type": "code",
   "outputs": [],
   "execution_count": null,
   "source": [
    "previous_application = previous_application.merge(installments_agg, on='SK_ID_PREV', how='left')\n",
    "installments_final_agg = previous_application.groupby('SK_ID_CURR').agg({\n",
    "    'AMT_PAYMENT': 'mean'\n",
    "}).reset_index()"
   ]
  },
  {
   "cell_type": "code",
   "metadata": {
    "id": "NAVKC3iOxDUY",
    "ExecuteTime": {
     "end_time": "2025-07-05T02:29:12.148319Z",
     "start_time": "2025-07-05T02:29:11.114359Z"
    }
   },
   "source": [
    "# Merge with previous_application\n",
    "previous_application = previous_application.merge(installments_agg, on='SK_ID_PREV', how='left')\n",
    "\n",
    "# Aggregate per SK_ID_CURR\n",
    "installments_final_agg = previous_application.groupby('SK_ID_CURR').agg({\n",
    "    'AMT_PAYMENT': 'mean',  # Average installment payment\n",
    "    'DAYS_ENTRY_PAYMENT': 'sum'  # Total late payments\n",
    "}).reset_index()"
   ],
   "outputs": [],
   "execution_count": 21
  },
  {
   "cell_type": "code",
   "metadata": {
    "id": "7v6CUhiIxEyJ",
    "ExecuteTime": {
     "end_time": "2025-07-05T02:29:12.288761Z",
     "start_time": "2025-07-05T02:29:12.174455Z"
    }
   },
   "source": [
    "# Merge with main dataset\n",
    "application_train = application_train.merge(installments_final_agg, on='SK_ID_CURR', how='left')"
   ],
   "outputs": [],
   "execution_count": 22
  },
  {
   "cell_type": "code",
   "metadata": {
    "colab": {
     "base_uri": "https://localhost:8080/"
    },
    "id": "2mkgSGupxHTC",
    "outputId": "77404488-5951-4aeb-ee3e-e64c8b3653dc",
    "ExecuteTime": {
     "end_time": "2025-07-05T02:29:12.301991Z",
     "start_time": "2025-07-05T02:29:12.294622Z"
    }
   },
   "source": [
    "application_train.shape"
   ],
   "outputs": [
    {
     "data": {
      "text/plain": [
       "(307511, 48)"
      ]
     },
     "execution_count": 23,
     "metadata": {},
     "output_type": "execute_result"
    }
   ],
   "execution_count": 23
  },
  {
   "metadata": {
    "ExecuteTime": {
     "end_time": "2025-07-05T02:29:12.427284Z",
     "start_time": "2025-07-05T02:29:12.344196Z"
    }
   },
   "cell_type": "code",
   "source": [
    "kolom = [\n",
    "    \"AMT_INCOME_TOTAL\",\n",
    "    \"AMT_CREDIT\",\n",
    "    \"AMT_ANNUITY\",\n",
    "    \"AMT_GOODS_PRICE\",\n",
    "    \"SUM_CREDIT\",\n",
    "    \"AVG_CREDIT\",\n",
    "    \"SUM_PREV_CREDIT\",\n",
    "    \"AVG_PREV_CREDIT\",\n",
    "    \"AMT_PAYMENT\",\n",
    "]\n",
    "application_train[kolom] = application_train[kolom] * 207.15"
   ],
   "outputs": [],
   "execution_count": 24
  },
  {
   "metadata": {
    "ExecuteTime": {
     "end_time": "2025-07-05T02:29:12.474520Z",
     "start_time": "2025-07-05T02:29:12.468576Z"
    }
   },
   "cell_type": "code",
   "source": [
    "print(f\"application_train shape: {application_train.shape}\")\n",
    "print(f\"bureau shape: {bureau.shape}\")\n",
    "print(f\"bureau_balance shape: {bureau_balance.shape}\")\n",
    "print(f\"previous_application shape: {previous_application.shape}\")\n",
    "print(f\"POS_CASH_balance shape: {pos_cash.shape}\")\n",
    "print(f\"installments_payments shape: {installments.shape}\")\n",
    "print(f\"credit_card_balance shape: {credit_card.shape}\")"
   ],
   "outputs": [
    {
     "name": "stdout",
     "output_type": "stream",
     "text": [
      "application_train shape: (307511, 48)\n",
      "bureau shape: (1716428, 20)\n",
      "bureau_balance shape: (27299925, 3)\n",
      "previous_application shape: (1670214, 41)\n",
      "POS_CASH_balance shape: (10001358, 8)\n",
      "installments_payments shape: (13605401, 8)\n",
      "credit_card_balance shape: (3840312, 23)\n"
     ]
    }
   ],
   "execution_count": 25
  },
  {
   "metadata": {
    "ExecuteTime": {
     "end_time": "2025-07-05T02:29:17.880851Z",
     "start_time": "2025-07-05T02:29:12.530627Z"
    }
   },
   "cell_type": "code",
   "source": "application_train.to_csv(\"merged_dataset.csv\", index=False)",
   "outputs": [],
   "execution_count": 26
  }
 ],
 "metadata": {
  "colab": {
   "provenance": [],
   "toc_visible": true
  },
  "kernelspec": {
   "display_name": "Python 3 (ipykernel)",
   "name": "python3",
   "language": "python"
  },
  "language_info": {
   "name": "python"
  }
 },
 "nbformat": 4,
 "nbformat_minor": 0
}
