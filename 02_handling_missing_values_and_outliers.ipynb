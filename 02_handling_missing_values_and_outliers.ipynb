{
 "cells": [
  {
   "cell_type": "code",
   "id": "initial_id",
   "metadata": {
    "collapsed": true,
    "ExecuteTime": {
     "end_time": "2025-07-05T02:43:03.338332Z",
     "start_time": "2025-07-05T02:43:03.334719Z"
    }
   },
   "source": [
    "import pandas as pd\n",
    "import matplotlib.pyplot as plt\n",
    "import numpy as np\n",
    "import seaborn as sns\n",
    "from sklearn.decomposition import PCA\n",
    "from sklearn.preprocessing import StandardScaler\n",
    "import time\n",
    "import lightgbm as lgb\n",
    "from lightgbm import early_stopping, log_evaluation"
   ],
   "outputs": [],
   "execution_count": 2
  },
  {
   "metadata": {},
   "cell_type": "markdown",
   "source": [
    "## <b>1.  Importing Data to Python</font></b>\n",
    "---"
   ],
   "id": "48daee782a21298a"
  },
  {
   "metadata": {
    "ExecuteTime": {
     "end_time": "2025-07-05T02:43:04.780540Z",
     "start_time": "2025-07-05T02:43:03.389430Z"
    }
   },
   "cell_type": "code",
   "source": "clean_application_train = pd.read_csv('D:/Code Skripsi - RL and Ensemble/data/raw/merged_dataset.csv')",
   "id": "379051835a333d9a",
   "outputs": [],
   "execution_count": 3
  },
  {
   "metadata": {
    "ExecuteTime": {
     "end_time": "2025-07-05T02:43:04.793006Z",
     "start_time": "2025-07-05T02:43:04.786634Z"
    }
   },
   "cell_type": "code",
   "source": "clean_application_train.shape",
   "id": "d92e401f14e22b60",
   "outputs": [
    {
     "data": {
      "text/plain": [
       "(307511, 48)"
      ]
     },
     "execution_count": 4,
     "metadata": {},
     "output_type": "execute_result"
    }
   ],
   "execution_count": 4
  },
  {
   "metadata": {
    "ExecuteTime": {
     "end_time": "2025-07-05T02:43:04.893689Z",
     "start_time": "2025-07-05T02:43:04.873055Z"
    }
   },
   "cell_type": "code",
   "source": "clean_application_train.head()",
   "id": "3bcdf7c36cc1d660",
   "outputs": [
    {
     "data": {
      "text/plain": [
       "   SK_ID_CURR  TARGET NAME_CONTRACT_TYPE FLAG_OWN_CAR FLAG_OWN_REALTY  \\\n",
       "0      100002       1         Cash loans            N               Y   \n",
       "1      100003       0         Cash loans            N               N   \n",
       "2      100004       0    Revolving loans            Y               Y   \n",
       "3      100006       0         Cash loans            N               Y   \n",
       "4      100007       0         Cash loans            N               Y   \n",
       "\n",
       "   CNT_CHILDREN  AMT_INCOME_TOTAL    AMT_CREDIT  AMT_ANNUITY  AMT_GOODS_PRICE  \\\n",
       "0             0        41947875.0  8.422667e+07  5116708.575       72709650.0   \n",
       "1             0        55930500.0  2.679490e+08  7394944.275      233975925.0   \n",
       "2             0        13982625.0  2.796525e+07  1398262.500       27965250.0   \n",
       "3             0        27965250.0  6.477218e+07  6149558.475       61523550.0   \n",
       "4             0        25168725.0  1.062680e+08  4529438.325      106267950.0   \n",
       "\n",
       "   ... FIRST_MONTH_BALANCE LAST_MONTH_BALANCE NUM_PREV_LOANS SUM_PREV_CREDIT  \\\n",
       "0  ...               -47.0                0.0            1.0    3.709124e+07   \n",
       "1  ...                 NaN                NaN            3.0    3.009005e+08   \n",
       "2  ...                 NaN                NaN            1.0    4.164958e+06   \n",
       "3  ...                 NaN                NaN            9.0    5.438225e+08   \n",
       "4  ...                 NaN                NaN            6.0    2.071153e+08   \n",
       "\n",
       "  AVG_PREV_CREDIT  RECENT_LOAN_DAYS  MONTHS_BALANCE_min  MONTHS_BALANCE_max  \\\n",
       "0    3.709124e+07            -606.0               -19.0                -1.0   \n",
       "1    1.003002e+08           -2341.0               -77.0               -18.0   \n",
       "2    4.164958e+06            -815.0               -27.0               -24.0   \n",
       "3    6.042472e+07            -617.0               -20.0                -1.0   \n",
       "4    3.451922e+07           -2357.0               -77.0                -1.0   \n",
       "\n",
       "    AMT_PAYMENT  DAYS_ENTRY_PAYMENT  \n",
       "0  2.394498e+06                 0.0  \n",
       "1  1.627339e+07                 0.0  \n",
       "2  1.469969e+06                 0.0  \n",
       "3  5.011875e+07                 0.0  \n",
       "4  2.417760e+06                 0.0  \n",
       "\n",
       "[5 rows x 48 columns]"
      ],
      "text/html": [
       "<div>\n",
       "<style scoped>\n",
       "    .dataframe tbody tr th:only-of-type {\n",
       "        vertical-align: middle;\n",
       "    }\n",
       "\n",
       "    .dataframe tbody tr th {\n",
       "        vertical-align: top;\n",
       "    }\n",
       "\n",
       "    .dataframe thead th {\n",
       "        text-align: right;\n",
       "    }\n",
       "</style>\n",
       "<table border=\"1\" class=\"dataframe\">\n",
       "  <thead>\n",
       "    <tr style=\"text-align: right;\">\n",
       "      <th></th>\n",
       "      <th>SK_ID_CURR</th>\n",
       "      <th>TARGET</th>\n",
       "      <th>NAME_CONTRACT_TYPE</th>\n",
       "      <th>FLAG_OWN_CAR</th>\n",
       "      <th>FLAG_OWN_REALTY</th>\n",
       "      <th>CNT_CHILDREN</th>\n",
       "      <th>AMT_INCOME_TOTAL</th>\n",
       "      <th>AMT_CREDIT</th>\n",
       "      <th>AMT_ANNUITY</th>\n",
       "      <th>AMT_GOODS_PRICE</th>\n",
       "      <th>...</th>\n",
       "      <th>FIRST_MONTH_BALANCE</th>\n",
       "      <th>LAST_MONTH_BALANCE</th>\n",
       "      <th>NUM_PREV_LOANS</th>\n",
       "      <th>SUM_PREV_CREDIT</th>\n",
       "      <th>AVG_PREV_CREDIT</th>\n",
       "      <th>RECENT_LOAN_DAYS</th>\n",
       "      <th>MONTHS_BALANCE_min</th>\n",
       "      <th>MONTHS_BALANCE_max</th>\n",
       "      <th>AMT_PAYMENT</th>\n",
       "      <th>DAYS_ENTRY_PAYMENT</th>\n",
       "    </tr>\n",
       "  </thead>\n",
       "  <tbody>\n",
       "    <tr>\n",
       "      <th>0</th>\n",
       "      <td>100002</td>\n",
       "      <td>1</td>\n",
       "      <td>Cash loans</td>\n",
       "      <td>N</td>\n",
       "      <td>Y</td>\n",
       "      <td>0</td>\n",
       "      <td>41947875.0</td>\n",
       "      <td>8.422667e+07</td>\n",
       "      <td>5116708.575</td>\n",
       "      <td>72709650.0</td>\n",
       "      <td>...</td>\n",
       "      <td>-47.0</td>\n",
       "      <td>0.0</td>\n",
       "      <td>1.0</td>\n",
       "      <td>3.709124e+07</td>\n",
       "      <td>3.709124e+07</td>\n",
       "      <td>-606.0</td>\n",
       "      <td>-19.0</td>\n",
       "      <td>-1.0</td>\n",
       "      <td>2.394498e+06</td>\n",
       "      <td>0.0</td>\n",
       "    </tr>\n",
       "    <tr>\n",
       "      <th>1</th>\n",
       "      <td>100003</td>\n",
       "      <td>0</td>\n",
       "      <td>Cash loans</td>\n",
       "      <td>N</td>\n",
       "      <td>N</td>\n",
       "      <td>0</td>\n",
       "      <td>55930500.0</td>\n",
       "      <td>2.679490e+08</td>\n",
       "      <td>7394944.275</td>\n",
       "      <td>233975925.0</td>\n",
       "      <td>...</td>\n",
       "      <td>NaN</td>\n",
       "      <td>NaN</td>\n",
       "      <td>3.0</td>\n",
       "      <td>3.009005e+08</td>\n",
       "      <td>1.003002e+08</td>\n",
       "      <td>-2341.0</td>\n",
       "      <td>-77.0</td>\n",
       "      <td>-18.0</td>\n",
       "      <td>1.627339e+07</td>\n",
       "      <td>0.0</td>\n",
       "    </tr>\n",
       "    <tr>\n",
       "      <th>2</th>\n",
       "      <td>100004</td>\n",
       "      <td>0</td>\n",
       "      <td>Revolving loans</td>\n",
       "      <td>Y</td>\n",
       "      <td>Y</td>\n",
       "      <td>0</td>\n",
       "      <td>13982625.0</td>\n",
       "      <td>2.796525e+07</td>\n",
       "      <td>1398262.500</td>\n",
       "      <td>27965250.0</td>\n",
       "      <td>...</td>\n",
       "      <td>NaN</td>\n",
       "      <td>NaN</td>\n",
       "      <td>1.0</td>\n",
       "      <td>4.164958e+06</td>\n",
       "      <td>4.164958e+06</td>\n",
       "      <td>-815.0</td>\n",
       "      <td>-27.0</td>\n",
       "      <td>-24.0</td>\n",
       "      <td>1.469969e+06</td>\n",
       "      <td>0.0</td>\n",
       "    </tr>\n",
       "    <tr>\n",
       "      <th>3</th>\n",
       "      <td>100006</td>\n",
       "      <td>0</td>\n",
       "      <td>Cash loans</td>\n",
       "      <td>N</td>\n",
       "      <td>Y</td>\n",
       "      <td>0</td>\n",
       "      <td>27965250.0</td>\n",
       "      <td>6.477218e+07</td>\n",
       "      <td>6149558.475</td>\n",
       "      <td>61523550.0</td>\n",
       "      <td>...</td>\n",
       "      <td>NaN</td>\n",
       "      <td>NaN</td>\n",
       "      <td>9.0</td>\n",
       "      <td>5.438225e+08</td>\n",
       "      <td>6.042472e+07</td>\n",
       "      <td>-617.0</td>\n",
       "      <td>-20.0</td>\n",
       "      <td>-1.0</td>\n",
       "      <td>5.011875e+07</td>\n",
       "      <td>0.0</td>\n",
       "    </tr>\n",
       "    <tr>\n",
       "      <th>4</th>\n",
       "      <td>100007</td>\n",
       "      <td>0</td>\n",
       "      <td>Cash loans</td>\n",
       "      <td>N</td>\n",
       "      <td>Y</td>\n",
       "      <td>0</td>\n",
       "      <td>25168725.0</td>\n",
       "      <td>1.062680e+08</td>\n",
       "      <td>4529438.325</td>\n",
       "      <td>106267950.0</td>\n",
       "      <td>...</td>\n",
       "      <td>NaN</td>\n",
       "      <td>NaN</td>\n",
       "      <td>6.0</td>\n",
       "      <td>2.071153e+08</td>\n",
       "      <td>3.451922e+07</td>\n",
       "      <td>-2357.0</td>\n",
       "      <td>-77.0</td>\n",
       "      <td>-1.0</td>\n",
       "      <td>2.417760e+06</td>\n",
       "      <td>0.0</td>\n",
       "    </tr>\n",
       "  </tbody>\n",
       "</table>\n",
       "<p>5 rows × 48 columns</p>\n",
       "</div>"
      ]
     },
     "execution_count": 5,
     "metadata": {},
     "output_type": "execute_result"
    }
   ],
   "execution_count": 5
  },
  {
   "metadata": {},
   "cell_type": "markdown",
   "source": [
    "## <b>2.  Check Missing Value Percentage</font></b>\n",
    "---\n",
    "#### Before handling missing values, first check the percentage of missing data:"
   ],
   "id": "353624c2c1876b7c"
  },
  {
   "metadata": {
    "ExecuteTime": {
     "end_time": "2025-07-05T02:43:04.922321Z",
     "start_time": "2025-07-05T02:43:04.917740Z"
    }
   },
   "cell_type": "code",
   "source": [
    "def check_missing_values(df):\n",
    "    missing_values = df.isnull().sum()\n",
    "    missing_percentage = (missing_values / len(df)) * 100\n",
    "    missing_data = pd.DataFrame({\n",
    "        'Missing Values': missing_values,\n",
    "        'Percentage': missing_percentage\n",
    "    })\n",
    "\n",
    "    missing_data = missing_data[missing_data['Missing Values'] > 0].sort_values(\n",
    "        by='Percentage', ascending=False)\n",
    "\n",
    "    if missing_data.empty:\n",
    "        print(\"No missing values found in the DataFrame.\")\n",
    "    else:\n",
    "        print(\"Missing Values Summary:\")\n",
    "        print(missing_data)"
   ],
   "id": "e199f15959e36321",
   "outputs": [],
   "execution_count": 6
  },
  {
   "metadata": {
    "ExecuteTime": {
     "end_time": "2025-07-05T02:43:05.093596Z",
     "start_time": "2025-07-05T02:43:04.962921Z"
    }
   },
   "cell_type": "code",
   "source": "check_missing_values(clean_application_train)",
   "id": "4964b1a74496175d",
   "outputs": [
    {
     "name": "stdout",
     "output_type": "stream",
     "text": [
      "Missing Values Summary:\n",
      "                        Missing Values  Percentage\n",
      "LAST_MONTH_BALANCE              215280   70.007252\n",
      "FIRST_MONTH_BALANCE             215280   70.007252\n",
      "OWN_CAR_AGE                     202929   65.990810\n",
      "OCCUPATION_TYPE                  96391   31.345545\n",
      "AVG_CREDIT                       44021   14.315260\n",
      "SUM_CREDIT                       44020   14.314935\n",
      "NUM_BUREAU_LOANS                 44020   14.314935\n",
      "LAST_CREDIT_DAYS                 44020   14.314935\n",
      "OVERDUE_MONTHS                   44020   14.314935\n",
      "FIRST_CREDIT_DAYS                44020   14.314935\n",
      "ACTIVE_LOANS                     44020   14.314935\n",
      "MONTHS_BALANCE_max               20544    6.680737\n",
      "MONTHS_BALANCE_min               20544    6.680737\n",
      "AMT_PAYMENT                      18113    5.890196\n",
      "RECENT_LOAN_DAYS                 16454    5.350703\n",
      "NUM_PREV_LOANS                   16454    5.350703\n",
      "SUM_PREV_CREDIT                  16454    5.350703\n",
      "AVG_PREV_CREDIT                  16454    5.350703\n",
      "DAYS_ENTRY_PAYMENT               16454    5.350703\n",
      "NAME_TYPE_SUITE                   1292    0.420148\n",
      "AMT_GOODS_PRICE                    278    0.090403\n",
      "AMT_ANNUITY                         12    0.003902\n",
      "CNT_FAM_MEMBERS                      2    0.000650\n",
      "DAYS_LAST_PHONE_CHANGE               1    0.000325\n"
     ]
    }
   ],
   "execution_count": 7
  },
  {
   "metadata": {},
   "cell_type": "markdown",
   "source": [
    "## <b>3.  Divide Numerical & Categorical Features</font></b>\n",
    "---\n",
    "#### Before handling missing values, I need to separate numerical and categorical features since they require different imputation methods.\n",
    "\n",
    "\n"
   ],
   "id": "ff3941a160267587"
  },
  {
   "metadata": {
    "ExecuteTime": {
     "end_time": "2025-07-05T02:43:05.208158Z",
     "start_time": "2025-07-05T02:43:05.141685Z"
    }
   },
   "cell_type": "code",
   "source": [
    "# Identify numerical and categorical features\n",
    "numerical_features = clean_application_train.select_dtypes(include=['int64', 'float64']).columns.tolist()\n",
    "categorical_features = clean_application_train.select_dtypes(include=['object']).columns.tolist()\n",
    "\n",
    "# Display feature lists\n",
    "print(f\"Numerical Features ({len(numerical_features)}):\\n\", numerical_features)\n",
    "print(f\"\\nCategorical Features ({len(categorical_features)}):\\n\", categorical_features)"
   ],
   "id": "44ed44c811e695af",
   "outputs": [
    {
     "name": "stdout",
     "output_type": "stream",
     "text": [
      "Numerical Features (37):\n",
      " ['SK_ID_CURR', 'TARGET', 'CNT_CHILDREN', 'AMT_INCOME_TOTAL', 'AMT_CREDIT', 'AMT_ANNUITY', 'AMT_GOODS_PRICE', 'DAYS_BIRTH', 'DAYS_EMPLOYED', 'DAYS_REGISTRATION', 'DAYS_ID_PUBLISH', 'OWN_CAR_AGE', 'FLAG_MOBIL', 'FLAG_EMP_PHONE', 'FLAG_WORK_PHONE', 'FLAG_CONT_MOBILE', 'FLAG_PHONE', 'FLAG_EMAIL', 'CNT_FAM_MEMBERS', 'DAYS_LAST_PHONE_CHANGE', 'NUM_BUREAU_LOANS', 'SUM_CREDIT', 'AVG_CREDIT', 'FIRST_CREDIT_DAYS', 'LAST_CREDIT_DAYS', 'ACTIVE_LOANS', 'OVERDUE_MONTHS', 'FIRST_MONTH_BALANCE', 'LAST_MONTH_BALANCE', 'NUM_PREV_LOANS', 'SUM_PREV_CREDIT', 'AVG_PREV_CREDIT', 'RECENT_LOAN_DAYS', 'MONTHS_BALANCE_min', 'MONTHS_BALANCE_max', 'AMT_PAYMENT', 'DAYS_ENTRY_PAYMENT']\n",
      "\n",
      "Categorical Features (11):\n",
      " ['NAME_CONTRACT_TYPE', 'FLAG_OWN_CAR', 'FLAG_OWN_REALTY', 'NAME_TYPE_SUITE', 'NAME_INCOME_TYPE', 'NAME_EDUCATION_TYPE', 'NAME_FAMILY_STATUS', 'NAME_HOUSING_TYPE', 'OCCUPATION_TYPE', 'WEEKDAY_APPR_PROCESS_START', 'ORGANIZATION_TYPE']\n"
     ]
    }
   ],
   "execution_count": 8
  },
  {
   "metadata": {},
   "cell_type": "markdown",
   "source": [
    "Numerical Features:\n",
    "\n",
    "* Low missing (<5%) → Fill with median.\n",
    "* Moderate missing (5–30%) → Use group-based median or KNN.\n",
    "* High missing (>30%) → Drop if unimportant or use advanced imputation.\n",
    "\n",
    "Categorical Features:\n",
    "\n",
    "* Low missing (<5%) → Fill with mode (most frequent value).\n",
    "* Moderate missing (5–30%) → Fill using predictive imputation.\n",
    "* High missing (>30%) → Drop unless crucial."
   ],
   "id": "7fa8eb8682055106"
  },
  {
   "metadata": {},
   "cell_type": "markdown",
   "source": [
    "## Numerical Low missing (<5%)\n",
    "---"
   ],
   "id": "c956a390cc193572"
  },
  {
   "metadata": {
    "ExecuteTime": {
     "end_time": "2025-07-05T02:43:05.361650Z",
     "start_time": "2025-07-05T02:43:05.316948Z"
    }
   },
   "cell_type": "code",
   "source": [
    "# Calculate the percentage of missing values in numerical columns\n",
    "missing_numerical = clean_application_train.select_dtypes(include=['number']).isnull().mean() * 100"
   ],
   "id": "2fc68d1d44465054",
   "outputs": [],
   "execution_count": 9
  },
  {
   "metadata": {
    "ExecuteTime": {
     "end_time": "2025-07-05T02:43:05.488079Z",
     "start_time": "2025-07-05T02:43:05.444965Z"
    }
   },
   "cell_type": "code",
   "source": [
    "# Low missing (<5%)\n",
    "\n",
    "low_missing_numerical = missing_numerical[(missing_numerical < 5) & (missing_numerical > 0)]\n",
    "print(\"Numerical Features with Low Missing Values (0% < Missing < 5%):\\n\", low_missing_numerical)\n",
    "\n",
    "# fill numerical features with low missing values (less than 5%) using the median\n",
    "for feature in low_missing_numerical.index:\n",
    "    if clean_application_train[feature].isnull().any():  # Check if there are any missing values\n",
    "        clean_application_train[feature] = clean_application_train[feature].fillna(clean_application_train[feature].median())"
   ],
   "id": "79b39a4802d9f859",
   "outputs": [
    {
     "name": "stdout",
     "output_type": "stream",
     "text": [
      "Numerical Features with Low Missing Values (0% < Missing < 5%):\n",
      " AMT_ANNUITY               0.003902\n",
      "AMT_GOODS_PRICE           0.090403\n",
      "CNT_FAM_MEMBERS           0.000650\n",
      "DAYS_LAST_PHONE_CHANGE    0.000325\n",
      "dtype: float64\n"
     ]
    }
   ],
   "execution_count": 10
  },
  {
   "metadata": {
    "ExecuteTime": {
     "end_time": "2025-07-05T02:43:05.839967Z",
     "start_time": "2025-07-05T02:43:05.539943Z"
    }
   },
   "cell_type": "code",
   "source": [
    "# Impute Missing Values\n",
    "impute_median_features = [\n",
    "    'AMT_ANNUITY',\n",
    "    'AMT_GOODS_PRICE',\n",
    "    'CNT_FAM_MEMBERS',\n",
    "    'DAYS_LAST_PHONE_CHANGE'\n",
    "]\n",
    "\n",
    "\n",
    "for feature in impute_median_features:\n",
    "    imputed_col_name = feature + '_imputed'\n",
    "    clean_application_train[imputed_col_name] = clean_application_train[feature].fillna(clean_application_train[feature].median()) # Example imputation\n",
    "\n",
    "# Replace Original Columns\n",
    "for feature in impute_median_features:\n",
    "    imputed_col_name = feature + '_imputed'\n",
    "    if imputed_col_name in clean_application_train.columns:\n",
    "        clean_application_train[feature] = clean_application_train[imputed_col_name]\n",
    "        clean_application_train.drop(columns=[imputed_col_name], inplace=True)\n",
    "    else:\n",
    "        print(f\"Imputed column '{imputed_col_name}' not found. Skipping replacement for '{feature}'.\")"
   ],
   "id": "37487df7e2500e1f",
   "outputs": [],
   "execution_count": 11
  },
  {
   "metadata": {
    "ExecuteTime": {
     "end_time": "2025-07-05T02:43:05.961939Z",
     "start_time": "2025-07-05T02:43:05.852714Z"
    }
   },
   "cell_type": "code",
   "source": "check_missing_values(clean_application_train)",
   "id": "249e7e0c6a772735",
   "outputs": [
    {
     "name": "stdout",
     "output_type": "stream",
     "text": [
      "Missing Values Summary:\n",
      "                     Missing Values  Percentage\n",
      "LAST_MONTH_BALANCE           215280   70.007252\n",
      "FIRST_MONTH_BALANCE          215280   70.007252\n",
      "OWN_CAR_AGE                  202929   65.990810\n",
      "OCCUPATION_TYPE               96391   31.345545\n",
      "AVG_CREDIT                    44021   14.315260\n",
      "NUM_BUREAU_LOANS              44020   14.314935\n",
      "LAST_CREDIT_DAYS              44020   14.314935\n",
      "SUM_CREDIT                    44020   14.314935\n",
      "OVERDUE_MONTHS                44020   14.314935\n",
      "FIRST_CREDIT_DAYS             44020   14.314935\n",
      "ACTIVE_LOANS                  44020   14.314935\n",
      "MONTHS_BALANCE_max            20544    6.680737\n",
      "MONTHS_BALANCE_min            20544    6.680737\n",
      "AMT_PAYMENT                   18113    5.890196\n",
      "RECENT_LOAN_DAYS              16454    5.350703\n",
      "NUM_PREV_LOANS                16454    5.350703\n",
      "SUM_PREV_CREDIT               16454    5.350703\n",
      "AVG_PREV_CREDIT               16454    5.350703\n",
      "DAYS_ENTRY_PAYMENT            16454    5.350703\n",
      "NAME_TYPE_SUITE                1292    0.420148\n"
     ]
    }
   ],
   "execution_count": 12
  },
  {
   "metadata": {},
   "cell_type": "markdown",
   "source": [
    "## Numerical Moderate missing (5–30%)\n",
    "---"
   ],
   "id": "8cc9a86bae1bb642"
  },
  {
   "metadata": {
    "ExecuteTime": {
     "end_time": "2025-07-05T02:43:05.977966Z",
     "start_time": "2025-07-05T02:43:05.973467Z"
    }
   },
   "cell_type": "code",
   "source": [
    "# Moderate missing (5-30%)\n",
    "\n",
    "moderate_missing_numerical = missing_numerical[(missing_numerical >= 5) & (missing_numerical <= 30)]\n",
    "print(\"Numerical Features with Moderate Missing Values (5% <= Missing <= 30%):\\n\", moderate_missing_numerical)"
   ],
   "id": "b4c55b9d03a03a8f",
   "outputs": [
    {
     "name": "stdout",
     "output_type": "stream",
     "text": [
      "Numerical Features with Moderate Missing Values (5% <= Missing <= 30%):\n",
      " NUM_BUREAU_LOANS      14.314935\n",
      "SUM_CREDIT            14.314935\n",
      "AVG_CREDIT            14.315260\n",
      "FIRST_CREDIT_DAYS     14.314935\n",
      "LAST_CREDIT_DAYS      14.314935\n",
      "ACTIVE_LOANS          14.314935\n",
      "OVERDUE_MONTHS        14.314935\n",
      "NUM_PREV_LOANS         5.350703\n",
      "SUM_PREV_CREDIT        5.350703\n",
      "AVG_PREV_CREDIT        5.350703\n",
      "RECENT_LOAN_DAYS       5.350703\n",
      "MONTHS_BALANCE_min     6.680737\n",
      "MONTHS_BALANCE_max     6.680737\n",
      "AMT_PAYMENT            5.890196\n",
      "DAYS_ENTRY_PAYMENT     5.350703\n",
      "dtype: float64\n"
     ]
    }
   ],
   "execution_count": 13
  },
  {
   "metadata": {
    "ExecuteTime": {
     "end_time": "2025-07-05T02:43:11.023751Z",
     "start_time": "2025-07-05T02:43:06.017343Z"
    }
   },
   "cell_type": "code",
   "source": [
    "import lightgbm as lgb\n",
    "from lightgbm import early_stopping, log_evaluation\n",
    "from sklearn.model_selection import train_test_split\n",
    "from sklearn.preprocessing import LabelEncoder\n",
    "\n",
    "# Define function to fill missing values using LightGBM\n",
    "def impute_with_lgbm(data, target_col, n_estimators=100, learning_rate=0.05):\n",
    "    try:\n",
    "        # Separate rows with missing and non-missing values\n",
    "        missing_mask = data[target_col].isnull()\n",
    "        known_data = data[~missing_mask]\n",
    "        unknown_data = data[missing_mask]\n",
    "\n",
    "        if known_data.shape[0] == 0:  # If no known data, skip\n",
    "            print(f\"Skipping imputation for {target_col} - No known data.\")\n",
    "            return data\n",
    "\n",
    "        # Identify categorical and numerical features\n",
    "        categorical_features = data.select_dtypes(include=['object', 'category']).columns.tolist()\n",
    "        categorical_features = [col for col in categorical_features if col != target_col and col in data.columns]\n",
    "        numerical_features = data.select_dtypes(include=['number']).columns.tolist()\n",
    "        numerical_features = [col for col in numerical_features if col != target_col and col in data.columns]\n",
    "\n",
    "        # Use all other numerical and encoded categorical columns as features\n",
    "        feature_cols = numerical_features + categorical_features\n",
    "\n",
    "        # Create a copy of the data to avoid modifying the original DataFrame\n",
    "        data_encoded = data.copy()\n",
    "\n",
    "        # Apply label encoding to categorical features\n",
    "        encoders = {}\n",
    "        for feature in categorical_features:\n",
    "            le = LabelEncoder()\n",
    "            data_encoded[feature] = le.fit_transform(data_encoded[feature])\n",
    "            encoders[feature] = le  # Store the encoders for later decoding\n",
    "\n",
    "        # Train-Test Split using encoded data\n",
    "        X_train, X_valid, y_train, y_valid = train_test_split(\n",
    "            data_encoded.loc[~missing_mask, feature_cols],\n",
    "            data_encoded.loc[~missing_mask, target_col],\n",
    "            test_size=0.2,\n",
    "            random_state=42\n",
    "        )\n",
    "\n",
    "        # Train LightGBM model\n",
    "        model = lgb.LGBMRegressor(n_estimators=n_estimators, learning_rate=learning_rate)\n",
    "        model.fit(\n",
    "            X_train,\n",
    "            y_train,\n",
    "            eval_set=[(X_valid, y_valid)],\n",
    "            callbacks=[early_stopping(stopping_rounds=10), log_evaluation(period=10)],\n",
    "        )\n",
    "\n",
    "        # Predict missing values using encoded data\n",
    "        imputed_values = model.predict(data_encoded.loc[missing_mask, feature_cols])\n",
    "        data.loc[missing_mask, target_col] = imputed_values  # Impute directly into original data\n",
    "\n",
    "        # Check for missing values after imputation\n",
    "        num_missing_after = data[target_col].isnull().sum()\n",
    "        print(f\"Number of missing values in {target_col} after imputation: {num_missing_after}\")\n",
    "\n",
    "        return data\n",
    "\n",
    "    except Exception as e:\n",
    "        print(f\"Error imputing {target_col}: {e}\")\n",
    "        return data  # Return original data to avoid further issues\n",
    "\n",
    "# Add sleep after training\n",
    "time.sleep(5)  # Sleep for 5 seconds to allow cache flushing"
   ],
   "id": "3e180348cec46901",
   "outputs": [],
   "execution_count": 14
  },
  {
   "metadata": {
    "ExecuteTime": {
     "end_time": "2025-07-05T02:44:49.026875Z",
     "start_time": "2025-07-05T02:44:00.620145Z"
    }
   },
   "cell_type": "code",
   "source": [
    "features_to_impute = [\n",
    "    'NUM_BUREAU_LOANS',\n",
    "    'SUM_CREDIT',\n",
    "    'AVG_CREDIT',\n",
    "    'FIRST_CREDIT_DAYS',\n",
    "    'LAST_CREDIT_DAYS',\n",
    "    'ACTIVE_LOANS',\n",
    "    'OVERDUE_MONTHS',\n",
    "    'NUM_PREV_LOANS',\n",
    "    'SUM_PREV_CREDIT',\n",
    "    'AVG_PREV_CREDIT',\n",
    "    'RECENT_LOAN_DAYS',\n",
    "    'MONTHS_BALANCE_min',\n",
    "    'MONTHS_BALANCE_max',\n",
    "    'AMT_PAYMENT',\n",
    "    'DAYS_ENTRY_PAYMENT'\n",
    "]\n",
    "\n",
    "\n",
    "for col in features_to_impute:\n",
    "    # Create a new column name for the imputed values\n",
    "    imputed_col_name = col + '_imputed'\n",
    "\n",
    "    # Impute missing values and store in the new column\n",
    "    clean_application_train[imputed_col_name] = impute_with_lgbm(clean_application_train, col)[col]\n",
    "\n",
    "# Add sleep after training\n",
    "time.sleep(5)  # Sleep for 5 seconds to allow cache flushing"
   ],
   "id": "8bbd179417a275c4",
   "outputs": [
    {
     "name": "stdout",
     "output_type": "stream",
     "text": [
      "[LightGBM] [Info] Auto-choosing row-wise multi-threading, the overhead of testing was 0.014903 seconds.\n",
      "You can set `force_row_wise=true` to remove the overhead.\n",
      "And if memory is not enough, you can set `force_col_wise=true`.\n",
      "[LightGBM] [Info] Total Bins 5377\n",
      "[LightGBM] [Info] Number of data points in the train set: 210792, number of used features: 46\n",
      "[LightGBM] [Info] Start training from score 5.558010\n",
      "Training until validation scores don't improve for 10 rounds\n",
      "[10]\tvalid_0's l2: 9.62196\n",
      "[20]\tvalid_0's l2: 5.07528\n",
      "[30]\tvalid_0's l2: 2.61926\n",
      "[40]\tvalid_0's l2: 1.46671\n",
      "[50]\tvalid_0's l2: 0.923218\n",
      "[60]\tvalid_0's l2: 0.648818\n",
      "[70]\tvalid_0's l2: 0.489656\n",
      "[80]\tvalid_0's l2: 0.389986\n",
      "[90]\tvalid_0's l2: 0.323502\n",
      "[100]\tvalid_0's l2: 0.279324\n",
      "Did not meet early stopping. Best iteration is:\n",
      "[100]\tvalid_0's l2: 0.279324\n",
      "Number of missing values in NUM_BUREAU_LOANS after imputation: 0\n",
      "[LightGBM] [Info] Auto-choosing row-wise multi-threading, the overhead of testing was 0.012322 seconds.\n",
      "You can set `force_row_wise=true` to remove the overhead.\n",
      "And if memory is not enough, you can set `force_col_wise=true`.\n",
      "[LightGBM] [Info] Total Bins 5224\n",
      "[LightGBM] [Info] Number of data points in the train set: 210792, number of used features: 47\n",
      "[LightGBM] [Info] Start training from score 404722004.736223\n",
      "Training until validation scores don't improve for 10 rounds\n",
      "[10]\tvalid_0's l2: 3.59729e+17\n",
      "[20]\tvalid_0's l2: 2.54355e+17\n",
      "[30]\tvalid_0's l2: 2.12714e+17\n",
      "[40]\tvalid_0's l2: 1.96325e+17\n",
      "[50]\tvalid_0's l2: 1.90119e+17\n",
      "[60]\tvalid_0's l2: 1.88498e+17\n",
      "[70]\tvalid_0's l2: 1.89013e+17\n",
      "Early stopping, best iteration is:\n",
      "[64]\tvalid_0's l2: 1.88273e+17\n",
      "Number of missing values in SUM_CREDIT after imputation: 0\n",
      "[LightGBM] [Info] Auto-choosing col-wise multi-threading, the overhead of testing was 0.062994 seconds.\n",
      "You can set `force_col_wise=true` to remove the overhead.\n",
      "[LightGBM] [Info] Total Bins 5486\n",
      "[LightGBM] [Info] Number of data points in the train set: 210792, number of used features: 48\n",
      "[LightGBM] [Info] Start training from score 78166218.426532\n",
      "Training until validation scores don't improve for 10 rounds\n",
      "[10]\tvalid_0's l2: 5.48529e+16\n",
      "[20]\tvalid_0's l2: 4.78253e+16\n",
      "[30]\tvalid_0's l2: 4.44233e+16\n",
      "[40]\tvalid_0's l2: 4.287e+16\n",
      "[50]\tvalid_0's l2: 4.20355e+16\n",
      "[60]\tvalid_0's l2: 4.15308e+16\n",
      "[70]\tvalid_0's l2: 4.11895e+16\n",
      "[80]\tvalid_0's l2: 4.10326e+16\n",
      "[90]\tvalid_0's l2: 4.0924e+16\n",
      "[100]\tvalid_0's l2: 4.07249e+16\n",
      "Did not meet early stopping. Best iteration is:\n",
      "[99]\tvalid_0's l2: 4.07002e+16\n",
      "Number of missing values in AVG_CREDIT after imputation: 0\n",
      "[LightGBM] [Info] Auto-choosing col-wise multi-threading, the overhead of testing was 0.047862 seconds.\n",
      "You can set `force_col_wise=true` to remove the overhead.\n",
      "[LightGBM] [Info] Total Bins 5734\n",
      "[LightGBM] [Info] Number of data points in the train set: 210792, number of used features: 49\n",
      "[LightGBM] [Info] Start training from score -1761.482831\n",
      "Training until validation scores don't improve for 10 rounds\n",
      "[10]\tvalid_0's l2: 410967\n",
      "[20]\tvalid_0's l2: 281867\n",
      "[30]\tvalid_0's l2: 230079\n",
      "[40]\tvalid_0's l2: 207824\n",
      "[50]\tvalid_0's l2: 197183\n",
      "[60]\tvalid_0's l2: 191699\n",
      "[70]\tvalid_0's l2: 188537\n",
      "[80]\tvalid_0's l2: 186634\n",
      "[90]\tvalid_0's l2: 185339\n",
      "[100]\tvalid_0's l2: 184343\n",
      "Did not meet early stopping. Best iteration is:\n",
      "[100]\tvalid_0's l2: 184343\n",
      "Number of missing values in FIRST_CREDIT_DAYS after imputation: 0\n",
      "[LightGBM] [Info] Auto-choosing col-wise multi-threading, the overhead of testing was 0.090757 seconds.\n",
      "You can set `force_col_wise=true` to remove the overhead.\n",
      "[LightGBM] [Info] Total Bins 5989\n",
      "[LightGBM] [Info] Number of data points in the train set: 210792, number of used features: 50\n",
      "[LightGBM] [Info] Start training from score -488.690311\n",
      "Training until validation scores don't improve for 10 rounds\n",
      "[10]\tvalid_0's l2: 169988\n",
      "[20]\tvalid_0's l2: 123963\n",
      "[30]\tvalid_0's l2: 104987\n",
      "[40]\tvalid_0's l2: 96537.8\n",
      "[50]\tvalid_0's l2: 92628\n",
      "[60]\tvalid_0's l2: 90192.3\n",
      "[70]\tvalid_0's l2: 88645.9\n",
      "[80]\tvalid_0's l2: 87848.5\n",
      "[90]\tvalid_0's l2: 87361.5\n",
      "[100]\tvalid_0's l2: 86937.8\n",
      "Did not meet early stopping. Best iteration is:\n",
      "[100]\tvalid_0's l2: 86937.8\n",
      "Number of missing values in LAST_CREDIT_DAYS after imputation: 0\n",
      "[LightGBM] [Info] Auto-choosing col-wise multi-threading, the overhead of testing was 0.057983 seconds.\n",
      "You can set `force_col_wise=true` to remove the overhead.\n",
      "[LightGBM] [Info] Total Bins 6479\n",
      "[LightGBM] [Info] Number of data points in the train set: 210792, number of used features: 51\n",
      "[LightGBM] [Info] Start training from score 2.056264\n",
      "Training until validation scores don't improve for 10 rounds\n",
      "[10]\tvalid_0's l2: 2.03365\n",
      "[20]\tvalid_0's l2: 1.5868\n",
      "[30]\tvalid_0's l2: 1.40679\n",
      "[40]\tvalid_0's l2: 1.32802\n",
      "[50]\tvalid_0's l2: 1.29063\n",
      "[60]\tvalid_0's l2: 1.26919\n",
      "[70]\tvalid_0's l2: 1.2552\n",
      "[80]\tvalid_0's l2: 1.24622\n",
      "[90]\tvalid_0's l2: 1.23988\n",
      "[100]\tvalid_0's l2: 1.23463\n",
      "Did not meet early stopping. Best iteration is:\n",
      "[100]\tvalid_0's l2: 1.23463\n",
      "Number of missing values in ACTIVE_LOANS after imputation: 0\n",
      "[LightGBM] [Info] Auto-choosing col-wise multi-threading, the overhead of testing was 0.019097 seconds.\n",
      "You can set `force_col_wise=true` to remove the overhead.\n",
      "[LightGBM] [Info] Total Bins 6264\n",
      "[LightGBM] [Info] Number of data points in the train set: 210792, number of used features: 52\n",
      "[LightGBM] [Info] Start training from score 38.281325\n",
      "Training until validation scores don't improve for 10 rounds\n",
      "[10]\tvalid_0's l2: 4337.56\n",
      "[20]\tvalid_0's l2: 2763.03\n",
      "[30]\tvalid_0's l2: 2134.28\n",
      "[40]\tvalid_0's l2: 1874.04\n",
      "[50]\tvalid_0's l2: 1755.95\n",
      "[60]\tvalid_0's l2: 1691.75\n",
      "[70]\tvalid_0's l2: 1662.44\n",
      "[80]\tvalid_0's l2: 1647.7\n",
      "[90]\tvalid_0's l2: 1637.03\n",
      "[100]\tvalid_0's l2: 1633.09\n",
      "Did not meet early stopping. Best iteration is:\n",
      "[100]\tvalid_0's l2: 1633.09\n",
      "Number of missing values in OVERDUE_MONTHS after imputation: 0\n",
      "[LightGBM] [Info] Auto-choosing col-wise multi-threading, the overhead of testing was 0.028194 seconds.\n",
      "You can set `force_col_wise=true` to remove the overhead.\n",
      "[LightGBM] [Info] Total Bins 7196\n",
      "[LightGBM] [Info] Number of data points in the train set: 232845, number of used features: 52\n",
      "[LightGBM] [Info] Start training from score 4.855754\n",
      "Training until validation scores don't improve for 10 rounds\n",
      "[10]\tvalid_0's l2: 7.34104\n",
      "[20]\tvalid_0's l2: 3.28691\n",
      "[30]\tvalid_0's l2: 1.58467\n",
      "[40]\tvalid_0's l2: 0.843815\n",
      "[50]\tvalid_0's l2: 0.504789\n",
      "[60]\tvalid_0's l2: 0.347478\n",
      "[70]\tvalid_0's l2: 0.270048\n",
      "[80]\tvalid_0's l2: 0.229662\n",
      "[90]\tvalid_0's l2: 0.208241\n",
      "[100]\tvalid_0's l2: 0.195809\n",
      "Did not meet early stopping. Best iteration is:\n",
      "[100]\tvalid_0's l2: 0.195809\n",
      "Number of missing values in NUM_PREV_LOANS after imputation: 0\n",
      "[LightGBM] [Info] Auto-choosing col-wise multi-threading, the overhead of testing was 0.082526 seconds.\n",
      "You can set `force_col_wise=true` to remove the overhead.\n",
      "[LightGBM] [Info] Total Bins 7049\n",
      "[LightGBM] [Info] Number of data points in the train set: 232845, number of used features: 53\n",
      "[LightGBM] [Info] Start training from score 197363297.926447\n",
      "Training until validation scores don't improve for 10 rounds\n",
      "[10]\tvalid_0's l2: 3.78107e+16\n",
      "[20]\tvalid_0's l2: 1.5451e+16\n",
      "[30]\tvalid_0's l2: 6.67163e+15\n",
      "[40]\tvalid_0's l2: 3.2109e+15\n",
      "[50]\tvalid_0's l2: 1.83973e+15\n",
      "[60]\tvalid_0's l2: 1.25358e+15\n",
      "[70]\tvalid_0's l2: 9.91902e+14\n",
      "[80]\tvalid_0's l2: 8.75501e+14\n",
      "[90]\tvalid_0's l2: 8.14065e+14\n",
      "[100]\tvalid_0's l2: 7.68922e+14\n",
      "Did not meet early stopping. Best iteration is:\n",
      "[100]\tvalid_0's l2: 7.68922e+14\n",
      "Number of missing values in SUM_PREV_CREDIT after imputation: 0\n",
      "[LightGBM] [Info] Auto-choosing col-wise multi-threading, the overhead of testing was 0.040546 seconds.\n",
      "You can set `force_col_wise=true` to remove the overhead.\n",
      "[LightGBM] [Info] Total Bins 7304\n",
      "[LightGBM] [Info] Number of data points in the train set: 232845, number of used features: 54\n",
      "[LightGBM] [Info] Start training from score 35215923.022978\n",
      "Training until validation scores don't improve for 10 rounds\n",
      "[10]\tvalid_0's l2: 4.81668e+14\n",
      "[20]\tvalid_0's l2: 2.04706e+14\n",
      "[30]\tvalid_0's l2: 9.22821e+13\n",
      "[40]\tvalid_0's l2: 4.57075e+13\n",
      "[50]\tvalid_0's l2: 2.5951e+13\n",
      "[60]\tvalid_0's l2: 1.75841e+13\n",
      "[70]\tvalid_0's l2: 1.39844e+13\n",
      "[80]\tvalid_0's l2: 1.22739e+13\n",
      "[90]\tvalid_0's l2: 1.14475e+13\n",
      "[100]\tvalid_0's l2: 1.09997e+13\n",
      "Did not meet early stopping. Best iteration is:\n",
      "[100]\tvalid_0's l2: 1.09997e+13\n",
      "Number of missing values in AVG_PREV_CREDIT after imputation: 0\n",
      "[LightGBM] [Info] Auto-choosing row-wise multi-threading, the overhead of testing was 0.027574 seconds.\n",
      "You can set `force_row_wise=true` to remove the overhead.\n",
      "And if memory is not enough, you can set `force_col_wise=true`.\n",
      "[LightGBM] [Info] Total Bins 7559\n",
      "[LightGBM] [Info] Number of data points in the train set: 232845, number of used features: 55\n",
      "[LightGBM] [Info] Start training from score -1538.620748\n",
      "Training until validation scores don't improve for 10 rounds\n",
      "[10]\tvalid_0's l2: 302377\n",
      "[20]\tvalid_0's l2: 141022\n",
      "[30]\tvalid_0's l2: 82190.6\n",
      "[40]\tvalid_0's l2: 60194.8\n",
      "[50]\tvalid_0's l2: 51715.7\n",
      "[60]\tvalid_0's l2: 48039\n",
      "[70]\tvalid_0's l2: 46155.3\n",
      "[80]\tvalid_0's l2: 45131.6\n",
      "[90]\tvalid_0's l2: 44486.8\n",
      "[100]\tvalid_0's l2: 44047.2\n",
      "Did not meet early stopping. Best iteration is:\n",
      "[100]\tvalid_0's l2: 44047.2\n",
      "Number of missing values in RECENT_LOAN_DAYS after imputation: 0\n",
      "[LightGBM] [Info] Auto-choosing col-wise multi-threading, the overhead of testing was 0.032920 seconds.\n",
      "You can set `force_col_wise=true` to remove the overhead.\n",
      "[LightGBM] [Info] Total Bins 7968\n",
      "[LightGBM] [Info] Number of data points in the train set: 229573, number of used features: 56\n",
      "[LightGBM] [Info] Start training from score -49.641683\n",
      "Training until validation scores don't improve for 10 rounds\n",
      "[10]\tvalid_0's l2: 311.43\n",
      "[20]\tvalid_0's l2: 142.414\n",
      "[30]\tvalid_0's l2: 80.816\n",
      "[40]\tvalid_0's l2: 58.451\n",
      "[50]\tvalid_0's l2: 49.972\n",
      "[60]\tvalid_0's l2: 46.713\n",
      "[70]\tvalid_0's l2: 45.3516\n",
      "[80]\tvalid_0's l2: 44.8444\n",
      "[90]\tvalid_0's l2: 44.5742\n",
      "[100]\tvalid_0's l2: 44.4345\n",
      "Did not meet early stopping. Best iteration is:\n",
      "[100]\tvalid_0's l2: 44.4345\n",
      "Number of missing values in MONTHS_BALANCE_min after imputation: 0\n",
      "[LightGBM] [Info] Auto-choosing row-wise multi-threading, the overhead of testing was 0.025400 seconds.\n",
      "You can set `force_row_wise=true` to remove the overhead.\n",
      "And if memory is not enough, you can set `force_col_wise=true`.\n",
      "[LightGBM] [Info] Total Bins 8069\n",
      "[LightGBM] [Info] Number of data points in the train set: 229573, number of used features: 57\n",
      "[LightGBM] [Info] Start training from score -11.993971\n",
      "Training until validation scores don't improve for 10 rounds\n",
      "[10]\tvalid_0's l2: 199.845\n",
      "[20]\tvalid_0's l2: 157.314\n",
      "[30]\tvalid_0's l2: 138.488\n",
      "[40]\tvalid_0's l2: 129.324\n",
      "[50]\tvalid_0's l2: 124.055\n",
      "[60]\tvalid_0's l2: 119.983\n",
      "[70]\tvalid_0's l2: 117.62\n",
      "[80]\tvalid_0's l2: 115.971\n",
      "[90]\tvalid_0's l2: 114.79\n",
      "[100]\tvalid_0's l2: 113.739\n",
      "Did not meet early stopping. Best iteration is:\n",
      "[100]\tvalid_0's l2: 113.739\n",
      "Number of missing values in MONTHS_BALANCE_max after imputation: 0\n",
      "[LightGBM] [Info] Auto-choosing col-wise multi-threading, the overhead of testing was 0.057452 seconds.\n",
      "You can set `force_col_wise=true` to remove the overhead.\n",
      "[LightGBM] [Info] Total Bins 8518\n",
      "[LightGBM] [Info] Number of data points in the train set: 231518, number of used features: 58\n",
      "[LightGBM] [Info] Start training from score 4945146.034200\n",
      "Training until validation scores don't improve for 10 rounds\n",
      "[10]\tvalid_0's l2: 5.5828e+13\n",
      "[20]\tvalid_0's l2: 5.17832e+13\n",
      "[30]\tvalid_0's l2: 4.98429e+13\n",
      "[40]\tvalid_0's l2: 4.86911e+13\n",
      "[50]\tvalid_0's l2: 4.80177e+13\n",
      "[60]\tvalid_0's l2: 4.75841e+13\n",
      "[70]\tvalid_0's l2: 4.7261e+13\n",
      "[80]\tvalid_0's l2: 4.70121e+13\n",
      "[90]\tvalid_0's l2: 4.66788e+13\n",
      "[100]\tvalid_0's l2: 4.65352e+13\n",
      "Did not meet early stopping. Best iteration is:\n",
      "[99]\tvalid_0's l2: 4.65259e+13\n",
      "Number of missing values in AMT_PAYMENT after imputation: 0\n",
      "[LightGBM] [Info] Auto-choosing col-wise multi-threading, the overhead of testing was 0.059404 seconds.\n",
      "You can set `force_col_wise=true` to remove the overhead.\n",
      "[LightGBM] [Info] Total Bins 9052\n",
      "[LightGBM] [Info] Number of data points in the train set: 232845, number of used features: 60\n",
      "[LightGBM] [Warning] No further splits with positive gain, best gain: -inf\n",
      "[LightGBM] [Warning] Stopped training because there are no more leaves that meet the split requirements\n",
      "Training until validation scores don't improve for 10 rounds\n",
      "[LightGBM] [Warning] No further splits with positive gain, best gain: -inf\n",
      "[LightGBM] [Warning] Stopped training because there are no more leaves that meet the split requirements\n",
      "[LightGBM] [Warning] No further splits with positive gain, best gain: -inf\n",
      "[LightGBM] [Warning] Stopped training because there are no more leaves that meet the split requirements\n",
      "[LightGBM] [Warning] No further splits with positive gain, best gain: -inf\n",
      "[LightGBM] [Warning] Stopped training because there are no more leaves that meet the split requirements\n",
      "[LightGBM] [Warning] No further splits with positive gain, best gain: -inf\n",
      "[LightGBM] [Warning] Stopped training because there are no more leaves that meet the split requirements\n",
      "[LightGBM] [Warning] No further splits with positive gain, best gain: -inf\n",
      "[LightGBM] [Warning] Stopped training because there are no more leaves that meet the split requirements\n",
      "[LightGBM] [Warning] No further splits with positive gain, best gain: -inf\n",
      "[LightGBM] [Warning] Stopped training because there are no more leaves that meet the split requirements\n",
      "[LightGBM] [Warning] No further splits with positive gain, best gain: -inf\n",
      "[LightGBM] [Warning] Stopped training because there are no more leaves that meet the split requirements\n",
      "[LightGBM] [Warning] No further splits with positive gain, best gain: -inf\n",
      "[LightGBM] [Warning] Stopped training because there are no more leaves that meet the split requirements\n",
      "[LightGBM] [Warning] No further splits with positive gain, best gain: -inf\n",
      "[LightGBM] [Warning] Stopped training because there are no more leaves that meet the split requirements\n",
      "[10]\tvalid_0's l2: 0\n",
      "[LightGBM] [Warning] No further splits with positive gain, best gain: -inf\n",
      "[LightGBM] [Warning] Stopped training because there are no more leaves that meet the split requirements\n",
      "Early stopping, best iteration is:\n",
      "[1]\tvalid_0's l2: 0\n",
      "Number of missing values in DAYS_ENTRY_PAYMENT after imputation: 0\n"
     ]
    }
   ],
   "execution_count": 15
  },
  {
   "metadata": {},
   "cell_type": "markdown",
   "source": [
    "## Numerical High missing (>30%)\n",
    "---"
   ],
   "id": "7cb508495d090580"
  },
  {
   "metadata": {
    "ExecuteTime": {
     "end_time": "2025-07-05T02:44:49.043274Z",
     "start_time": "2025-07-05T02:44:49.037331Z"
    }
   },
   "cell_type": "code",
   "source": [
    "# High missing (>30%)\n",
    "\n",
    "high_missing_numerical = missing_numerical[missing_numerical > 30]\n",
    "\n",
    "# Get only the feature names (index)\n",
    "high_missing_features = high_missing_numerical.index.tolist()\n",
    "\n",
    "print(\"Numerical Features with High Missing Values (> 30%):\\n\", high_missing_features)"
   ],
   "id": "f6aca12a840d065f",
   "outputs": [
    {
     "name": "stdout",
     "output_type": "stream",
     "text": [
      "Numerical Features with High Missing Values (> 30%):\n",
      " ['OWN_CAR_AGE', 'FIRST_MONTH_BALANCE', 'LAST_MONTH_BALANCE']\n"
     ]
    }
   ],
   "execution_count": 16
  },
  {
   "metadata": {
    "ExecuteTime": {
     "end_time": "2025-07-05T02:45:24.680190Z",
     "start_time": "2025-07-05T02:45:24.578741Z"
    }
   },
   "cell_type": "code",
   "source": [
    "# Drop low-importance features, but only if they exist\n",
    "drop_cols = ['OWN_CAR_AGE', 'FIRST_MONTH_BALANCE', 'LAST_MONTH_BALANCE']\n",
    "\n",
    "# Check if columns exist in clean_application_train before dropping\n",
    "cols_to_drop = [col for col in drop_cols if col in clean_application_train.columns]\n",
    "\n",
    "# Drop columns from clean_application_train (if they exist)\n",
    "if cols_to_drop:\n",
    "    clean_application_train.drop(columns=cols_to_drop, inplace=True)\n",
    "else:\n",
    "    print(\"Columns to drop not found in clean_application_train DataFrame.\")"
   ],
   "id": "e595472cc5a9fb44",
   "outputs": [],
   "execution_count": 17
  },
  {
   "metadata": {
    "ExecuteTime": {
     "end_time": "2025-07-05T02:45:32.371549Z",
     "start_time": "2025-07-05T02:45:32.357905Z"
    }
   },
   "cell_type": "code",
   "source": "clean_application_train.shape",
   "id": "e7a6e76272840381",
   "outputs": [
    {
     "data": {
      "text/plain": [
       "(307511, 60)"
      ]
     },
     "execution_count": 18,
     "metadata": {},
     "output_type": "execute_result"
    }
   ],
   "execution_count": 18
  },
  {
   "metadata": {
    "ExecuteTime": {
     "end_time": "2025-07-05T02:47:16.930229Z",
     "start_time": "2025-07-05T02:47:16.817640Z"
    }
   },
   "cell_type": "code",
   "source": "clean_application_train.isnull().sum()",
   "id": "1c14129e827ed224",
   "outputs": [
    {
     "data": {
      "text/plain": [
       "SK_ID_CURR                        0\n",
       "TARGET                            0\n",
       "NAME_CONTRACT_TYPE                0\n",
       "FLAG_OWN_CAR                      0\n",
       "FLAG_OWN_REALTY                   0\n",
       "CNT_CHILDREN                      0\n",
       "AMT_INCOME_TOTAL                  0\n",
       "AMT_CREDIT                        0\n",
       "AMT_ANNUITY                       0\n",
       "AMT_GOODS_PRICE                   0\n",
       "NAME_TYPE_SUITE                1292\n",
       "NAME_INCOME_TYPE                  0\n",
       "NAME_EDUCATION_TYPE               0\n",
       "NAME_FAMILY_STATUS                0\n",
       "NAME_HOUSING_TYPE                 0\n",
       "DAYS_BIRTH                        0\n",
       "DAYS_EMPLOYED                     0\n",
       "DAYS_REGISTRATION                 0\n",
       "DAYS_ID_PUBLISH                   0\n",
       "FLAG_MOBIL                        0\n",
       "FLAG_EMP_PHONE                    0\n",
       "FLAG_WORK_PHONE                   0\n",
       "FLAG_CONT_MOBILE                  0\n",
       "FLAG_PHONE                        0\n",
       "FLAG_EMAIL                        0\n",
       "OCCUPATION_TYPE               96391\n",
       "CNT_FAM_MEMBERS                   0\n",
       "WEEKDAY_APPR_PROCESS_START        0\n",
       "ORGANIZATION_TYPE                 0\n",
       "DAYS_LAST_PHONE_CHANGE            0\n",
       "NUM_BUREAU_LOANS                  0\n",
       "SUM_CREDIT                        0\n",
       "AVG_CREDIT                        0\n",
       "FIRST_CREDIT_DAYS                 0\n",
       "LAST_CREDIT_DAYS                  0\n",
       "ACTIVE_LOANS                      0\n",
       "OVERDUE_MONTHS                    0\n",
       "NUM_PREV_LOANS                    0\n",
       "SUM_PREV_CREDIT                   0\n",
       "AVG_PREV_CREDIT                   0\n",
       "RECENT_LOAN_DAYS                  0\n",
       "MONTHS_BALANCE_min                0\n",
       "MONTHS_BALANCE_max                0\n",
       "AMT_PAYMENT                       0\n",
       "DAYS_ENTRY_PAYMENT                0\n",
       "NUM_BUREAU_LOANS_imputed          0\n",
       "SUM_CREDIT_imputed                0\n",
       "AVG_CREDIT_imputed                0\n",
       "FIRST_CREDIT_DAYS_imputed         0\n",
       "LAST_CREDIT_DAYS_imputed          0\n",
       "ACTIVE_LOANS_imputed              0\n",
       "OVERDUE_MONTHS_imputed            0\n",
       "NUM_PREV_LOANS_imputed            0\n",
       "SUM_PREV_CREDIT_imputed           0\n",
       "AVG_PREV_CREDIT_imputed           0\n",
       "RECENT_LOAN_DAYS_imputed          0\n",
       "MONTHS_BALANCE_min_imputed        0\n",
       "MONTHS_BALANCE_max_imputed        0\n",
       "AMT_PAYMENT_imputed               0\n",
       "DAYS_ENTRY_PAYMENT_imputed        0\n",
       "dtype: int64"
      ]
     },
     "execution_count": 19,
     "metadata": {},
     "output_type": "execute_result"
    }
   ],
   "execution_count": 19
  },
  {
   "metadata": {},
   "cell_type": "markdown",
   "source": [
    "## Categorical Low missing (<5%)\n",
    "---"
   ],
   "id": "174cd96e0fa344f3"
  },
  {
   "metadata": {
    "ExecuteTime": {
     "end_time": "2025-07-05T02:52:57.106052Z",
     "start_time": "2025-07-05T02:52:56.962134Z"
    }
   },
   "cell_type": "code",
   "source": [
    "# Hitung persentase missing values untuk kolom bertipe kategorikal\n",
    "missing_categorical = clean_application_train.select_dtypes(include=['object', 'category']).isnull().mean() * 100\n",
    "\n",
    "# Low missing (<5%)\n",
    "\n",
    "low_missing_categorical = missing_categorical[(missing_categorical < 5) & (missing_categorical > 0)]\n",
    "print(\"Numerical Features with Low Missing Values (0% < Missing < 5%):\\n\", low_missing_categorical)"
   ],
   "id": "7d58d31a95c2fe0e",
   "outputs": [
    {
     "name": "stdout",
     "output_type": "stream",
     "text": [
      "Numerical Features with Low Missing Values (0% < Missing < 5%):\n",
      " NAME_TYPE_SUITE    0.420148\n",
      "dtype: float64\n"
     ]
    }
   ],
   "execution_count": 21
  },
  {
   "metadata": {
    "ExecuteTime": {
     "end_time": "2025-07-05T02:54:03.237795Z",
     "start_time": "2025-07-05T02:54:03.073814Z"
    }
   },
   "cell_type": "code",
   "source": [
    "# fill categorical features with low missing values (less than 5%) using the mode\n",
    "\n",
    "for feature in low_missing_categorical.index:\n",
    "    # Check if the column already has imputed values (e.g., '_imputed' suffix)\n",
    "    imputed_col_name = feature + '_imputed'\n",
    "    if imputed_col_name not in clean_application_train.columns:\n",
    "        # Impute missing values and store in a new column with '_imputed' suffix\n",
    "        clean_application_train[imputed_col_name] = clean_application_train[feature].fillna(clean_application_train[feature].mode()[0])\n",
    "    else:\n",
    "        # If imputed column already exists, use it\n",
    "        print(f\"Column '{feature}' already has imputed values in '{imputed_col_name}'. Skipping imputation.\")\n",
    "\n",
    "    # Replace original column with imputed column\n",
    "    clean_application_train[feature] = clean_application_train[imputed_col_name]\n",
    "    clean_application_train.drop(columns=[imputed_col_name], inplace=True) # Remove the temporary imputed column"
   ],
   "id": "c350af3c1ece24b6",
   "outputs": [],
   "execution_count": 22
  },
  {
   "metadata": {
    "ExecuteTime": {
     "end_time": "2025-07-05T02:54:21.184395Z",
     "start_time": "2025-07-05T02:54:21.052602Z"
    }
   },
   "cell_type": "code",
   "source": "check_missing_values(clean_application_train)",
   "id": "7f492403b6eca5df",
   "outputs": [
    {
     "name": "stdout",
     "output_type": "stream",
     "text": [
      "Missing Values Summary:\n",
      "                 Missing Values  Percentage\n",
      "OCCUPATION_TYPE           96391   31.345545\n"
     ]
    }
   ],
   "execution_count": 23
  },
  {
   "metadata": {},
   "cell_type": "markdown",
   "source": [
    "## Moderate missing (5–30%)\n",
    "---"
   ],
   "id": "262fe61df020602a"
  },
  {
   "metadata": {
    "ExecuteTime": {
     "end_time": "2025-07-05T02:55:05.527968Z",
     "start_time": "2025-07-05T02:55:05.514731Z"
    }
   },
   "cell_type": "code",
   "source": [
    "# Moderate missing (5-30%)\n",
    "\n",
    "moderate_missing_categorical = missing_categorical[(missing_numerical >= 5) & (missing_categorical <= 30)]\n",
    "print(\"Numerical Features with Moderate Missing Values (5% <= Missing <= 30%):\\n\", moderate_missing_categorical)"
   ],
   "id": "b83465f073bf6c04",
   "outputs": [
    {
     "name": "stdout",
     "output_type": "stream",
     "text": [
      "Numerical Features with Moderate Missing Values (5% <= Missing <= 30%):\n",
      " Series([], dtype: float64)\n"
     ]
    }
   ],
   "execution_count": 24
  },
  {
   "metadata": {},
   "cell_type": "markdown",
   "source": [
    "## High missing (>30%)\n",
    "---"
   ],
   "id": "1ee19d55a5dafc95"
  },
  {
   "metadata": {
    "ExecuteTime": {
     "end_time": "2025-07-05T02:55:18.036129Z",
     "start_time": "2025-07-05T02:55:18.028719Z"
    }
   },
   "cell_type": "code",
   "source": [
    "# High missing (>30%)\n",
    "\n",
    "high_missing_categorical = missing_categorical[missing_categorical > 30]\n",
    "print(\"Categorical Features with High Missing Values (> 30%):\\n\", high_missing_categorical)"
   ],
   "id": "e92699b342090e93",
   "outputs": [
    {
     "name": "stdout",
     "output_type": "stream",
     "text": [
      "Categorical Features with High Missing Values (> 30%):\n",
      " OCCUPATION_TYPE    31.345545\n",
      "dtype: float64\n"
     ]
    }
   ],
   "execution_count": 25
  },
  {
   "metadata": {
    "ExecuteTime": {
     "end_time": "2025-07-05T02:56:52.608093Z",
     "start_time": "2025-07-05T02:56:52.584783Z"
    }
   },
   "cell_type": "code",
   "source": "clean_application_train['OCCUPATION_TYPE'].fillna('Other', inplace=True)",
   "id": "715c5f3d62cb401c",
   "outputs": [
    {
     "name": "stderr",
     "output_type": "stream",
     "text": [
      "C:\\Users\\ASUS\\AppData\\Local\\Temp\\ipykernel_7816\\2434723297.py:1: FutureWarning: A value is trying to be set on a copy of a DataFrame or Series through chained assignment using an inplace method.\n",
      "The behavior will change in pandas 3.0. This inplace method will never work because the intermediate object on which we are setting values always behaves as a copy.\n",
      "\n",
      "For example, when doing 'df[col].method(value, inplace=True)', try using 'df.method({col: value}, inplace=True)' or df[col] = df[col].method(value) instead, to perform the operation inplace on the original object.\n",
      "\n",
      "\n",
      "  clean_application_train['OCCUPATION_TYPE'].fillna('Other', inplace=True)\n"
     ]
    }
   ],
   "execution_count": 26
  },
  {
   "metadata": {
    "ExecuteTime": {
     "end_time": "2025-07-05T02:57:23.949728Z",
     "start_time": "2025-07-05T02:57:23.790500Z"
    }
   },
   "cell_type": "code",
   "source": "check_missing_values(clean_application_train)",
   "id": "e284f53e276ee745",
   "outputs": [
    {
     "name": "stdout",
     "output_type": "stream",
     "text": [
      "No missing values found in the DataFrame.\n"
     ]
    }
   ],
   "execution_count": 27
  },
  {
   "metadata": {
    "ExecuteTime": {
     "end_time": "2025-07-05T02:57:53.353090Z",
     "start_time": "2025-07-05T02:57:44.694627Z"
    }
   },
   "cell_type": "code",
   "source": "clean_application_train.to_csv('clean_application_train.csv', index=False)",
   "id": "3d452191edcc2256",
   "outputs": [],
   "execution_count": 28
  },
  {
   "metadata": {},
   "cell_type": "markdown",
   "source": [
    "## <b>3.  Detecting and Handling Outliers</font></b>\n",
    "---\n",
    "#### Use IQR to Detect Outliers\n",
    "\n",
    "\n"
   ],
   "id": "bde4f61ff8ec2be7"
  },
  {
   "metadata": {
    "ExecuteTime": {
     "end_time": "2025-07-05T02:59:38.506656Z",
     "start_time": "2025-07-05T02:59:38.501470Z"
    }
   },
   "cell_type": "code",
   "source": "outlier_application_train = clean_application_train",
   "id": "d38c7bb0704b50e2",
   "outputs": [],
   "execution_count": 30
  },
  {
   "metadata": {
    "ExecuteTime": {
     "end_time": "2025-07-05T02:59:45.139129Z",
     "start_time": "2025-07-05T02:59:45.134467Z"
    }
   },
   "cell_type": "code",
   "source": [
    "def detect_outliers_iqr(df, columns):\n",
    "    outlier_info = {}  # Dictionary to store features and outlier numbers\n",
    "    for col in columns:\n",
    "        Q1 = df[col].quantile(0.25)\n",
    "        Q3 = df[col].quantile(0.75)\n",
    "        IQR = Q3 - Q1\n",
    "        lower_bound = Q1 - 1.5 * IQR\n",
    "        upper_bound = Q3 + 1.5 * IQR\n",
    "\n",
    "        outliers = df[(df[col] < lower_bound) | (df[col] > upper_bound)]\n",
    "        num_outliers = len(outliers)  # Get the number of outliers\n",
    "\n",
    "        if num_outliers > 0:  # Check if there are any outliers for this column\n",
    "            outlier_info[col] = num_outliers  # Store feature and outlier number\n",
    "\n",
    "    return outlier_info  # Return the dictionary"
   ],
   "id": "5d5966e04bf915d5",
   "outputs": [],
   "execution_count": 31
  },
  {
   "metadata": {
    "ExecuteTime": {
     "end_time": "2025-07-05T02:59:54.508578Z",
     "start_time": "2025-07-05T02:59:52.411273Z"
    }
   },
   "cell_type": "code",
   "source": [
    "# Select numerical columns from outlier_application_train\n",
    "num_cols = outlier_application_train.select_dtypes(include=[np.number]).columns\n",
    "\n",
    "# Detect outliers using outlier_application_train and get features with outlier numbers\n",
    "outliers_iqr = detect_outliers_iqr(outlier_application_train, num_cols)\n",
    "outliers_iqr"
   ],
   "id": "180247802598857",
   "outputs": [
    {
     "data": {
      "text/plain": [
       "{'TARGET': 24825,\n",
       " 'CNT_CHILDREN': 4272,\n",
       " 'AMT_INCOME_TOTAL': 14035,\n",
       " 'AMT_CREDIT': 6562,\n",
       " 'AMT_ANNUITY': 7504,\n",
       " 'AMT_GOODS_PRICE': 14728,\n",
       " 'DAYS_EMPLOYED': 72217,\n",
       " 'DAYS_REGISTRATION': 659,\n",
       " 'FLAG_MOBIL': 1,\n",
       " 'FLAG_EMP_PHONE': 55386,\n",
       " 'FLAG_WORK_PHONE': 61308,\n",
       " 'FLAG_CONT_MOBILE': 574,\n",
       " 'FLAG_EMAIL': 17442,\n",
       " 'CNT_FAM_MEMBERS': 4007,\n",
       " 'DAYS_LAST_PHONE_CHANGE': 435,\n",
       " 'NUM_BUREAU_LOANS': 9094,\n",
       " 'SUM_CREDIT': 26131,\n",
       " 'AVG_CREDIT': 31486,\n",
       " 'LAST_CREDIT_DAYS': 29931,\n",
       " 'ACTIVE_LOANS': 6454,\n",
       " 'OVERDUE_MONTHS': 65732,\n",
       " 'NUM_PREV_LOANS': 15426,\n",
       " 'SUM_PREV_CREDIT': 26567,\n",
       " 'AVG_PREV_CREDIT': 19924,\n",
       " 'MONTHS_BALANCE_max': 27934,\n",
       " 'AMT_PAYMENT': 30468,\n",
       " 'NUM_BUREAU_LOANS_imputed': 9094,\n",
       " 'SUM_CREDIT_imputed': 26131,\n",
       " 'AVG_CREDIT_imputed': 31486,\n",
       " 'LAST_CREDIT_DAYS_imputed': 29931,\n",
       " 'ACTIVE_LOANS_imputed': 6454,\n",
       " 'OVERDUE_MONTHS_imputed': 65732,\n",
       " 'NUM_PREV_LOANS_imputed': 15426,\n",
       " 'SUM_PREV_CREDIT_imputed': 26567,\n",
       " 'AVG_PREV_CREDIT_imputed': 19924,\n",
       " 'MONTHS_BALANCE_max_imputed': 27934,\n",
       " 'AMT_PAYMENT_imputed': 30468}"
      ]
     },
     "execution_count": 32,
     "metadata": {},
     "output_type": "execute_result"
    }
   ],
   "execution_count": 32
  },
  {
   "metadata": {},
   "cell_type": "markdown",
   "source": [
    "## Handle Outlier\n",
    "---\n",
    "#### Financial Features (Key Loan & Income Variables)"
   ],
   "id": "f02a37f0e54dbb8d"
  },
  {
   "metadata": {
    "ExecuteTime": {
     "end_time": "2025-07-05T03:01:28.865699Z",
     "start_time": "2025-07-05T03:01:28.609243Z"
    }
   },
   "cell_type": "code",
   "source": [
    "financial_features = ['AMT_INCOME_TOTAL', 'AMT_CREDIT', 'AMT_ANNUITY', 'AMT_GOODS_PRICE']\n",
    "\n",
    "for col in financial_features:\n",
    "    lower_limit = outlier_application_train[col].quantile(0.01)\n",
    "    upper_limit = outlier_application_train[col].quantile(0.99)\n",
    "\n",
    "    # Replace values directly in outlier_application_train\n",
    "    outlier_application_train[col] = np.clip(outlier_application_train[col], lower_limit, upper_limit)\n",
    "\n",
    "# Check for changes\n",
    "for col in financial_features:\n",
    "    before_range = outlier_application_train[col].describe()[['min', 'max']]  # No need for a copy anymore\n",
    "    print(f\"Column: {col}\")\n",
    "    print(f\"Range after clipping: {before_range}\")  # Print the range after clipping\n",
    "    print(\"-\" * 20)"
   ],
   "id": "8b79671624643298",
   "outputs": [
    {
     "name": "stdout",
     "output_type": "stream",
     "text": [
      "Column: AMT_INCOME_TOTAL\n",
      "Range after clipping: min     9321750.0\n",
      "max    97878375.0\n",
      "Name: AMT_INCOME_TOTAL, dtype: float64\n",
      "--------------------\n",
      "Column: AMT_CREDIT\n",
      "Range after clipping: min     15828331.5\n",
      "max    384056100.0\n",
      "Name: AMT_CREDIT, dtype: float64\n",
      "--------------------\n",
      "Column: AMT_ANNUITY\n",
      "Range after clipping: min    1.280808e+06\n",
      "max    1.450185e+07\n",
      "Name: AMT_ANNUITY, dtype: float64\n",
      "--------------------\n",
      "Column: AMT_GOODS_PRICE\n",
      "Range after clipping: min     13982625.0\n",
      "max    372870000.0\n",
      "Name: AMT_GOODS_PRICE, dtype: float64\n",
      "--------------------\n"
     ]
    }
   ],
   "execution_count": 33
  },
  {
   "metadata": {
    "ExecuteTime": {
     "end_time": "2025-07-05T03:01:39.191586Z",
     "start_time": "2025-07-05T03:01:38.057150Z"
    }
   },
   "cell_type": "code",
   "source": [
    "outliers_iqr = detect_outliers_iqr(outlier_application_train, num_cols)\n",
    "outliers_iqr"
   ],
   "id": "cc4511dd1fdf84b9",
   "outputs": [
    {
     "data": {
      "text/plain": [
       "{'TARGET': 24825,\n",
       " 'CNT_CHILDREN': 4272,\n",
       " 'AMT_INCOME_TOTAL': 14035,\n",
       " 'AMT_CREDIT': 6562,\n",
       " 'AMT_ANNUITY': 7504,\n",
       " 'AMT_GOODS_PRICE': 14728,\n",
       " 'DAYS_EMPLOYED': 72217,\n",
       " 'DAYS_REGISTRATION': 659,\n",
       " 'FLAG_MOBIL': 1,\n",
       " 'FLAG_EMP_PHONE': 55386,\n",
       " 'FLAG_WORK_PHONE': 61308,\n",
       " 'FLAG_CONT_MOBILE': 574,\n",
       " 'FLAG_EMAIL': 17442,\n",
       " 'CNT_FAM_MEMBERS': 4007,\n",
       " 'DAYS_LAST_PHONE_CHANGE': 435,\n",
       " 'NUM_BUREAU_LOANS': 9094,\n",
       " 'SUM_CREDIT': 26131,\n",
       " 'AVG_CREDIT': 31486,\n",
       " 'LAST_CREDIT_DAYS': 29931,\n",
       " 'ACTIVE_LOANS': 6454,\n",
       " 'OVERDUE_MONTHS': 65732,\n",
       " 'NUM_PREV_LOANS': 15426,\n",
       " 'SUM_PREV_CREDIT': 26567,\n",
       " 'AVG_PREV_CREDIT': 19924,\n",
       " 'MONTHS_BALANCE_max': 27934,\n",
       " 'AMT_PAYMENT': 30468,\n",
       " 'NUM_BUREAU_LOANS_imputed': 9094,\n",
       " 'SUM_CREDIT_imputed': 26131,\n",
       " 'AVG_CREDIT_imputed': 31486,\n",
       " 'LAST_CREDIT_DAYS_imputed': 29931,\n",
       " 'ACTIVE_LOANS_imputed': 6454,\n",
       " 'OVERDUE_MONTHS_imputed': 65732,\n",
       " 'NUM_PREV_LOANS_imputed': 15426,\n",
       " 'SUM_PREV_CREDIT_imputed': 26567,\n",
       " 'AVG_PREV_CREDIT_imputed': 19924,\n",
       " 'MONTHS_BALANCE_max_imputed': 27934,\n",
       " 'AMT_PAYMENT_imputed': 30468}"
      ]
     },
     "execution_count": 34,
     "metadata": {},
     "output_type": "execute_result"
    }
   ],
   "execution_count": 34
  },
  {
   "metadata": {
    "ExecuteTime": {
     "end_time": "2025-07-05T03:02:41.987956Z",
     "start_time": "2025-07-05T03:02:41.506111Z"
    }
   },
   "cell_type": "code",
   "source": [
    "# Create a copy to avoid modifying the original (if not already done)\n",
    "outlier_application_train_cleaned = outlier_application_train.copy()\n",
    "\n",
    "# Log transform DAYS_EMPLOYED and store in a new column\n",
    "outlier_application_train_cleaned['DAYS_EMPLOYED_log'] = np.log1p(outlier_application_train_cleaned['DAYS_EMPLOYED'].abs())\n",
    "\n",
    "# Replace the original column with the log-transformed values\n",
    "outlier_application_train_cleaned['DAYS_EMPLOYED'] = outlier_application_train_cleaned['DAYS_EMPLOYED_log']\n",
    "outlier_application_train_cleaned.drop(columns=['DAYS_EMPLOYED_log'], inplace=True)\n",
    "\n",
    "# Assign the cleaned DataFrame back to the original\n",
    "outlier_application_train = outlier_application_train_cleaned\n",
    "\n",
    "# Check descriptive statistics before and after transformation\n",
    "after_stats = outlier_application_train_cleaned['DAYS_EMPLOYED'].describe()  # Can still use outlier_application_train_cleaned\n",
    "\n",
    "print(\"DAYS_EMPLOYED Statistics:\")\n",
    "print(\"After Transformation:\", after_stats)"
   ],
   "id": "649a70d78d442c40",
   "outputs": [
    {
     "name": "stdout",
     "output_type": "stream",
     "text": [
      "DAYS_EMPLOYED Statistics:\n",
      "After Transformation: count    307511.000000\n",
      "mean          8.294337\n",
      "std           2.321902\n",
      "min           0.000000\n",
      "25%           6.839476\n",
      "50%           7.705262\n",
      "75%           8.649624\n",
      "max          12.808321\n",
      "Name: DAYS_EMPLOYED, dtype: float64\n"
     ]
    }
   ],
   "execution_count": 35
  },
  {
   "metadata": {
    "ExecuteTime": {
     "end_time": "2025-07-05T03:03:28.248921Z",
     "start_time": "2025-07-05T03:03:27.931995Z"
    }
   },
   "cell_type": "code",
   "source": [
    "credit_features = ['AMT_REQ_CREDIT_BUREAU_YEAR', 'NUM_BUREAU_LOANS']\n",
    "\n",
    "# Create a copy to avoid modifying the original\n",
    "outlier_application_train_cleaned = outlier_application_train.copy()\n",
    "\n",
    "for col in credit_features:\n",
    "    # Check if the column exists before processing\n",
    "    if col in outlier_application_train_cleaned.columns:\n",
    "        # Calculate quantiles for clipping\n",
    "        lower_limit = outlier_application_train_cleaned[col].quantile(0.01)\n",
    "        upper_limit = outlier_application_train_cleaned[col].quantile(0.99)\n",
    "\n",
    "        # Clip values directly in the outlier_application_train DataFrame\n",
    "        outlier_application_train[col] = np.clip(outlier_application_train[col], lower_limit, upper_limit)\n",
    "    else:\n",
    "        print(f\"Column '{col}' not found in DataFrame. Skipping outlier handling.\")\n",
    "\n",
    "# --- Code to check the results ---\n",
    "\n",
    "for col in credit_features:\n",
    "    if col in outlier_application_train.columns:\n",
    "        before_range = outlier_application_train_cleaned[col].describe()[['min', 'max']]  # Original range\n",
    "        after_range = outlier_application_train[col].describe()[['min', 'max']]  # Clipped range\n",
    "        print(f\"Column: {col}\")\n",
    "        print(f\"Range before clipping: {before_range}\")\n",
    "        print(f\"Range after clipping: {after_range}\")\n",
    "        print(\"-\" * 20)\n",
    "    else:\n",
    "        print(f\"Column '{col}' not found for range comparison.\")"
   ],
   "id": "e3353eb12f97e0b0",
   "outputs": [
    {
     "name": "stdout",
     "output_type": "stream",
     "text": [
      "Column 'AMT_REQ_CREDIT_BUREAU_YEAR' not found in DataFrame. Skipping outlier handling.\n",
      "Column 'AMT_REQ_CREDIT_BUREAU_YEAR' not found for range comparison.\n",
      "Column: NUM_BUREAU_LOANS\n",
      "Range before clipping: min      1.0\n",
      "max    116.0\n",
      "Name: NUM_BUREAU_LOANS, dtype: float64\n",
      "Range after clipping: min     1.0\n",
      "max    20.0\n",
      "Name: NUM_BUREAU_LOANS, dtype: float64\n",
      "--------------------\n"
     ]
    }
   ],
   "execution_count": 36
  },
  {
   "metadata": {
    "ExecuteTime": {
     "end_time": "2025-07-05T03:03:43.931304Z",
     "start_time": "2025-07-05T03:03:43.352394Z"
    }
   },
   "cell_type": "code",
   "source": [
    "loan_features = ['OVERDUE_MONTHS', 'LAST_CREDIT_DAYS', 'AMT_PAYMENT']\n",
    "\n",
    "# Create a copy to avoid modifying the original\n",
    "outlier_application_train_cleaned = outlier_application_train.copy()\n",
    "\n",
    "for col in loan_features:\n",
    "    # Check if the column exists before processing\n",
    "    if col in outlier_application_train_cleaned.columns:\n",
    "        # Calculate quantiles for clipping\n",
    "        lower_limit = outlier_application_train_cleaned[col].quantile(0.01)\n",
    "        upper_limit = outlier_application_train_cleaned[col].quantile(0.99)\n",
    "\n",
    "        # Clip values directly in the outlier_application_train DataFrame\n",
    "        outlier_application_train[col] = np.clip(outlier_application_train[col], lower_limit, upper_limit)\n",
    "    else:\n",
    "        print(f\"Column '{col}' not found in DataFrame. Skipping outlier handling.\")\n",
    "\n",
    "# --- Code to check the results ---\n",
    "\n",
    "for col in loan_features:\n",
    "    if col in outlier_application_train.columns:\n",
    "        before_range = outlier_application_train_cleaned[col].describe()[['min', 'max']]  # Original range\n",
    "        after_range = outlier_application_train[col].describe()[['min', 'max']]  # Clipped range\n",
    "        print(f\"Column: {col}\")\n",
    "        print(f\"Range before clipping: {before_range}\")\n",
    "        print(f\"Range after clipping: {after_range}\")\n",
    "        print(\"-\" * 20)\n",
    "    else:\n",
    "        print(f\"Column '{col}' not found for range comparison.\")"
   ],
   "id": "3caf2631e2040a24",
   "outputs": [
    {
     "name": "stdout",
     "output_type": "stream",
     "text": [
      "Column: OVERDUE_MONTHS\n",
      "Range before clipping: min       0.0\n",
      "max    2252.0\n",
      "Name: OVERDUE_MONTHS, dtype: float64\n",
      "Range after clipping: min      0.0\n",
      "max    414.0\n",
      "Name: OVERDUE_MONTHS, dtype: float64\n",
      "--------------------\n",
      "Column: LAST_CREDIT_DAYS\n",
      "Range before clipping: min   -2922.0\n",
      "max       0.0\n",
      "Name: LAST_CREDIT_DAYS, dtype: float64\n",
      "Range after clipping: min   -2564.0\n",
      "max     -16.0\n",
      "Name: LAST_CREDIT_DAYS, dtype: float64\n",
      "--------------------\n",
      "Column: AMT_PAYMENT\n",
      "Range before clipping: min    3.293685e+03\n",
      "max    5.188257e+08\n",
      "Name: AMT_PAYMENT, dtype: float64\n",
      "Range after clipping: min    5.430207e+05\n",
      "max    3.680604e+07\n",
      "Name: AMT_PAYMENT, dtype: float64\n",
      "--------------------\n"
     ]
    }
   ],
   "execution_count": 37
  },
  {
   "metadata": {
    "ExecuteTime": {
     "end_time": "2025-07-05T03:15:20.562580Z",
     "start_time": "2025-07-05T03:15:11.778038Z"
    }
   },
   "cell_type": "code",
   "source": "# outlier_application_train.to_csv('outlier_application_train.csv', index=False)",
   "id": "9814224b9e83e289",
   "outputs": [],
   "execution_count": 41
  },
  {
   "metadata": {
    "ExecuteTime": {
     "end_time": "2025-07-05T03:15:31.176048Z",
     "start_time": "2025-07-05T03:15:31.173059Z"
    }
   },
   "cell_type": "code",
   "source": "outlier_application_train.shape # SHAPE NYA JADI (307511, 45)",
   "id": "db94f16cfecb075d",
   "outputs": [
    {
     "data": {
      "text/plain": [
       "(307511, 60)"
      ]
     },
     "execution_count": 42,
     "metadata": {},
     "output_type": "execute_result"
    }
   ],
   "execution_count": 42
  },
  {
   "metadata": {
    "ExecuteTime": {
     "end_time": "2025-07-05T03:17:33.329883Z",
     "start_time": "2025-07-05T03:17:33.210460Z"
    }
   },
   "cell_type": "code",
   "source": "clean_application_train.isnull().sum()",
   "id": "aa9fc999c3b892d",
   "outputs": [
    {
     "data": {
      "text/plain": [
       "SK_ID_CURR                    0\n",
       "TARGET                        0\n",
       "NAME_CONTRACT_TYPE            0\n",
       "FLAG_OWN_CAR                  0\n",
       "FLAG_OWN_REALTY               0\n",
       "CNT_CHILDREN                  0\n",
       "AMT_INCOME_TOTAL              0\n",
       "AMT_CREDIT                    0\n",
       "AMT_ANNUITY                   0\n",
       "AMT_GOODS_PRICE               0\n",
       "NAME_TYPE_SUITE               0\n",
       "NAME_INCOME_TYPE              0\n",
       "NAME_EDUCATION_TYPE           0\n",
       "NAME_FAMILY_STATUS            0\n",
       "NAME_HOUSING_TYPE             0\n",
       "DAYS_BIRTH                    0\n",
       "DAYS_EMPLOYED                 0\n",
       "DAYS_REGISTRATION             0\n",
       "DAYS_ID_PUBLISH               0\n",
       "FLAG_MOBIL                    0\n",
       "FLAG_EMP_PHONE                0\n",
       "FLAG_WORK_PHONE               0\n",
       "FLAG_CONT_MOBILE              0\n",
       "FLAG_PHONE                    0\n",
       "FLAG_EMAIL                    0\n",
       "OCCUPATION_TYPE               0\n",
       "CNT_FAM_MEMBERS               0\n",
       "WEEKDAY_APPR_PROCESS_START    0\n",
       "ORGANIZATION_TYPE             0\n",
       "DAYS_LAST_PHONE_CHANGE        0\n",
       "NUM_BUREAU_LOANS              0\n",
       "SUM_CREDIT                    0\n",
       "AVG_CREDIT                    0\n",
       "FIRST_CREDIT_DAYS             0\n",
       "LAST_CREDIT_DAYS              0\n",
       "ACTIVE_LOANS                  0\n",
       "OVERDUE_MONTHS                0\n",
       "NUM_PREV_LOANS                0\n",
       "SUM_PREV_CREDIT               0\n",
       "AVG_PREV_CREDIT               0\n",
       "RECENT_LOAN_DAYS              0\n",
       "MONTHS_BALANCE_min            0\n",
       "MONTHS_BALANCE_max            0\n",
       "AMT_PAYMENT                   0\n",
       "DAYS_ENTRY_PAYMENT            0\n",
       "NUM_BUREAU_LOANS_imputed      0\n",
       "SUM_CREDIT_imputed            0\n",
       "AVG_CREDIT_imputed            0\n",
       "FIRST_CREDIT_DAYS_imputed     0\n",
       "LAST_CREDIT_DAYS_imputed      0\n",
       "ACTIVE_LOANS_imputed          0\n",
       "OVERDUE_MONTHS_imputed        0\n",
       "NUM_PREV_LOANS_imputed        0\n",
       "SUM_PREV_CREDIT_imputed       0\n",
       "AVG_PREV_CREDIT_imputed       0\n",
       "RECENT_LOAN_DAYS_imputed      0\n",
       "MONTHS_BALANCE_min_imputed    0\n",
       "MONTHS_BALANCE_max_imputed    0\n",
       "AMT_PAYMENT_imputed           0\n",
       "DAYS_ENTRY_PAYMENT_imputed    0\n",
       "dtype: int64"
      ]
     },
     "execution_count": 43,
     "metadata": {},
     "output_type": "execute_result"
    }
   ],
   "execution_count": 43
  },
  {
   "metadata": {},
   "cell_type": "code",
   "outputs": [],
   "execution_count": null,
   "source": "",
   "id": "bd526f656afeb97a"
  }
 ],
 "metadata": {
  "kernelspec": {
   "display_name": "Python 3",
   "language": "python",
   "name": "python3"
  },
  "language_info": {
   "codemirror_mode": {
    "name": "ipython",
    "version": 2
   },
   "file_extension": ".py",
   "mimetype": "text/x-python",
   "name": "python",
   "nbconvert_exporter": "python",
   "pygments_lexer": "ipython2",
   "version": "2.7.6"
  }
 },
 "nbformat": 4,
 "nbformat_minor": 5
}
