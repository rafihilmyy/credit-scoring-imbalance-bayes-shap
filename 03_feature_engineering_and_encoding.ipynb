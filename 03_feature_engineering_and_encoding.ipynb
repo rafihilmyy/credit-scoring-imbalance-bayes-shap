{
 "cells": [
  {
   "cell_type": "code",
   "id": "initial_id",
   "metadata": {
    "collapsed": true,
    "ExecuteTime": {
     "end_time": "2025-07-05T03:19:57.955586Z",
     "start_time": "2025-07-05T03:19:57.755811Z"
    }
   },
   "source": [
    "import pandas as pd\n",
    "import matplotlib.pyplot as plt\n",
    "import numpy as np\n",
    "import seaborn as sns\n",
    "from sklearn.decomposition import PCA\n",
    "from sklearn.preprocessing import StandardScaler\n",
    "import time\n",
    "import lightgbm as lgb\n",
    "from lightgbm import early_stopping, log_evaluation"
   ],
   "outputs": [],
   "execution_count": 1
  },
  {
   "metadata": {},
   "cell_type": "markdown",
   "source": [
    "## <b>1.  Importing Data to Python</font></b>\n",
    "---"
   ],
   "id": "622312066d4b9a88"
  },
  {
   "metadata": {
    "ExecuteTime": {
     "end_time": "2025-07-05T03:20:36.369416Z",
     "start_time": "2025-07-05T03:20:35.481587Z"
    }
   },
   "cell_type": "code",
   "source": "feature_application_train = pd.read_csv('D:/Code Skripsi - RL and Ensemble/data/raw/outlier_application_train.csv')",
   "id": "15cf54f1f6452280",
   "outputs": [],
   "execution_count": 3
  },
  {
   "metadata": {
    "ExecuteTime": {
     "end_time": "2025-07-05T03:20:39.909663Z",
     "start_time": "2025-07-05T03:20:39.904400Z"
    }
   },
   "cell_type": "code",
   "source": "feature_application_train.shape",
   "id": "6d29e2b79e072461",
   "outputs": [
    {
     "data": {
      "text/plain": [
       "(307511, 45)"
      ]
     },
     "execution_count": 4,
     "metadata": {},
     "output_type": "execute_result"
    }
   ],
   "execution_count": 4
  },
  {
   "metadata": {
    "ExecuteTime": {
     "end_time": "2025-07-05T03:20:45.100323Z",
     "start_time": "2025-07-05T03:20:45.084898Z"
    }
   },
   "cell_type": "code",
   "source": "feature_application_train.head()",
   "id": "71769b29c335451a",
   "outputs": [
    {
     "data": {
      "text/plain": [
       "   SK_ID_CURR  TARGET NAME_CONTRACT_TYPE FLAG_OWN_CAR FLAG_OWN_REALTY  \\\n",
       "0      100002       1         Cash loans            N               Y   \n",
       "1      100003       0         Cash loans            N               N   \n",
       "2      100004       0    Revolving loans            Y               Y   \n",
       "3      100006       0         Cash loans            N               Y   \n",
       "4      100007       0         Cash loans            N               Y   \n",
       "\n",
       "   CNT_CHILDREN  AMT_INCOME_TOTAL    AMT_CREDIT  AMT_ANNUITY  AMT_GOODS_PRICE  \\\n",
       "0             0        41947875.0  8.422667e+07  5116708.575       72709650.0   \n",
       "1             0        55930500.0  2.679490e+08  7394944.275      233975925.0   \n",
       "2             0        13982625.0  2.796525e+07  1398262.500       27965250.0   \n",
       "3             0        27965250.0  6.477218e+07  6149558.475       61523550.0   \n",
       "4             0        25168725.0  1.062680e+08  4529438.325      106267950.0   \n",
       "\n",
       "   ... ACTIVE_LOANS OVERDUE_MONTHS NUM_PREV_LOANS SUM_PREV_CREDIT  \\\n",
       "0  ...     2.000000       65.00000            1.0    3.709124e+07   \n",
       "1  ...     1.000000        0.00000            3.0    3.009005e+08   \n",
       "2  ...     0.000000        0.00000            1.0    4.164958e+06   \n",
       "3  ...     0.713354        0.28985            9.0    5.438225e+08   \n",
       "4  ...     0.000000        0.00000            6.0    2.071153e+08   \n",
       "\n",
       "  AVG_PREV_CREDIT  RECENT_LOAN_DAYS  MONTHS_BALANCE_min  MONTHS_BALANCE_max  \\\n",
       "0    3.709124e+07            -606.0               -19.0                -1.0   \n",
       "1    1.003002e+08           -2341.0               -77.0               -18.0   \n",
       "2    4.164958e+06            -815.0               -27.0               -24.0   \n",
       "3    6.042472e+07            -617.0               -20.0                -1.0   \n",
       "4    3.451922e+07           -2357.0               -77.0                -1.0   \n",
       "\n",
       "    AMT_PAYMENT  DAYS_ENTRY_PAYMENT  \n",
       "0  2.394498e+06                   0  \n",
       "1  1.627339e+07                   0  \n",
       "2  1.469969e+06                   0  \n",
       "3  3.680604e+07                   0  \n",
       "4  2.417760e+06                   0  \n",
       "\n",
       "[5 rows x 45 columns]"
      ],
      "text/html": [
       "<div>\n",
       "<style scoped>\n",
       "    .dataframe tbody tr th:only-of-type {\n",
       "        vertical-align: middle;\n",
       "    }\n",
       "\n",
       "    .dataframe tbody tr th {\n",
       "        vertical-align: top;\n",
       "    }\n",
       "\n",
       "    .dataframe thead th {\n",
       "        text-align: right;\n",
       "    }\n",
       "</style>\n",
       "<table border=\"1\" class=\"dataframe\">\n",
       "  <thead>\n",
       "    <tr style=\"text-align: right;\">\n",
       "      <th></th>\n",
       "      <th>SK_ID_CURR</th>\n",
       "      <th>TARGET</th>\n",
       "      <th>NAME_CONTRACT_TYPE</th>\n",
       "      <th>FLAG_OWN_CAR</th>\n",
       "      <th>FLAG_OWN_REALTY</th>\n",
       "      <th>CNT_CHILDREN</th>\n",
       "      <th>AMT_INCOME_TOTAL</th>\n",
       "      <th>AMT_CREDIT</th>\n",
       "      <th>AMT_ANNUITY</th>\n",
       "      <th>AMT_GOODS_PRICE</th>\n",
       "      <th>...</th>\n",
       "      <th>ACTIVE_LOANS</th>\n",
       "      <th>OVERDUE_MONTHS</th>\n",
       "      <th>NUM_PREV_LOANS</th>\n",
       "      <th>SUM_PREV_CREDIT</th>\n",
       "      <th>AVG_PREV_CREDIT</th>\n",
       "      <th>RECENT_LOAN_DAYS</th>\n",
       "      <th>MONTHS_BALANCE_min</th>\n",
       "      <th>MONTHS_BALANCE_max</th>\n",
       "      <th>AMT_PAYMENT</th>\n",
       "      <th>DAYS_ENTRY_PAYMENT</th>\n",
       "    </tr>\n",
       "  </thead>\n",
       "  <tbody>\n",
       "    <tr>\n",
       "      <th>0</th>\n",
       "      <td>100002</td>\n",
       "      <td>1</td>\n",
       "      <td>Cash loans</td>\n",
       "      <td>N</td>\n",
       "      <td>Y</td>\n",
       "      <td>0</td>\n",
       "      <td>41947875.0</td>\n",
       "      <td>8.422667e+07</td>\n",
       "      <td>5116708.575</td>\n",
       "      <td>72709650.0</td>\n",
       "      <td>...</td>\n",
       "      <td>2.000000</td>\n",
       "      <td>65.00000</td>\n",
       "      <td>1.0</td>\n",
       "      <td>3.709124e+07</td>\n",
       "      <td>3.709124e+07</td>\n",
       "      <td>-606.0</td>\n",
       "      <td>-19.0</td>\n",
       "      <td>-1.0</td>\n",
       "      <td>2.394498e+06</td>\n",
       "      <td>0</td>\n",
       "    </tr>\n",
       "    <tr>\n",
       "      <th>1</th>\n",
       "      <td>100003</td>\n",
       "      <td>0</td>\n",
       "      <td>Cash loans</td>\n",
       "      <td>N</td>\n",
       "      <td>N</td>\n",
       "      <td>0</td>\n",
       "      <td>55930500.0</td>\n",
       "      <td>2.679490e+08</td>\n",
       "      <td>7394944.275</td>\n",
       "      <td>233975925.0</td>\n",
       "      <td>...</td>\n",
       "      <td>1.000000</td>\n",
       "      <td>0.00000</td>\n",
       "      <td>3.0</td>\n",
       "      <td>3.009005e+08</td>\n",
       "      <td>1.003002e+08</td>\n",
       "      <td>-2341.0</td>\n",
       "      <td>-77.0</td>\n",
       "      <td>-18.0</td>\n",
       "      <td>1.627339e+07</td>\n",
       "      <td>0</td>\n",
       "    </tr>\n",
       "    <tr>\n",
       "      <th>2</th>\n",
       "      <td>100004</td>\n",
       "      <td>0</td>\n",
       "      <td>Revolving loans</td>\n",
       "      <td>Y</td>\n",
       "      <td>Y</td>\n",
       "      <td>0</td>\n",
       "      <td>13982625.0</td>\n",
       "      <td>2.796525e+07</td>\n",
       "      <td>1398262.500</td>\n",
       "      <td>27965250.0</td>\n",
       "      <td>...</td>\n",
       "      <td>0.000000</td>\n",
       "      <td>0.00000</td>\n",
       "      <td>1.0</td>\n",
       "      <td>4.164958e+06</td>\n",
       "      <td>4.164958e+06</td>\n",
       "      <td>-815.0</td>\n",
       "      <td>-27.0</td>\n",
       "      <td>-24.0</td>\n",
       "      <td>1.469969e+06</td>\n",
       "      <td>0</td>\n",
       "    </tr>\n",
       "    <tr>\n",
       "      <th>3</th>\n",
       "      <td>100006</td>\n",
       "      <td>0</td>\n",
       "      <td>Cash loans</td>\n",
       "      <td>N</td>\n",
       "      <td>Y</td>\n",
       "      <td>0</td>\n",
       "      <td>27965250.0</td>\n",
       "      <td>6.477218e+07</td>\n",
       "      <td>6149558.475</td>\n",
       "      <td>61523550.0</td>\n",
       "      <td>...</td>\n",
       "      <td>0.713354</td>\n",
       "      <td>0.28985</td>\n",
       "      <td>9.0</td>\n",
       "      <td>5.438225e+08</td>\n",
       "      <td>6.042472e+07</td>\n",
       "      <td>-617.0</td>\n",
       "      <td>-20.0</td>\n",
       "      <td>-1.0</td>\n",
       "      <td>3.680604e+07</td>\n",
       "      <td>0</td>\n",
       "    </tr>\n",
       "    <tr>\n",
       "      <th>4</th>\n",
       "      <td>100007</td>\n",
       "      <td>0</td>\n",
       "      <td>Cash loans</td>\n",
       "      <td>N</td>\n",
       "      <td>Y</td>\n",
       "      <td>0</td>\n",
       "      <td>25168725.0</td>\n",
       "      <td>1.062680e+08</td>\n",
       "      <td>4529438.325</td>\n",
       "      <td>106267950.0</td>\n",
       "      <td>...</td>\n",
       "      <td>0.000000</td>\n",
       "      <td>0.00000</td>\n",
       "      <td>6.0</td>\n",
       "      <td>2.071153e+08</td>\n",
       "      <td>3.451922e+07</td>\n",
       "      <td>-2357.0</td>\n",
       "      <td>-77.0</td>\n",
       "      <td>-1.0</td>\n",
       "      <td>2.417760e+06</td>\n",
       "      <td>0</td>\n",
       "    </tr>\n",
       "  </tbody>\n",
       "</table>\n",
       "<p>5 rows × 45 columns</p>\n",
       "</div>"
      ]
     },
     "execution_count": 5,
     "metadata": {},
     "output_type": "execute_result"
    }
   ],
   "execution_count": 5
  },
  {
   "metadata": {},
   "cell_type": "markdown",
   "source": [
    "## <b>2.  Financial Ratios</font></b>\n",
    "---"
   ],
   "id": "44dda4a88e3049a8"
  },
  {
   "metadata": {
    "ExecuteTime": {
     "end_time": "2025-07-05T03:21:22.993341Z",
     "start_time": "2025-07-05T03:21:22.978239Z"
    }
   },
   "cell_type": "code",
   "source": [
    "# Financial Ratios\n",
    "\n",
    "feature_application_train['CREDIT_INCOME_RATIO'] = feature_application_train['AMT_CREDIT'] / feature_application_train['AMT_INCOME_TOTAL']\n",
    "feature_application_train['ANNUITY_INCOME_RATIO'] = feature_application_train['AMT_ANNUITY'] / feature_application_train['AMT_INCOME_TOTAL']\n",
    "feature_application_train['CREDIT_ANNUITY_RATIO'] = feature_application_train['AMT_CREDIT'] / feature_application_train['AMT_ANNUITY']\n",
    "feature_application_train['CREDIT_GOODS_RATIO'] = feature_application_train['AMT_CREDIT'] / feature_application_train['AMT_GOODS_PRICE']\n",
    "feature_application_train['ANNUITY_GOODS_RATIO'] = feature_application_train['AMT_ANNUITY'] / feature_application_train['AMT_GOODS_PRICE']\n",
    "feature_application_train['PAYMENT_CREDIT_RATIO'] = feature_application_train['AMT_PAYMENT'] / feature_application_train['AMT_CREDIT']"
   ],
   "id": "5272697b4098471b",
   "outputs": [],
   "execution_count": 6
  },
  {
   "metadata": {},
   "cell_type": "markdown",
   "source": [
    "## <b>3.  Age & Employment Features</font></b>\n",
    "---"
   ],
   "id": "4d845692a6f3d0e3"
  },
  {
   "metadata": {
    "ExecuteTime": {
     "end_time": "2025-07-05T03:22:04.374505Z",
     "start_time": "2025-07-05T03:22:04.361395Z"
    }
   },
   "cell_type": "code",
   "source": [
    "# Age & Employment Features\n",
    "\n",
    "feature_application_train['YEARS_EMPLOYED'] = feature_application_train['DAYS_EMPLOYED'] / -365\n",
    "feature_application_train['YEARS_BIRTH'] = feature_application_train['DAYS_BIRTH'] / -365\n",
    "feature_application_train['EMPLOYMENT_TO_AGE_RATIO'] = feature_application_train['YEARS_EMPLOYED'] / feature_application_train['YEARS_BIRTH']\n",
    "feature_application_train['CREDIT_TO_EMPLOYMENT_RATIO'] = feature_application_train['AMT_CREDIT'] / (feature_application_train['YEARS_EMPLOYED'] + 1)\n",
    "feature_application_train['CREDIT_TO_AGE_RATIO'] = feature_application_train['AMT_CREDIT'] / feature_application_train['YEARS_BIRTH']"
   ],
   "id": "5be6aa61ffc9a22",
   "outputs": [],
   "execution_count": 7
  },
  {
   "metadata": {},
   "cell_type": "markdown",
   "source": [
    "## <b>4.  Family Responsibility Indicators</font></b>\n",
    "---"
   ],
   "id": "54521344729599ef"
  },
  {
   "metadata": {
    "ExecuteTime": {
     "end_time": "2025-07-05T03:22:39.751644Z",
     "start_time": "2025-07-05T03:22:39.739739Z"
    }
   },
   "cell_type": "code",
   "source": [
    "# Family Responsibility Indicators\n",
    "\n",
    "feature_application_train['INCOME_PER_FAMILY_MEMBER'] = feature_application_train['AMT_INCOME_TOTAL'] / (feature_application_train['CNT_FAM_MEMBERS'] + 1)\n",
    "feature_application_train['CHILD_DEPENDENT_RATIO'] = feature_application_train['CNT_CHILDREN'] / (feature_application_train['CNT_FAM_MEMBERS'] + 1)\n",
    "feature_application_train['HAS_CHILDREN'] = (feature_application_train['CNT_CHILDREN'] > 0).astype(int)"
   ],
   "id": "5272e5dc57887392",
   "outputs": [],
   "execution_count": 8
  },
  {
   "metadata": {},
   "cell_type": "markdown",
   "source": [
    "## <b>5.  Housing & Ownership Stability</font></b>\n",
    "---\n"
   ],
   "id": "389a4974f4685fee"
  },
  {
   "metadata": {
    "ExecuteTime": {
     "end_time": "2025-07-05T03:23:23.270691Z",
     "start_time": "2025-07-05T03:23:23.267864Z"
    }
   },
   "cell_type": "code",
   "source": [
    "# # Housing & Ownership Stability\n",
    "#\n",
    "# feature_application_train['HAS_CAR_AND_REALTY'] = (feature_application_train['FLAG_OWN_CAR'] & feature_application_train['FLAG_OWN_REALTY']).astype(int)\n",
    "# feature_application_train['NO_PROPERTY_OR_CAR'] = ((feature_application_train['FLAG_OWN_CAR'] == 0) & (feature_application_train['FLAG_OWN_REALTY'] == 0)).astype(int)\n",
    "# feature_application_train['HOUSING_STABILITY'] = feature_application_train['YEARS_REGISTRATION'] / feature_application_train['YEARS_BIRTH']"
   ],
   "id": "543b4ac6d3fc7f95",
   "outputs": [],
   "execution_count": 11
  },
  {
   "metadata": {
    "ExecuteTime": {
     "end_time": "2025-07-05T03:38:07.254946Z",
     "start_time": "2025-07-05T03:38:07.250160Z"
    }
   },
   "cell_type": "code",
   "source": "feature_application_train.shape #NAMBAH LOAN TENURE (307511, 60) -> JADI (307511, 48) setelah seleksi kolom manual",
   "id": "a87c8b1bbbe4426c",
   "outputs": [
    {
     "data": {
      "text/plain": [
       "(307511, 59)"
      ]
     },
     "execution_count": 16,
     "metadata": {},
     "output_type": "execute_result"
    }
   ],
   "execution_count": 16
  },
  {
   "metadata": {
    "ExecuteTime": {
     "end_time": "2025-07-05T03:26:32.785735Z",
     "start_time": "2025-07-05T03:26:26.043480Z"
    }
   },
   "cell_type": "code",
   "source": "# feature_application_train.to_csv(\"feature_application_train.csv\", index=False)",
   "id": "ca0117af6d6658b8",
   "outputs": [],
   "execution_count": 15
  }
 ],
 "metadata": {
  "kernelspec": {
   "display_name": "Python 3",
   "language": "python",
   "name": "python3"
  },
  "language_info": {
   "codemirror_mode": {
    "name": "ipython",
    "version": 2
   },
   "file_extension": ".py",
   "mimetype": "text/x-python",
   "name": "python",
   "nbconvert_exporter": "python",
   "pygments_lexer": "ipython2",
   "version": "2.7.6"
  }
 },
 "nbformat": 4,
 "nbformat_minor": 5
}
